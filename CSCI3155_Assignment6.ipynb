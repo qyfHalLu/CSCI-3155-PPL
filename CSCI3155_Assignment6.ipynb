{
 "cells": [
  {
   "cell_type": "code",
   "execution_count": null,
   "metadata": {},
   "outputs": [],
   "source": []
  },
  {
   "cell_type": "markdown",
   "metadata": {
    "deletable": false,
    "editable": false,
    "nbgrader": {
     "cell_type": "markdown",
     "checksum": "35c9e3a25f17d36687833a659c6400dd",
     "grade": false,
     "grade_id": "cell-cc0565f5ab7d4992",
     "locked": true,
     "schema_version": 3,
     "solution": false,
     "task": false
    }
   },
   "source": [
    "# CSCI 3155 : Homework 6\n",
    "\n"
   ]
  },
  {
   "cell_type": "markdown",
   "metadata": {},
   "source": [
    "__Name__:\n",
    "\n",
    "Qiuyang Fu"
   ]
  },
  {
   "cell_type": "code",
   "execution_count": 1,
   "metadata": {
    "deletable": false,
    "editable": false,
    "nbgrader": {
     "cell_type": "code",
     "checksum": "f081e18299e403a738e4219868f39f38",
     "grade": false,
     "grade_id": "cell-e8271cda423b3f81",
     "locked": true,
     "schema_version": 3,
     "solution": false,
     "task": false
    }
   },
   "outputs": [
    {
     "data": {
      "text/plain": [
       "defined \u001b[32mfunction\u001b[39m \u001b[36mpassed\u001b[39m"
      ]
     },
     "execution_count": 1,
     "metadata": {},
     "output_type": "execute_result"
    }
   ],
   "source": [
    "// TEST HELPER: Do not EDIT this cell please.\n",
    "def passed(points: Int) {\n",
    "    require(points >=0)\n",
    "    if (points == 1) print(s\"\\n*** Tests Passed (1 point) ***\\n\")\n",
    "    else print(s\"\\n*** Tests Passed ($points points) ***\\n\")\n",
    "}"
   ]
  },
  {
   "cell_type": "markdown",
   "metadata": {
    "deletable": false,
    "editable": false,
    "nbgrader": {
     "cell_type": "markdown",
     "checksum": "1fd406ad7cf95d9e74ac9531115523af",
     "grade": false,
     "grade_id": "cell-b80c7fb895c95064",
     "locked": true,
     "schema_version": 3,
     "solution": false,
     "task": false
    }
   },
   "source": [
    "## Problem 1 (20 points): Map and filter with fold\n"
   ]
  },
  {
   "cell_type": "code",
   "execution_count": 2,
   "metadata": {
    "deletable": false,
    "editable": false,
    "nbgrader": {
     "cell_type": "code",
     "checksum": "8e6bf1a7296fb80d91af313ca18434fe",
     "grade": false,
     "grade_id": "cell-fe4f98eda9bd6d9b",
     "locked": true,
     "schema_version": 3,
     "solution": false,
     "task": false
    }
   },
   "outputs": [
    {
     "data": {
      "text/plain": [
       "defined \u001b[32mtrait\u001b[39m \u001b[36mMyList\u001b[39m\n",
       "defined \u001b[32mobject\u001b[39m \u001b[36mEmpty\u001b[39m\n",
       "defined \u001b[32mclass\u001b[39m \u001b[36mCons\u001b[39m\n",
       "defined \u001b[32mfunction\u001b[39m \u001b[36mfold\u001b[39m"
      ]
     },
     "execution_count": 2,
     "metadata": {},
     "output_type": "execute_result"
    }
   ],
   "source": [
    "sealed trait MyList[+A]\n",
    "case object Empty extends MyList[Nothing]\n",
    "case class Cons[A]( x : A, xs : MyList[A]) extends MyList[A]\n",
    "\n",
    "def fold[A,B](f : (B,A) => B, acc : B, list : MyList[A]) : B = \n",
    "    list match {\n",
    "        case Empty => acc\n",
    "        case Cons(h,t) => fold(f, f(acc,h), t)\n",
    "    }"
   ]
  },
  {
   "cell_type": "markdown",
   "metadata": {
    "deletable": false,
    "editable": false,
    "nbgrader": {
     "cell_type": "markdown",
     "checksum": "2787bcf1ca2197a0144ad8585bd7783e",
     "grade": false,
     "grade_id": "cell-5a30771fcf51d9ad",
     "locked": true,
     "schema_version": 3,
     "solution": false,
     "task": false
    }
   },
   "source": [
    "Here are the ``snoc`` and ``concat`` list utility functions. These might be useful for the rest of problem 1.\n",
    "\n",
    "The function ``snoc`` adds an element to the end of a list : \n",
    "\n",
    "``snoc( [1,2,3], 4 ) = [1,2,3,4]``\n",
    "\n",
    "\n",
    "The function ``concat`` concatenates two lists : \n",
    "\n",
    "``concat( [1,2,3], [4,5,6] ) = [1,2,3,4,5,6]``\n"
   ]
  },
  {
   "cell_type": "code",
   "execution_count": 3,
   "metadata": {
    "deletable": false,
    "editable": false,
    "nbgrader": {
     "cell_type": "code",
     "checksum": "8ef7ccd481dafd7ec084b1a050124221",
     "grade": false,
     "grade_id": "cell-d29ff3c111f11bc1",
     "locked": true,
     "schema_version": 3,
     "solution": false,
     "task": false
    }
   },
   "outputs": [
    {
     "data": {
      "text/plain": [
       "defined \u001b[32mfunction\u001b[39m \u001b[36msnoc\u001b[39m\n",
       "\u001b[36mres2_1\u001b[39m: \u001b[32mMyList\u001b[39m[\u001b[32mInt\u001b[39m] = \u001b[33mCons\u001b[39m(\u001b[32m1\u001b[39m, \u001b[33mCons\u001b[39m(\u001b[32m2\u001b[39m, \u001b[33mCons\u001b[39m(\u001b[32m3\u001b[39m, \u001b[33mCons\u001b[39m(\u001b[32m4\u001b[39m, Empty))))\n",
       "\u001b[36mres2_2\u001b[39m: \u001b[32mMyList\u001b[39m[\u001b[32mInt\u001b[39m] = \u001b[33mCons\u001b[39m(\u001b[32m1\u001b[39m, \u001b[33mCons\u001b[39m(\u001b[32m2\u001b[39m, \u001b[33mCons\u001b[39m(\u001b[32m3\u001b[39m, \u001b[33mCons\u001b[39m(\u001b[32m4\u001b[39m, Empty))))\n",
       "defined \u001b[32mfunction\u001b[39m \u001b[36mconcat\u001b[39m\n",
       "\u001b[36mres2_4\u001b[39m: \u001b[32mMyList\u001b[39m[\u001b[32mInt\u001b[39m] = \u001b[33mCons\u001b[39m(\n",
       "  \u001b[32m1\u001b[39m,\n",
       "  \u001b[33mCons\u001b[39m(\u001b[32m2\u001b[39m, \u001b[33mCons\u001b[39m(\u001b[32m3\u001b[39m, \u001b[33mCons\u001b[39m(\u001b[32m4\u001b[39m, \u001b[33mCons\u001b[39m(\u001b[32m5\u001b[39m, \u001b[33mCons\u001b[39m(\u001b[32m6\u001b[39m, Empty)))))\n",
       ")"
      ]
     },
     "execution_count": 3,
     "metadata": {},
     "output_type": "execute_result"
    }
   ],
   "source": [
    "def snoc[A]( list : MyList[A], a : A) : MyList[A]= \n",
    "    list match {\n",
    "        case Empty => Cons( a, Empty)\n",
    "        case Cons( h, t) => Cons( h, snoc(t,a))\n",
    "    }\n",
    "\n",
    "snoc( Cons(1, Cons(2, Cons(3, Empty))), 4)\n",
    "snoc( snoc( snoc( snoc(Empty, 1), 2), 3), 4)\n",
    "\n",
    "def concat[A]( list1: MyList[A], list2 : MyList[A]) : MyList[A] =\n",
    "    list2 match {\n",
    "        case Empty => list1\n",
    "        case Cons( h, t) => concat( snoc(list1,h), t)\n",
    "    }\n",
    "\n",
    "concat( Cons(1, Cons(2, Cons(3, Empty))), Cons(4, Cons(5, Cons(6, Empty))))"
   ]
  },
  {
   "cell_type": "markdown",
   "metadata": {
    "deletable": false,
    "editable": false,
    "nbgrader": {
     "cell_type": "markdown",
     "checksum": "dcad098b79db8fb146f818606b212083",
     "grade": false,
     "grade_id": "cell-884dacac9d4d230c",
     "locked": true,
     "schema_version": 3,
     "solution": false,
     "task": false
    }
   },
   "source": [
    "### Problem 1a\n",
    "\n",
    "Write the ``map`` function for the ``MyList`` type using ``fold``."
   ]
  },
  {
   "cell_type": "code",
   "execution_count": 4,
   "metadata": {
    "deletable": false,
    "nbgrader": {
     "cell_type": "code",
     "checksum": "8c5a52cd8777db908755f17e5bedee5e",
     "grade": false,
     "grade_id": "cell-9e11cd3de61ea999",
     "locked": false,
     "schema_version": 3,
     "solution": true,
     "task": false
    }
   },
   "outputs": [
    {
     "data": {
      "text/plain": [
       "defined \u001b[32mfunction\u001b[39m \u001b[36mmap1a\u001b[39m"
      ]
     },
     "execution_count": 4,
     "metadata": {},
     "output_type": "execute_result"
    }
   ],
   "source": [
    "  def map1a[A, B](f: A => B, list: MyList[A]): MyList[B] =\n",
    "    fold( \n",
    "      (left:MyList[B],head:A) => snoc(left,f(head)),\n",
    "      Empty,\n",
    "      list\n",
    "    )"
   ]
  },
  {
   "cell_type": "code",
   "execution_count": 5,
   "metadata": {
    "deletable": false,
    "editable": false,
    "nbgrader": {
     "cell_type": "code",
     "checksum": "b17b34ccf32ea658b7c10b2e210d32d2",
     "grade": true,
     "grade_id": "cell-515acf15795db239",
     "locked": true,
     "points": 10,
     "schema_version": 3,
     "solution": false,
     "task": false
    }
   },
   "outputs": [
    {
     "name": "stdout",
     "output_type": "stream",
     "text": [
      "\n",
      "*** Tests Passed (10 points) ***\n"
     ]
    },
    {
     "data": {
      "text/plain": [
       "\u001b[36mlist1\u001b[39m: \u001b[32mCons\u001b[39m[\u001b[32mInt\u001b[39m] = \u001b[33mCons\u001b[39m(\u001b[32m1\u001b[39m, \u001b[33mCons\u001b[39m(\u001b[32m2\u001b[39m, \u001b[33mCons\u001b[39m(\u001b[32m3\u001b[39m, \u001b[33mCons\u001b[39m(\u001b[32m4\u001b[39m, \u001b[33mCons\u001b[39m(\u001b[32m5\u001b[39m, Empty)))))\n",
       "\u001b[36mlist2\u001b[39m: \u001b[32mCons\u001b[39m[\u001b[32mInt\u001b[39m] = \u001b[33mCons\u001b[39m(\u001b[32m2\u001b[39m, \u001b[33mCons\u001b[39m(\u001b[32m4\u001b[39m, \u001b[33mCons\u001b[39m(\u001b[32m6\u001b[39m, \u001b[33mCons\u001b[39m(\u001b[32m8\u001b[39m, \u001b[33mCons\u001b[39m(\u001b[32m10\u001b[39m, Empty)))))\n",
       "\u001b[36mlist3\u001b[39m: \u001b[32mCons\u001b[39m[\u001b[32mString\u001b[39m] = \u001b[33mCons\u001b[39m(\n",
       "  \u001b[32m\"1\"\u001b[39m,\n",
       "  \u001b[33mCons\u001b[39m(\u001b[32m\"2\"\u001b[39m, \u001b[33mCons\u001b[39m(\u001b[32m\"3\"\u001b[39m, \u001b[33mCons\u001b[39m(\u001b[32m\"4\"\u001b[39m, \u001b[33mCons\u001b[39m(\u001b[32m\"5\"\u001b[39m, Empty))))\n",
       ")"
      ]
     },
     "execution_count": 5,
     "metadata": {},
     "output_type": "execute_result"
    }
   ],
   "source": [
    "val list1 = Cons(1, Cons(2, Cons(3, Cons(4, Cons(5, Empty)))))\n",
    "val list2 = Cons(2, Cons(4, Cons(6, Cons(8, Cons(10, Empty)))))\n",
    "val list3 = Cons(\"1\", Cons(\"2\", Cons(\"3\", Cons(\"4\", Cons(\"5\", Empty)))))\n",
    "\n",
    "assert( map1a( (x : Int) => 2 * x, Empty) == Empty , \"test 1\")\n",
    "assert( map1a[Int,Int]( x => 2 * x, list1) == list2 , \"test 2\")\n",
    "assert( map1a[Int,String]( x => x.toString, list1) == list3, \"test 3\")\n",
    "assert( map1a( (x : String) => x.toInt * 2, list3) == list2, \"test 4\")\n",
    "passed(10)"
   ]
  },
  {
   "cell_type": "markdown",
   "metadata": {
    "deletable": false,
    "editable": false,
    "nbgrader": {
     "cell_type": "markdown",
     "checksum": "65b6076d251bb8f3c44fa27dca81ddc3",
     "grade": false,
     "grade_id": "cell-f2dd93918612f9a9",
     "locked": true,
     "schema_version": 3,
     "solution": false,
     "task": false
    }
   },
   "source": [
    "### Problem 1b\n",
    "\n",
    "Write the ``filter`` function for the ``MyList`` type using ``fold``."
   ]
  },
  {
   "cell_type": "code",
   "execution_count": 6,
   "metadata": {
    "deletable": false,
    "nbgrader": {
     "cell_type": "code",
     "checksum": "6a38a4f88cba912823adea9b2e3ac847",
     "grade": false,
     "grade_id": "cell-ba1618e5d398ed3d",
     "locked": false,
     "schema_version": 3,
     "solution": true,
     "task": false
    }
   },
   "outputs": [
    {
     "data": {
      "text/plain": [
       "defined \u001b[32mfunction\u001b[39m \u001b[36mfilter1b\u001b[39m"
      ]
     },
     "execution_count": 6,
     "metadata": {},
     "output_type": "execute_result"
    }
   ],
   "source": [
    "  def filter1b[A](f: A => Boolean, list: MyList[A]): MyList[A] =\n",
    "    fold(\n",
    "       (l : MyList[A], a:A ) => {\n",
    "          if(f(a)) snoc(l, a) else l\n",
    "       },\n",
    "       Empty,\n",
    "       list\n",
    "    )"
   ]
  },
  {
   "cell_type": "code",
   "execution_count": 7,
   "metadata": {
    "deletable": false,
    "editable": false,
    "nbgrader": {
     "cell_type": "code",
     "checksum": "060e27a58bb021e00a723d163c50c7b5",
     "grade": true,
     "grade_id": "cell-3de5bb68ed294aaa",
     "locked": true,
     "points": 10,
     "schema_version": 3,
     "solution": false,
     "task": false
    }
   },
   "outputs": [
    {
     "name": "stdout",
     "output_type": "stream",
     "text": [
      "\n",
      "*** Tests Passed (10 points) ***\n"
     ]
    },
    {
     "data": {
      "text/plain": [
       "\u001b[36mlist1\u001b[39m: \u001b[32mCons\u001b[39m[\u001b[32mInt\u001b[39m] = \u001b[33mCons\u001b[39m(\u001b[32m1\u001b[39m, \u001b[33mCons\u001b[39m(\u001b[32m2\u001b[39m, \u001b[33mCons\u001b[39m(\u001b[32m3\u001b[39m, \u001b[33mCons\u001b[39m(\u001b[32m4\u001b[39m, \u001b[33mCons\u001b[39m(\u001b[32m5\u001b[39m, Empty)))))\n",
       "\u001b[36mlist2\u001b[39m: \u001b[32mCons\u001b[39m[\u001b[32mInt\u001b[39m] = \u001b[33mCons\u001b[39m(\u001b[32m2\u001b[39m, \u001b[33mCons\u001b[39m(\u001b[32m4\u001b[39m, Empty))\n",
       "\u001b[36mlist3\u001b[39m: \u001b[32mCons\u001b[39m[\u001b[32mInt\u001b[39m] = \u001b[33mCons\u001b[39m(\u001b[32m1\u001b[39m, \u001b[33mCons\u001b[39m(\u001b[32m3\u001b[39m, \u001b[33mCons\u001b[39m(\u001b[32m5\u001b[39m, Empty)))\n",
       "\u001b[36mlist4\u001b[39m: \u001b[32mCons\u001b[39m[\u001b[32mString\u001b[39m] = \u001b[33mCons\u001b[39m(\n",
       "  \u001b[32m\"one\"\u001b[39m,\n",
       "  \u001b[33mCons\u001b[39m(\u001b[32m\"two\"\u001b[39m, \u001b[33mCons\u001b[39m(\u001b[32m\"three\"\u001b[39m, \u001b[33mCons\u001b[39m(\u001b[32m\"four\"\u001b[39m, \u001b[33mCons\u001b[39m(\u001b[32m\"five\"\u001b[39m, Empty))))\n",
       ")\n",
       "\u001b[36mlist5\u001b[39m: \u001b[32mCons\u001b[39m[\u001b[32mString\u001b[39m] = \u001b[33mCons\u001b[39m(\u001b[32m\"three\"\u001b[39m, \u001b[33mCons\u001b[39m(\u001b[32m\"four\"\u001b[39m, \u001b[33mCons\u001b[39m(\u001b[32m\"five\"\u001b[39m, Empty)))"
      ]
     },
     "execution_count": 7,
     "metadata": {},
     "output_type": "execute_result"
    }
   ],
   "source": [
    "val list1 = Cons(1, Cons(2, Cons(3, Cons(4, Cons(5, Empty)))))\n",
    "val list2 = Cons(2, Cons(4, Empty))\n",
    "val list3 = Cons(1, Cons(3, Cons(5, Empty)))\n",
    "val list4 = Cons(\"one\", Cons(\"two\", Cons(\"three\", Cons(\"four\", Cons(\"five\", Empty)))))\n",
    "val list5 = Cons(\"three\", Cons(\"four\", Cons(\"five\", Empty)))\n",
    "\n",
    "assert( filter1b( (x : Int) => x % 2 == 0, Empty) == Empty, \"test 1\")\n",
    "assert( filter1b( (x : Int) => x % 2 == 0, list1) == list2, \"test 2\")\n",
    "assert( filter1b[Int]( x => x % 2 == 1, list1) == list3, \"test 3\")\n",
    "assert( filter1b( (x : String) => x.length > 3, list4) == list5, \"test 4\")\n",
    "passed(10)"
   ]
  },
  {
   "cell_type": "markdown",
   "metadata": {
    "deletable": false,
    "editable": false,
    "nbgrader": {
     "cell_type": "markdown",
     "checksum": "f9240f1aec2f1c5328e1d96784ea8230",
     "grade": false,
     "grade_id": "cell-b273f352632520c7",
     "locked": true,
     "schema_version": 3,
     "solution": false,
     "task": false
    }
   },
   "source": [
    "## Problem 2 (20 points): Map, filter, fold, and lambda practice.\n",
    "\n",
    "Here are some practice problems using map filter and fold over scala lists. Write the functions as a lambda that takes a list as an argument and then applies one or more of the map filter or fold functions to it to get the result"
   ]
  },
  {
   "cell_type": "code",
   "execution_count": 8,
   "metadata": {
    "deletable": false,
    "editable": false,
    "nbgrader": {
     "cell_type": "code",
     "checksum": "9aaf3245d0d4a50cd185238bb8ce09c8",
     "grade": false,
     "grade_id": "cell-ac771b32b44903db",
     "locked": true,
     "schema_version": 3,
     "solution": false,
     "task": false
    }
   },
   "outputs": [
    {
     "data": {
      "text/plain": [
       "\u001b[36msum\u001b[39m: \u001b[32mList\u001b[39m[\u001b[32mInt\u001b[39m] => \u001b[32mInt\u001b[39m = ammonite.$sess.cmd7$Helper$$Lambda$2524/0x000000080170d840@69dbb51b\n",
       "\u001b[36mtest\u001b[39m: \u001b[32mList\u001b[39m[\u001b[32mInt\u001b[39m] = \u001b[33mList\u001b[39m(\u001b[32m1\u001b[39m, \u001b[32m2\u001b[39m, \u001b[32m3\u001b[39m, \u001b[32m4\u001b[39m, \u001b[32m5\u001b[39m)"
      ]
     },
     "execution_count": 8,
     "metadata": {},
     "output_type": "execute_result"
    }
   ],
   "source": [
    "// Example \n",
    "// get the sum of a list\n",
    "\n",
    "val sum : List[Int] => Int =\n",
    "    list =>\n",
    "        list.foldLeft(0)( (x,y) => x + y)\n",
    "\n",
    "val test = List(1,2,3,4,5)\n",
    "assert( sum(test) == 15)"
   ]
  },
  {
   "cell_type": "code",
   "execution_count": 9,
   "metadata": {
    "deletable": false,
    "nbgrader": {
     "cell_type": "code",
     "checksum": "e2298218af73bf6d92c07322f9fec497",
     "grade": false,
     "grade_id": "cell-8cf280e696124d65",
     "locked": false,
     "schema_version": 3,
     "solution": true,
     "task": false
    }
   },
   "outputs": [
    {
     "data": {
      "text/plain": [
       "\u001b[36msumeven\u001b[39m: \u001b[32mList\u001b[39m[\u001b[32mInt\u001b[39m] => \u001b[32mInt\u001b[39m = ammonite.$sess.cmd8$Helper$$Lambda$2538/0x0000000801716840@51ba89ac"
      ]
     },
     "execution_count": 9,
     "metadata": {},
     "output_type": "execute_result"
    }
   ],
   "source": [
    "// Problem 2a\n",
    "// sum all the even numbers in a list\n",
    "\n",
    "val sumeven : List[Int] => Int = \n",
    "    list => \n",
    "        list.filter(_ % 2== 0).foldLeft(0)( (x,y) => x + y)"
   ]
  },
  {
   "cell_type": "code",
   "execution_count": 10,
   "metadata": {
    "deletable": false,
    "editable": false,
    "nbgrader": {
     "cell_type": "code",
     "checksum": "879f71caa7a1d9db8d6b27ecd78c9e94",
     "grade": true,
     "grade_id": "cell-7c23b49a903043df",
     "locked": true,
     "points": 2,
     "schema_version": 3,
     "solution": false,
     "task": false
    }
   },
   "outputs": [
    {
     "name": "stdout",
     "output_type": "stream",
     "text": [
      "\n",
      "*** Tests Passed (2 points) ***\n"
     ]
    },
    {
     "data": {
      "text/plain": [
       "\u001b[36mtest1\u001b[39m: \u001b[32mList\u001b[39m[\u001b[32mInt\u001b[39m] = \u001b[33mList\u001b[39m(\u001b[32m1\u001b[39m, \u001b[32m2\u001b[39m, \u001b[32m3\u001b[39m, \u001b[32m4\u001b[39m, \u001b[32m5\u001b[39m)\n",
       "\u001b[36mtest2\u001b[39m: \u001b[32mList\u001b[39m[\u001b[32mInt\u001b[39m] = \u001b[33mList\u001b[39m(\u001b[32m108\u001b[39m, \u001b[32m342\u001b[39m, \u001b[32m6543\u001b[39m, \u001b[32m648\u001b[39m, \u001b[32m217\u001b[39m, \u001b[32m214\u001b[39m)"
      ]
     },
     "execution_count": 10,
     "metadata": {},
     "output_type": "execute_result"
    }
   ],
   "source": [
    "val test1 = List(1,2,3,4,5)\n",
    "val test2 = List(108,342,6543,648,217,214)\n",
    "assert(sumeven(test1) == 6)\n",
    "assert(sumeven(test2) == 1312)\n",
    "passed(2)"
   ]
  },
  {
   "cell_type": "code",
   "execution_count": 11,
   "metadata": {
    "deletable": false,
    "nbgrader": {
     "cell_type": "code",
     "checksum": "90f0cea8ae38bce071f7d9ffdf0d036a",
     "grade": false,
     "grade_id": "cell-03dcf2a103cac464",
     "locked": false,
     "schema_version": 3,
     "solution": true,
     "task": false
    }
   },
   "outputs": [
    {
     "data": {
      "text/plain": [
       "\u001b[36mmax\u001b[39m: \u001b[32mList\u001b[39m[\u001b[32mInt\u001b[39m] => \u001b[32mInt\u001b[39m = ammonite.$sess.cmd10$Helper$$Lambda$2564/0x0000000801726040@3a8ee128"
      ]
     },
     "execution_count": 11,
     "metadata": {},
     "output_type": "execute_result"
    }
   ],
   "source": [
    "// Problem 2b\n",
    "// find the max of a list of positive numbers \n",
    "\n",
    "   val max : List[Int] => Int = \n",
    "       list =>\n",
    "        list.foldLeft(0) {\n",
    "          (x,y) => y.max(x)\n",
    "        }"
   ]
  },
  {
   "cell_type": "code",
   "execution_count": 12,
   "metadata": {
    "deletable": false,
    "editable": false,
    "nbgrader": {
     "cell_type": "code",
     "checksum": "e0ec3b042742e152532318f55649df37",
     "grade": true,
     "grade_id": "cell-fc94abed35a74dc1",
     "locked": true,
     "points": 2,
     "schema_version": 3,
     "solution": false,
     "task": false
    }
   },
   "outputs": [
    {
     "name": "stdout",
     "output_type": "stream",
     "text": [
      "\n",
      "*** Tests Passed (2 points) ***\n"
     ]
    },
    {
     "data": {
      "text/plain": [
       "\u001b[36mtest1\u001b[39m: \u001b[32mList\u001b[39m[\u001b[32mInt\u001b[39m] = \u001b[33mList\u001b[39m(\u001b[32m1\u001b[39m, \u001b[32m2\u001b[39m, \u001b[32m3\u001b[39m, \u001b[32m4\u001b[39m, \u001b[32m5\u001b[39m)\n",
       "\u001b[36mtest2\u001b[39m: \u001b[32mList\u001b[39m[\u001b[32mInt\u001b[39m] = \u001b[33mList\u001b[39m(\u001b[32m345\u001b[39m, \u001b[32m234\u001b[39m, \u001b[32m5\u001b[39m, \u001b[32m76\u001b[39m, \u001b[32m354\u001b[39m, \u001b[32m2415\u001b[39m, \u001b[32m7645\u001b[39m, \u001b[32m974\u001b[39m)"
      ]
     },
     "execution_count": 12,
     "metadata": {},
     "output_type": "execute_result"
    }
   ],
   "source": [
    "val test1 = List(1,2,3,4,5)\n",
    "val test2 = List(345,234,5,76,354,2415,7645,974)\n",
    "assert(max(test1) == 5)\n",
    "assert(max(test2) == 7645)\n",
    "passed(2)"
   ]
  },
  {
   "cell_type": "code",
   "execution_count": 13,
   "metadata": {
    "deletable": false,
    "nbgrader": {
     "cell_type": "code",
     "checksum": "fa32028138916c6f2ea030ac0b8edc1f",
     "grade": false,
     "grade_id": "cell-18ce05d1bbf6f67b",
     "locked": false,
     "schema_version": 3,
     "solution": true,
     "task": false
    }
   },
   "outputs": [
    {
     "data": {
      "text/plain": [
       "\u001b[36mreplaceodd\u001b[39m: \u001b[32mList\u001b[39m[\u001b[32mInt\u001b[39m] => \u001b[32mList\u001b[39m[\u001b[32mInt\u001b[39m] = ammonite.$sess.cmd12$Helper$$Lambda$2582/0x0000000801730840@16219ea7"
      ]
     },
     "execution_count": 13,
     "metadata": {},
     "output_type": "execute_result"
    }
   ],
   "source": [
    "// Problem 2c\n",
    "// replace all odd numbers in a list with their double\n",
    "val replaceodd : List[Int] => List[Int] = \n",
    "    list => list.map { x=>\n",
    "        if(x % 2 != 0) x * 2 else x\n",
    "    }"
   ]
  },
  {
   "cell_type": "code",
   "execution_count": 14,
   "metadata": {
    "deletable": false,
    "editable": false,
    "nbgrader": {
     "cell_type": "code",
     "checksum": "02815057d820e597bd1ac3c562a33751",
     "grade": true,
     "grade_id": "cell-0400375448b35757",
     "locked": true,
     "points": 2,
     "schema_version": 3,
     "solution": false,
     "task": false
    }
   },
   "outputs": [
    {
     "name": "stdout",
     "output_type": "stream",
     "text": [
      "\n",
      "*** Tests Passed (2 points) ***\n"
     ]
    },
    {
     "data": {
      "text/plain": [
       "\u001b[36mtest1\u001b[39m: \u001b[32mList\u001b[39m[\u001b[32mInt\u001b[39m] = \u001b[33mList\u001b[39m(\u001b[32m1\u001b[39m, \u001b[32m2\u001b[39m, \u001b[32m3\u001b[39m, \u001b[32m4\u001b[39m, \u001b[32m5\u001b[39m)\n",
       "\u001b[36mtest2\u001b[39m: \u001b[32mList\u001b[39m[\u001b[32mInt\u001b[39m] = \u001b[33mList\u001b[39m(\u001b[32m17\u001b[39m, \u001b[32m16\u001b[39m, \u001b[32m42\u001b[39m, \u001b[32m25\u001b[39m, \u001b[32m6\u001b[39m, \u001b[32m92\u001b[39m, \u001b[32m18\u001b[39m, \u001b[32m49\u001b[39m)"
      ]
     },
     "execution_count": 14,
     "metadata": {},
     "output_type": "execute_result"
    }
   ],
   "source": [
    "val test1 = List(1,2,3,4,5)\n",
    "val test2 = List(17,16,42,25,6,92,18,49)\n",
    "assert(replaceodd(test1) == List(2,2,6,4,10))\n",
    "assert(replaceodd(test2) == List(34, 16, 42, 50, 6, 92, 18, 98))\n",
    "passed(2)"
   ]
  },
  {
   "cell_type": "code",
   "execution_count": 15,
   "metadata": {
    "deletable": false,
    "nbgrader": {
     "cell_type": "code",
     "checksum": "8bcb75a32494ec024b06590b6a211fa2",
     "grade": false,
     "grade_id": "cell-443681a4843bf4a9",
     "locked": false,
     "schema_version": 3,
     "solution": true,
     "task": false
    }
   },
   "outputs": [
    {
     "data": {
      "text/plain": [
       "\u001b[36minverse\u001b[39m: \u001b[32mList\u001b[39m[\u001b[32mDouble\u001b[39m] => \u001b[32mList\u001b[39m[\u001b[32mDouble\u001b[39m] = ammonite.$sess.cmd14$Helper$$Lambda$2601/0x000000080173c040@19351f58"
      ]
     },
     "execution_count": 15,
     "metadata": {},
     "output_type": "execute_result"
    }
   ],
   "source": [
    "// Problem 2d\n",
    "// get the multiplicative inverse of a list of numbers, but drop any zeros.\n",
    "\n",
    "val inverse : List[Double] => List[Double] = \n",
    "    list => list.filter( _ != 0.0).map ( 1 / _ )"
   ]
  },
  {
   "cell_type": "code",
   "execution_count": 16,
   "metadata": {
    "deletable": false,
    "editable": false,
    "nbgrader": {
     "cell_type": "code",
     "checksum": "0bd4b0701994c0aff8d6bf5f78ed8402",
     "grade": true,
     "grade_id": "cell-f6e17fcb6c21344b",
     "locked": true,
     "points": 2,
     "schema_version": 3,
     "solution": false,
     "task": false
    }
   },
   "outputs": [
    {
     "name": "stdout",
     "output_type": "stream",
     "text": [
      "\n",
      "*** Tests Passed (2 points) ***\n"
     ]
    },
    {
     "data": {
      "text/plain": [
       "\u001b[36mtest1\u001b[39m: \u001b[32mList\u001b[39m[\u001b[32mDouble\u001b[39m] = \u001b[33mList\u001b[39m(\u001b[32m1.0\u001b[39m, \u001b[32m0.0\u001b[39m, \u001b[32m0.3333333333333333\u001b[39m, \u001b[32m0.0\u001b[39m, \u001b[32m5.0\u001b[39m)\n",
       "\u001b[36mtest2\u001b[39m: \u001b[32mList\u001b[39m[\u001b[32mDouble\u001b[39m] = \u001b[33mList\u001b[39m(\u001b[32m0.25\u001b[39m, \u001b[32m0.0\u001b[39m, \u001b[32m4.0\u001b[39m)"
      ]
     },
     "execution_count": 16,
     "metadata": {},
     "output_type": "execute_result"
    }
   ],
   "source": [
    "val test1 = List(1.0,0.0,1.0/3.0,0.0,5.0)\n",
    "val test2 = List(0.25, 0.0, 4.0)\n",
    "assert(inverse(test1) == List(1.0, 3.0, 1.0/5))\n",
    "assert(inverse(test2) == List(4.0, 0.25))\n",
    "passed(2)"
   ]
  },
  {
   "cell_type": "code",
   "execution_count": 17,
   "metadata": {
    "deletable": false,
    "nbgrader": {
     "cell_type": "code",
     "checksum": "9531f8e3f4ea4e4dcbb7440e2a4ceb25",
     "grade": false,
     "grade_id": "cell-80158c8add776398",
     "locked": false,
     "schema_version": 3,
     "solution": true,
     "task": false
    }
   },
   "outputs": [
    {
     "data": {
      "text/plain": [
       "\u001b[36mreverse\u001b[39m: \u001b[32mList\u001b[39m[\u001b[32mInt\u001b[39m] => \u001b[32mList\u001b[39m[\u001b[32mInt\u001b[39m] = ammonite.$sess.cmd16$Helper$$Lambda$2621/0x0000000801750840@55e1ff05"
      ]
     },
     "execution_count": 17,
     "metadata": {},
     "output_type": "execute_result"
    }
   ],
   "source": [
    "// Problem 2e\n",
    "// reverse a list\n",
    "\n",
    "  val reverse : List[Int] => List[Int] = \n",
    "        list => \n",
    "          list.foldLeft(List[Int]()) {\n",
    "              (lst,v) => v +:lst\n",
    "          }"
   ]
  },
  {
   "cell_type": "code",
   "execution_count": 18,
   "metadata": {
    "deletable": false,
    "editable": false,
    "nbgrader": {
     "cell_type": "code",
     "checksum": "40f087dd25786d831b7ac4a120c746b6",
     "grade": true,
     "grade_id": "cell-4e71ae8b353b4bef",
     "locked": true,
     "points": 2,
     "schema_version": 3,
     "solution": false,
     "task": false
    }
   },
   "outputs": [
    {
     "name": "stdout",
     "output_type": "stream",
     "text": [
      "\n",
      "*** Tests Passed (2 points) ***\n"
     ]
    },
    {
     "data": {
      "text/plain": [
       "\u001b[36mtest1\u001b[39m: \u001b[32mList\u001b[39m[\u001b[32mInt\u001b[39m] = \u001b[33mList\u001b[39m(\u001b[32m1\u001b[39m, \u001b[32m2\u001b[39m, \u001b[32m3\u001b[39m, \u001b[32m4\u001b[39m, \u001b[32m5\u001b[39m)\n",
       "\u001b[36mtest2\u001b[39m: \u001b[32mList\u001b[39m[\u001b[32mInt\u001b[39m] = \u001b[33mList\u001b[39m(\u001b[32m36\u001b[39m, \u001b[32m29\u001b[39m, \u001b[32m71\u001b[39m, \u001b[32m61\u001b[39m, \u001b[32m21\u001b[39m, \u001b[32m66\u001b[39m, \u001b[32m47\u001b[39m, \u001b[32m27\u001b[39m, \u001b[32m98\u001b[39m, \u001b[32m60\u001b[39m)"
      ]
     },
     "execution_count": 18,
     "metadata": {},
     "output_type": "execute_result"
    }
   ],
   "source": [
    "val test1 = List(1,2,3,4,5)\n",
    "val test2 = List(36, 29, 71, 61, 21, 66, 47, 27, 98, 60)\n",
    "assert(reverse(test1) == List(5, 4, 3, 2, 1))\n",
    "assert(reverse(test2) == List(60, 98, 27, 47, 66, 21, 61, 71, 29, 36))\n",
    "passed(2)"
   ]
  },
  {
   "cell_type": "code",
   "execution_count": 19,
   "metadata": {
    "deletable": false,
    "nbgrader": {
     "cell_type": "code",
     "checksum": "c4ccb258dca7024d1a76696df1ee7876",
     "grade": false,
     "grade_id": "cell-9306547a582cc03c",
     "locked": false,
     "schema_version": 3,
     "solution": true,
     "task": false
    }
   },
   "outputs": [
    {
     "data": {
      "text/plain": [
       "\u001b[36mprintlist\u001b[39m: \u001b[32mList\u001b[39m[\u001b[32mInt\u001b[39m] => \u001b[32mString\u001b[39m = ammonite.$sess.cmd18$Helper$$Lambda$2647/0x0000000801760040@6b6cbcf9"
      ]
     },
     "execution_count": 19,
     "metadata": {},
     "output_type": "execute_result"
    }
   ],
   "source": [
    "// Problem 2f\n",
    "// get the square bracket string representation of a list\n",
    "\n",
    "  val printlist : List[Int] => String = \n",
    "      list => \n",
    "          (\"[\" +: list.foldLeft(List[String]()){\n",
    "            (l,v) => \n",
    "              if (l.isEmpty)  l:+v.toString() else l:+ \", \" :+ v.toString \n",
    "          } :+ \"]\").foldLeft(\"\")( _ + _)\n"
   ]
  },
  {
   "cell_type": "code",
   "execution_count": 20,
   "metadata": {
    "deletable": false,
    "editable": false,
    "nbgrader": {
     "cell_type": "code",
     "checksum": "eb185d779f92e1e151c746e906671192",
     "grade": true,
     "grade_id": "cell-732b2e0f451e4bff",
     "locked": true,
     "points": 2,
     "schema_version": 3,
     "solution": false,
     "task": false
    }
   },
   "outputs": [
    {
     "name": "stdout",
     "output_type": "stream",
     "text": [
      "\n",
      "*** Tests Passed (2 points) ***\n"
     ]
    },
    {
     "data": {
      "text/plain": [
       "\u001b[36mtest1\u001b[39m: \u001b[32mList\u001b[39m[\u001b[32mInt\u001b[39m] = \u001b[33mList\u001b[39m(\u001b[32m1\u001b[39m, \u001b[32m2\u001b[39m, \u001b[32m3\u001b[39m, \u001b[32m4\u001b[39m, \u001b[32m5\u001b[39m)\n",
       "\u001b[36mtest2\u001b[39m: \u001b[32mList\u001b[39m[\u001b[32mNothing\u001b[39m] = \u001b[33mList\u001b[39m()\n",
       "\u001b[36mtest3\u001b[39m: \u001b[32mList\u001b[39m[\u001b[32mInt\u001b[39m] = \u001b[33mList\u001b[39m(\u001b[32m23\u001b[39m, \u001b[32m7\u001b[39m, \u001b[32m494\u001b[39m, \u001b[32m2884\u001b[39m, \u001b[32m17\u001b[39m, \u001b[32m6\u001b[39m, \u001b[32m38\u001b[39m)"
      ]
     },
     "execution_count": 20,
     "metadata": {},
     "output_type": "execute_result"
    }
   ],
   "source": [
    "val test1 = List(1,2,3,4,5)\n",
    "val test2 = List()\n",
    "val test3 = List(23, 7, 494, 2884, 17, 6, 38)\n",
    "assert(printlist(test1) == \"[1, 2, 3, 4, 5]\")\n",
    "assert(printlist(test2) == \"[]\")\n",
    "assert(printlist(test3) == \"[23, 7, 494, 2884, 17, 6, 38]\")\n",
    "passed(2)"
   ]
  },
  {
   "cell_type": "code",
   "execution_count": 21,
   "metadata": {
    "deletable": false,
    "nbgrader": {
     "cell_type": "code",
     "checksum": "61907b3e82bac797e0ccc2b38bdf9a2f",
     "grade": false,
     "grade_id": "cell-5345574ae122b1f6",
     "locked": false,
     "schema_version": 3,
     "solution": true,
     "task": false
    }
   },
   "outputs": [
    {
     "data": {
      "text/plain": [
       "\u001b[36mcircle\u001b[39m: \u001b[32mList\u001b[39m[(\u001b[32mDouble\u001b[39m, \u001b[32mDouble\u001b[39m)] => \u001b[32mInt\u001b[39m = ammonite.$sess.cmd20$Helper$$Lambda$2674/0x000000080176f840@607756d"
      ]
     },
     "execution_count": 21,
     "metadata": {},
     "output_type": "execute_result"
    }
   ],
   "source": [
    "// Problem 2g\n",
    "// count all points within radius 4 of (0,0)\n",
    "\n",
    "\n",
    "val circle : List[(Double,Double)] => Int =\n",
    "      list =>\n",
    "          list.filter { case (x,y) =>\n",
    "              (x* x + y * y) <= 16\n",
    "          }.foldLeft(0) {\n",
    "            (x ,y ) => x + 1\n",
    "          }"
   ]
  },
  {
   "cell_type": "code",
   "execution_count": 22,
   "metadata": {
    "deletable": false,
    "editable": false,
    "nbgrader": {
     "cell_type": "code",
     "checksum": "fecbee1ad5d096a73b5db9225f8a10b7",
     "grade": true,
     "grade_id": "cell-88066ff345373719",
     "locked": true,
     "points": 2,
     "schema_version": 3,
     "solution": false,
     "task": false
    }
   },
   "outputs": [
    {
     "name": "stdout",
     "output_type": "stream",
     "text": [
      "\n",
      "*** Tests Passed (2 points) ***\n"
     ]
    },
    {
     "data": {
      "text/plain": [
       "\u001b[36mtest1\u001b[39m: \u001b[32mList\u001b[39m[(\u001b[32mDouble\u001b[39m, \u001b[32mDouble\u001b[39m)] = \u001b[33mList\u001b[39m(\n",
       "  (\u001b[32m0.0\u001b[39m, \u001b[32m0.0\u001b[39m),\n",
       "  (\u001b[32m1.0\u001b[39m, \u001b[32m2.0\u001b[39m),\n",
       "  (\u001b[32m3.0\u001b[39m, \u001b[32m4.0\u001b[39m),\n",
       "  (\u001b[32m5.0\u001b[39m, \u001b[32m6.0\u001b[39m)\n",
       ")\n",
       "\u001b[36mtest2\u001b[39m: \u001b[32mList\u001b[39m[(\u001b[32mDouble\u001b[39m, \u001b[32mDouble\u001b[39m)] = \u001b[33mList\u001b[39m(\n",
       "  (\u001b[32m2.36\u001b[39m, \u001b[32m-3.1\u001b[39m),\n",
       "  (\u001b[32m-3.22\u001b[39m, \u001b[32m1.33\u001b[39m),\n",
       "  (\u001b[32m4.23\u001b[39m, \u001b[32m2.99\u001b[39m),\n",
       "  (\u001b[32m1.42\u001b[39m, \u001b[32m-3.1\u001b[39m),\n",
       "  (\u001b[32m4.43\u001b[39m, \u001b[32m-1.95\u001b[39m),\n",
       "  (\u001b[32m-0.78\u001b[39m, \u001b[32m-4.81\u001b[39m),\n",
       "  (\u001b[32m4.78\u001b[39m, \u001b[32m4.58\u001b[39m),\n",
       "  (\u001b[32m-4.78\u001b[39m, \u001b[32m-3.81\u001b[39m),\n",
       "  (\u001b[32m2.62\u001b[39m, \u001b[32m0.04\u001b[39m),\n",
       "  (\u001b[32m0.4\u001b[39m, \u001b[32m-1.01\u001b[39m)\n",
       ")"
      ]
     },
     "execution_count": 22,
     "metadata": {},
     "output_type": "execute_result"
    }
   ],
   "source": [
    "val test1 = List( (0.0,0.0), (1.0,2.0), (3.0,4.0), (5.0,6.0))\n",
    "val test2 = List( (2.36 , -3.10), (-3.22 , 1.33), (4.23 , 2.99),\n",
    "                  (1.42 , -3.10), (4.43 , -1.95), (-0.78 , -4.81), \n",
    "                  (4.78 , 4.58), (-4.78 , -3.81), (2.62 , 0.04) ,(0.40 , -1.01))\n",
    "assert(circle(test1) == 2)\n",
    "assert(circle(test2) == 5)\n",
    "passed(2)"
   ]
  },
  {
   "cell_type": "code",
   "execution_count": 23,
   "metadata": {
    "deletable": false,
    "nbgrader": {
     "cell_type": "code",
     "checksum": "3c701622af23cab30dd263314ab863b5",
     "grade": false,
     "grade_id": "cell-ad40a3f50758f563",
     "locked": false,
     "schema_version": 3,
     "solution": true,
     "task": false
    }
   },
   "outputs": [
    {
     "data": {
      "text/plain": [
       "defined \u001b[32mtrait\u001b[39m \u001b[36mFood\u001b[39m\n",
       "defined \u001b[32mobject\u001b[39m \u001b[36mWater\u001b[39m\n",
       "defined \u001b[32mclass\u001b[39m \u001b[36mIceCream\u001b[39m\n",
       "defined \u001b[32mclass\u001b[39m \u001b[36mSalad\u001b[39m\n",
       "defined \u001b[32mclass\u001b[39m \u001b[36mSandwich\u001b[39m\n",
       "\u001b[36mcaloriecount\u001b[39m: \u001b[32mList\u001b[39m[\u001b[32mFood\u001b[39m] => \u001b[32mInt\u001b[39m = ammonite.$sess.cmd22$Helper$$Lambda$2720/0x0000000801794840@6b1a715f"
      ]
     },
     "execution_count": 23,
     "metadata": {},
     "output_type": "execute_result"
    }
   ],
   "source": [
    "// Problem 2h\n",
    "// calculate calories are in a meal\n",
    "\n",
    "sealed trait Food\n",
    "case object Water extends Food\n",
    "case class IceCream(flavor : String, calories : Int) extends Food\n",
    "case class Salad(calories : Int) extends Food\n",
    "case class Sandwich(layers : Int, calories_per_layer : Int) extends Food\n",
    "\n",
    "  val caloriecount: List[Food] => Int = \n",
    "      list =>  \n",
    "        list.foldLeft(0) {\n",
    "          case (v, Water) => v\n",
    "          case (v, IceCream(_,c)) => v + c\n",
    "          case (v, Salad(c)) => v + c\n",
    "          case (v, Sandwich(l,pc)) => v + pc * l\n",
    "        }"
   ]
  },
  {
   "cell_type": "code",
   "execution_count": 24,
   "metadata": {
    "deletable": false,
    "editable": false,
    "nbgrader": {
     "cell_type": "code",
     "checksum": "106558a9c1710c31fe659536894e4b01",
     "grade": true,
     "grade_id": "cell-898c69a568bc7fe4",
     "locked": true,
     "points": 2,
     "schema_version": 3,
     "solution": false,
     "task": false
    }
   },
   "outputs": [
    {
     "name": "stdout",
     "output_type": "stream",
     "text": [
      "\n",
      "*** Tests Passed (2 points) ***\n"
     ]
    },
    {
     "data": {
      "text/plain": [
       "\u001b[36mmeal1\u001b[39m: \u001b[32mList\u001b[39m[\u001b[32mProduct\u001b[39m with \u001b[32mSerializable\u001b[39m with \u001b[32mFood\u001b[39m] = \u001b[33mList\u001b[39m(Water, \u001b[33mSalad\u001b[39m(\u001b[32m10\u001b[39m))\n",
       "\u001b[36mmeal2\u001b[39m: \u001b[32mList\u001b[39m[\u001b[32mProduct\u001b[39m with \u001b[32mSerializable\u001b[39m with \u001b[32mFood\u001b[39m] = \u001b[33mList\u001b[39m(\n",
       "  \u001b[33mSandwich\u001b[39m(\u001b[32m3\u001b[39m, \u001b[32m100\u001b[39m),\n",
       "  \u001b[33mIceCream\u001b[39m(\u001b[32m\"chocolate\"\u001b[39m, \u001b[32m200\u001b[39m),\n",
       "  Water,\n",
       "  \u001b[33mIceCream\u001b[39m(\u001b[32m\"vanilla\"\u001b[39m, \u001b[32m300\u001b[39m)\n",
       ")"
      ]
     },
     "execution_count": 24,
     "metadata": {},
     "output_type": "execute_result"
    }
   ],
   "source": [
    "val meal1 = List( Water, Salad(10))\n",
    "val meal2 = List( Sandwich(3, 100), IceCream(\"chocolate\", 200), Water, IceCream(\"vanilla\", 300))\n",
    "assert(caloriecount(meal1) == 10)\n",
    "assert(caloriecount(meal2) == 800)\n",
    "passed(2)"
   ]
  },
  {
   "cell_type": "code",
   "execution_count": 25,
   "metadata": {
    "deletable": false,
    "nbgrader": {
     "cell_type": "code",
     "checksum": "5810634f6509bd175390d0e54257db3a",
     "grade": false,
     "grade_id": "cell-5899048198f34809",
     "locked": false,
     "schema_version": 3,
     "solution": true,
     "task": false
    }
   },
   "outputs": [
    {
     "data": {
      "text/plain": [
       "\u001b[36mflatten\u001b[39m: \u001b[32mList\u001b[39m[\u001b[32mList\u001b[39m[\u001b[32mInt\u001b[39m]] => \u001b[32mList\u001b[39m[\u001b[32mInt\u001b[39m] = ammonite.$sess.cmd24$Helper$$Lambda$2760/0x00000008017ae840@61a0e4a9"
      ]
     },
     "execution_count": 25,
     "metadata": {},
     "output_type": "execute_result"
    }
   ],
   "source": [
    "// Problem 2i\n",
    "// flatten a list of lists into a single list of elements\n",
    "\n",
    "\n",
    "  val flatten : List[List[Int]] => List[Int] = \n",
    "      lst => lst.foldLeft(List[Int]()) {\n",
    "        (x , y) => x ++ y\n",
    "      }"
   ]
  },
  {
   "cell_type": "code",
   "execution_count": 26,
   "metadata": {
    "deletable": false,
    "editable": false,
    "nbgrader": {
     "cell_type": "code",
     "checksum": "32c9897daa555bd08b98e1954ae09690",
     "grade": true,
     "grade_id": "cell-836405fa9ec40614",
     "locked": true,
     "points": 2,
     "schema_version": 3,
     "solution": false,
     "task": false
    }
   },
   "outputs": [
    {
     "name": "stdout",
     "output_type": "stream",
     "text": [
      "\n",
      "*** Tests Passed (2 points) ***\n"
     ]
    },
    {
     "data": {
      "text/plain": [
       "\u001b[36mtest1\u001b[39m: \u001b[32mList\u001b[39m[\u001b[32mList\u001b[39m[\u001b[32mInt\u001b[39m]] = \u001b[33mList\u001b[39m(\u001b[33mList\u001b[39m(\u001b[32m1\u001b[39m), \u001b[33mList\u001b[39m(\u001b[32m2\u001b[39m, \u001b[32m2\u001b[39m), \u001b[33mList\u001b[39m(\u001b[32m3\u001b[39m, \u001b[32m3\u001b[39m, \u001b[32m3\u001b[39m))\n",
       "\u001b[36mtest2\u001b[39m: \u001b[32mList\u001b[39m[\u001b[32mList\u001b[39m[\u001b[32mInt\u001b[39m]] = \u001b[33mList\u001b[39m(\u001b[33mList\u001b[39m(\u001b[32m43\u001b[39m, \u001b[32m1\u001b[39m), \u001b[33mList\u001b[39m(), \u001b[33mList\u001b[39m(\u001b[32m9\u001b[39m, \u001b[32m5\u001b[39m, \u001b[32m10\u001b[39m), \u001b[33mList\u001b[39m(\u001b[32m11\u001b[39m))"
      ]
     },
     "execution_count": 26,
     "metadata": {},
     "output_type": "execute_result"
    }
   ],
   "source": [
    "val test1 = List( List(1), List(2,2), List(3,3,3))\n",
    "val test2 = List( List(43,1), List[Int](), List(9,5,10), List(11))\n",
    "assert(flatten(test1) == List(1, 2, 2, 3, 3, 3))\n",
    "assert(flatten(test2) == List(43, 1, 9, 5, 10, 11))\n",
    "passed(2)"
   ]
  },
  {
   "cell_type": "code",
   "execution_count": 27,
   "metadata": {
    "deletable": false,
    "nbgrader": {
     "cell_type": "code",
     "checksum": "a386812b162310b3b38603dfc8d547fd",
     "grade": false,
     "grade_id": "cell-ca3a805fb51ff2ce",
     "locked": false,
     "schema_version": 3,
     "solution": true,
     "task": false
    }
   },
   "outputs": [
    {
     "data": {
      "text/plain": [
       "\u001b[36mmakemap\u001b[39m: \u001b[32mList\u001b[39m[(\u001b[32mInt\u001b[39m, \u001b[32mString\u001b[39m)] => \u001b[32mMap\u001b[39m[\u001b[32mInt\u001b[39m, \u001b[32mString\u001b[39m] = ammonite.$sess.cmd26$Helper$$Lambda$2790/0x00000008017c1040@7dae9ca0"
      ]
     },
     "execution_count": 27,
     "metadata": {},
     "output_type": "execute_result"
    }
   ],
   "source": [
    "// Problem 2j\n",
    "// create a map from a list, without adding existing keys\n",
    "\n",
    "  val makemap : List[(Int,String)] => Map[Int, String] = \n",
    "      lst => lst.foldLeft(Map[Int,String]()) {\n",
    "        case (m ,(k ,v) ) =>\n",
    "          m.get(k) match {\n",
    "            case None =>  m + (k->v)\n",
    "            case Some(_) => m\n",
    "          }\n",
    "      }"
   ]
  },
  {
   "cell_type": "code",
   "execution_count": 28,
   "metadata": {
    "deletable": false,
    "editable": false,
    "nbgrader": {
     "cell_type": "code",
     "checksum": "948eb024c352a8ff8eb2efb516bb4ac3",
     "grade": true,
     "grade_id": "cell-d863dc73ee02edcb",
     "locked": true,
     "points": 2,
     "schema_version": 3,
     "solution": false,
     "task": false
    }
   },
   "outputs": [
    {
     "name": "stdout",
     "output_type": "stream",
     "text": [
      "\n",
      "*** Tests Passed (2 points) ***\n"
     ]
    },
    {
     "data": {
      "text/plain": [
       "\u001b[36mtest1\u001b[39m: \u001b[32mList\u001b[39m[(\u001b[32mInt\u001b[39m, \u001b[32mString\u001b[39m)] = \u001b[33mList\u001b[39m(\n",
       "  (\u001b[32m1\u001b[39m, \u001b[32m\"one\"\u001b[39m),\n",
       "  (\u001b[32m2\u001b[39m, \u001b[32m\"two\"\u001b[39m),\n",
       "  (\u001b[32m3\u001b[39m, \u001b[32m\"three\"\u001b[39m),\n",
       "  (\u001b[32m4\u001b[39m, \u001b[32m\"four\"\u001b[39m),\n",
       "  (\u001b[32m5\u001b[39m, \u001b[32m\"five\"\u001b[39m)\n",
       ")\n",
       "\u001b[36mtest2\u001b[39m: \u001b[32mList\u001b[39m[(\u001b[32mInt\u001b[39m, \u001b[32mString\u001b[39m)] = \u001b[33mList\u001b[39m(\n",
       "  (\u001b[32m10\u001b[39m, \u001b[32m\"ten\"\u001b[39m),\n",
       "  (\u001b[32m2\u001b[39m, \u001b[32m\"2\"\u001b[39m),\n",
       "  (\u001b[32m10\u001b[39m, \u001b[32m\"10\"\u001b[39m),\n",
       "  (\u001b[32m2\u001b[39m, \u001b[32m\"two\"\u001b[39m),\n",
       "  (\u001b[32m10\u001b[39m, \u001b[32m\"0xA\"\u001b[39m)\n",
       ")"
      ]
     },
     "execution_count": 28,
     "metadata": {},
     "output_type": "execute_result"
    }
   ],
   "source": [
    "val test1 = List( (1,\"one\"), (2, \"two\"), (3, \"three\"), (4,\"four\"), (5, \"five\"))\n",
    "val test2 = List( (10, \"ten\"), (2, \"2\"), (10, \"10\"), (2,\"two\"), (10, \"0xA\"))\n",
    "assert(makemap(test1) == Map(1 -> \"one\", 2 -> \"two\", 3 -> \"three\", 4 -> \"four\",  5 -> \"five\"))\n",
    "assert(makemap(test2) == Map(10 -> \"ten\", 2 -> \"2\"))\n",
    "passed(2)"
   ]
  },
  {
   "cell_type": "markdown",
   "metadata": {
    "deletable": false,
    "editable": false,
    "nbgrader": {
     "cell_type": "markdown",
     "checksum": "bb6af237b41e27b730f02fbf68becd72",
     "grade": false,
     "grade_id": "cell-5eb3972ab94be7bb",
     "locked": true,
     "schema_version": 3,
     "solution": false,
     "task": false
    }
   },
   "source": [
    "## Problem 3 (20 points): Dictionaries\n",
    "\n",
    "We define the datatype $\\texttt{Dictionary}$ using the definition below:\n",
    "\n",
    "$$\n",
    "\\begin{aligned}\n",
    "\\textbf{Dictionary}\\ A\\ B\\ ::&= \\text{EmptyDict} \\\\\n",
    "&\\mid\\ \\text{Entry}\\ A\\ B\\ (\\textbf{Dictionary}\\ A\\ B)\n",
    "\\end{aligned}\n",
    "$$\n",
    "\n",
    "This will create dictionaries of key-value pairs which will be useful for implementing environments. The definition of this type in Scala is given below:"
   ]
  },
  {
   "cell_type": "code",
   "execution_count": 29,
   "metadata": {
    "deletable": false,
    "editable": false,
    "nbgrader": {
     "cell_type": "code",
     "checksum": "fa8c98e95adae3e2eb933519acd96bce",
     "grade": false,
     "grade_id": "cell-f9d4a02083e333f2",
     "locked": true,
     "schema_version": 3,
     "solution": false,
     "task": false
    }
   },
   "outputs": [
    {
     "data": {
      "text/plain": [
       "defined \u001b[32mtrait\u001b[39m \u001b[36mDictionary\u001b[39m\n",
       "defined \u001b[32mobject\u001b[39m \u001b[36mEmptyDict\u001b[39m\n",
       "defined \u001b[32mclass\u001b[39m \u001b[36mEntry\u001b[39m"
      ]
     },
     "execution_count": 29,
     "metadata": {},
     "output_type": "execute_result"
    }
   ],
   "source": [
    "sealed trait Dictionary[+A, +B] \n",
    "case object EmptyDict extends Dictionary[Nothing, Nothing]\n",
    "case class Entry[A,B](key : A, value : B, xs : Dictionary[A, B]) extends Dictionary[A, B]"
   ]
  },
  {
   "cell_type": "markdown",
   "metadata": {
    "deletable": false,
    "editable": false,
    "nbgrader": {
     "cell_type": "markdown",
     "checksum": "51cbf1b53c86dd1d31af4a47ace35c69",
     "grade": false,
     "grade_id": "cell-c3ab507b99468d48",
     "locked": true,
     "schema_version": 3,
     "solution": false,
     "task": false
    }
   },
   "source": [
    "### Problem 3a\n",
    "\n",
    "Write a function called `contains` which returns `True` if the Dictionary contains a given key and `False` if it does not.\n",
    "\n",
    "$$\n",
    "\\texttt{contains} :  \\texttt{Dict}\\ a\\ b \\rightarrow a \\rightarrow Boolean\n",
    "$$"
   ]
  },
  {
   "cell_type": "code",
   "execution_count": 30,
   "metadata": {
    "deletable": false,
    "nbgrader": {
     "cell_type": "code",
     "checksum": "129e627e9f4a927cf61c04d72473ab1c",
     "grade": false,
     "grade_id": "cell-19e9eb529edb079b",
     "locked": false,
     "schema_version": 3,
     "solution": true,
     "task": false
    }
   },
   "outputs": [
    {
     "data": {
      "text/plain": [
       "defined \u001b[32mfunction\u001b[39m \u001b[36mcontains\u001b[39m"
      ]
     },
     "execution_count": 30,
     "metadata": {},
     "output_type": "execute_result"
    }
   ],
   "source": [
    "def contains[A,B](dict:Dictionary[A,B], key:A) : Boolean = {\n",
    "    dict match {\n",
    "        case EmptyDict => false\n",
    "        case Entry(k, _ , xs) => if (k == key) true else contains(xs,key)\n",
    "    }\n",
    "}"
   ]
  },
  {
   "cell_type": "code",
   "execution_count": 31,
   "metadata": {
    "deletable": false,
    "editable": false,
    "nbgrader": {
     "cell_type": "code",
     "checksum": "3b6e13e6a4c8c85dad6c4916dc60054e",
     "grade": true,
     "grade_id": "cell-16ed2600c99a7834",
     "locked": true,
     "points": 5,
     "schema_version": 3,
     "solution": false,
     "task": false
    }
   },
   "outputs": [
    {
     "name": "stdout",
     "output_type": "stream",
     "text": [
      "\n",
      "*** Tests Passed (5 points) ***\n"
     ]
    }
   ],
   "source": [
    "assert(contains(Entry(5, true, EmptyDict), 5), \"test 1\")\n",
    "assert(contains(Entry(8, true, Entry(5, true, EmptyDict)), 5),\"test 2\")\n",
    "assert(!contains(Entry(5, true, EmptyDict), 6), \"test 3\")\n",
    "assert(!contains(EmptyDict, 7))\n",
    "passed(5)"
   ]
  },
  {
   "cell_type": "markdown",
   "metadata": {
    "deletable": false,
    "editable": false,
    "nbgrader": {
     "cell_type": "markdown",
     "checksum": "4b8c620afb3f15eb34a1b79ad3af4431",
     "grade": false,
     "grade_id": "cell-38146be2bf7f673c",
     "locked": true,
     "schema_version": 3,
     "solution": false,
     "task": false
    }
   },
   "source": [
    "### Problem 3b\n",
    "\n",
    "Write a function ``lookup`` that retrieves a value that corresponds to a key in a dictionary. If the key is not in the map then return None.\n",
    "\n",
    "$$\n",
    "\\texttt{lookup} :  \\texttt{Dict}\\ a\\ b \\rightarrow a \\rightarrow \\texttt{Maybe}\\ b\n",
    "$$\n",
    "\n",
    "You will need to implement the ``Maybe`` type."
   ]
  },
  {
   "cell_type": "code",
   "execution_count": 32,
   "metadata": {
    "deletable": false,
    "nbgrader": {
     "cell_type": "code",
     "checksum": "47b7fd50baadb7f6b823e1de24199acd",
     "grade": false,
     "grade_id": "cell-f36e0a24a3d2c697",
     "locked": false,
     "schema_version": 3,
     "solution": true,
     "task": false
    }
   },
   "outputs": [
    {
     "data": {
      "text/plain": [
       "defined \u001b[32mfunction\u001b[39m \u001b[36mlookup\u001b[39m"
      ]
     },
     "execution_count": 32,
     "metadata": {},
     "output_type": "execute_result"
    }
   ],
   "source": [
    "def lookup[A,B](dict:Dictionary[A,B], key:A):Option[B] = {\n",
    "    dict match {\n",
    "        case EmptyDict => None\n",
    "        case Entry(k, v , xs) => if (k == key ) Some(v) else lookup(xs,key)\n",
    "    }\n",
    "}"
   ]
  },
  {
   "cell_type": "code",
   "execution_count": 33,
   "metadata": {
    "deletable": false,
    "editable": false,
    "nbgrader": {
     "cell_type": "code",
     "checksum": "e5dc6bec33789f19125f37f693f5389b",
     "grade": true,
     "grade_id": "cell-ce50b930762797e4",
     "locked": true,
     "points": 5,
     "schema_version": 3,
     "solution": false,
     "task": false
    }
   },
   "outputs": [
    {
     "name": "stdout",
     "output_type": "stream",
     "text": [
      "\n",
      "*** Tests Passed (5 points) ***\n"
     ]
    }
   ],
   "source": [
    "assert(lookup(Entry(5, \"ham\", EmptyDict), 5) == Some(\"ham\"))\n",
    "assert(lookup(Entry(8, 7, Entry(5, 3, EmptyDict)), 5) == Some(3))\n",
    "assert(lookup(Entry(5, true, EmptyDict), 6) == None)\n",
    "assert(lookup(EmptyDict, 7) == None)\n",
    "passed(5)"
   ]
  },
  {
   "cell_type": "markdown",
   "metadata": {
    "deletable": false,
    "editable": false,
    "nbgrader": {
     "cell_type": "markdown",
     "checksum": "ef3291e4ec1db6c01c08738dfa39476a",
     "grade": false,
     "grade_id": "cell-dfb433ad7dddeddc",
     "locked": true,
     "schema_version": 3,
     "solution": false,
     "task": false
    }
   },
   "source": [
    "### Problem 3d\n",
    "\n",
    "Create the following dictionary as a scala value using this definition:\n",
    "```\n",
    "{\n",
    "    five: True,\n",
    "    six: False,\n",
    "    seven: False\n",
    "}\n",
    "```\n",
    "Place it in a variable named \"`my_dict`\""
   ]
  },
  {
   "cell_type": "code",
   "execution_count": 34,
   "metadata": {
    "deletable": false,
    "nbgrader": {
     "cell_type": "code",
     "checksum": "e9b7c49531d9a14e6abdd228a3bb29ed",
     "grade": false,
     "grade_id": "cell-328e9f8e1c4f0c64",
     "locked": false,
     "schema_version": 3,
     "solution": true,
     "task": false
    }
   },
   "outputs": [
    {
     "data": {
      "text/plain": [
       "\u001b[36mmy_dict\u001b[39m: \u001b[32mEntry\u001b[39m[\u001b[32mInt\u001b[39m, \u001b[32mBoolean\u001b[39m] = \u001b[33mEntry\u001b[39m(\n",
       "  \u001b[32m5\u001b[39m,\n",
       "  true,\n",
       "  \u001b[33mEntry\u001b[39m(\u001b[32m6\u001b[39m, false, \u001b[33mEntry\u001b[39m(\u001b[32m7\u001b[39m, false, EmptyDict))\n",
       ")"
      ]
     },
     "execution_count": 34,
     "metadata": {},
     "output_type": "execute_result"
    }
   ],
   "source": [
    "val my_dict = \n",
    "    Entry(5,true,Entry(6,false,Entry(7,false,EmptyDict)))"
   ]
  },
  {
   "cell_type": "code",
   "execution_count": 35,
   "metadata": {
    "deletable": false,
    "editable": false,
    "nbgrader": {
     "cell_type": "code",
     "checksum": "fc791b0bc2c25184e3f14c2c1f2c92ed",
     "grade": true,
     "grade_id": "cell-60b14443b5138a7d",
     "locked": true,
     "points": 2,
     "schema_version": 3,
     "solution": false,
     "task": false
    }
   },
   "outputs": [
    {
     "name": "stdout",
     "output_type": "stream",
     "text": [
      "\n",
      "*** Tests Passed (2 points) ***\n"
     ]
    }
   ],
   "source": [
    "assert(lookup(my_dict, 5) == Some(true))\n",
    "assert(lookup(my_dict, 6) == Some(false))\n",
    "assert(lookup(my_dict, 7) == Some(false))\n",
    "assert(lookup(my_dict, 8) == None)\n",
    "passed(2)"
   ]
  },
  {
   "cell_type": "markdown",
   "metadata": {
    "deletable": false,
    "editable": false,
    "nbgrader": {
     "cell_type": "markdown",
     "checksum": "34070125bc884a511597946c6231d8a4",
     "grade": false,
     "grade_id": "cell-a2c9edbb1368d016",
     "locked": true,
     "schema_version": 3,
     "solution": false,
     "task": false
    }
   },
   "source": [
    "### Problem 3e\n",
    "For the following, use the super secret `secret_dict` variable defined below. Use the functions you just defined to complete the following:\n",
    "\n",
    "1. Look up the value mapped by key `1` and place it in variable `a` \n",
    "2. Look up the value mapped by key `3` and place it in variable `b`\n",
    "3. Look up the value mapped by the key `100` and place it in the variable `c`\n",
    "4. Check whether the key `-3` is in the map and place True or False in variable `d`\n",
    "5. Check whether the key `-1` is in the map and place True or False in variable `e`\n",
    "\n",
    "\n",
    "**Note**: For 1,2,3 remember to extract it from the maybe type, set the variable to the string `\"does not exist\"` if you get `None` instead of `Some(x)`."
   ]
  },
  {
   "cell_type": "code",
   "execution_count": 36,
   "metadata": {
    "deletable": false,
    "editable": false,
    "nbgrader": {
     "cell_type": "code",
     "checksum": "32935d9f2cd52ba8ecda45759d02a6b1",
     "grade": false,
     "grade_id": "cell-e7f4e4e56fd68f93",
     "locked": true,
     "schema_version": 3,
     "solution": false,
     "task": false
    }
   },
   "outputs": [
    {
     "data": {
      "text/plain": [
       "\u001b[36msecret_dict\u001b[39m: \u001b[32mEntry\u001b[39m[\u001b[32mInt\u001b[39m, \u001b[32mString\u001b[39m] = \u001b[33mEntry\u001b[39m(\n",
       "  \u001b[32m3\u001b[39m,\n",
       "  \u001b[32m\"abc\"\u001b[39m,\n",
       "  \u001b[33mEntry\u001b[39m(\u001b[32m-1\u001b[39m, \u001b[32m\"xyz\"\u001b[39m, \u001b[33mEntry\u001b[39m(\u001b[32m1\u001b[39m, \u001b[32m\"secret\"\u001b[39m, EmptyDict))\n",
       ")"
      ]
     },
     "execution_count": 36,
     "metadata": {},
     "output_type": "execute_result"
    }
   ],
   "source": [
    "val secret_dict = Entry(3, \"abc\",\n",
    "                        Entry(-1, \"xyz\",\n",
    "                              Entry(1, \"secret\", EmptyDict)))"
   ]
  },
  {
   "cell_type": "code",
   "execution_count": 37,
   "metadata": {
    "deletable": false,
    "nbgrader": {
     "cell_type": "code",
     "checksum": "0afe00fa0d84e01f4757f59d9f651be9",
     "grade": false,
     "grade_id": "cell-18d5d9a267c6e266",
     "locked": false,
     "schema_version": 3,
     "solution": true,
     "task": false
    }
   },
   "outputs": [
    {
     "data": {
      "text/plain": [
       "\u001b[36ma\u001b[39m: \u001b[32mString\u001b[39m = \u001b[32m\"secret\"\u001b[39m\n",
       "\u001b[36mb\u001b[39m: \u001b[32mString\u001b[39m = \u001b[32m\"abc\"\u001b[39m\n",
       "\u001b[36mc\u001b[39m: \u001b[32mString\u001b[39m = \u001b[32m\"does not exist\"\u001b[39m\n",
       "\u001b[36md\u001b[39m: \u001b[32mBoolean\u001b[39m = false\n",
       "\u001b[36me\u001b[39m: \u001b[32mBoolean\u001b[39m = true"
      ]
     },
     "execution_count": 37,
     "metadata": {},
     "output_type": "execute_result"
    }
   ],
   "source": [
    "val a = lookup(secret_dict,1).getOrElse(\"does not exist\")\n",
    "val b = lookup(secret_dict,3).getOrElse(\"does not exist\")\n",
    "val c = lookup(secret_dict,100).getOrElse(\"does not exist\")\n",
    "val d = contains(secret_dict,-3) \n",
    "val e = contains(secret_dict,-1) "
   ]
  },
  {
   "cell_type": "code",
   "execution_count": 37,
   "metadata": {
    "deletable": false,
    "editable": false,
    "nbgrader": {
     "cell_type": "code",
     "checksum": "e2824bcdb9fff9530c10b3331496c436",
     "grade": true,
     "grade_id": "cell-27a2f9fa23da9abb",
     "locked": true,
     "points": 3,
     "schema_version": 3,
     "solution": false,
     "task": false
    }
   },
   "outputs": [],
   "source": [
    "// Hidden tests (3 pts)"
   ]
  },
  {
   "cell_type": "markdown",
   "metadata": {
    "deletable": false,
    "editable": false,
    "nbgrader": {
     "cell_type": "markdown",
     "checksum": "dd598c7ca2676296e7cab658ef71e736",
     "grade": false,
     "grade_id": "cell-e67d7b0180f2bd22",
     "locked": true,
     "schema_version": 3,
     "solution": false,
     "task": false
    }
   },
   "source": [
    "### Problem 3f\n",
    "\n",
    "Write a ``eval`` function for this subset of lettuce using the Dictionaries we have defined to store the environment.\n"
   ]
  },
  {
   "cell_type": "code",
   "execution_count": 38,
   "metadata": {
    "deletable": false,
    "editable": false,
    "nbgrader": {
     "cell_type": "code",
     "checksum": "cb88f255be2ef53f62219687111b257d",
     "grade": false,
     "grade_id": "cell-593b6d8bbcd055ba",
     "locked": true,
     "schema_version": 3,
     "solution": false,
     "task": false
    }
   },
   "outputs": [
    {
     "data": {
      "text/plain": [
       "defined \u001b[32mtrait\u001b[39m \u001b[36mExpr\u001b[39m\n",
       "defined \u001b[32mclass\u001b[39m \u001b[36mConst\u001b[39m\n",
       "defined \u001b[32mclass\u001b[39m \u001b[36mIdent\u001b[39m\n",
       "defined \u001b[32mclass\u001b[39m \u001b[36mPlus\u001b[39m\n",
       "defined \u001b[32mclass\u001b[39m \u001b[36mLet\u001b[39m"
      ]
     },
     "execution_count": 38,
     "metadata": {},
     "output_type": "execute_result"
    }
   ],
   "source": [
    "sealed trait Expr\n",
    "case class Const(x : Integer) extends Expr\n",
    "case class Ident(x : String) extends Expr\n",
    "case class Plus(x : Expr, y : Expr) extends Expr\n",
    "case class Let(id : String, x : Expr, y : Expr) extends Expr"
   ]
  },
  {
   "cell_type": "code",
   "execution_count": 39,
   "metadata": {
    "deletable": false,
    "nbgrader": {
     "cell_type": "code",
     "checksum": "026aab59214a6056fe3165b5efdac76a",
     "grade": false,
     "grade_id": "cell-b0178d64c649d3b3",
     "locked": false,
     "schema_version": 3,
     "solution": true,
     "task": false
    }
   },
   "outputs": [
    {
     "data": {
      "text/plain": [
       "defined \u001b[32mfunction\u001b[39m \u001b[36meval\u001b[39m"
      ]
     },
     "execution_count": 39,
     "metadata": {},
     "output_type": "execute_result"
    }
   ],
   "source": [
    "def eval( expr : Expr, env : Dictionary[String, Int]) : Int = \n",
    "    expr match {\n",
    "        case Const(v) => v\n",
    "        case Ident(x) => lookup(env,x).get\n",
    "        case Plus(x,y) => eval(x,env) + eval(y,env)\n",
    "        case Let(id,x,y) => eval(y,Entry(id,eval(x,env),env))\n",
    "    }"
   ]
  },
  {
   "cell_type": "code",
   "execution_count": 40,
   "metadata": {
    "deletable": false,
    "editable": false,
    "nbgrader": {
     "cell_type": "code",
     "checksum": "10f1a180bf7d17a80604a9395367c76d",
     "grade": true,
     "grade_id": "cell-f1840face810867c",
     "locked": true,
     "points": 5,
     "schema_version": 3,
     "solution": false,
     "task": false
    }
   },
   "outputs": [
    {
     "name": "stdout",
     "output_type": "stream",
     "text": [
      "\n",
      "*** Tests Passed (5 points) ***\n"
     ]
    },
    {
     "data": {
      "text/plain": [
       "\u001b[36mexpr1\u001b[39m: \u001b[32mPlus\u001b[39m = \u001b[33mPlus\u001b[39m(\u001b[33mConst\u001b[39m(\u001b[32m3\u001b[39m), \u001b[33mConst\u001b[39m(\u001b[32m4\u001b[39m))\n",
       "\u001b[36mexpr2\u001b[39m: \u001b[32mLet\u001b[39m = \u001b[33mLet\u001b[39m(\u001b[32m\"x\"\u001b[39m, \u001b[33mConst\u001b[39m(\u001b[32m10\u001b[39m), \u001b[33mPlus\u001b[39m(\u001b[33mIdent\u001b[39m(\u001b[32m\"x\"\u001b[39m), \u001b[33mConst\u001b[39m(\u001b[32m1\u001b[39m)))\n",
       "\u001b[36mexpr3\u001b[39m: \u001b[32mLet\u001b[39m = \u001b[33mLet\u001b[39m(\n",
       "  \u001b[32m\"y\"\u001b[39m,\n",
       "  \u001b[33mConst\u001b[39m(\u001b[32m20\u001b[39m),\n",
       "  \u001b[33mLet\u001b[39m(\u001b[32m\"x\"\u001b[39m, \u001b[33mConst\u001b[39m(\u001b[32m10\u001b[39m), \u001b[33mPlus\u001b[39m(\u001b[33mIdent\u001b[39m(\u001b[32m\"x\"\u001b[39m), \u001b[33mIdent\u001b[39m(\u001b[32m\"y\"\u001b[39m)))\n",
       ")\n",
       "\u001b[36mexpr4\u001b[39m: \u001b[32mLet\u001b[39m = \u001b[33mLet\u001b[39m(\n",
       "  \u001b[32m\"x\"\u001b[39m,\n",
       "  \u001b[33mLet\u001b[39m(\u001b[32m\"y\"\u001b[39m, \u001b[33mConst\u001b[39m(\u001b[32m10\u001b[39m), \u001b[33mPlus\u001b[39m(\u001b[33mIdent\u001b[39m(\u001b[32m\"y\"\u001b[39m), \u001b[33mConst\u001b[39m(\u001b[32m5\u001b[39m))),\n",
       "  \u001b[33mPlus\u001b[39m(\u001b[33mIdent\u001b[39m(\u001b[32m\"x\"\u001b[39m), \u001b[33mConst\u001b[39m(\u001b[32m5\u001b[39m))\n",
       ")"
      ]
     },
     "execution_count": 40,
     "metadata": {},
     "output_type": "execute_result"
    }
   ],
   "source": [
    "val expr1 = Plus( Const(3), Const(4))\n",
    "val expr2 = Let(\"x\", Const(10),Plus( Ident(\"x\"), Const(1)))\n",
    "val expr3 = Let(\"y\", Const(20), Let(\"x\", Const(10), Plus( Ident(\"x\"), Ident(\"y\"))))\n",
    "val expr4 = Let(\"x\", Let(\"y\", Const(10), Plus( Ident(\"y\"), Const(5))), Plus(Ident(\"x\"), Const(5)))\n",
    "\n",
    "assert(eval(expr1, EmptyDict) == 7)\n",
    "assert(eval(expr2, EmptyDict) == 11)\n",
    "assert(eval(expr3, EmptyDict) == 30)\n",
    "assert(eval(expr4, EmptyDict) == 20)\n",
    "passed(5)"
   ]
  },
  {
   "cell_type": "code",
   "execution_count": null,
   "metadata": {},
   "outputs": [],
   "source": []
  }
 ],
 "metadata": {
  "kernelspec": {
   "display_name": "Scala",
   "language": "scala",
   "name": "scala"
  },
  "language_info": {
   "codemirror_mode": "text/x-scala",
   "file_extension": ".scala",
   "mimetype": "text/x-scala",
   "name": "scala",
   "nbconvert_exporter": "script",
   "version": "2.12.10"
  }
 },
 "nbformat": 4,
 "nbformat_minor": 2
}
