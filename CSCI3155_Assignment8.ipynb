{
 "cells": [
  {
   "cell_type": "code",
   "execution_count": null,
   "metadata": {},
   "outputs": [],
   "source": []
  },
  {
   "cell_type": "markdown",
   "metadata": {
    "deletable": false,
    "editable": false,
    "nbgrader": {
     "cell_type": "markdown",
     "checksum": "3208fe3b93767f291a8f1a93aca2ecae",
     "grade": false,
     "grade_id": "cell-7a448b048326fe96",
     "locked": true,
     "schema_version": 3,
     "solution": false,
     "task": false
    }
   },
   "source": [
    "# CSCI 3155 : Assignment 8"
   ]
  },
  {
   "cell_type": "markdown",
   "metadata": {},
   "source": [
    "__Name__:\n",
    "\n",
    "Qiuyang Fu"
   ]
  },
  {
   "cell_type": "code",
   "execution_count": 1,
   "metadata": {
    "deletable": false,
    "editable": false,
    "nbgrader": {
     "cell_type": "code",
     "checksum": "6bd4de977850c58348293883865f571c",
     "grade": false,
     "grade_id": "cell-a76bd805063f24b9",
     "locked": true,
     "schema_version": 3,
     "solution": false,
     "task": false
    }
   },
   "outputs": [
    {
     "data": {
      "text/plain": [
       "defined \u001b[32mfunction\u001b[39m \u001b[36mpassed\u001b[39m"
      ]
     },
     "execution_count": 1,
     "metadata": {},
     "output_type": "execute_result"
    }
   ],
   "source": [
    "// TEST HELPER: Do not EDIT this cell please.\n",
    "def passed(points: Int) {\n",
    "    require(points >=0)\n",
    "    if (points == 1) print(s\"\\n*** Tests Passed (1 point) ***\\n\")\n",
    "    else print(s\"\\n*** Tests Passed ($points points) ***\\n\")\n",
    "}"
   ]
  },
  {
   "cell_type": "markdown",
   "metadata": {
    "deletable": false,
    "editable": false,
    "nbgrader": {
     "cell_type": "markdown",
     "checksum": "5a135992e7fb2d981f0451e753d2931c",
     "grade": false,
     "grade_id": "cell-c0e2fe59872461d1",
     "locked": true,
     "schema_version": 3,
     "solution": false,
     "task": false
    }
   },
   "source": [
    "## Problem 1 : Type Checking (100 points)\n",
    "\n",
    "Write a function `typecheck` that typechecks a Lettuce program.\n",
    "\n",
    "$$\\texttt{typecheck} : Program \\rightarrow Type$$ \n",
    "\n",
    "This function should take as input a lettuce _Program_, and return what _Type_ it is. If it doesn't typecheck it should return a special value _TypeError_. Use the Lettuce typing notes on moodle for details on how typechecking lettuce works.\n",
    "\n",
    "The tests for this assigment are hidden, so you will need to write your own tests! Note that you are encouraged to collaborate and share your test ideas on Piazza. To get full points, your implementation needs to match the specification from the Lettuce typing notes on moodle."
   ]
  },
  {
   "cell_type": "code",
   "execution_count": 2,
   "metadata": {
    "deletable": false,
    "editable": false,
    "nbgrader": {
     "cell_type": "code",
     "checksum": "5ddc9ef62f5e3348da0b7ba96c672ba8",
     "grade": false,
     "grade_id": "cell-3f06bd7da6098c56",
     "locked": true,
     "schema_version": 3,
     "solution": false,
     "task": false
    }
   },
   "outputs": [
    {
     "data": {
      "text/plain": [
       "defined \u001b[32mtrait\u001b[39m \u001b[36mType\u001b[39m\n",
       "defined \u001b[32mobject\u001b[39m \u001b[36mNumType\u001b[39m\n",
       "defined \u001b[32mobject\u001b[39m \u001b[36mBoolType\u001b[39m\n",
       "defined \u001b[32mclass\u001b[39m \u001b[36mFunType\u001b[39m\n",
       "defined \u001b[32mobject\u001b[39m \u001b[36mTypeError\u001b[39m\n",
       "defined \u001b[32mtrait\u001b[39m \u001b[36mExpr\u001b[39m\n",
       "defined \u001b[32mclass\u001b[39m \u001b[36mConst\u001b[39m\n",
       "defined \u001b[32mclass\u001b[39m \u001b[36mIdent\u001b[39m\n",
       "defined \u001b[32mobject\u001b[39m \u001b[36mTrue\u001b[39m\n",
       "defined \u001b[32mobject\u001b[39m \u001b[36mFalse\u001b[39m\n",
       "defined \u001b[32mclass\u001b[39m \u001b[36mPlus\u001b[39m\n",
       "defined \u001b[32mclass\u001b[39m \u001b[36mMinus\u001b[39m\n",
       "defined \u001b[32mclass\u001b[39m \u001b[36mMult\u001b[39m\n",
       "defined \u001b[32mclass\u001b[39m \u001b[36mNeg\u001b[39m\n",
       "defined \u001b[32mclass\u001b[39m \u001b[36mAnd\u001b[39m\n",
       "defined \u001b[32mclass\u001b[39m \u001b[36mOr\u001b[39m\n",
       "defined \u001b[32mclass\u001b[39m \u001b[36mGeq\u001b[39m\n",
       "defined \u001b[32mclass\u001b[39m \u001b[36mEq\u001b[39m\n",
       "defined \u001b[32mclass\u001b[39m \u001b[36mITE\u001b[39m\n",
       "defined \u001b[32mclass\u001b[39m \u001b[36mLet\u001b[39m\n",
       "defined \u001b[32mclass\u001b[39m \u001b[36mFunDef\u001b[39m\n",
       "defined \u001b[32mclass\u001b[39m \u001b[36mFunCall\u001b[39m\n",
       "defined \u001b[32mclass\u001b[39m \u001b[36mLetRec\u001b[39m\n",
       "defined \u001b[32mtrait\u001b[39m \u001b[36mProgram\u001b[39m\n",
       "defined \u001b[32mclass\u001b[39m \u001b[36mMain\u001b[39m"
      ]
     },
     "execution_count": 2,
     "metadata": {},
     "output_type": "execute_result"
    }
   ],
   "source": [
    "sealed trait Type\n",
    "case object NumType extends Type\n",
    "case object BoolType extends Type\n",
    "case class FunType( ty_a : Type, ty_r : Type) extends Type\n",
    "case object TypeError extends Type\n",
    "\n",
    "sealed trait Expr\n",
    "case class  Const(n : Int) extends Expr\n",
    "case class  Ident(s : String) extends Expr\n",
    "case object True extends Expr\n",
    "case object False extends Expr\n",
    "case class  Plus( e1 : Expr, e2 : Expr) extends Expr\n",
    "case class  Minus( e1 : Expr, e2 : Expr) extends Expr\n",
    "case class  Mult( e1 : Expr, e2 : Expr) extends Expr\n",
    "case class  Neg( e1 : Expr) extends Expr\n",
    "case class  And( e1 : Expr, e2 : Expr) extends Expr\n",
    "case class  Or( e1 : Expr, e2 : Expr) extends Expr\n",
    "case class  Geq( e1 : Expr, e2 : Expr) extends Expr\n",
    "case class  Eq( e1 : Expr, e2 : Expr) extends Expr\n",
    "case class  ITE( ec : Expr, et : Expr, ef : Expr) extends Expr\n",
    "case class  Let( name : String, ty_d : Type, ed : Expr, ei : Expr) extends Expr\n",
    "case class  FunDef( arg : String, ty_a : Type, eb : Expr) extends Expr\n",
    "case class  FunCall( ef : Expr, ea : Expr) extends Expr\n",
    "case class  LetRec( f : String, ty_f : Type, x : String, ty_x : Type, eb : Expr, ei : Expr) extends Expr\n",
    "\n",
    "sealed trait Program\n",
    "case class Main(p : Expr) extends Program"
   ]
  },
  {
   "cell_type": "code",
   "execution_count": 3,
   "metadata": {
    "deletable": false,
    "nbgrader": {
     "cell_type": "code",
     "checksum": "cbdeb01186bcefd40ba2d4d5c773789f",
     "grade": false,
     "grade_id": "cell-f8cd57266fd56cf2",
     "locked": false,
     "schema_version": 3,
     "solution": true,
     "task": false
    }
   },
   "outputs": [
    {
     "data": {
      "text/plain": [
       "defined \u001b[32mfunction\u001b[39m \u001b[36mtypecheck\u001b[39m\n",
       "defined \u001b[32mfunction\u001b[39m \u001b[36mtypecheckExpr\u001b[39m"
      ]
     },
     "execution_count": 3,
     "metadata": {},
     "output_type": "execute_result"
    }
   ],
   "source": [
    "def typecheck(p : Program) = p match {\n",
    "    case Main(e: Expr) => typecheckExpr(e, Map())\n",
    "    case _ => TypeError\n",
    "}\n",
    "\n",
    "def typecheckExpr(e: Expr, env: Map[String, Type]) : Type = {\n",
    "    def typeEquals(e1: Expr, t1: Type, e2: Expr, t2: Type, resultType: Type) = {\n",
    "        val e1Type = typecheckExpr(e1, env)\n",
    "        val e2Type = typecheckExpr(e2, env)\n",
    "        if (e1Type == t1 && e2Type == t2) {\n",
    "            resultType\n",
    "        } else {\n",
    "            TypeError\n",
    "        }\n",
    "    }\n",
    "    e match {\n",
    "        case Const(_)  => NumType\n",
    "        case True => BoolType\n",
    "        case False => BoolType\n",
    "        case Ident(x: String) => env.getOrElse(x, TypeError)\n",
    "        case Plus(e1: Expr, e2: Expr) => typeEquals(e1, NumType, e2, NumType, NumType)\n",
    "        case Minus(e1: Expr, e2: Expr) => typeEquals(e1, NumType, e2, NumType, NumType)\n",
    "        case Mult(e1: Expr, e2: Expr) => typeEquals(e1, NumType, e2, NumType, NumType)\n",
    "        case And(e1: Expr, e2: Expr) => typeEquals(e1, BoolType, e2, BoolType, BoolType)\n",
    "        case Or(e1: Expr, e2: Expr) => typeEquals(e1, BoolType, e2, BoolType, BoolType)\n",
    "        case Neg(e: Expr) => typecheckExpr(e, env) match {\n",
    "            case BoolType => BoolType\n",
    "            case NumType => NumType\n",
    "            case _ => TypeError\n",
    "        }\n",
    "        case Geq(e1: Expr, e2: Expr) => typeEquals(e1, NumType, e2, NumType, BoolType)\n",
    "        case Eq(e1: Expr, e2: Expr) => (typecheckExpr(e1, env), typecheckExpr(e2, env)) match {\n",
    "            case (TypeError, _) => TypeError\n",
    "            case (_, TypeError) => TypeError\n",
    "            case _ => BoolType\n",
    "        }\n",
    "        case ITE( ec : Expr, et : Expr, ef : Expr) => (typecheckExpr(ec, env), typecheckExpr(et, env), typecheckExpr(ef, env)) match {\n",
    "            case (_, _, TypeError) => TypeError\n",
    "            case (_, TypeError, _) => TypeError\n",
    "            case (BoolType, t1, t2) => {\n",
    "                if (t1 == t2) {\n",
    "                    t1\n",
    "                } else {\n",
    "                    TypeError\n",
    "                }\n",
    "            }\n",
    "            case _ => TypeError\n",
    "        }\n",
    "        case Let( name : String, ty_d : Type, ed : Expr, ei : Expr) => {\n",
    "            if (typecheckExpr(ed, env) == ty_d){\n",
    "                val new_env = env + (name -> ty_d)\n",
    "                typecheckExpr(ei, new_env)\n",
    "            } else {\n",
    "                TypeError\n",
    "            }\n",
    "        }\n",
    "        case FunDef( arg : String, ty_a : Type, eb : Expr) => {\n",
    "            val new_env = env + (arg -> ty_a)\n",
    "            val new_t = typecheckExpr(eb, new_env)\n",
    "            if (new_t == TypeError) {\n",
    "                TypeError\n",
    "            } else {\n",
    "                FunType(ty_a, new_t)\n",
    "            }\n",
    "        }\n",
    "        case FunCall( ef : Expr, ea : Expr) =>  typecheckExpr(ef, env) match {\n",
    "            case FunType(ty_a, ty_r) => {\n",
    "                if (typecheckExpr(ea, env) == ty_a){\n",
    "                    ty_r\n",
    "                } else {\n",
    "                    TypeError\n",
    "                }\n",
    "            }\n",
    "            case _ => TypeError\n",
    "        }\n",
    "        case LetRec( f : String, ty_f : Type, x : String, ty_x : Type, eb : Expr, ei : Expr) => {\n",
    "            val new_env = env + (x -> ty_f, f -> FunType(ty_f, ty_x))\n",
    "            val new_t = typecheckExpr(eb, new_env)\n",
    "            if (new_t == ty_x){\n",
    "                typecheckExpr(ei, env + (f -> FunType(ty_f, ty_x)))\n",
    "            } else {\n",
    "                TypeError\n",
    "            }\n",
    "        }\n",
    "        case _ => TypeError\n",
    "    }\n",
    "}"
   ]
  },
  {
   "cell_type": "code",
   "execution_count": 4,
   "metadata": {
    "deletable": false,
    "editable": false,
    "nbgrader": {
     "cell_type": "code",
     "checksum": "cc4269729414496011cfa4980d54a4e4",
     "grade": true,
     "grade_id": "cell-d9b206afd7a24388",
     "locked": true,
     "points": 20,
     "schema_version": 3,
     "solution": false,
     "task": false
    }
   },
   "outputs": [
    {
     "name": "stdout",
     "output_type": "stream",
     "text": [
      "\n",
      "*** Tests Passed (20 points) ***\n",
      "Hidden Tests : up to 80 points remaining\n"
     ]
    },
    {
     "data": {
      "text/plain": [
       "\u001b[36mp1\u001b[39m: \u001b[32mProgram\u001b[39m = \u001b[33mMain\u001b[39m(\u001b[33mConst\u001b[39m(\u001b[32m10\u001b[39m))"
      ]
     },
     "execution_count": 4,
     "metadata": {},
     "output_type": "execute_result"
    }
   ],
   "source": [
    "val p1 : Program = Main( Const(10) )\n",
    "assert( typecheck(p1) == NumType, \"test 1\")\n",
    "passed(20)\n",
    "println(\"Hidden Tests : up to 80 points remaining\")"
   ]
  },
  {
   "cell_type": "code",
   "execution_count": 5,
   "metadata": {},
   "outputs": [
    {
     "data": {
      "text/plain": [
       "\u001b[36mp1\u001b[39m: \u001b[32mMain\u001b[39m = \u001b[33mMain\u001b[39m(True)\n",
       "\u001b[36mp2\u001b[39m: \u001b[32mMain\u001b[39m = \u001b[33mMain\u001b[39m(False)"
      ]
     },
     "execution_count": 5,
     "metadata": {},
     "output_type": "execute_result"
    }
   ],
   "source": [
    "// test Const \n",
    "val p1 = Main( True )\n",
    "val p2 = Main( False )\n",
    "assert( typecheck(p1) == BoolType, \"test 1\")\n",
    "assert( typecheck(p2) == BoolType, \"test 2\")"
   ]
  },
  {
   "cell_type": "code",
   "execution_count": 6,
   "metadata": {},
   "outputs": [
    {
     "data": {
      "text/plain": [
       "\u001b[36mp1\u001b[39m: \u001b[32mMain\u001b[39m = \u001b[33mMain\u001b[39m(\u001b[33mPlus\u001b[39m(\u001b[33mConst\u001b[39m(\u001b[32m1\u001b[39m), \u001b[33mConst\u001b[39m(\u001b[32m2\u001b[39m)))\n",
       "\u001b[36mp2\u001b[39m: \u001b[32mMain\u001b[39m = \u001b[33mMain\u001b[39m(\u001b[33mPlus\u001b[39m(\u001b[33mConst\u001b[39m(\u001b[32m1\u001b[39m), False))"
      ]
     },
     "execution_count": 6,
     "metadata": {},
     "output_type": "execute_result"
    }
   ],
   "source": [
    "// test Plus\n",
    "val p1 = Main( Plus(Const(1), Const(2)) )\n",
    "val p2 = Main( Plus(Const(1), False) )\n",
    "assert( typecheck(p1) == NumType, \"test 1\")\n",
    "assert( typecheck(p2) == TypeError, \"test 2\")"
   ]
  },
  {
   "cell_type": "code",
   "execution_count": 7,
   "metadata": {},
   "outputs": [
    {
     "data": {
      "text/plain": [
       "\u001b[36mp1\u001b[39m: \u001b[32mMain\u001b[39m = \u001b[33mMain\u001b[39m(\u001b[33mMinus\u001b[39m(\u001b[33mConst\u001b[39m(\u001b[32m2\u001b[39m), \u001b[33mConst\u001b[39m(\u001b[32m1\u001b[39m)))\n",
       "\u001b[36mp2\u001b[39m: \u001b[32mMain\u001b[39m = \u001b[33mMain\u001b[39m(\u001b[33mMinus\u001b[39m(\u001b[33mConst\u001b[39m(\u001b[32m2\u001b[39m), False))"
      ]
     },
     "execution_count": 7,
     "metadata": {},
     "output_type": "execute_result"
    }
   ],
   "source": [
    "// test Minus\n",
    "val p1 = Main( Minus(Const(2), Const(1)) )\n",
    "val p2 = Main( Minus(Const(2), False) )\n",
    "assert( typecheck(p1) == NumType, \"test 1\")\n",
    "assert( typecheck(p2) == TypeError, \"test 2\")"
   ]
  },
  {
   "cell_type": "code",
   "execution_count": 8,
   "metadata": {},
   "outputs": [
    {
     "data": {
      "text/plain": [
       "\u001b[36mp1\u001b[39m: \u001b[32mMain\u001b[39m = \u001b[33mMain\u001b[39m(\u001b[33mAnd\u001b[39m(True, True))\n",
       "\u001b[36mp2\u001b[39m: \u001b[32mMain\u001b[39m = \u001b[33mMain\u001b[39m(\u001b[33mAnd\u001b[39m(\u001b[33mConst\u001b[39m(\u001b[32m2\u001b[39m), False))"
      ]
     },
     "execution_count": 8,
     "metadata": {},
     "output_type": "execute_result"
    }
   ],
   "source": [
    "// test And\n",
    "val p1 = Main( And(True, True) )\n",
    "val p2 = Main( And(Const(2), False) )\n",
    "assert( typecheck(p1) == BoolType, \"test 1\")\n",
    "assert( typecheck(p2) == TypeError, \"test 2\")"
   ]
  },
  {
   "cell_type": "code",
   "execution_count": 9,
   "metadata": {},
   "outputs": [
    {
     "data": {
      "text/plain": [
       "\u001b[36mp1\u001b[39m: \u001b[32mMain\u001b[39m = \u001b[33mMain\u001b[39m(\u001b[33mOr\u001b[39m(True, True))\n",
       "\u001b[36mp2\u001b[39m: \u001b[32mMain\u001b[39m = \u001b[33mMain\u001b[39m(\u001b[33mOr\u001b[39m(\u001b[33mConst\u001b[39m(\u001b[32m2\u001b[39m), False))"
      ]
     },
     "execution_count": 9,
     "metadata": {},
     "output_type": "execute_result"
    }
   ],
   "source": [
    "// test Or\n",
    "val p1 = Main( Or(True, True) )\n",
    "val p2 = Main( Or(Const(2), False) )\n",
    "assert( typecheck(p1) == BoolType, \"test 1\")\n",
    "assert( typecheck(p2) == TypeError, \"test 2\")"
   ]
  },
  {
   "cell_type": "code",
   "execution_count": 10,
   "metadata": {},
   "outputs": [
    {
     "data": {
      "text/plain": [
       "\u001b[36mp1\u001b[39m: \u001b[32mMain\u001b[39m = \u001b[33mMain\u001b[39m(\u001b[33mNeg\u001b[39m(True))\n",
       "\u001b[36mp2\u001b[39m: \u001b[32mMain\u001b[39m = \u001b[33mMain\u001b[39m(\u001b[33mNeg\u001b[39m(\u001b[33mAnd\u001b[39m(True, True)))"
      ]
     },
     "execution_count": 10,
     "metadata": {},
     "output_type": "execute_result"
    }
   ],
   "source": [
    "// test Neg \n",
    "val p1 = Main( Neg(True) )\n",
    "val p2 = Main( Neg(And(True, True)) )\n",
    "assert( typecheck(p1) == BoolType, \"test 1\")\n",
    "assert( typecheck(p2) == BoolType, \"test 2\")"
   ]
  },
  {
   "cell_type": "code",
   "execution_count": 11,
   "metadata": {},
   "outputs": [
    {
     "data": {
      "text/plain": [
       "\u001b[36mp1\u001b[39m: \u001b[32mMain\u001b[39m = \u001b[33mMain\u001b[39m(\u001b[33mNeg\u001b[39m(\u001b[33mAnd\u001b[39m(True, \u001b[33mOr\u001b[39m(True, False))))\n",
       "\u001b[36mp2\u001b[39m: \u001b[32mMain\u001b[39m = \u001b[33mMain\u001b[39m(\u001b[33mNeg\u001b[39m(\u001b[33mAnd\u001b[39m(True, \u001b[33mConst\u001b[39m(\u001b[32m10\u001b[39m))))\n",
       "\u001b[36mp3\u001b[39m: \u001b[32mMain\u001b[39m = \u001b[33mMain\u001b[39m(\u001b[33mNeg\u001b[39m(\u001b[33mConst\u001b[39m(\u001b[32m1\u001b[39m)))\n",
       "\u001b[36mp4\u001b[39m: \u001b[32mMain\u001b[39m = \u001b[33mMain\u001b[39m(\u001b[33mNeg\u001b[39m(\u001b[33mMinus\u001b[39m(\u001b[33mConst\u001b[39m(\u001b[32m1\u001b[39m), \u001b[33mConst\u001b[39m(\u001b[32m2\u001b[39m))))\n",
       "\u001b[36mp5\u001b[39m: \u001b[32mMain\u001b[39m = \u001b[33mMain\u001b[39m(\u001b[33mNeg\u001b[39m(\u001b[33mMinus\u001b[39m(\u001b[33mConst\u001b[39m(\u001b[32m1\u001b[39m), False)))"
      ]
     },
     "execution_count": 11,
     "metadata": {},
     "output_type": "execute_result"
    }
   ],
   "source": [
    "// test Neg\n",
    "val p1 = Main( Neg(And(True, Or(True, False))) )\n",
    "val p2 = Main( Neg(And(True, Const(10))) )\n",
    "val p3 = Main( Neg(Const(1)) )\n",
    "val p4 = Main( Neg(Minus(Const(1), Const(2))) )\n",
    "val p5 = Main( Neg(Minus(Const(1), False)) )\n",
    "assert( typecheck(p1) == BoolType, \"test 1\")\n",
    "assert( typecheck(p2) == TypeError, \"test 2\")\n",
    "assert( typecheck(p3) == NumType, \"test 3\")\n",
    "assert( typecheck(p4) == NumType, \"test 4\")\n",
    "assert( typecheck(p5) == TypeError, \"test 5\")"
   ]
  },
  {
   "cell_type": "code",
   "execution_count": 12,
   "metadata": {},
   "outputs": [
    {
     "data": {
      "text/plain": [
       "\u001b[36mp1\u001b[39m: \u001b[32mMain\u001b[39m = \u001b[33mMain\u001b[39m(\u001b[33mGeq\u001b[39m(\u001b[33mConst\u001b[39m(\u001b[32m1\u001b[39m), \u001b[33mConst\u001b[39m(\u001b[32m2\u001b[39m)))\n",
       "\u001b[36mp2\u001b[39m: \u001b[32mMain\u001b[39m = \u001b[33mMain\u001b[39m(\u001b[33mGeq\u001b[39m(\u001b[33mMinus\u001b[39m(\u001b[33mConst\u001b[39m(\u001b[32m2\u001b[39m), \u001b[33mConst\u001b[39m(\u001b[32m1\u001b[39m)), \u001b[33mConst\u001b[39m(\u001b[32m2\u001b[39m)))\n",
       "\u001b[36mp3\u001b[39m: \u001b[32mMain\u001b[39m = \u001b[33mMain\u001b[39m(\u001b[33mGeq\u001b[39m(\u001b[33mAnd\u001b[39m(True, False), \u001b[33mConst\u001b[39m(\u001b[32m2\u001b[39m)))\n",
       "\u001b[36mp4\u001b[39m: \u001b[32mMain\u001b[39m = \u001b[33mMain\u001b[39m(\u001b[33mGeq\u001b[39m(\u001b[33mPlus\u001b[39m(True, \u001b[33mConst\u001b[39m(\u001b[32m3\u001b[39m)), \u001b[33mConst\u001b[39m(\u001b[32m2\u001b[39m)))\n",
       "\u001b[36mp5\u001b[39m: \u001b[32mMain\u001b[39m = \u001b[33mMain\u001b[39m(\u001b[33mGeq\u001b[39m(\u001b[33mConst\u001b[39m(\u001b[32m2\u001b[39m), \u001b[33mPlus\u001b[39m(True, \u001b[33mConst\u001b[39m(\u001b[32m3\u001b[39m))))\n",
       "\u001b[36mp6\u001b[39m: \u001b[32mMain\u001b[39m = \u001b[33mMain\u001b[39m(\u001b[33mGeq\u001b[39m(False, False))"
      ]
     },
     "execution_count": 12,
     "metadata": {},
     "output_type": "execute_result"
    }
   ],
   "source": [
    "// test Geq\n",
    "val p1 = Main( Geq(Const(1), Const(2)) )\n",
    "val p2 = Main( Geq(Minus(Const(2), Const(1)), Const(2)) )\n",
    "val p3 = Main( Geq(And(True, False),  Const(2)) )\n",
    "val p4 = Main( Geq(Plus(True, Const(3)),  Const(2)) )\n",
    "val p5 = Main( Geq(Const(2), Plus(True, Const(3))) )\n",
    "val p6 = Main( Geq(False, False) )\n",
    "assert( typecheck(p1) == BoolType, \"test 1\")\n",
    "assert( typecheck(p2) == BoolType, \"test 2\")\n",
    "assert( typecheck(p3) == TypeError, \"test 3\")\n",
    "assert( typecheck(p4) == TypeError, \"test 4\")\n",
    "assert( typecheck(p5) == TypeError, \"test 5\")\n",
    "assert( typecheck(p6) == TypeError, \"test 6\")"
   ]
  },
  {
   "cell_type": "code",
   "execution_count": 13,
   "metadata": {},
   "outputs": [
    {
     "data": {
      "text/plain": [
       "\u001b[36mp1\u001b[39m: \u001b[32mMain\u001b[39m = \u001b[33mMain\u001b[39m(\u001b[33mEq\u001b[39m(\u001b[33mConst\u001b[39m(\u001b[32m1\u001b[39m), \u001b[33mConst\u001b[39m(\u001b[32m2\u001b[39m)))\n",
       "\u001b[36mp2\u001b[39m: \u001b[32mMain\u001b[39m = \u001b[33mMain\u001b[39m(\u001b[33mEq\u001b[39m(\u001b[33mMinus\u001b[39m(\u001b[33mConst\u001b[39m(\u001b[32m2\u001b[39m), \u001b[33mConst\u001b[39m(\u001b[32m1\u001b[39m)), \u001b[33mConst\u001b[39m(\u001b[32m2\u001b[39m)))\n",
       "\u001b[36mp3\u001b[39m: \u001b[32mMain\u001b[39m = \u001b[33mMain\u001b[39m(\u001b[33mEq\u001b[39m(\u001b[33mAnd\u001b[39m(True, False), \u001b[33mConst\u001b[39m(\u001b[32m2\u001b[39m)))\n",
       "\u001b[36mp4\u001b[39m: \u001b[32mMain\u001b[39m = \u001b[33mMain\u001b[39m(\u001b[33mEq\u001b[39m(\u001b[33mPlus\u001b[39m(True, \u001b[33mConst\u001b[39m(\u001b[32m3\u001b[39m)), \u001b[33mConst\u001b[39m(\u001b[32m2\u001b[39m)))\n",
       "\u001b[36mp5\u001b[39m: \u001b[32mMain\u001b[39m = \u001b[33mMain\u001b[39m(\u001b[33mEq\u001b[39m(\u001b[33mConst\u001b[39m(\u001b[32m2\u001b[39m), \u001b[33mPlus\u001b[39m(True, \u001b[33mConst\u001b[39m(\u001b[32m3\u001b[39m))))\n",
       "\u001b[36mp6\u001b[39m: \u001b[32mMain\u001b[39m = \u001b[33mMain\u001b[39m(\u001b[33mEq\u001b[39m(False, False))"
      ]
     },
     "execution_count": 13,
     "metadata": {},
     "output_type": "execute_result"
    }
   ],
   "source": [
    "// test Eq\n",
    "val p1 = Main( Eq(Const(1), Const(2)) )\n",
    "val p2 = Main( Eq(Minus(Const(2), Const(1)), Const(2)) )\n",
    "val p3 = Main( Eq(And(True, False),  Const(2)) )\n",
    "val p4 = Main( Eq(Plus(True, Const(3)),  Const(2)) )\n",
    "val p5 = Main( Eq(Const(2), Plus(True, Const(3))) )\n",
    "val p6 = Main( Eq(False, False) )\n",
    "assert( typecheck(p1) == BoolType, \"test 1\")\n",
    "assert( typecheck(p2) == BoolType, \"test 2\")\n",
    "assert( typecheck(p3) == BoolType, \"test 3\")\n",
    "assert( typecheck(p4) == TypeError, \"test 4\")\n",
    "assert( typecheck(p5) == TypeError, \"test 5\")\n",
    "assert( typecheck(p6) == BoolType, \"test 6\")"
   ]
  },
  {
   "cell_type": "code",
   "execution_count": 14,
   "metadata": {},
   "outputs": [
    {
     "data": {
      "text/plain": [
       "\u001b[36mp1\u001b[39m: \u001b[32mMain\u001b[39m = \u001b[33mMain\u001b[39m(\u001b[33mITE\u001b[39m(False, \u001b[33mConst\u001b[39m(\u001b[32m2\u001b[39m), \u001b[33mConst\u001b[39m(\u001b[32m1\u001b[39m)))\n",
       "\u001b[36mp2\u001b[39m: \u001b[32mMain\u001b[39m = \u001b[33mMain\u001b[39m(\u001b[33mITE\u001b[39m(False, True, False))\n",
       "\u001b[36mp5\u001b[39m: \u001b[32mMain\u001b[39m = \u001b[33mMain\u001b[39m(\u001b[33mITE\u001b[39m(False, \u001b[33mConst\u001b[39m(\u001b[32m2\u001b[39m), False))"
      ]
     },
     "execution_count": 14,
     "metadata": {},
     "output_type": "execute_result"
    }
   ],
   "source": [
    "// test ITE\n",
    "val p1 = Main( ITE(False, Const(2), Const(1)) )\n",
    "val p2 = Main( ITE(False, True, False) )\n",
    "val p5 = Main( ITE(False, Const(2), False))\n",
    "assert( typecheck(p1) == NumType, \"test 1\")\n",
    "assert( typecheck(p2) == BoolType, \"test 2\")\n",
    "assert( typecheck(p5) == TypeError, \"test 5\")"
   ]
  },
  {
   "cell_type": "code",
   "execution_count": 15,
   "metadata": {},
   "outputs": [
    {
     "data": {
      "text/plain": [
       "\u001b[36mp1\u001b[39m: \u001b[32mMain\u001b[39m = \u001b[33mMain\u001b[39m(\u001b[33mFunDef\u001b[39m(\u001b[32m\"x\"\u001b[39m, NumType, \u001b[33mPlus\u001b[39m(\u001b[33mIdent\u001b[39m(\u001b[32m\"x\"\u001b[39m), \u001b[33mConst\u001b[39m(\u001b[32m1\u001b[39m))))\n",
       "\u001b[36mp2\u001b[39m: \u001b[32mMain\u001b[39m = \u001b[33mMain\u001b[39m(\u001b[33mFunDef\u001b[39m(\u001b[32m\"x\"\u001b[39m, NumType, \u001b[33mEq\u001b[39m(\u001b[33mIdent\u001b[39m(\u001b[32m\"x\"\u001b[39m), \u001b[33mConst\u001b[39m(\u001b[32m1\u001b[39m))))"
      ]
     },
     "execution_count": 15,
     "metadata": {},
     "output_type": "execute_result"
    }
   ],
   "source": [
    "// test FunDef\n",
    "val p1 = Main( FunDef( \"x\", NumType, Plus(Ident(\"x\"), Const(1))) )\n",
    "assert( typecheck(p1) == FunType(NumType, NumType), \"test 1\")\n",
    "val p2 = Main( FunDef( \"x\", NumType, Eq(Ident(\"x\"), Const(1))) )\n",
    "assert( typecheck(p2) == FunType(NumType, BoolType), \"test 2\")"
   ]
  },
  {
   "cell_type": "code",
   "execution_count": 16,
   "metadata": {},
   "outputs": [
    {
     "data": {
      "text/plain": [
       "\u001b[36mp1\u001b[39m: \u001b[32mMain\u001b[39m = \u001b[33mMain\u001b[39m(\n",
       "  \u001b[33mFunDef\u001b[39m(\n",
       "    \u001b[32m\"g\"\u001b[39m,\n",
       "    NumType,\n",
       "    \u001b[33mLet\u001b[39m(\u001b[32m\"h\"\u001b[39m, NumType, \u001b[33mConst\u001b[39m(\u001b[32m1\u001b[39m), \u001b[33mMult\u001b[39m(\u001b[33mIdent\u001b[39m(\u001b[32m\"g\"\u001b[39m), \u001b[33mIdent\u001b[39m(\u001b[32m\"h\"\u001b[39m)))\n",
       "  )\n",
       ")"
      ]
     },
     "execution_count": 16,
     "metadata": {},
     "output_type": "execute_result"
    }
   ],
   "source": [
    "// test Let\n",
    "val p1 = Main( FunDef(\"g\", NumType, Let(\"h\", NumType, Const(1), Mult(Ident(\"g\"), Ident(\"h\")))) )\n",
    "assert( typecheck(p1) == FunType(NumType, NumType), \"test 1\")"
   ]
  },
  {
   "cell_type": "code",
   "execution_count": 17,
   "metadata": {},
   "outputs": [
    {
     "data": {
      "text/plain": [
       "\u001b[36mp1\u001b[39m: \u001b[32mMain\u001b[39m = \u001b[33mMain\u001b[39m(\u001b[33mFunCall\u001b[39m(\u001b[33mFunDef\u001b[39m(\u001b[32m\"a\"\u001b[39m, NumType, \u001b[33mConst\u001b[39m(\u001b[32m1\u001b[39m)), \u001b[33mConst\u001b[39m(\u001b[32m1\u001b[39m)))\n",
       "\u001b[36mp2\u001b[39m: \u001b[32mMain\u001b[39m = \u001b[33mMain\u001b[39m(\u001b[33mFunCall\u001b[39m(\u001b[33mFunDef\u001b[39m(\u001b[32m\"b\"\u001b[39m, NumType, \u001b[33mConst\u001b[39m(\u001b[32m1\u001b[39m)), \u001b[33mIdent\u001b[39m(\u001b[32m\"b\"\u001b[39m)))\n",
       "\u001b[36mp3\u001b[39m: \u001b[32mMain\u001b[39m = \u001b[33mMain\u001b[39m(\u001b[33mFunCall\u001b[39m(\u001b[33mFunDef\u001b[39m(\u001b[32m\"c\"\u001b[39m, NumType, \u001b[33mIdent\u001b[39m(\u001b[32m\"d\"\u001b[39m)), \u001b[33mConst\u001b[39m(\u001b[32m1\u001b[39m)))\n",
       "\u001b[36mp4\u001b[39m: \u001b[32mMain\u001b[39m = \u001b[33mMain\u001b[39m(\n",
       "  \u001b[33mFunCall\u001b[39m(\u001b[33mFunDef\u001b[39m(\u001b[32m\"a\"\u001b[39m, NumType, \u001b[33mEq\u001b[39m(\u001b[33mIdent\u001b[39m(\u001b[32m\"a\"\u001b[39m), \u001b[33mConst\u001b[39m(\u001b[32m1\u001b[39m))), \u001b[33mConst\u001b[39m(\u001b[32m1\u001b[39m))\n",
       ")"
      ]
     },
     "execution_count": 17,
     "metadata": {},
     "output_type": "execute_result"
    }
   ],
   "source": [
    "// test FunCall\n",
    "val p1 = Main( FunCall(FunDef(\"a\", NumType, Const(1)), Const(1)) )\n",
    "assert( typecheck(p1) == NumType, \"test 1\")\n",
    "val p2 = Main( FunCall(FunDef(\"b\", NumType, Const(1)), Ident(\"b\")) )\n",
    "assert( typecheck(p2) == TypeError, \"test 2\")\n",
    "val p3 = Main( FunCall(FunDef(\"c\", NumType, Ident(\"d\")), Const(1)) )\n",
    "assert( typecheck(p3) == TypeError, \"test 3\")\n",
    "val p4 = Main( FunCall(FunDef(\"a\", NumType, Eq(Ident(\"a\"), Const(1))), Const(1)) )\n",
    "assert( typecheck(p4) == BoolType, \"test 4\")"
   ]
  },
  {
   "cell_type": "code",
   "execution_count": 18,
   "metadata": {},
   "outputs": [
    {
     "data": {
      "text/plain": [
       "\u001b[36mp1\u001b[39m: \u001b[32mMain\u001b[39m = \u001b[33mMain\u001b[39m(\n",
       "  \u001b[33mLetRec\u001b[39m(\n",
       "    \u001b[32m\"f\"\u001b[39m,\n",
       "    NumType,\n",
       "    \u001b[32m\"x\"\u001b[39m,\n",
       "    NumType,\n",
       "    \u001b[33mPlus\u001b[39m(\u001b[33mFunCall\u001b[39m(\u001b[33mIdent\u001b[39m(\u001b[32m\"f\"\u001b[39m), \u001b[33mPlus\u001b[39m(\u001b[33mIdent\u001b[39m(\u001b[32m\"x\"\u001b[39m), \u001b[33mConst\u001b[39m(\u001b[32m1\u001b[39m))), \u001b[33mConst\u001b[39m(\u001b[32m2\u001b[39m)),\n",
       "    \u001b[33mFunCall\u001b[39m(\u001b[33mIdent\u001b[39m(\u001b[32m\"f\"\u001b[39m), \u001b[33mConst\u001b[39m(\u001b[32m2\u001b[39m))\n",
       "  )\n",
       ")"
      ]
     },
     "execution_count": 18,
     "metadata": {},
     "output_type": "execute_result"
    }
   ],
   "source": [
    "// test LetRec\n",
    "val p1 = Main( LetRec(\"f\", NumType, \"x\", NumType,\n",
    "            Plus(FunCall(Ident(\"f\"), Plus(Ident(\"x\"), Const(1))), Const(2)), \n",
    "            FunCall(Ident(\"f\"), Const(2))) )\n",
    "assert( typecheck(p1) == NumType, \"test 1\")"
   ]
  },
  {
   "cell_type": "code",
   "execution_count": 19,
   "metadata": {
    "deletable": false,
    "editable": false,
    "nbgrader": {
     "cell_type": "code",
     "checksum": "16e433df6352352f1c2b909b66032262",
     "grade": true,
     "grade_id": "cell-31198cd330553090",
     "locked": true,
     "points": 2,
     "schema_version": 3,
     "solution": false,
     "task": false
    }
   },
   "outputs": [
    {
     "name": "stdout",
     "output_type": "stream",
     "text": [
      "Hidden test\n"
     ]
    }
   ],
   "source": [
    "println(\"Hidden test\")"
   ]
  },
  {
   "cell_type": "code",
   "execution_count": 20,
   "metadata": {
    "deletable": false,
    "editable": false,
    "nbgrader": {
     "cell_type": "code",
     "checksum": "e56e925bd0b16e8e70ac0bc243c3298e",
     "grade": true,
     "grade_id": "cell-69b68741c9fda826",
     "locked": true,
     "points": 2,
     "schema_version": 3,
     "solution": false,
     "task": false
    }
   },
   "outputs": [
    {
     "name": "stdout",
     "output_type": "stream",
     "text": [
      "Hidden test\n"
     ]
    }
   ],
   "source": [
    "println(\"Hidden test\")"
   ]
  },
  {
   "cell_type": "code",
   "execution_count": 21,
   "metadata": {
    "deletable": false,
    "editable": false,
    "nbgrader": {
     "cell_type": "code",
     "checksum": "6ec9854bcb228b9be18cebc49dfadbf9",
     "grade": true,
     "grade_id": "cell-d15f5cb6ed1607da",
     "locked": true,
     "points": 2,
     "schema_version": 3,
     "solution": false,
     "task": false
    }
   },
   "outputs": [
    {
     "name": "stdout",
     "output_type": "stream",
     "text": [
      "Hidden test\n"
     ]
    }
   ],
   "source": [
    "println(\"Hidden test\")"
   ]
  },
  {
   "cell_type": "code",
   "execution_count": 22,
   "metadata": {
    "deletable": false,
    "editable": false,
    "nbgrader": {
     "cell_type": "code",
     "checksum": "fbbce3650b6688f24e40194741aaf571",
     "grade": true,
     "grade_id": "cell-d8ea3308b64e150d",
     "locked": true,
     "points": 2,
     "schema_version": 3,
     "solution": false,
     "task": false
    }
   },
   "outputs": [
    {
     "name": "stdout",
     "output_type": "stream",
     "text": [
      "Hidden test\n"
     ]
    }
   ],
   "source": [
    "println(\"Hidden test\")"
   ]
  },
  {
   "cell_type": "code",
   "execution_count": 23,
   "metadata": {
    "deletable": false,
    "editable": false,
    "nbgrader": {
     "cell_type": "code",
     "checksum": "4b086b0430a44216c91e84ffa6139143",
     "grade": true,
     "grade_id": "cell-83408b1f20330fbc",
     "locked": true,
     "points": 2,
     "schema_version": 3,
     "solution": false,
     "task": false
    }
   },
   "outputs": [
    {
     "name": "stdout",
     "output_type": "stream",
     "text": [
      "Hidden test\n"
     ]
    }
   ],
   "source": [
    "println(\"Hidden test\")"
   ]
  },
  {
   "cell_type": "code",
   "execution_count": 24,
   "metadata": {
    "deletable": false,
    "editable": false,
    "nbgrader": {
     "cell_type": "code",
     "checksum": "75b7cd92d5e2ebc3d0be649d995671c6",
     "grade": true,
     "grade_id": "cell-8f34165e14575453",
     "locked": true,
     "points": 2,
     "schema_version": 3,
     "solution": false,
     "task": false
    }
   },
   "outputs": [
    {
     "name": "stdout",
     "output_type": "stream",
     "text": [
      "Hidden test\n"
     ]
    }
   ],
   "source": [
    "println(\"Hidden test\")"
   ]
  },
  {
   "cell_type": "code",
   "execution_count": 25,
   "metadata": {
    "deletable": false,
    "editable": false,
    "nbgrader": {
     "cell_type": "code",
     "checksum": "c91350d0ed9bf0198f85440917035cbb",
     "grade": true,
     "grade_id": "cell-bb4cebe2260d7612",
     "locked": true,
     "points": 2,
     "schema_version": 3,
     "solution": false,
     "task": false
    }
   },
   "outputs": [
    {
     "name": "stdout",
     "output_type": "stream",
     "text": [
      "Hidden test\n"
     ]
    }
   ],
   "source": [
    "println(\"Hidden test\")"
   ]
  },
  {
   "cell_type": "code",
   "execution_count": 26,
   "metadata": {
    "deletable": false,
    "editable": false,
    "nbgrader": {
     "cell_type": "code",
     "checksum": "a2921b85373fa0ef48a57732cd049759",
     "grade": true,
     "grade_id": "cell-c4f5dcf0bf8fdca3",
     "locked": true,
     "points": 2,
     "schema_version": 3,
     "solution": false,
     "task": false
    }
   },
   "outputs": [
    {
     "name": "stdout",
     "output_type": "stream",
     "text": [
      "Hidden test\n"
     ]
    }
   ],
   "source": [
    "println(\"Hidden test\")"
   ]
  },
  {
   "cell_type": "code",
   "execution_count": 27,
   "metadata": {
    "deletable": false,
    "editable": false,
    "nbgrader": {
     "cell_type": "code",
     "checksum": "9f02e9d45f199407e311eaa321395bea",
     "grade": true,
     "grade_id": "cell-8037f9727ae33dd4",
     "locked": true,
     "points": 2,
     "schema_version": 3,
     "solution": false,
     "task": false
    }
   },
   "outputs": [
    {
     "name": "stdout",
     "output_type": "stream",
     "text": [
      "Hidden test\n"
     ]
    }
   ],
   "source": [
    "println(\"Hidden test\")"
   ]
  },
  {
   "cell_type": "code",
   "execution_count": 28,
   "metadata": {
    "deletable": false,
    "editable": false,
    "nbgrader": {
     "cell_type": "code",
     "checksum": "7d406042da91b99c8010c55d03896138",
     "grade": true,
     "grade_id": "cell-b59243a5817202d2",
     "locked": true,
     "points": 2,
     "schema_version": 3,
     "solution": false,
     "task": false
    }
   },
   "outputs": [
    {
     "name": "stdout",
     "output_type": "stream",
     "text": [
      "Hidden test\n"
     ]
    }
   ],
   "source": [
    "println(\"Hidden test\")"
   ]
  },
  {
   "cell_type": "code",
   "execution_count": 29,
   "metadata": {
    "deletable": false,
    "editable": false,
    "nbgrader": {
     "cell_type": "code",
     "checksum": "9406879aaea4e809f0332b0d46374742",
     "grade": true,
     "grade_id": "cell-ede2ed89a8f56746",
     "locked": true,
     "points": 2,
     "schema_version": 3,
     "solution": false,
     "task": false
    }
   },
   "outputs": [
    {
     "name": "stdout",
     "output_type": "stream",
     "text": [
      "Hidden test\n"
     ]
    }
   ],
   "source": [
    "println(\"Hidden test\")"
   ]
  },
  {
   "cell_type": "code",
   "execution_count": 30,
   "metadata": {
    "deletable": false,
    "editable": false,
    "nbgrader": {
     "cell_type": "code",
     "checksum": "481c93465cd6f491d850b853e83dc58c",
     "grade": true,
     "grade_id": "cell-90690da2df5d6da5",
     "locked": true,
     "points": 2,
     "schema_version": 3,
     "solution": false,
     "task": false
    }
   },
   "outputs": [
    {
     "name": "stdout",
     "output_type": "stream",
     "text": [
      "Hidden test\n"
     ]
    }
   ],
   "source": [
    "println(\"Hidden test\")"
   ]
  },
  {
   "cell_type": "code",
   "execution_count": 31,
   "metadata": {
    "deletable": false,
    "editable": false,
    "nbgrader": {
     "cell_type": "code",
     "checksum": "e0cd8e950aac88c9fe1b3714f1c2ca69",
     "grade": true,
     "grade_id": "cell-288a52329f6c5428",
     "locked": true,
     "points": 2,
     "schema_version": 3,
     "solution": false,
     "task": false
    }
   },
   "outputs": [
    {
     "name": "stdout",
     "output_type": "stream",
     "text": [
      "Hidden test\n"
     ]
    }
   ],
   "source": [
    "println(\"Hidden test\")"
   ]
  },
  {
   "cell_type": "code",
   "execution_count": 32,
   "metadata": {
    "deletable": false,
    "editable": false,
    "nbgrader": {
     "cell_type": "code",
     "checksum": "5d83c0d74ee3dfe80640bc460dd18733",
     "grade": true,
     "grade_id": "cell-7d0654077dff6d8b",
     "locked": true,
     "points": 2,
     "schema_version": 3,
     "solution": false,
     "task": false
    }
   },
   "outputs": [
    {
     "name": "stdout",
     "output_type": "stream",
     "text": [
      "Hidden test\n"
     ]
    }
   ],
   "source": [
    "println(\"Hidden test\")"
   ]
  },
  {
   "cell_type": "code",
   "execution_count": 33,
   "metadata": {
    "deletable": false,
    "editable": false,
    "nbgrader": {
     "cell_type": "code",
     "checksum": "0514765d5b33c6a68af4ea9b5a85486a",
     "grade": true,
     "grade_id": "cell-d0489819cc1d8319",
     "locked": true,
     "points": 2,
     "schema_version": 3,
     "solution": false,
     "task": false
    }
   },
   "outputs": [
    {
     "name": "stdout",
     "output_type": "stream",
     "text": [
      "Hidden test\n"
     ]
    }
   ],
   "source": [
    "println(\"Hidden test\")"
   ]
  },
  {
   "cell_type": "code",
   "execution_count": 34,
   "metadata": {
    "deletable": false,
    "editable": false,
    "nbgrader": {
     "cell_type": "code",
     "checksum": "419123b6b902589ed0f59859c560a6bc",
     "grade": true,
     "grade_id": "cell-533d45c0493a5630",
     "locked": true,
     "points": 2,
     "schema_version": 3,
     "solution": false,
     "task": false
    }
   },
   "outputs": [
    {
     "name": "stdout",
     "output_type": "stream",
     "text": [
      "Hidden test\n"
     ]
    }
   ],
   "source": [
    "println(\"Hidden test\")"
   ]
  },
  {
   "cell_type": "code",
   "execution_count": 35,
   "metadata": {
    "deletable": false,
    "editable": false,
    "nbgrader": {
     "cell_type": "code",
     "checksum": "c267adfa29f4beb2bd2871ac9b48f306",
     "grade": true,
     "grade_id": "cell-97f81d04838e2546",
     "locked": true,
     "points": 2,
     "schema_version": 3,
     "solution": false,
     "task": false
    }
   },
   "outputs": [
    {
     "name": "stdout",
     "output_type": "stream",
     "text": [
      "Hidden test\n"
     ]
    }
   ],
   "source": [
    "println(\"Hidden test\")"
   ]
  },
  {
   "cell_type": "code",
   "execution_count": 36,
   "metadata": {
    "deletable": false,
    "editable": false,
    "nbgrader": {
     "cell_type": "code",
     "checksum": "2c76783289bac74ebe27210f51631db4",
     "grade": true,
     "grade_id": "cell-f91107fcf26e2240",
     "locked": true,
     "points": 3,
     "schema_version": 3,
     "solution": false,
     "task": false
    }
   },
   "outputs": [
    {
     "name": "stdout",
     "output_type": "stream",
     "text": [
      "Hidden test\n"
     ]
    }
   ],
   "source": [
    "println(\"Hidden test\")"
   ]
  },
  {
   "cell_type": "code",
   "execution_count": 37,
   "metadata": {
    "deletable": false,
    "editable": false,
    "nbgrader": {
     "cell_type": "code",
     "checksum": "ee3e016a9a543d69e122d8a7e9a1eb8c",
     "grade": true,
     "grade_id": "cell-3ba6c8052c148fff",
     "locked": true,
     "points": 3,
     "schema_version": 3,
     "solution": false,
     "task": false
    }
   },
   "outputs": [
    {
     "name": "stdout",
     "output_type": "stream",
     "text": [
      "Hidden test\n"
     ]
    }
   ],
   "source": [
    "println(\"Hidden test\")"
   ]
  },
  {
   "cell_type": "code",
   "execution_count": 38,
   "metadata": {
    "deletable": false,
    "editable": false,
    "nbgrader": {
     "cell_type": "code",
     "checksum": "79ce928f7743ba141c2da89d7205f3e7",
     "grade": true,
     "grade_id": "cell-36a0b90b6303d35e",
     "locked": true,
     "points": 3,
     "schema_version": 3,
     "solution": false,
     "task": false
    }
   },
   "outputs": [
    {
     "name": "stdout",
     "output_type": "stream",
     "text": [
      "Hidden test\n"
     ]
    }
   ],
   "source": [
    "println(\"Hidden test\")"
   ]
  },
  {
   "cell_type": "code",
   "execution_count": 39,
   "metadata": {
    "deletable": false,
    "editable": false,
    "nbgrader": {
     "cell_type": "code",
     "checksum": "76bd576dddf518ff087457fdb1cf7468",
     "grade": true,
     "grade_id": "cell-89108e7186bf2e7e",
     "locked": true,
     "points": 2,
     "schema_version": 3,
     "solution": false,
     "task": false
    }
   },
   "outputs": [
    {
     "name": "stdout",
     "output_type": "stream",
     "text": [
      "Hidden test\n"
     ]
    }
   ],
   "source": [
    "println(\"Hidden test\")"
   ]
  },
  {
   "cell_type": "code",
   "execution_count": 40,
   "metadata": {
    "deletable": false,
    "editable": false,
    "nbgrader": {
     "cell_type": "code",
     "checksum": "80473f9428413dbaeb328e788c142cf1",
     "grade": true,
     "grade_id": "cell-e0c1267b4358e17e",
     "locked": true,
     "points": 3,
     "schema_version": 3,
     "solution": false,
     "task": false
    }
   },
   "outputs": [
    {
     "name": "stdout",
     "output_type": "stream",
     "text": [
      "Hidden test\n"
     ]
    }
   ],
   "source": [
    "println(\"Hidden test\")"
   ]
  },
  {
   "cell_type": "code",
   "execution_count": 41,
   "metadata": {
    "deletable": false,
    "editable": false,
    "nbgrader": {
     "cell_type": "code",
     "checksum": "ee0fc239fbaacd0fa9df12ab7b355aa2",
     "grade": true,
     "grade_id": "cell-7755f725e7af3e5c",
     "locked": true,
     "points": 3,
     "schema_version": 3,
     "solution": false,
     "task": false
    }
   },
   "outputs": [
    {
     "name": "stdout",
     "output_type": "stream",
     "text": [
      "Hidden test\n"
     ]
    }
   ],
   "source": [
    "println(\"Hidden test\")"
   ]
  },
  {
   "cell_type": "code",
   "execution_count": 42,
   "metadata": {
    "deletable": false,
    "editable": false,
    "nbgrader": {
     "cell_type": "code",
     "checksum": "2e8459bddafbbf73ccd4190f20def3d9",
     "grade": true,
     "grade_id": "cell-a16534250c0ac8f9",
     "locked": true,
     "points": 3,
     "schema_version": 3,
     "solution": false,
     "task": false
    }
   },
   "outputs": [
    {
     "name": "stdout",
     "output_type": "stream",
     "text": [
      "Hidden test\n"
     ]
    }
   ],
   "source": [
    "println(\"Hidden test\")"
   ]
  },
  {
   "cell_type": "code",
   "execution_count": 43,
   "metadata": {
    "deletable": false,
    "editable": false,
    "nbgrader": {
     "cell_type": "code",
     "checksum": "dea5ed43d77182d71d9c0738217e83cd",
     "grade": true,
     "grade_id": "cell-6089a04546621af9",
     "locked": true,
     "points": 3,
     "schema_version": 3,
     "solution": false,
     "task": false
    }
   },
   "outputs": [
    {
     "name": "stdout",
     "output_type": "stream",
     "text": [
      "Hidden test\n"
     ]
    }
   ],
   "source": [
    "println(\"Hidden test\")"
   ]
  },
  {
   "cell_type": "code",
   "execution_count": 44,
   "metadata": {
    "deletable": false,
    "editable": false,
    "nbgrader": {
     "cell_type": "code",
     "checksum": "eafd2e1e6ee5d0baf553914f3f36560b",
     "grade": true,
     "grade_id": "cell-ea1c6a51893fd4d1",
     "locked": true,
     "points": 3,
     "schema_version": 3,
     "solution": false,
     "task": false
    }
   },
   "outputs": [
    {
     "name": "stdout",
     "output_type": "stream",
     "text": [
      "Hidden test\n"
     ]
    }
   ],
   "source": [
    "println(\"Hidden test\")"
   ]
  },
  {
   "cell_type": "code",
   "execution_count": 45,
   "metadata": {
    "deletable": false,
    "editable": false,
    "nbgrader": {
     "cell_type": "code",
     "checksum": "c9f1c00e09b93c80dd8ae901fdac6010",
     "grade": true,
     "grade_id": "cell-b3233ea6f1403203",
     "locked": true,
     "points": 3,
     "schema_version": 3,
     "solution": false,
     "task": false
    }
   },
   "outputs": [
    {
     "name": "stdout",
     "output_type": "stream",
     "text": [
      "Hidden test\n"
     ]
    }
   ],
   "source": [
    "println(\"Hidden test\")"
   ]
  },
  {
   "cell_type": "code",
   "execution_count": 46,
   "metadata": {
    "deletable": false,
    "editable": false,
    "nbgrader": {
     "cell_type": "code",
     "checksum": "3865dee4afe775f5249fb80b3855784a",
     "grade": true,
     "grade_id": "cell-0934c6879471b3a3",
     "locked": true,
     "points": 2,
     "schema_version": 3,
     "solution": false,
     "task": false
    }
   },
   "outputs": [
    {
     "name": "stdout",
     "output_type": "stream",
     "text": [
      "Hidden test\n"
     ]
    }
   ],
   "source": [
    "println(\"Hidden test\")"
   ]
  },
  {
   "cell_type": "code",
   "execution_count": 47,
   "metadata": {
    "deletable": false,
    "editable": false,
    "nbgrader": {
     "cell_type": "code",
     "checksum": "0f73d0c920566688c834b20249fcf3c7",
     "grade": true,
     "grade_id": "cell-750499f6519c9cb8",
     "locked": true,
     "points": 3,
     "schema_version": 3,
     "solution": false,
     "task": false
    }
   },
   "outputs": [
    {
     "name": "stdout",
     "output_type": "stream",
     "text": [
      "Hidden test\n"
     ]
    }
   ],
   "source": [
    "println(\"Hidden test\")"
   ]
  },
  {
   "cell_type": "code",
   "execution_count": 48,
   "metadata": {
    "deletable": false,
    "editable": false,
    "nbgrader": {
     "cell_type": "code",
     "checksum": "0b11f1955733462babd574dcdf72b697",
     "grade": true,
     "grade_id": "cell-b9646dcc63b28149",
     "locked": true,
     "points": 3,
     "schema_version": 3,
     "solution": false,
     "task": false
    }
   },
   "outputs": [
    {
     "name": "stdout",
     "output_type": "stream",
     "text": [
      "Hidden test\n"
     ]
    }
   ],
   "source": [
    "println(\"Hidden test\")"
   ]
  },
  {
   "cell_type": "code",
   "execution_count": 49,
   "metadata": {
    "deletable": false,
    "editable": false,
    "nbgrader": {
     "cell_type": "code",
     "checksum": "24cd878019d5e4d5e7062ad5a821b043",
     "grade": true,
     "grade_id": "cell-3f118b29e49adbec",
     "locked": true,
     "points": 3,
     "schema_version": 3,
     "solution": false,
     "task": false
    }
   },
   "outputs": [
    {
     "name": "stdout",
     "output_type": "stream",
     "text": [
      "Hidden test\n"
     ]
    }
   ],
   "source": [
    "println(\"Hidden test\")"
   ]
  },
  {
   "cell_type": "code",
   "execution_count": 50,
   "metadata": {
    "deletable": false,
    "editable": false,
    "nbgrader": {
     "cell_type": "code",
     "checksum": "15e5a7b77c045bf1216566f70b9fd60e",
     "grade": true,
     "grade_id": "cell-150fee1089cc254b",
     "locked": true,
     "points": 3,
     "schema_version": 3,
     "solution": false,
     "task": false
    }
   },
   "outputs": [
    {
     "name": "stdout",
     "output_type": "stream",
     "text": [
      "Hidden test\n"
     ]
    }
   ],
   "source": [
    "println(\"Hidden test\")"
   ]
  },
  {
   "cell_type": "code",
   "execution_count": 51,
   "metadata": {
    "deletable": false,
    "editable": false,
    "nbgrader": {
     "cell_type": "code",
     "checksum": "22cc895ab590f577f699f4426854d07e",
     "grade": true,
     "grade_id": "cell-f7fad77d24bd342e",
     "locked": true,
     "points": 3,
     "schema_version": 3,
     "solution": false,
     "task": false
    }
   },
   "outputs": [
    {
     "name": "stdout",
     "output_type": "stream",
     "text": [
      "Hidden test\n"
     ]
    }
   ],
   "source": [
    "println(\"Hidden test\")"
   ]
  },
  {
   "cell_type": "code",
   "execution_count": null,
   "metadata": {},
   "outputs": [],
   "source": []
  }
 ],
 "metadata": {
  "kernelspec": {
   "display_name": "Scala",
   "language": "scala",
   "name": "scala"
  },
  "language_info": {
   "codemirror_mode": "text/x-scala",
   "file_extension": ".scala",
   "mimetype": "text/x-scala",
   "name": "scala",
   "nbconvert_exporter": "script",
   "version": "2.12.10"
  }
 },
 "nbformat": 4,
 "nbformat_minor": 2
}
