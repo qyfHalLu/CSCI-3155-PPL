{
 "cells": [
  {
   "cell_type": "code",
   "execution_count": null,
   "metadata": {},
   "outputs": [],
   "source": []
  },
  {
   "cell_type": "markdown",
   "metadata": {
    "deletable": false,
    "editable": false,
    "nbgrader": {
     "cell_type": "markdown",
     "checksum": "2ced1522b06eb7f1438fef7ce024821f",
     "grade": false,
     "grade_id": "cell-a6f5e20aebff818d",
     "locked": true,
     "schema_version": 3,
     "solution": false,
     "task": false
    }
   },
   "source": [
    "# CSCI 3155 Homework 4\n",
    "\n",
    "Map, filter and fold."
   ]
  },
  {
   "cell_type": "markdown",
   "metadata": {},
   "source": [
    "__Name__:\n",
    "\n",
    "Qiuyang Fu"
   ]
  },
  {
   "cell_type": "code",
   "execution_count": 1,
   "metadata": {
    "deletable": false,
    "editable": false,
    "nbgrader": {
     "cell_type": "code",
     "checksum": "794f0fe51e0a49d2e467167fb86b56c6",
     "grade": false,
     "grade_id": "cell-15cf10787d1b2fef",
     "locked": true,
     "schema_version": 3,
     "solution": false,
     "task": false
    }
   },
   "outputs": [
    {
     "data": {
      "text/plain": [
       "defined \u001b[32mfunction\u001b[39m \u001b[36mpassed\u001b[39m"
      ]
     },
     "execution_count": 1,
     "metadata": {},
     "output_type": "execute_result"
    }
   ],
   "source": [
    "// TEST HELPER: Do not EDIT this cell please.\n",
    "def passed(points: Int) {\n",
    "    require(points >=0)\n",
    "    if (points == 1) print(s\"\\n*** Tests Passed (1 point) ***\\n\")\n",
    "    else print(s\"\\n*** Tests Passed ($points points) ***\\n\")\n",
    "}"
   ]
  },
  {
   "cell_type": "code",
   "execution_count": 2,
   "metadata": {
    "deletable": false,
    "editable": false,
    "nbgrader": {
     "cell_type": "code",
     "checksum": "45b7e6f02b418c48da72fd3b06262921",
     "grade": false,
     "grade_id": "cell-4a130c5384ab6d9c",
     "locked": true,
     "schema_version": 3,
     "solution": false,
     "task": false
    }
   },
   "outputs": [
    {
     "data": {
      "text/plain": [
       "defined \u001b[32mtrait\u001b[39m \u001b[36mList\u001b[39m\n",
       "defined \u001b[32mobject\u001b[39m \u001b[36mEmpty\u001b[39m\n",
       "defined \u001b[32mclass\u001b[39m \u001b[36mCons\u001b[39m"
      ]
     },
     "execution_count": 2,
     "metadata": {},
     "output_type": "execute_result"
    }
   ],
   "source": [
    "sealed trait List[+A]\n",
    "case object Empty extends List[Nothing]\n",
    "case class Cons[A]( x : A, xs : List[A]) extends List[A]"
   ]
  },
  {
   "cell_type": "markdown",
   "metadata": {
    "deletable": false,
    "editable": false,
    "nbgrader": {
     "cell_type": "markdown",
     "checksum": "ac8153012c75ec17fd4b001140788e3c",
     "grade": false,
     "grade_id": "cell-7ba126c839bd0044",
     "locked": true,
     "schema_version": 3,
     "solution": false,
     "task": false
    }
   },
   "source": [
    "## Problem 1 (20 Points) : Map\n",
    "\n",
    "Write the generic map function. Map takes a $A \\rightarrow B$ mapping function and a list of $A$'s and returns the list of $B$'s where the mapping function was applied to each element of the input list.\n",
    "\n",
    "$$map :  (A \\rightarrow B ) \\rightarrow List\\ A \\rightarrow List\\ B $$"
   ]
  },
  {
   "cell_type": "code",
   "execution_count": 3,
   "metadata": {
    "deletable": false,
    "nbgrader": {
     "cell_type": "code",
     "checksum": "a9db22c299ea71d203b6fbf8f9b5c1f2",
     "grade": false,
     "grade_id": "cell-c0264c2ff9d69e81",
     "locked": false,
     "schema_version": 3,
     "solution": true,
     "task": false
    }
   },
   "outputs": [
    {
     "data": {
      "text/plain": [
       "defined \u001b[32mfunction\u001b[39m \u001b[36mmap\u001b[39m"
      ]
     },
     "execution_count": 3,
     "metadata": {},
     "output_type": "execute_result"
    }
   ],
   "source": [
    "def map[A, B](f: (A) => B, l: List[A]) : List[B] = \n",
    "    l match {\n",
    "        case Empty => Empty\n",
    "        case Cons(x, xs) => Cons(f(x), map[A,B](f, xs))\n",
    "    }"
   ]
  },
  {
   "cell_type": "code",
   "execution_count": 4,
   "metadata": {
    "deletable": false,
    "editable": false,
    "nbgrader": {
     "cell_type": "code",
     "checksum": "7a96c29b6d4983058cc3948ee763a8dd",
     "grade": true,
     "grade_id": "cell-513c1c34bbfff47c",
     "locked": true,
     "points": 20,
     "schema_version": 3,
     "solution": false,
     "task": false
    }
   },
   "outputs": [
    {
     "name": "stdout",
     "output_type": "stream",
     "text": [
      "\n",
      "*** Tests Passed (20 points) ***\n"
     ]
    },
    {
     "data": {
      "text/plain": [
       "\u001b[36mlist1\u001b[39m: \u001b[32mCons\u001b[39m[\u001b[32mInt\u001b[39m] = \u001b[33mCons\u001b[39m(\u001b[32m1\u001b[39m, \u001b[33mCons\u001b[39m(\u001b[32m2\u001b[39m, \u001b[33mCons\u001b[39m(\u001b[32m3\u001b[39m, \u001b[33mCons\u001b[39m(\u001b[32m4\u001b[39m, \u001b[33mCons\u001b[39m(\u001b[32m5\u001b[39m, Empty)))))\n",
       "\u001b[36mlist2\u001b[39m: \u001b[32mCons\u001b[39m[\u001b[32mInt\u001b[39m] = \u001b[33mCons\u001b[39m(\u001b[32m2\u001b[39m, \u001b[33mCons\u001b[39m(\u001b[32m4\u001b[39m, \u001b[33mCons\u001b[39m(\u001b[32m6\u001b[39m, \u001b[33mCons\u001b[39m(\u001b[32m8\u001b[39m, \u001b[33mCons\u001b[39m(\u001b[32m10\u001b[39m, Empty)))))\n",
       "\u001b[36mlist3\u001b[39m: \u001b[32mCons\u001b[39m[\u001b[32mString\u001b[39m] = \u001b[33mCons\u001b[39m(\n",
       "  \u001b[32m\"1\"\u001b[39m,\n",
       "  \u001b[33mCons\u001b[39m(\u001b[32m\"2\"\u001b[39m, \u001b[33mCons\u001b[39m(\u001b[32m\"3\"\u001b[39m, \u001b[33mCons\u001b[39m(\u001b[32m\"4\"\u001b[39m, \u001b[33mCons\u001b[39m(\u001b[32m\"5\"\u001b[39m, Empty))))\n",
       ")"
      ]
     },
     "execution_count": 4,
     "metadata": {},
     "output_type": "execute_result"
    }
   ],
   "source": [
    "val list1 = Cons(1, Cons(2, Cons(3, Cons(4, Cons(5, Empty)))))\n",
    "val list2 = Cons(2, Cons(4, Cons(6, Cons(8, Cons(10, Empty)))))\n",
    "val list3 = Cons(\"1\", Cons(\"2\", Cons(\"3\", Cons(\"4\", Cons(\"5\", Empty)))))\n",
    "\n",
    "assert( map( (x : Int) => 2 * x, Empty) == Empty , \"test 1\")\n",
    "assert( map[Int,Int]( x => 2 * x, list1) == list2 , \"test 2\")\n",
    "assert( map[Int,String]( x => x.toString, list1) == list3, \"test 3\")\n",
    "assert( map( (x : String) => x.toInt * 2, list3) == list2, \"test 4\")\n",
    "passed(20)"
   ]
  },
  {
   "cell_type": "markdown",
   "metadata": {
    "deletable": false,
    "editable": false,
    "nbgrader": {
     "cell_type": "markdown",
     "checksum": "68bbd5780dd9d962afbdb4c9e24bae0d",
     "grade": false,
     "grade_id": "cell-d042fc5b234d458f",
     "locked": true,
     "schema_version": 3,
     "solution": false,
     "task": false
    }
   },
   "source": [
    "## Problem 2 (20 points) : Filter\n",
    "\n",
    "Write the generic filter function. Filter takes a $A \\rightarrow  Boolean$ filtering function and a list of $A$'s and returns a filtered list that only contains the elements that return $true$.\n",
    "\n",
    "$$ filter : (A \\rightarrow \\mathbb{B}) \\rightarrow List\\ A \\rightarrow List\\ A $$"
   ]
  },
  {
   "cell_type": "code",
   "execution_count": 5,
   "metadata": {
    "deletable": false,
    "nbgrader": {
     "cell_type": "code",
     "checksum": "f404e41285f7f18ac803a785532b3b28",
     "grade": false,
     "grade_id": "cell-89fd3b3cc534e8ca",
     "locked": false,
     "schema_version": 3,
     "solution": true,
     "task": false
    }
   },
   "outputs": [
    {
     "data": {
      "text/plain": [
       "defined \u001b[32mfunction\u001b[39m \u001b[36mfilter\u001b[39m"
      ]
     },
     "execution_count": 5,
     "metadata": {},
     "output_type": "execute_result"
    }
   ],
   "source": [
    "def filter[A](f: (A) => Boolean, l: List[A]) : List[A] = \n",
    "    l match {\n",
    "        case Empty => Empty\n",
    "        case Cons(x, xs) if (f(x) == true) => Cons(x, filter[A](f, xs))\n",
    "        case Cons(x, xs) if (f(x) == false) => filter[A](f, xs)\n",
    "    }"
   ]
  },
  {
   "cell_type": "code",
   "execution_count": 6,
   "metadata": {
    "deletable": false,
    "editable": false,
    "nbgrader": {
     "cell_type": "code",
     "checksum": "6ea130233e0c6c0d29d5cff72dcc1a49",
     "grade": true,
     "grade_id": "cell-534162c772c6859a",
     "locked": true,
     "points": 20,
     "schema_version": 3,
     "solution": false,
     "task": false
    }
   },
   "outputs": [
    {
     "name": "stdout",
     "output_type": "stream",
     "text": [
      "\n",
      "*** Tests Passed (20 points) ***\n"
     ]
    },
    {
     "data": {
      "text/plain": [
       "\u001b[36mlist1\u001b[39m: \u001b[32mCons\u001b[39m[\u001b[32mInt\u001b[39m] = \u001b[33mCons\u001b[39m(\u001b[32m1\u001b[39m, \u001b[33mCons\u001b[39m(\u001b[32m2\u001b[39m, \u001b[33mCons\u001b[39m(\u001b[32m3\u001b[39m, \u001b[33mCons\u001b[39m(\u001b[32m4\u001b[39m, \u001b[33mCons\u001b[39m(\u001b[32m5\u001b[39m, Empty)))))\n",
       "\u001b[36mlist2\u001b[39m: \u001b[32mCons\u001b[39m[\u001b[32mInt\u001b[39m] = \u001b[33mCons\u001b[39m(\u001b[32m2\u001b[39m, \u001b[33mCons\u001b[39m(\u001b[32m4\u001b[39m, Empty))\n",
       "\u001b[36mlist3\u001b[39m: \u001b[32mCons\u001b[39m[\u001b[32mInt\u001b[39m] = \u001b[33mCons\u001b[39m(\u001b[32m1\u001b[39m, \u001b[33mCons\u001b[39m(\u001b[32m3\u001b[39m, \u001b[33mCons\u001b[39m(\u001b[32m5\u001b[39m, Empty)))\n",
       "\u001b[36mlist4\u001b[39m: \u001b[32mCons\u001b[39m[\u001b[32mString\u001b[39m] = \u001b[33mCons\u001b[39m(\n",
       "  \u001b[32m\"one\"\u001b[39m,\n",
       "  \u001b[33mCons\u001b[39m(\u001b[32m\"two\"\u001b[39m, \u001b[33mCons\u001b[39m(\u001b[32m\"three\"\u001b[39m, \u001b[33mCons\u001b[39m(\u001b[32m\"four\"\u001b[39m, \u001b[33mCons\u001b[39m(\u001b[32m\"five\"\u001b[39m, Empty))))\n",
       ")\n",
       "\u001b[36mlist5\u001b[39m: \u001b[32mCons\u001b[39m[\u001b[32mString\u001b[39m] = \u001b[33mCons\u001b[39m(\u001b[32m\"three\"\u001b[39m, \u001b[33mCons\u001b[39m(\u001b[32m\"four\"\u001b[39m, \u001b[33mCons\u001b[39m(\u001b[32m\"five\"\u001b[39m, Empty)))"
      ]
     },
     "execution_count": 6,
     "metadata": {},
     "output_type": "execute_result"
    }
   ],
   "source": [
    "val list1 = Cons(1, Cons(2, Cons(3, Cons(4, Cons(5, Empty)))))\n",
    "val list2 = Cons(2, Cons(4, Empty))\n",
    "val list3 = Cons(1, Cons(3, Cons(5, Empty)))\n",
    "val list4 = Cons(\"one\", Cons(\"two\", Cons(\"three\", Cons(\"four\", Cons(\"five\", Empty)))))\n",
    "val list5 = Cons(\"three\", Cons(\"four\", Cons(\"five\", Empty)))\n",
    "\n",
    "assert( filter( (x : Int) => x % 2 == 0, Empty) == Empty, \"test 1\")\n",
    "assert( filter( (x : Int) => x % 2 == 0, list1) == list2, \"test 2\")\n",
    "assert( filter[Int]( x => x % 2 == 1, list1) == list3, \"test 3\")\n",
    "assert( filter( (x : String) => x.length > 3, list4) == list5, \"test 4\")\n",
    "passed(20)"
   ]
  },
  {
   "cell_type": "markdown",
   "metadata": {
    "deletable": false,
    "editable": false,
    "nbgrader": {
     "cell_type": "markdown",
     "checksum": "9ad0ed6bcf809910f812602da5ba54c0",
     "grade": false,
     "grade_id": "cell-114323ac655611c4",
     "locked": true,
     "schema_version": 3,
     "solution": false,
     "task": false
    }
   },
   "source": [
    "## Problem 3 (20 points) : Fold\n",
    "\n",
    "Write the generic fold function. Fold takes a an $(B,A) \\rightarrow  B$ accumulation function, a type $B$ starting value for the accumulator, and a list of $A$'s. It returns the value of the accumulator after aggregating all the info from the list into the accumulator.\n",
    "\n",
    "$$ fold : ( (B,A) \\rightarrow B ) \\rightarrow B \\rightarrow List\\ A \\rightarrow B $$"
   ]
  },
  {
   "cell_type": "code",
   "execution_count": 7,
   "metadata": {
    "deletable": false,
    "nbgrader": {
     "cell_type": "code",
     "checksum": "2723bc26f36676a8936691220d73dac0",
     "grade": false,
     "grade_id": "cell-f61d7dcac19184dc",
     "locked": false,
     "schema_version": 3,
     "solution": true,
     "task": false
    }
   },
   "outputs": [
    {
     "data": {
      "text/plain": [
       "defined \u001b[32mfunction\u001b[39m \u001b[36mfold\u001b[39m"
      ]
     },
     "execution_count": 7,
     "metadata": {},
     "output_type": "execute_result"
    }
   ],
   "source": [
    "def fold[A, B](f: (B, A) => B, k: B, l: List[A]) : B = \n",
    "    l match {\n",
    "        case Empty => k\n",
    "        case Cons(x, Empty) => f(k, x)\n",
    "        case Cons(x, xs: List[A]) => fold[A, B](f, f(k, x), xs)\n",
    "    }"
   ]
  },
  {
   "cell_type": "code",
   "execution_count": 8,
   "metadata": {
    "deletable": false,
    "editable": false,
    "nbgrader": {
     "cell_type": "code",
     "checksum": "0bc6df122dd03a4b2991a2e9d3bafd59",
     "grade": true,
     "grade_id": "cell-5fa7006e32df27db",
     "locked": true,
     "points": 20,
     "schema_version": 3,
     "solution": false,
     "task": false
    }
   },
   "outputs": [
    {
     "name": "stdout",
     "output_type": "stream",
     "text": [
      "\n",
      "*** Tests Passed (20 points) ***\n"
     ]
    },
    {
     "data": {
      "text/plain": [
       "\u001b[36mlist1\u001b[39m: \u001b[32mCons\u001b[39m[\u001b[32mInt\u001b[39m] = \u001b[33mCons\u001b[39m(\u001b[32m1\u001b[39m, \u001b[33mCons\u001b[39m(\u001b[32m2\u001b[39m, \u001b[33mCons\u001b[39m(\u001b[32m3\u001b[39m, \u001b[33mCons\u001b[39m(\u001b[32m4\u001b[39m, \u001b[33mCons\u001b[39m(\u001b[32m5\u001b[39m, Empty)))))"
      ]
     },
     "execution_count": 8,
     "metadata": {},
     "output_type": "execute_result"
    }
   ],
   "source": [
    "val list1 = Cons(1, Cons(2, Cons(3, Cons(4, Cons(5, Empty)))))\n",
    "\n",
    "assert( fold( (acc : Int, x : Int) => acc + x, 15, Empty) == 15,\"test 1\")\n",
    "assert( fold( (acc : Int, x : Int) => acc + x, 0, list1) == 15, \"test 2\")\n",
    "assert( fold[Int,Int]( (acc, x) => acc - x, 0, list1) == -15, \"test 3\")\n",
    "assert( fold( (acc : Int, x : Int) => x - acc, 0, list1) == 3, \"test 4\")\n",
    "assert( fold[Int, String]( \n",
    "            (acc, x) => if (acc.isEmpty) x.toString else acc + ',' + x.toString, \n",
    "            \"\", \n",
    "            list1)\n",
    "        == \"1,2,3,4,5\", \"test 5\")\n",
    "passed(20)"
   ]
  },
  {
   "cell_type": "code",
   "execution_count": null,
   "metadata": {},
   "outputs": [],
   "source": []
  }
 ],
 "metadata": {
  "kernelspec": {
   "display_name": "Scala",
   "language": "scala",
   "name": "scala"
  },
  "language_info": {
   "codemirror_mode": "text/x-scala",
   "file_extension": ".scala",
   "mimetype": "text/x-scala",
   "name": "scala",
   "nbconvert_exporter": "script",
   "version": "2.12.10"
  }
 },
 "nbformat": 4,
 "nbformat_minor": 2
}
