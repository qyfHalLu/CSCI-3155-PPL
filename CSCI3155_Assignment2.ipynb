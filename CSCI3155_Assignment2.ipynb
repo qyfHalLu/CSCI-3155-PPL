{
 "cells": [
  {
   "cell_type": "code",
   "execution_count": null,
   "metadata": {},
   "outputs": [],
   "source": []
  },
  {
   "cell_type": "markdown",
   "metadata": {
    "deletable": false,
    "editable": false,
    "nbgrader": {
     "cell_type": "markdown",
     "checksum": "8cace4f804998a8e22569d6a702813b8",
     "grade": false,
     "grade_id": "cell-a6f5e20aebff818d",
     "locked": true,
     "schema_version": 3,
     "solution": false,
     "task": false
    }
   },
   "source": [
    "# CSCI 3155 Homework 2\n",
    "\n",
    "Practice with Algebraic Data Types: Natural Numbers and Lists"
   ]
  },
  {
   "cell_type": "markdown",
   "metadata": {},
   "source": [
    "__Name__:\n",
    "\n",
    "Qiuyang Fu"
   ]
  },
  {
   "cell_type": "code",
   "execution_count": null,
   "metadata": {
    "deletable": false,
    "editable": false,
    "nbgrader": {
     "cell_type": "code",
     "checksum": "794f0fe51e0a49d2e467167fb86b56c6",
     "grade": false,
     "grade_id": "cell-15cf10787d1b2fef",
     "locked": true,
     "schema_version": 3,
     "solution": false,
     "task": false
    }
   },
   "outputs": [],
   "source": [
    "// TEST HELPER: Do not EDIT this cell please.\n",
    "def passed(points: Int) {\n",
    "    require(points >=0)\n",
    "    if (points == 1) print(s\"\\n*** Tests Passed (1 point) ***\\n\")\n",
    "    else print(s\"\\n*** Tests Passed ($points points) ***\\n\")\n",
    "}"
   ]
  },
  {
   "cell_type": "markdown",
   "metadata": {
    "deletable": false,
    "editable": false,
    "nbgrader": {
     "cell_type": "markdown",
     "checksum": "bf03b0aa4634492b866b1e9eafebbf16",
     "grade": false,
     "grade_id": "cell-7ba126c839bd0044",
     "locked": true,
     "schema_version": 3,
     "solution": false,
     "task": false
    }
   },
   "source": [
    "## Problem 1 (20 Points) : Natural numbers\n",
    "\n",
    "Natural numbers can be defined in scala using an abstract data type. First we create a type called ``Nat``, and then add two ways of constructing an element of type Nat. A Nat can either be a Zero, or the successor of another already defined Nat. With this type definition, we can construct elements of type Nat."
   ]
  },
  {
   "cell_type": "code",
   "execution_count": null,
   "metadata": {
    "deletable": false,
    "editable": false,
    "nbgrader": {
     "cell_type": "code",
     "checksum": "0edc43e7a9a48f94a5234521e24ccf43",
     "grade": false,
     "grade_id": "cell-cabddd403420325d",
     "locked": true,
     "schema_version": 3,
     "solution": false,
     "task": false
    }
   },
   "outputs": [],
   "source": [
    "sealed trait Nat\n",
    "case object Zero extends Nat\n",
    "case class Succ(pred : Nat) extends Nat\n",
    "\n",
    "val one   = Succ(Zero)\n",
    "val two   = Succ(one)\n",
    "val three = Succ(two)\n",
    "val four  = Succ(three)\n",
    "val five  = Succ(four)"
   ]
  },
  {
   "cell_type": "markdown",
   "metadata": {
    "deletable": false,
    "editable": false,
    "nbgrader": {
     "cell_type": "markdown",
     "checksum": "a4a869794ac193d310dc5a5cf34902e0",
     "grade": false,
     "grade_id": "cell-65930cc30cbaac37",
     "locked": true,
     "schema_version": 3,
     "solution": false,
     "task": false
    }
   },
   "source": [
    "How are two natural numbers added together? The result is obtained by constructing a new natural number that is incremented from zero as many times as both of the operands combined."
   ]
  },
  {
   "cell_type": "code",
   "execution_count": null,
   "metadata": {
    "deletable": false,
    "editable": false,
    "nbgrader": {
     "cell_type": "code",
     "checksum": "86de21331a1e5844e32bc239827c4008",
     "grade": false,
     "grade_id": "cell-1cafbcb684228836",
     "locked": true,
     "schema_version": 3,
     "solution": false,
     "task": false
    }
   },
   "outputs": [],
   "source": [
    "def plus(x : Nat, y : Nat) : Nat = x match {\n",
    "    case Zero    => y\n",
    "    case Succ(x) => Succ(plus(x, y))\n",
    "}\n",
    "\n",
    "val ans = plus(two,three)\n",
    "ans == five"
   ]
  },
  {
   "cell_type": "markdown",
   "metadata": {
    "deletable": false,
    "editable": false,
    "nbgrader": {
     "cell_type": "markdown",
     "checksum": "91a1ab83b0432463dbfb660a68da8dbf",
     "grade": false,
     "grade_id": "cell-38d4f2ed23dc0895",
     "locked": true,
     "schema_version": 3,
     "solution": false,
     "task": false
    }
   },
   "source": [
    "### Problem 1a (10 points)\n",
    "Define a function that multiplies two natural numbers:"
   ]
  },
  {
   "cell_type": "code",
   "execution_count": null,
   "metadata": {
    "deletable": false,
    "nbgrader": {
     "cell_type": "code",
     "checksum": "7d0d0cd77b18415aadb22057dd0e6869",
     "grade": false,
     "grade_id": "cell-07775b70f29b720c",
     "locked": false,
     "schema_version": 3,
     "solution": true,
     "task": false
    }
   },
   "outputs": [],
   "source": [
    "// recursive plus, return zero only match zero\n",
    "def mult(x : Nat, y : Nat) : Nat = \n",
    "    x match {\n",
    "        case Zero    => Zero\n",
    "        case Succ(p) => plus(mult(p,y), y)\n",
    "    }"
   ]
  },
  {
   "cell_type": "code",
   "execution_count": null,
   "metadata": {
    "deletable": false,
    "editable": false,
    "nbgrader": {
     "cell_type": "code",
     "checksum": "471897c2cb3367b5b357aa8ed44bdd9b",
     "grade": true,
     "grade_id": "cell-6cf23ea68d798237",
     "locked": true,
     "points": 10,
     "schema_version": 3,
     "solution": false,
     "task": false
    }
   },
   "outputs": [],
   "source": [
    "//BEGIN TEST\n",
    "assert( mult(one, four) == four)\n",
    "assert( mult(two, three) == Succ(five))\n",
    "assert( mult(Zero, five) == Zero)\n",
    "passed(10)\n",
    "//END TEST"
   ]
  },
  {
   "cell_type": "markdown",
   "metadata": {
    "deletable": false,
    "editable": false,
    "nbgrader": {
     "cell_type": "markdown",
     "checksum": "10889cbdd31d7fda1ae72375b7de67a6",
     "grade": false,
     "grade_id": "cell-8d90557abc6152b4",
     "locked": true,
     "schema_version": 3,
     "solution": false,
     "task": false
    }
   },
   "source": [
    "### Problem 1b (10 points)\n",
    "\n",
    "Define a function called ``even`` that checks is a Nat is even, returning ``true`` if the number is even."
   ]
  },
  {
   "cell_type": "code",
   "execution_count": null,
   "metadata": {
    "deletable": false,
    "nbgrader": {
     "cell_type": "code",
     "checksum": "28b1bd2154c4e682c4e17c5f2ac6476c",
     "grade": false,
     "grade_id": "cell-dcd74ba982b165c7",
     "locked": false,
     "schema_version": 3,
     "solution": true,
     "task": false
    }
   },
   "outputs": [],
   "source": [
    "// statistics list length\n",
    "def count(l : Nat) : Int = \n",
    "    l match {\n",
    "        case Zero => 0\n",
    "        case Succ(p) => count(p) + 1\n",
    "    }\n",
    "//find the remainder of logarithm 2 and judge whether it is equal to 0\n",
    "def even(l : Nat) : Boolean = count(l) % 2 == 0"
   ]
  },
  {
   "cell_type": "code",
   "execution_count": null,
   "metadata": {
    "deletable": false,
    "editable": false,
    "nbgrader": {
     "cell_type": "code",
     "checksum": "3db7f59df82a8fd69760111e5102495d",
     "grade": true,
     "grade_id": "cell-c18cb8cff48ffefb",
     "locked": true,
     "points": 10,
     "schema_version": 3,
     "solution": false,
     "task": false
    }
   },
   "outputs": [],
   "source": [
    "//BEGIN TEST\n",
    "assert( even(Zero) == true)\n",
    "assert( even(one) == false)\n",
    "assert( even(five) == false)\n",
    "assert( even(plus(five,five)) == true)\n",
    "passed(10)\n",
    "//END TEST"
   ]
  },
  {
   "cell_type": "markdown",
   "metadata": {
    "deletable": false,
    "editable": false,
    "nbgrader": {
     "cell_type": "markdown",
     "checksum": "2059410726b554446065b1e9954d4f87",
     "grade": false,
     "grade_id": "cell-fcf6babaf2df454d",
     "locked": true,
     "schema_version": 3,
     "solution": false,
     "task": false
    }
   },
   "source": [
    "## Problem 2 (30 points) : Lists"
   ]
  },
  {
   "cell_type": "markdown",
   "metadata": {
    "deletable": false,
    "editable": false,
    "nbgrader": {
     "cell_type": "markdown",
     "checksum": "4c72c8a6a37859eb0c5e1515f59e4d78",
     "grade": false,
     "grade_id": "cell-8c867361fc7891e8",
     "locked": true,
     "schema_version": 3,
     "solution": false,
     "task": false
    }
   },
   "source": [
    "### Problem 2a (10 points)\n",
    "Write the definition of list of Nats in scala using using the cons construction we defined in class. If your definition is correct, the lists defined in the test should be created successfully."
   ]
  },
  {
   "cell_type": "code",
   "execution_count": null,
   "metadata": {
    "deletable": false,
    "nbgrader": {
     "cell_type": "code",
     "checksum": "c07664a096f7d0c4a76e5fa567429428",
     "grade": false,
     "grade_id": "cell-05547163ae0a3a81",
     "locked": false,
     "schema_version": 3,
     "solution": true,
     "task": false
    }
   },
   "outputs": [],
   "source": [
    "// define NatList\n",
    "sealed trait NatList\n",
    "case object Empty extends NatList\n",
    "case class Cons(h : Nat, t : NatList) extends NatList"
   ]
  },
  {
   "cell_type": "code",
   "execution_count": null,
   "metadata": {
    "deletable": false,
    "editable": false,
    "nbgrader": {
     "cell_type": "code",
     "checksum": "9d932994cc974035d91b60a05fba2923",
     "grade": true,
     "grade_id": "cell-c5a1cf21d594aaa1",
     "locked": true,
     "points": 10,
     "schema_version": 3,
     "solution": false,
     "task": false
    }
   },
   "outputs": [],
   "source": [
    "//BEGIN TEST\n",
    "val list1 = Empty\n",
    "val list2 = Cons(five, Empty)\n",
    "val list3 = Cons(three, Cons(one, Cons(four, Cons(one, Cons(five, Empty)))))\n",
    "passed(10)\n",
    "//END TEST"
   ]
  },
  {
   "cell_type": "markdown",
   "metadata": {
    "deletable": false,
    "editable": false,
    "nbgrader": {
     "cell_type": "markdown",
     "checksum": "355aa571a43fbfde0c5730525f8cad20",
     "grade": false,
     "grade_id": "cell-bdcf26ff44c70cea",
     "locked": true,
     "schema_version": 3,
     "solution": false,
     "task": false
    }
   },
   "source": [
    "### Problem 2b (5 points)\n",
    "Write a ``List => Nat`` function called ``length`` that returns the length of a list as a Nat"
   ]
  },
  {
   "cell_type": "code",
   "execution_count": null,
   "metadata": {
    "deletable": false,
    "nbgrader": {
     "cell_type": "code",
     "checksum": "5a9409673982bb4359f9a9222e9baa44",
     "grade": false,
     "grade_id": "cell-198204e8fa90413b",
     "locked": false,
     "schema_version": 3,
     "solution": true,
     "task": false
    }
   },
   "outputs": [],
   "source": [
    "// recursive plus, return Zero only match Empty\n",
    "def length(l : NatList) : Nat = \n",
    "    l match {\n",
    "        case Empty => Zero\n",
    "        case Cons(h, t) => plus(length(t), one)\n",
    "    }"
   ]
  },
  {
   "cell_type": "code",
   "execution_count": null,
   "metadata": {
    "deletable": false,
    "editable": false,
    "nbgrader": {
     "cell_type": "code",
     "checksum": "8b3920ded5e9e841e7a3625113f7fcf4",
     "grade": true,
     "grade_id": "cell-4851c80fe2d7a6b5",
     "locked": true,
     "points": 5,
     "schema_version": 3,
     "solution": false,
     "task": false
    }
   },
   "outputs": [],
   "source": [
    "//BEGIN TEST\n",
    "assert( length(list1) == Zero )\n",
    "assert( length(list2) == one )\n",
    "assert( length(list3) == five )\n",
    "passed(5)\n",
    "//END TEST"
   ]
  },
  {
   "cell_type": "markdown",
   "metadata": {
    "deletable": false,
    "editable": false,
    "nbgrader": {
     "cell_type": "markdown",
     "checksum": "e7e0689662da9ff7f434b66ce56b3515",
     "grade": false,
     "grade_id": "cell-9212786ad782d125",
     "locked": true,
     "schema_version": 3,
     "solution": false,
     "task": false
    }
   },
   "source": [
    "### Problem 2c (5 points)\n",
    "Write a ``sum`` function which computes the sum of a list and returns a Nat."
   ]
  },
  {
   "cell_type": "code",
   "execution_count": null,
   "metadata": {
    "deletable": false,
    "nbgrader": {
     "cell_type": "code",
     "checksum": "67a2e1d109f4c9870bb0ff978c55b5cc",
     "grade": false,
     "grade_id": "cell-5f653fd80422308e",
     "locked": false,
     "schema_version": 3,
     "solution": true,
     "task": false
    }
   },
   "outputs": [],
   "source": [
    "// recursive plus, return Zero only match Empty\n",
    "def sum(l : NatList) : Nat = \n",
    "    l match {\n",
    "        case Empty => Zero\n",
    "        case Cons(h, t) => plus(h, sum(t))\n",
    "    }"
   ]
  },
  {
   "cell_type": "code",
   "execution_count": null,
   "metadata": {
    "deletable": false,
    "editable": false,
    "nbgrader": {
     "cell_type": "code",
     "checksum": "2d7115dff3da57c0800d7b2876156ff8",
     "grade": true,
     "grade_id": "cell-dd1215a8749c149d",
     "locked": true,
     "points": 5,
     "schema_version": 3,
     "solution": false,
     "task": false
    }
   },
   "outputs": [],
   "source": [
    "//BEGIN TEST\n",
    "assert( sum(list1) == Zero )\n",
    "assert( sum(list2) == five )\n",
    "assert( sum(list3) == Succ(Succ(Succ(Succ(Succ(Succ(Succ(Succ(Succ(Succ(Succ(Succ(Succ(Succ(Zero)))))))))))))) )\n",
    "passed(5)\n",
    "//END TEST"
   ]
  },
  {
   "cell_type": "markdown",
   "metadata": {
    "deletable": false,
    "editable": false,
    "nbgrader": {
     "cell_type": "markdown",
     "checksum": "3ac4722e64a97eadf8a563804a78117f",
     "grade": false,
     "grade_id": "cell-a438f748bf33f5cb",
     "locked": true,
     "schema_version": 3,
     "solution": false,
     "task": false
    }
   },
   "source": [
    "### Problem 2d (5 points)\n",
    "Write a function called ``last`` that returns the last element of a list as a singleton list.\n",
    "\n",
    "[1] => [1]\n",
    "\n",
    "[1,2,3,4,5] => [5]\n",
    "\n",
    "What should you do for empty lists?"
   ]
  },
  {
   "cell_type": "code",
   "execution_count": null,
   "metadata": {
    "deletable": false,
    "nbgrader": {
     "cell_type": "code",
     "checksum": "139f807d2bda5de07ceba60e798458d9",
     "grade": false,
     "grade_id": "cell-a5e99da11725afdb",
     "locked": false,
     "schema_version": 3,
     "solution": true,
     "task": false
    }
   },
   "outputs": [],
   "source": [
    "??? // YOUR CODE HERE"
   ]
  },
  {
   "cell_type": "code",
   "execution_count": null,
   "metadata": {
    "deletable": false,
    "editable": false,
    "nbgrader": {
     "cell_type": "code",
     "checksum": "0c16fa0146bbb2b2646b611473374d1c",
     "grade": true,
     "grade_id": "cell-f3cd3bc0a702d90e",
     "locked": true,
     "points": 5,
     "schema_version": 3,
     "solution": false,
     "task": false
    }
   },
   "outputs": [],
   "source": [
    "//BEGIN TEST\n",
    "assert( last(list1) == Empty )\n",
    "assert( last(list2) == list2 )\n",
    "assert( last(list3) == list2 )\n",
    "passed(5)\n",
    "//END TEST"
   ]
  },
  {
   "cell_type": "markdown",
   "metadata": {
    "deletable": false,
    "editable": false,
    "nbgrader": {
     "cell_type": "markdown",
     "checksum": "b6eab749a7d780434754e6def022837e",
     "grade": false,
     "grade_id": "cell-eea82c363be16e88",
     "locked": true,
     "schema_version": 3,
     "solution": false,
     "task": false
    }
   },
   "source": [
    "### Problem 2e (5 points)\n",
    "Write the ``countdown`` function: given a Nat x, return a list counting down from x to zero."
   ]
  },
  {
   "cell_type": "code",
   "execution_count": null,
   "metadata": {
    "deletable": false,
    "nbgrader": {
     "cell_type": "code",
     "checksum": "d470316b7af9caf13082ff63231aeb51",
     "grade": false,
     "grade_id": "cell-bcab1cbf421bcac1",
     "locked": false,
     "schema_version": 3,
     "solution": true,
     "task": false
    }
   },
   "outputs": [],
   "source": [
    "// recursive contact, return Cons(Zero, Empty) only match Zero\n",
    "def countdown(l : Nat) : NatList = \n",
    "    l match {\n",
    "        case Zero => Cons(Zero, Empty)\n",
    "        case Succ(p) => Cons(Succ(p), countdown(p)) \n",
    "    }"
   ]
  },
  {
   "cell_type": "code",
   "execution_count": null,
   "metadata": {
    "deletable": false,
    "editable": false,
    "nbgrader": {
     "cell_type": "code",
     "checksum": "bfb19344e27d8ec17a00e46fc83a40c7",
     "grade": true,
     "grade_id": "cell-17ee23e31318b5e4",
     "locked": true,
     "points": 5,
     "schema_version": 3,
     "solution": false,
     "task": false
    }
   },
   "outputs": [],
   "source": [
    "//BEGIN TEST\n",
    "assert( countdown(five) == \n",
    "    Cons( Succ(Succ(Succ(Succ(Succ(Zero))))),\n",
    "    Cons( Succ(Succ(Succ(Succ(Zero)))),\n",
    "    Cons( Succ(Succ(Succ(Zero))),\n",
    "    Cons( Succ(Succ(Zero)), \n",
    "    Cons( Succ(Zero),\n",
    "    Cons(Zero, \n",
    "         Empty))))))\n",
    ")\n",
    "passed(5)\n",
    "//END TEST"
   ]
  },
  {
   "cell_type": "code",
   "execution_count": null,
   "metadata": {},
   "outputs": [],
   "source": []
  }
 ],
 "metadata": {
  "kernelspec": {
   "display_name": "Scala",
   "language": "scala",
   "name": "scala"
  },
  "language_info": {
   "codemirror_mode": "text/x-scala",
   "file_extension": ".scala",
   "mimetype": "text/x-scala",
   "name": "scala",
   "nbconvert_exporter": "script",
   "version": "2.12.10"
  }
 },
 "nbformat": 4,
 "nbformat_minor": 2
}
