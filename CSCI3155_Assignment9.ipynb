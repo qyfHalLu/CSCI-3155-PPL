{
 "cells": [
  {
   "cell_type": "code",
   "execution_count": null,
   "metadata": {},
   "outputs": [],
   "source": []
  },
  {
   "cell_type": "markdown",
   "metadata": {
    "deletable": false,
    "editable": false,
    "nbgrader": {
     "cell_type": "markdown",
     "checksum": "209296f8cc70d65a91faac341046696f",
     "grade": false,
     "grade_id": "cell-4876ff6c3a0e810f",
     "locked": true,
     "schema_version": 3,
     "solution": false,
     "task": false
    }
   },
   "source": [
    "# CSCI 3155 : Assignment 9"
   ]
  },
  {
   "cell_type": "markdown",
   "metadata": {},
   "source": [
    "__Name__:\n",
    "\n",
    "Qiuyang Fu"
   ]
  },
  {
   "cell_type": "code",
   "execution_count": 1,
   "metadata": {
    "deletable": false,
    "editable": false,
    "nbgrader": {
     "cell_type": "code",
     "checksum": "ecdf34d0d119d6778ae729cb55ae50e4",
     "grade": false,
     "grade_id": "cell-fcbb8cfed5f11ff3",
     "locked": true,
     "schema_version": 3,
     "solution": false,
     "task": false
    }
   },
   "outputs": [
    {
     "data": {
      "text/plain": [
       "defined \u001b[32mfunction\u001b[39m \u001b[36mpassed\u001b[39m"
      ]
     },
     "execution_count": 1,
     "metadata": {},
     "output_type": "execute_result"
    }
   ],
   "source": [
    "// TEST HELPER: Do not EDIT this cell please.\n",
    "def passed(points: Int) {\n",
    "    require(points >=0)\n",
    "    if (points == 1) print(s\"\\n*** Tests Passed (1 point) ***\\n\")\n",
    "    else print(s\"\\n*** Tests Passed ($points points) ***\\n\")\n",
    "}"
   ]
  },
  {
   "cell_type": "markdown",
   "metadata": {
    "deletable": false,
    "editable": false,
    "nbgrader": {
     "cell_type": "markdown",
     "checksum": "0dd6939c084d4db25594b0ec067ae217",
     "grade": false,
     "grade_id": "cell-46ee5f7fae4569f6",
     "locked": true,
     "schema_version": 3,
     "solution": false,
     "task": false
    }
   },
   "source": [
    "## Problem 1 (25 Points): Mutual Recursion in Lettuce\n",
    "\n",
    "In class, we have explored recursive functions in lettuce using the _let rec_ syntax. In this problem, we will \n",
    "explore, mutually recursive function, specifically two mutually recursive functions.\n",
    "\n",
    "Consider: \n",
    "\n",
    "~~~\n",
    "let rec \n",
    "        pos = function (x) \n",
    "                 if (x >= 0)\n",
    "                 then x\n",
    "                 else neg(x)\n",
    "        neg = function (y)\n",
    "                 if (y <= 0)\n",
    "                 then pos (1 + y * y)\n",
    "                 else pos(1 - y)\n",
    "   in \n",
    "     neg(10)\n",
    "~~~\n",
    "\n",
    "The two functions are _mutually recursive_ since `pos` calls `neg` and vice-versa.\n",
    "Convince yourself that thhe program must return `82`."
   ]
  },
  {
   "cell_type": "markdown",
   "metadata": {
    "deletable": false,
    "editable": false,
    "nbgrader": {
     "cell_type": "markdown",
     "checksum": "c3e9bad304c9eda29c20f18b9a919eb6",
     "grade": false,
     "grade_id": "cell-badf4ada14a85a7d",
     "locked": true,
     "schema_version": 3,
     "solution": false,
     "task": false
    }
   },
   "source": [
    "### Problem 1a (5 points): Extending the Abstract Syntax\n",
    "\n",
    "We wish to add a new rule for two mutually recursive functions\n",
    "\n",
    "$$ \\mathbf{Expr1}\\ \\rightarrow\\ LetRec2( \\mathbf{Identifier}, \\mathbf{Identifier}, \\mathbf{Expr1}, \\mathbf{Identifier}, \\mathbf{Identifier}, \\mathbf{Expr1}, \\mathbf{Expr1} ) $$\n",
    "\n",
    "Such that a mutual call such as\n",
    "\n",
    "~~~\n",
    "let rec \n",
    "         f1 = function (x1) e1\n",
    "         f2 = function (x2) e2\n",
    "     in \n",
    "         e3\n",
    "~~~\n",
    "is represented in the AST as\n",
    "\n",
    "~~~\n",
    "LetRec2(f1, x1, e1, f2, x2, e2, e3)\n",
    "~~~\n",
    "\n",
    "Extend the existing AST specification to add support for `LetRec2`."
   ]
  },
  {
   "cell_type": "code",
   "execution_count": 2,
   "metadata": {
    "deletable": false,
    "nbgrader": {
     "cell_type": "code",
     "checksum": "6aefde5495ee4314df7542c80371fda3",
     "grade": false,
     "grade_id": "cell-70c1238c1a546ca0",
     "locked": false,
     "schema_version": 3,
     "solution": true,
     "task": false
    }
   },
   "outputs": [
    {
     "data": {
      "text/plain": [
       "defined \u001b[32mtrait\u001b[39m \u001b[36mProgram1\u001b[39m\n",
       "defined \u001b[32mclass\u001b[39m \u001b[36mMain\u001b[39m\n",
       "defined \u001b[32mtrait\u001b[39m \u001b[36mExpr1\u001b[39m\n",
       "defined \u001b[32mclass\u001b[39m \u001b[36mConst\u001b[39m\n",
       "defined \u001b[32mclass\u001b[39m \u001b[36mIdent\u001b[39m\n",
       "defined \u001b[32mobject\u001b[39m \u001b[36mTrue\u001b[39m\n",
       "defined \u001b[32mobject\u001b[39m \u001b[36mFalse\u001b[39m\n",
       "defined \u001b[32mclass\u001b[39m \u001b[36mPlus\u001b[39m\n",
       "defined \u001b[32mclass\u001b[39m \u001b[36mMinus\u001b[39m\n",
       "defined \u001b[32mclass\u001b[39m \u001b[36mMult\u001b[39m\n",
       "defined \u001b[32mclass\u001b[39m \u001b[36mNeg\u001b[39m\n",
       "defined \u001b[32mclass\u001b[39m \u001b[36mAnd\u001b[39m\n",
       "defined \u001b[32mclass\u001b[39m \u001b[36mOr\u001b[39m\n",
       "defined \u001b[32mclass\u001b[39m \u001b[36mGeq\u001b[39m\n",
       "defined \u001b[32mclass\u001b[39m \u001b[36mEq\u001b[39m\n",
       "defined \u001b[32mclass\u001b[39m \u001b[36mITE\u001b[39m\n",
       "defined \u001b[32mclass\u001b[39m \u001b[36mLet\u001b[39m\n",
       "defined \u001b[32mclass\u001b[39m \u001b[36mFunDef\u001b[39m\n",
       "defined \u001b[32mclass\u001b[39m \u001b[36mFunCall\u001b[39m\n",
       "defined \u001b[32mclass\u001b[39m \u001b[36mLetRec\u001b[39m\n",
       "defined \u001b[32mclass\u001b[39m \u001b[36mLetRec2\u001b[39m"
      ]
     },
     "execution_count": 2,
     "metadata": {},
     "output_type": "execute_result"
    }
   ],
   "source": [
    "sealed trait Program1\n",
    "case class Main(e: Expr1) extends Program1\n",
    "\n",
    "sealed trait Expr1\n",
    "case class  Const(n : Int) extends Expr1\n",
    "case class  Ident(s : String) extends Expr1\n",
    "case object True extends Expr1\n",
    "case object False extends Expr1\n",
    "case class  Plus( e1 : Expr1, e2 : Expr1) extends Expr1\n",
    "case class  Minus( e1 : Expr1, e2 : Expr1) extends Expr1\n",
    "case class  Mult( e1 : Expr1, e2 : Expr1) extends Expr1\n",
    "case class  Neg( e1 : Expr1) extends Expr1\n",
    "case class  And( e1 : Expr1, e2 : Expr1) extends Expr1\n",
    "case class  Or( e1 : Expr1, e2 : Expr1) extends Expr1\n",
    "case class  Geq( e1 : Expr1, e2 : Expr1) extends Expr1\n",
    "case class  Eq( e1 : Expr1, e2 : Expr1) extends Expr1\n",
    "case class  ITE( ec : Expr1, et : Expr1, ef : Expr1) extends Expr1\n",
    "case class  Let( name : String, ed : Expr1, ei : Expr1) extends Expr1\n",
    "case class  FunDef( arg : String, eb : Expr1) extends Expr1\n",
    "case class  FunCall( ef : Expr1, ea : Expr1) extends Expr1\n",
    "case class  LetRec( f : String, x : String, eb : Expr1, ei : Expr1) extends Expr1\n",
    "\n",
    "case class  LetRec2( f1 : String, x1 : String, e1 : Expr1, f2: String, x2: String, e2 : Expr1, e3: Expr1) extends Expr1"
   ]
  },
  {
   "cell_type": "code",
   "execution_count": 3,
   "metadata": {
    "deletable": false,
    "editable": false,
    "nbgrader": {
     "cell_type": "code",
     "checksum": "ef8c86829a544a353450ce6a6a4f900e",
     "grade": true,
     "grade_id": "cell-ed8b068ed169149b",
     "locked": true,
     "points": 2,
     "schema_version": 3,
     "solution": false,
     "task": false
    }
   },
   "outputs": [
    {
     "name": "stdout",
     "output_type": "stream",
     "text": [
      "\n",
      "*** Tests Passed (2 points) ***\n"
     ]
    },
    {
     "data": {
      "text/plain": [
       "\u001b[36mx\u001b[39m: \u001b[32mIdent\u001b[39m = \u001b[33mIdent\u001b[39m(\u001b[32m\"x\"\u001b[39m)\n",
       "\u001b[36my\u001b[39m: \u001b[32mIdent\u001b[39m = \u001b[33mIdent\u001b[39m(\u001b[32m\"y\"\u001b[39m)\n",
       "\u001b[36mfoo\u001b[39m: \u001b[32mIdent\u001b[39m = \u001b[33mIdent\u001b[39m(\u001b[32m\"foo\"\u001b[39m)\n",
       "\u001b[36mbar\u001b[39m: \u001b[32mIdent\u001b[39m = \u001b[33mIdent\u001b[39m(\u001b[32m\"bar\"\u001b[39m)\n",
       "\u001b[36me1\u001b[39m: \u001b[32mITE\u001b[39m = \u001b[33mITE\u001b[39m(\n",
       "  \u001b[33mGeq\u001b[39m(\u001b[33mIdent\u001b[39m(\u001b[32m\"x\"\u001b[39m), \u001b[33mConst\u001b[39m(\u001b[32m0\u001b[39m)),\n",
       "  \u001b[33mIdent\u001b[39m(\u001b[32m\"x\"\u001b[39m),\n",
       "  \u001b[33mFunCall\u001b[39m(\u001b[33mIdent\u001b[39m(\u001b[32m\"bar\"\u001b[39m), \u001b[33mPlus\u001b[39m(\u001b[33mIdent\u001b[39m(\u001b[32m\"x\"\u001b[39m), \u001b[33mConst\u001b[39m(\u001b[32m1\u001b[39m)))\n",
       ")\n",
       "\u001b[36me2\u001b[39m: \u001b[32mITE\u001b[39m = \u001b[33mITE\u001b[39m(\n",
       "  \u001b[33mGeq\u001b[39m(\u001b[33mConst\u001b[39m(\u001b[32m10\u001b[39m), \u001b[33mIdent\u001b[39m(\u001b[32m\"x\"\u001b[39m)),\n",
       "  \u001b[33mPlus\u001b[39m(\u001b[33mConst\u001b[39m(\u001b[32m2\u001b[39m), \u001b[33mIdent\u001b[39m(\u001b[32m\"x\"\u001b[39m)),\n",
       "  \u001b[33mFunCall\u001b[39m(\u001b[33mIdent\u001b[39m(\u001b[32m\"foo\"\u001b[39m), \u001b[33mMinus\u001b[39m(\u001b[33mIdent\u001b[39m(\u001b[32m\"x\"\u001b[39m), \u001b[33mConst\u001b[39m(\u001b[32m2\u001b[39m)))\n",
       ")\n",
       "\u001b[36me3\u001b[39m: \u001b[32mFunCall\u001b[39m = \u001b[33mFunCall\u001b[39m(\u001b[33mIdent\u001b[39m(\u001b[32m\"bar\"\u001b[39m), \u001b[33mConst\u001b[39m(\u001b[32m1\u001b[39m))\n",
       "\u001b[36mlr2\u001b[39m: \u001b[32mLetRec2\u001b[39m = \u001b[33mLetRec2\u001b[39m(\n",
       "  \u001b[32m\"foo\"\u001b[39m,\n",
       "  \u001b[32m\"x\"\u001b[39m,\n",
       "  \u001b[33mITE\u001b[39m(\n",
       "    \u001b[33mGeq\u001b[39m(\u001b[33mIdent\u001b[39m(\u001b[32m\"x\"\u001b[39m), \u001b[33mConst\u001b[39m(\u001b[32m0\u001b[39m)),\n",
       "    \u001b[33mIdent\u001b[39m(\u001b[32m\"x\"\u001b[39m),\n",
       "    \u001b[33mFunCall\u001b[39m(\u001b[33mIdent\u001b[39m(\u001b[32m\"bar\"\u001b[39m), \u001b[33mPlus\u001b[39m(\u001b[33mIdent\u001b[39m(\u001b[32m\"x\"\u001b[39m), \u001b[33mConst\u001b[39m(\u001b[32m1\u001b[39m)))\n",
       "  ),\n",
       "  \u001b[32m\"bar\"\u001b[39m,\n",
       "  \u001b[32m\"x\"\u001b[39m,\n",
       "  \u001b[33mITE\u001b[39m(\n",
       "    \u001b[33mGeq\u001b[39m(\u001b[33mConst\u001b[39m(\u001b[32m10\u001b[39m), \u001b[33mIdent\u001b[39m(\u001b[32m\"x\"\u001b[39m)),\n",
       "    \u001b[33mPlus\u001b[39m(\u001b[33mConst\u001b[39m(\u001b[32m2\u001b[39m), \u001b[33mIdent\u001b[39m(\u001b[32m\"x\"\u001b[39m)),\n",
       "    \u001b[33mFunCall\u001b[39m(\u001b[33mIdent\u001b[39m(\u001b[32m\"foo\"\u001b[39m), \u001b[33mMinus\u001b[39m(\u001b[33mIdent\u001b[39m(\u001b[32m\"x\"\u001b[39m), \u001b[33mConst\u001b[39m(\u001b[32m2\u001b[39m)))\n",
       "  ),\n",
       "  \u001b[33mFunCall\u001b[39m(\u001b[33mIdent\u001b[39m(\u001b[32m\"bar\"\u001b[39m), \u001b[33mConst\u001b[39m(\u001b[32m1\u001b[39m))\n",
       ")\n",
       "\u001b[36mp1\u001b[39m: \u001b[32mMain\u001b[39m = \u001b[33mMain\u001b[39m(\n",
       "  \u001b[33mLetRec2\u001b[39m(\n",
       "    \u001b[32m\"foo\"\u001b[39m,\n",
       "    \u001b[32m\"x\"\u001b[39m,\n",
       "    \u001b[33mITE\u001b[39m(\n",
       "      \u001b[33mGeq\u001b[39m(\u001b[33mIdent\u001b[39m(\u001b[32m\"x\"\u001b[39m), \u001b[33mConst\u001b[39m(\u001b[32m0\u001b[39m)),\n",
       "      \u001b[33mIdent\u001b[39m(\u001b[32m\"x\"\u001b[39m),\n",
       "      \u001b[33mFunCall\u001b[39m(\u001b[33mIdent\u001b[39m(\u001b[32m\"bar\"\u001b[39m), \u001b[33mPlus\u001b[39m(\u001b[33mIdent\u001b[39m(\u001b[32m\"x\"\u001b[39m), \u001b[33mConst\u001b[39m(\u001b[32m1\u001b[39m)))\n",
       "    ),\n",
       "    \u001b[32m\"bar\"\u001b[39m,\n",
       "    \u001b[32m\"x\"\u001b[39m,\n",
       "    \u001b[33mITE\u001b[39m(\n",
       "      \u001b[33mGeq\u001b[39m(\u001b[33mConst\u001b[39m(\u001b[32m10\u001b[39m), \u001b[33mIdent\u001b[39m(\u001b[32m\"x\"\u001b[39m)),\n",
       "      \u001b[33mPlus\u001b[39m(\u001b[33mConst\u001b[39m(\u001b[32m2\u001b[39m), \u001b[33mIdent\u001b[39m(\u001b[32m\"x\"\u001b[39m)),\n",
       "      \u001b[33mFunCall\u001b[39m(\u001b[33mIdent\u001b[39m(\u001b[32m\"foo\"\u001b[39m), \u001b[33mMinus\u001b[39m(\u001b[33mIdent\u001b[39m(\u001b[32m\"x\"\u001b[39m), \u001b[33mConst\u001b[39m(\u001b[32m2\u001b[39m)))\n",
       "    ),\n",
       "    \u001b[33mFunCall\u001b[39m(\u001b[33mIdent\u001b[39m(\u001b[32m\"bar\"\u001b[39m), \u001b[33mConst\u001b[39m(\u001b[32m1\u001b[39m))\n",
       "  )\n",
       ")"
      ]
     },
     "execution_count": 3,
     "metadata": {},
     "output_type": "execute_result"
    }
   ],
   "source": [
    "val x = Ident(\"x\")\n",
    "val y = Ident(\"y\")\n",
    "val foo = Ident(\"foo\")\n",
    "val bar = Ident(\"bar\")\n",
    "\n",
    "val e1 = ITE( Geq(x, Const(0)), x, FunCall(bar, Plus(x, Const(1))))\n",
    "val e2 = ITE( Geq(Const(10), x), Plus(Const(2), x), FunCall(foo, Minus(x, Const(2))))\n",
    "val e3 = FunCall(bar, Const(1))\n",
    "val lr2 = LetRec2(\"foo\", \"x\", e1, \"bar\", \"x\", e2, e3)\n",
    "val p1 = Main(lr2)\n",
    "passed(2)"
   ]
  },
  {
   "cell_type": "code",
   "execution_count": 4,
   "metadata": {
    "deletable": false,
    "editable": false,
    "nbgrader": {
     "cell_type": "code",
     "checksum": "9f2a78bf4652d630ed2df69f2b390460",
     "grade": true,
     "grade_id": "cell-8fc35e193117836a",
     "locked": true,
     "points": 3,
     "schema_version": 3,
     "solution": false,
     "task": false
    }
   },
   "outputs": [
    {
     "name": "stdout",
     "output_type": "stream",
     "text": [
      "\n",
      "*** Tests Passed (3 points) ***\n"
     ]
    },
    {
     "data": {
      "text/plain": [
       "\u001b[36mx\u001b[39m: \u001b[32mIdent\u001b[39m = \u001b[33mIdent\u001b[39m(\u001b[32m\"x\"\u001b[39m)\n",
       "\u001b[36my\u001b[39m: \u001b[32mIdent\u001b[39m = \u001b[33mIdent\u001b[39m(\u001b[32m\"y\"\u001b[39m)\n",
       "\u001b[36mfoo\u001b[39m: \u001b[32mIdent\u001b[39m = \u001b[33mIdent\u001b[39m(\u001b[32m\"foo\"\u001b[39m)\n",
       "\u001b[36mbar\u001b[39m: \u001b[32mIdent\u001b[39m = \u001b[33mIdent\u001b[39m(\u001b[32m\"bar\"\u001b[39m)\n",
       "\u001b[36me11\u001b[39m: \u001b[32mITE\u001b[39m = \u001b[33mITE\u001b[39m(\n",
       "  \u001b[33mGeq\u001b[39m(\u001b[33mIdent\u001b[39m(\u001b[32m\"x\"\u001b[39m), \u001b[33mConst\u001b[39m(\u001b[32m0\u001b[39m)),\n",
       "  \u001b[33mFunCall\u001b[39m(\u001b[33mIdent\u001b[39m(\u001b[32m\"bar\"\u001b[39m), \u001b[33mMinus\u001b[39m(\u001b[33mConst\u001b[39m(\u001b[32m1\u001b[39m), \u001b[33mIdent\u001b[39m(\u001b[32m\"x\"\u001b[39m))),\n",
       "  \u001b[33mMult\u001b[39m(\u001b[33mIdent\u001b[39m(\u001b[32m\"x\"\u001b[39m), \u001b[33mFunCall\u001b[39m(\u001b[33mIdent\u001b[39m(\u001b[32m\"foo\"\u001b[39m), \u001b[33mMinus\u001b[39m(\u001b[33mIdent\u001b[39m(\u001b[32m\"x\"\u001b[39m), \u001b[33mConst\u001b[39m(\u001b[32m1\u001b[39m))))\n",
       ")\n",
       "\u001b[36me1\u001b[39m: \u001b[32mITE\u001b[39m = \u001b[33mITE\u001b[39m(\n",
       "  \u001b[33mEq\u001b[39m(\u001b[33mIdent\u001b[39m(\u001b[32m\"x\"\u001b[39m), \u001b[33mConst\u001b[39m(\u001b[32m0\u001b[39m)),\n",
       "  \u001b[33mConst\u001b[39m(\u001b[32m1\u001b[39m),\n",
       "  \u001b[33mITE\u001b[39m(\n",
       "    \u001b[33mGeq\u001b[39m(\u001b[33mIdent\u001b[39m(\u001b[32m\"x\"\u001b[39m), \u001b[33mConst\u001b[39m(\u001b[32m0\u001b[39m)),\n",
       "    \u001b[33mFunCall\u001b[39m(\u001b[33mIdent\u001b[39m(\u001b[32m\"bar\"\u001b[39m), \u001b[33mMinus\u001b[39m(\u001b[33mConst\u001b[39m(\u001b[32m1\u001b[39m), \u001b[33mIdent\u001b[39m(\u001b[32m\"x\"\u001b[39m))),\n",
       "    \u001b[33mMult\u001b[39m(\u001b[33mIdent\u001b[39m(\u001b[32m\"x\"\u001b[39m), \u001b[33mFunCall\u001b[39m(\u001b[33mIdent\u001b[39m(\u001b[32m\"foo\"\u001b[39m), \u001b[33mMinus\u001b[39m(\u001b[33mIdent\u001b[39m(\u001b[32m\"x\"\u001b[39m), \u001b[33mConst\u001b[39m(\u001b[32m1\u001b[39m))))\n",
       "  )\n",
       ")\n",
       "\u001b[36me2\u001b[39m: \u001b[32mITE\u001b[39m = \u001b[33mITE\u001b[39m(\n",
       "  \u001b[33mGeq\u001b[39m(\u001b[33mConst\u001b[39m(\u001b[32m0\u001b[39m), \u001b[33mIdent\u001b[39m(\u001b[32m\"y\"\u001b[39m)),\n",
       "  \u001b[33mMult\u001b[39m(\u001b[33mConst\u001b[39m(\u001b[32m-5\u001b[39m), \u001b[33mIdent\u001b[39m(\u001b[32m\"y\"\u001b[39m)),\n",
       "  \u001b[33mFunCall\u001b[39m(\u001b[33mIdent\u001b[39m(\u001b[32m\"foo\"\u001b[39m), \u001b[33mIdent\u001b[39m(\u001b[32m\"y\"\u001b[39m))\n",
       ")\n",
       "\u001b[36me3\u001b[39m: \u001b[32mFunCall\u001b[39m = \u001b[33mFunCall\u001b[39m(\u001b[33mIdent\u001b[39m(\u001b[32m\"foo\"\u001b[39m), \u001b[33mConst\u001b[39m(\u001b[32m10\u001b[39m))\n",
       "\u001b[36mlr3\u001b[39m: \u001b[32mLetRec2\u001b[39m = \u001b[33mLetRec2\u001b[39m(\n",
       "  \u001b[32m\"foo\"\u001b[39m,\n",
       "  \u001b[32m\"x\"\u001b[39m,\n",
       "  \u001b[33mITE\u001b[39m(\n",
       "    \u001b[33mEq\u001b[39m(\u001b[33mIdent\u001b[39m(\u001b[32m\"x\"\u001b[39m), \u001b[33mConst\u001b[39m(\u001b[32m0\u001b[39m)),\n",
       "    \u001b[33mConst\u001b[39m(\u001b[32m1\u001b[39m),\n",
       "    \u001b[33mITE\u001b[39m(\n",
       "      \u001b[33mGeq\u001b[39m(\u001b[33mIdent\u001b[39m(\u001b[32m\"x\"\u001b[39m), \u001b[33mConst\u001b[39m(\u001b[32m0\u001b[39m)),\n",
       "      \u001b[33mFunCall\u001b[39m(\u001b[33mIdent\u001b[39m(\u001b[32m\"bar\"\u001b[39m), \u001b[33mMinus\u001b[39m(\u001b[33mConst\u001b[39m(\u001b[32m1\u001b[39m), \u001b[33mIdent\u001b[39m(\u001b[32m\"x\"\u001b[39m))),\n",
       "      \u001b[33mMult\u001b[39m(\u001b[33mIdent\u001b[39m(\u001b[32m\"x\"\u001b[39m), \u001b[33mFunCall\u001b[39m(\u001b[33mIdent\u001b[39m(\u001b[32m\"foo\"\u001b[39m), \u001b[33mMinus\u001b[39m(\u001b[33mIdent\u001b[39m(\u001b[32m\"x\"\u001b[39m), \u001b[33mConst\u001b[39m(\u001b[32m1\u001b[39m))))\n",
       "    )\n",
       "  ),\n",
       "  \u001b[32m\"bar\"\u001b[39m,\n",
       "  \u001b[32m\"y\"\u001b[39m,\n",
       "  \u001b[33mITE\u001b[39m(\n",
       "    \u001b[33mGeq\u001b[39m(\u001b[33mConst\u001b[39m(\u001b[32m0\u001b[39m), \u001b[33mIdent\u001b[39m(\u001b[32m\"y\"\u001b[39m)),\n",
       "    \u001b[33mMult\u001b[39m(\u001b[33mConst\u001b[39m(\u001b[32m-5\u001b[39m), \u001b[33mIdent\u001b[39m(\u001b[32m\"y\"\u001b[39m)),\n",
       "    \u001b[33mFunCall\u001b[39m(\u001b[33mIdent\u001b[39m(\u001b[32m\"foo\"\u001b[39m), \u001b[33mIdent\u001b[39m(\u001b[32m\"y\"\u001b[39m))\n",
       "  ),\n",
       "  \u001b[33mFunCall\u001b[39m(\u001b[33mIdent\u001b[39m(\u001b[32m\"foo\"\u001b[39m), \u001b[33mConst\u001b[39m(\u001b[32m10\u001b[39m))\n",
       ")"
      ]
     },
     "execution_count": 4,
     "metadata": {},
     "output_type": "execute_result"
    }
   ],
   "source": [
    "val x = Ident(\"x\")\n",
    "val y = Ident(\"y\")\n",
    "val foo = Ident(\"foo\")\n",
    "val bar = Ident(\"bar\")\n",
    "val e11 = ITE(Geq(x, Const(0)), FunCall(bar, Minus(Const(1), x)),Mult(x, FunCall(foo,  Minus(x, Const(1))) ))\n",
    "val e1 = ITE(Eq(x, Const(0)), Const(1), e11)\n",
    "val e2 = ITE(Geq(Const(0), y), Mult(Const(-5), y) , FunCall(foo, y))\n",
    "val e3 = FunCall(foo, Const(10))\n",
    "val lr3 = LetRec2(\"foo\", \"x\", e1, \"bar\", \"y\", e2, e3)\n",
    "passed(3)"
   ]
  },
  {
   "cell_type": "markdown",
   "metadata": {
    "deletable": false,
    "editable": false,
    "nbgrader": {
     "cell_type": "markdown",
     "checksum": "7ff8c3b789774c387cb9d1641dabe518",
     "grade": false,
     "grade_id": "cell-a7d0412d5e65135c",
     "locked": true,
     "schema_version": 3,
     "solution": false,
     "task": false
    }
   },
   "source": [
    "### Problem 1b (10 points): Code up the Environment Spec\n",
    "\n",
    "We how to build an environment that handles regular recursive calls using the `ExtendRec` construct.\n",
    "\n",
    "Now we propose an `ExtendMutualRec2` construct such that\n",
    "\n",
    "$$\\begin{array}{c}\n",
    "\\sigma\\prime\\prime  = \\sigma[f1 \\rightarrow Closure(x1,e1, \\sigma\\prime\\prime), f1 \\rightarrow Closure(x2,e2, \\sigma\\prime\\prime)] \\qquad\n",
    "\\sigma\\prime\\prime \\vdash \\Downarrow v \\\\\\\n",
    "\\\\\n",
    "\\hline\n",
    "\\sigma \\vdash \\texttt{LetRec2(f1, x1, e1, f2, x2, e2, e)} \\Downarrow v \\\\\n",
    "\\end{array}\\text{LetRec2}$$\n",
    "\n",
    "\n",
    "The mathematical specification of $\\texttt{ExtendMutualRec2}$. Let $\\sigma = \\texttt{ExtendMutualRec2}(\\pi, \\texttt{f1, x1, e1, f2, x2, e2}))$ is as follows:\n",
    "\n",
    "$$ \\sigma(y) = \\begin{cases}\n",
    "\\texttt{Closure}(x_1, e_1, \\sigma) & \\mbox{if}\\ y = \\texttt{f1} \\\\\n",
    "\\texttt{Closure}(x_2, e_2, \\sigma) & \\mbox{if}\\ y = \\texttt{f2} \\\\\n",
    "\\pi(y) & \\text{otherwise}\\\\\n",
    "\\end{cases}$$\n",
    "\n",
    "\n",
    "\n",
    "Implement the environment for `ExtendMutualRec`, and the functions ``contains`` and ``lookupEnv``."
   ]
  },
  {
   "cell_type": "code",
   "execution_count": 5,
   "metadata": {
    "deletable": false,
    "nbgrader": {
     "cell_type": "code",
     "checksum": "bd09d26fb029f197d9417d57f847450b",
     "grade": false,
     "grade_id": "cell-d3ea78b62ae2836c",
     "locked": false,
     "schema_version": 3,
     "solution": true,
     "task": false
    }
   },
   "outputs": [
    {
     "data": {
      "text/plain": [
       "defined \u001b[32mtrait\u001b[39m \u001b[36mEnvironment\u001b[39m\n",
       "defined \u001b[32mobject\u001b[39m \u001b[36mEmptyEnv\u001b[39m\n",
       "defined \u001b[32mclass\u001b[39m \u001b[36mExtend\u001b[39m\n",
       "defined \u001b[32mclass\u001b[39m \u001b[36mExtendRec\u001b[39m\n",
       "defined \u001b[32mclass\u001b[39m \u001b[36mExtendMutualRec2\u001b[39m\n",
       "defined \u001b[32mtrait\u001b[39m \u001b[36mValue1\u001b[39m\n",
       "defined \u001b[32mclass\u001b[39m \u001b[36mNumVal\u001b[39m\n",
       "defined \u001b[32mclass\u001b[39m \u001b[36mBinVal\u001b[39m\n",
       "defined \u001b[32mclass\u001b[39m \u001b[36mClosure\u001b[39m\n",
       "defined \u001b[32mobject\u001b[39m \u001b[36mError\u001b[39m"
      ]
     },
     "execution_count": 5,
     "metadata": {},
     "output_type": "execute_result"
    }
   ],
   "source": [
    "sealed trait Environment \n",
    "\n",
    "case object EmptyEnv extends Environment\n",
    "case class Extend(x: String, v: Value1, sigma: Environment) extends Environment\n",
    "case class ExtendRec(f: String, x: String, e: Expr1, sigma: Environment ) extends Environment\n",
    "case class ExtendMutualRec2(\n",
    "    f1: String,\n",
    "    x1: String,\n",
    "    e1: Expr1,\n",
    "    f2: String,\n",
    "    x2: String,\n",
    "    e2: Expr1,\n",
    "    sigma: Environment \n",
    ") extends Environment\n",
    "\n",
    "sealed trait Value1\n",
    "case class NumVal(i: Int) extends Value1\n",
    "case class BinVal(b: Boolean) extends Value1\n",
    "case class Closure(x: String, e: Expr1, pi: Environment) extends Value1\n",
    "case object Error extends Value1"
   ]
  },
  {
   "cell_type": "code",
   "execution_count": 6,
   "metadata": {
    "deletable": false,
    "nbgrader": {
     "cell_type": "code",
     "checksum": "350bc64845e3d50ae70aecbbf767c970",
     "grade": false,
     "grade_id": "cell-7deff8315db5ac7c",
     "locked": false,
     "schema_version": 3,
     "solution": true,
     "task": false
    }
   },
   "outputs": [
    {
     "data": {
      "text/plain": [
       "defined \u001b[32mtrait\u001b[39m \u001b[36mMaybe\u001b[39m\n",
       "defined \u001b[32mobject\u001b[39m \u001b[36mNone\u001b[39m\n",
       "defined \u001b[32mclass\u001b[39m \u001b[36mSome\u001b[39m\n",
       "defined \u001b[32mfunction\u001b[39m \u001b[36mcontains\u001b[39m\n",
       "defined \u001b[32mfunction\u001b[39m \u001b[36mlookupEnv\u001b[39m"
      ]
     },
     "execution_count": 6,
     "metadata": {},
     "output_type": "execute_result"
    }
   ],
   "source": [
    "sealed trait Maybe[+A]\n",
    "case object None extends Maybe[Nothing]\n",
    "case class Some[A](v : A) extends Maybe[A]\n",
    "\n",
    "\n",
    "def contains(dict : Environment, k : String ) : Boolean = dict match {\n",
    "    case Extend(x1, v, pi) => \n",
    "         if (k == x1) {\n",
    "             true\n",
    "         } else {\n",
    "             contains(pi, k)\n",
    "         }\n",
    "    case ExtendRec(f1, x1, e1, pi) =>\n",
    "        if (k == f1) {\n",
    "            true\n",
    "        } else {\n",
    "            contains(pi, k)\n",
    "        }\n",
    "    case ExtendMutualRec2(f1, x1, e1, f2, x2, e2, pi) => \n",
    "        if(k == f1 || k == f2) {\n",
    "            true\n",
    "        } else {\n",
    "            contains(pi, k)\n",
    "        }\n",
    "    case EmptyEnv => false\n",
    "}\n",
    "\n",
    "def lookupEnv(sigma: Environment, x: String): Maybe[Value1] = sigma match {\n",
    "    case Extend(x1, v, pi)=> \n",
    "         if (x == x1) {\n",
    "             Some(v)\n",
    "         } else {\n",
    "             lookupEnv(pi, x)\n",
    "         }\n",
    "    case ExtendRec(f1, x1, e1, pi) =>\n",
    "        if (x == f1) {\n",
    "            Some(Closure(x1, e1, sigma))\n",
    "        } else {\n",
    "            lookupEnv(pi, x)\n",
    "        }\n",
    "    case ExtendMutualRec2(f1, x1, e1, f2, x2, e2, pi) => \n",
    "        if(x == f1) {\n",
    "            Some(Closure(x1, e1, sigma))\n",
    "        } else if (x == f2) {\n",
    "            Some(Closure(x2, e2, sigma))\n",
    "        } else {\n",
    "            lookupEnv(pi, x)\n",
    "        }\n",
    "    case EmptyEnv => Some(Error)\n",
    "}"
   ]
  },
  {
   "cell_type": "code",
   "execution_count": 7,
   "metadata": {
    "deletable": false,
    "editable": false,
    "nbgrader": {
     "cell_type": "code",
     "checksum": "c27f7225ba6b5566ba64458fad5cf6f5",
     "grade": true,
     "grade_id": "cell-a34f2423f5c1a87a",
     "locked": true,
     "points": 5,
     "schema_version": 3,
     "solution": false,
     "task": false
    }
   },
   "outputs": [
    {
     "name": "stdout",
     "output_type": "stream",
     "text": [
      "\n",
      "*** Tests Passed (5 points) ***\n"
     ]
    },
    {
     "data": {
      "text/plain": [
       "\u001b[36menv\u001b[39m: \u001b[32mEnvironment\u001b[39m = \u001b[33mExtendMutualRec2\u001b[39m(\n",
       "  \u001b[32m\"f1\"\u001b[39m,\n",
       "  \u001b[32m\"x1\"\u001b[39m,\n",
       "  \u001b[33mConst\u001b[39m(\u001b[32m0\u001b[39m),\n",
       "  \u001b[32m\"f2\"\u001b[39m,\n",
       "  \u001b[32m\"x2\"\u001b[39m,\n",
       "  \u001b[33mConst\u001b[39m(\u001b[32m0\u001b[39m),\n",
       "  EmptyEnv\n",
       ")"
      ]
     },
     "execution_count": 7,
     "metadata": {},
     "output_type": "execute_result"
    }
   ],
   "source": [
    "val env: Environment = ExtendMutualRec2(\"f1\", \"x1\", Const(0), \"f2\", \"x2\", Const(0), EmptyEnv)\n",
    "passed(5)"
   ]
  },
  {
   "cell_type": "code",
   "execution_count": 8,
   "metadata": {
    "deletable": false,
    "editable": false,
    "nbgrader": {
     "cell_type": "code",
     "checksum": "88e6f0e0d4b8bacb3ec0090e750e2937",
     "grade": true,
     "grade_id": "cell-d1d785746b2e9ae5",
     "locked": true,
     "points": 5,
     "schema_version": 3,
     "solution": false,
     "task": false
    }
   },
   "outputs": [
    {
     "name": "stdout",
     "output_type": "stream",
     "text": [
      "\n",
      "*** Tests Passed (5 points) ***\n"
     ]
    },
    {
     "data": {
      "text/plain": [
       "\u001b[36menv\u001b[39m: \u001b[32mEnvironment\u001b[39m = \u001b[33mExtendMutualRec2\u001b[39m(\n",
       "  \u001b[32m\"f1\"\u001b[39m,\n",
       "  \u001b[32m\"x1\"\u001b[39m,\n",
       "  \u001b[33mConst\u001b[39m(\u001b[32m0\u001b[39m),\n",
       "  \u001b[32m\"f2\"\u001b[39m,\n",
       "  \u001b[32m\"x2\"\u001b[39m,\n",
       "  \u001b[33mConst\u001b[39m(\u001b[32m0\u001b[39m),\n",
       "  EmptyEnv\n",
       ")\n",
       "\u001b[36mf1\u001b[39m: \u001b[32mSome\u001b[39m[\u001b[32mValue1\u001b[39m] = \u001b[33mSome\u001b[39m(\n",
       "  \u001b[33mClosure\u001b[39m(\n",
       "    \u001b[32m\"x1\"\u001b[39m,\n",
       "    \u001b[33mConst\u001b[39m(\u001b[32m0\u001b[39m),\n",
       "    \u001b[33mExtendMutualRec2\u001b[39m(\u001b[32m\"f1\"\u001b[39m, \u001b[32m\"x1\"\u001b[39m, \u001b[33mConst\u001b[39m(\u001b[32m0\u001b[39m), \u001b[32m\"f2\"\u001b[39m, \u001b[32m\"x2\"\u001b[39m, \u001b[33mConst\u001b[39m(\u001b[32m0\u001b[39m), EmptyEnv)\n",
       "  )\n",
       ")\n",
       "\u001b[36mpi1\u001b[39m: \u001b[32mEnvironment\u001b[39m = \u001b[33mExtendMutualRec2\u001b[39m(\n",
       "  \u001b[32m\"f1\"\u001b[39m,\n",
       "  \u001b[32m\"x1\"\u001b[39m,\n",
       "  \u001b[33mConst\u001b[39m(\u001b[32m0\u001b[39m),\n",
       "  \u001b[32m\"f2\"\u001b[39m,\n",
       "  \u001b[32m\"x2\"\u001b[39m,\n",
       "  \u001b[33mConst\u001b[39m(\u001b[32m0\u001b[39m),\n",
       "  EmptyEnv\n",
       ")\n",
       "\u001b[36mf2\u001b[39m: \u001b[32mSome\u001b[39m[\u001b[32mValue1\u001b[39m] = \u001b[33mSome\u001b[39m(\n",
       "  \u001b[33mClosure\u001b[39m(\n",
       "    \u001b[32m\"x2\"\u001b[39m,\n",
       "    \u001b[33mConst\u001b[39m(\u001b[32m0\u001b[39m),\n",
       "    \u001b[33mExtendMutualRec2\u001b[39m(\u001b[32m\"f1\"\u001b[39m, \u001b[32m\"x1\"\u001b[39m, \u001b[33mConst\u001b[39m(\u001b[32m0\u001b[39m), \u001b[32m\"f2\"\u001b[39m, \u001b[32m\"x2\"\u001b[39m, \u001b[33mConst\u001b[39m(\u001b[32m0\u001b[39m), EmptyEnv)\n",
       "  )\n",
       ")\n",
       "\u001b[36mpi2\u001b[39m: \u001b[32mEnvironment\u001b[39m = \u001b[33mExtendMutualRec2\u001b[39m(\n",
       "  \u001b[32m\"f1\"\u001b[39m,\n",
       "  \u001b[32m\"x1\"\u001b[39m,\n",
       "  \u001b[33mConst\u001b[39m(\u001b[32m0\u001b[39m),\n",
       "  \u001b[32m\"f2\"\u001b[39m,\n",
       "  \u001b[32m\"x2\"\u001b[39m,\n",
       "  \u001b[33mConst\u001b[39m(\u001b[32m0\u001b[39m),\n",
       "  EmptyEnv\n",
       ")\n",
       "\u001b[36mres7_3\u001b[39m: \u001b[32mBoolean\u001b[39m = true\n",
       "\u001b[36mres7_4\u001b[39m: \u001b[32mBoolean\u001b[39m = true\n",
       "\u001b[36mres7_5\u001b[39m: \u001b[32mBoolean\u001b[39m = true\n",
       "\u001b[36mres7_6\u001b[39m: \u001b[32mBoolean\u001b[39m = true"
      ]
     },
     "execution_count": 8,
     "metadata": {},
     "output_type": "execute_result"
    }
   ],
   "source": [
    "val env: Environment = ExtendMutualRec2(\"f1\", \"x1\", Const(0), \"f2\", \"x2\", Const(0), EmptyEnv)\n",
    "val f1 @ Some(Closure(_, _, pi1)) = lookupEnv(env, \"f1\")\n",
    "val f2 @ Some(Closure(_, _, pi2)) = lookupEnv(env, \"f2\")\n",
    "lookupEnv(pi1, \"f1\") == f1\n",
    "lookupEnv(pi1, \"f2\") == f2\n",
    "lookupEnv(pi2, \"f2\") != f1\n",
    "lookupEnv(pi2, \"f2\") == f2\n",
    "passed(5)"
   ]
  },
  {
   "cell_type": "markdown",
   "metadata": {
    "deletable": false,
    "editable": false,
    "nbgrader": {
     "cell_type": "markdown",
     "checksum": "5db3888f796b15517e5cd15d2a754873",
     "grade": false,
     "grade_id": "cell-200d09e57f1df7c5",
     "locked": true,
     "schema_version": 3,
     "solution": false,
     "task": false
    }
   },
   "source": [
    "### Problem 1c (10 points): Eval\n",
    "\n",
    "Complete the ``eval`` function that supports mutual recursion.\n",
    "\n",
    "$$\\texttt{eval} : Expr1 \\rightarrow Environment \\rightarrow Value1$$"
   ]
  },
  {
   "cell_type": "code",
   "execution_count": 9,
   "metadata": {
    "deletable": false,
    "nbgrader": {
     "cell_type": "code",
     "checksum": "5ee3415fdbe46bf3e62565527105708b",
     "grade": false,
     "grade_id": "cell-427044c779f7a2ca",
     "locked": false,
     "schema_version": 3,
     "solution": true,
     "task": false
    }
   },
   "outputs": [
    {
     "data": {
      "text/plain": [
       "defined \u001b[32mfunction\u001b[39m \u001b[36meval\u001b[39m\n",
       "defined \u001b[32mfunction\u001b[39m \u001b[36mevalProgram\u001b[39m"
      ]
     },
     "execution_count": 9,
     "metadata": {},
     "output_type": "execute_result"
    }
   ],
   "source": [
    "def eval( e : Expr1, env : Environment) : Value1 = \n",
    "    e match {\n",
    "        case Const(n)        => NumVal(n) \n",
    "        case True            => BinVal(true)\n",
    "        case False           => BinVal(false)\n",
    "        case Ident(s)        => if (contains(env, s)) \n",
    "                                    lookupEnv(env,s) match {\n",
    "                                        case Some(v) => v\n",
    "                                        case None => Error\n",
    "                                    }\n",
    "                                else Error\n",
    "        case Plus(e1, e2)    => (eval(e1,env), eval(e2,env)) match {\n",
    "            case (NumVal(v1), NumVal(v2)) => NumVal( v1 + v2 )\n",
    "            case _ => Error\n",
    "        }\n",
    "        case Minus(e1, e2)   => (eval(e1,env), eval(e2,env)) match {\n",
    "            case (NumVal(v1), NumVal(v2)) => NumVal( v1 - v2 )\n",
    "            case _ => Error\n",
    "        }\n",
    "        case Mult(e1, e2)    => (eval(e1,env), eval(e2,env)) match {\n",
    "            case (NumVal(v1), NumVal(v2)) => NumVal( v1 * v2 )\n",
    "            case _ => Error\n",
    "        }\n",
    "        case Neg(e1)         => eval(e1, env) match {\n",
    "            case NumVal(v) => NumVal(-v)\n",
    "            case BinVal(v) => BinVal(!v)\n",
    "            case _ => Error\n",
    "        }\n",
    "        case And(e1, e2)     => (eval(e1,env), eval(e2,env)) match {\n",
    "            case (BinVal(v1), BinVal(v2)) => BinVal( v1 && v2 )\n",
    "            case _ => Error\n",
    "        }\n",
    "        case Or(e1, e2)      => (eval(e1,env), eval(e2,env)) match {\n",
    "            case (BinVal(v1), BinVal(v2)) => BinVal( v1 || v2 )\n",
    "            case _ => Error\n",
    "        }\n",
    "        case Geq(e1, e2)     => (eval(e1,env), eval(e2,env)) match {\n",
    "            case (NumVal(v1), NumVal(v2)) => BinVal( v1 >= v2 )\n",
    "            case _ => Error\n",
    "        }\n",
    "        case Eq(e1, e2)      => (eval(e1,env), eval(e2,env)) match {\n",
    "            case (NumVal(v1), NumVal(v2)) => BinVal( v1 == v2 )\n",
    "            case (BinVal(v1), BinVal(v2)) => BinVal( v1 == v2 )\n",
    "            case (BinVal(_), NumVal(_)) => BinVal(false)\n",
    "            case (NumVal(_), BinVal(_)) => BinVal(false)\n",
    "            case _ => Error\n",
    "        }\n",
    "        case ITE(ec, et, ef) => eval(ec,env) match {\n",
    "            case BinVal(true) => eval(et,env)\n",
    "            case BinVal(false) => eval(ef,env)\n",
    "            case _ => Error\n",
    "        }\n",
    "        case Let(name, ed, ei) => eval(ed, env) match {\n",
    "            case Error => Error\n",
    "            case vd => {\n",
    "                val newenv = Extend(name, vd, env)\n",
    "                eval(ei, newenv)\n",
    "            }\n",
    "        }\n",
    "        \n",
    "        case FunDef(arg, eb) => Closure( arg, eb, env)\n",
    "        \n",
    "        case FunCall(ef, ea) => (eval(ef, env), eval(ea, env)) match {\n",
    "            case (Closure(x, eb, pi), va) => {\n",
    "                val newenv = Extend(x, va, pi)\n",
    "                eval(eb, newenv)\n",
    "            }\n",
    "            case _ => Error\n",
    "        }\n",
    "        \n",
    "        case LetRec(f, x, eb, ei) => {\n",
    "            val sigmaprime = ExtendRec(f, x, eb, env)\n",
    "            eval( ei, sigmaprime)\n",
    "        }\n",
    "        \n",
    "        case LetRec2(f1, x1, e1, f2, x2, e2, e3) => {\n",
    "            val newenv = ExtendMutualRec2(f1, x1, e1, f2, x2, e2, env)\n",
    "            eval(e3, newenv)\n",
    "        }\n",
    "\n",
    "    }\n",
    "\n",
    "def evalProgram(p: Program1) = {\n",
    "    p match { \n",
    "        case Main(e) => eval(e, EmptyEnv)\n",
    "    }\n",
    "}\n"
   ]
  },
  {
   "cell_type": "code",
   "execution_count": 10,
   "metadata": {
    "deletable": false,
    "editable": false,
    "nbgrader": {
     "cell_type": "code",
     "checksum": "8990bed285bcf05138e3d3b5680bb59d",
     "grade": true,
     "grade_id": "cell-f68298629a616c57",
     "locked": true,
     "points": 5,
     "schema_version": 3,
     "solution": false,
     "task": false
    }
   },
   "outputs": [
    {
     "name": "stdout",
     "output_type": "stream",
     "text": [
      "\n",
      "*** Tests Passed (5 points) ***\n"
     ]
    },
    {
     "data": {
      "text/plain": [
       "\u001b[36mx\u001b[39m: \u001b[32mIdent\u001b[39m = \u001b[33mIdent\u001b[39m(\u001b[32m\"x\"\u001b[39m)\n",
       "\u001b[36my\u001b[39m: \u001b[32mIdent\u001b[39m = \u001b[33mIdent\u001b[39m(\u001b[32m\"y\"\u001b[39m)\n",
       "\u001b[36mfoo\u001b[39m: \u001b[32mIdent\u001b[39m = \u001b[33mIdent\u001b[39m(\u001b[32m\"foo\"\u001b[39m)\n",
       "\u001b[36mbar\u001b[39m: \u001b[32mIdent\u001b[39m = \u001b[33mIdent\u001b[39m(\u001b[32m\"bar\"\u001b[39m)\n",
       "\u001b[36me1\u001b[39m: \u001b[32mITE\u001b[39m = \u001b[33mITE\u001b[39m(\n",
       "  \u001b[33mGeq\u001b[39m(\u001b[33mIdent\u001b[39m(\u001b[32m\"x\"\u001b[39m), \u001b[33mConst\u001b[39m(\u001b[32m0\u001b[39m)),\n",
       "  \u001b[33mIdent\u001b[39m(\u001b[32m\"x\"\u001b[39m),\n",
       "  \u001b[33mFunCall\u001b[39m(\u001b[33mIdent\u001b[39m(\u001b[32m\"bar\"\u001b[39m), \u001b[33mPlus\u001b[39m(\u001b[33mIdent\u001b[39m(\u001b[32m\"x\"\u001b[39m), \u001b[33mConst\u001b[39m(\u001b[32m1\u001b[39m)))\n",
       ")\n",
       "\u001b[36me2\u001b[39m: \u001b[32mITE\u001b[39m = \u001b[33mITE\u001b[39m(\n",
       "  \u001b[33mGeq\u001b[39m(\u001b[33mConst\u001b[39m(\u001b[32m1\u001b[39m), \u001b[33mIdent\u001b[39m(\u001b[32m\"x\"\u001b[39m)),\n",
       "  \u001b[33mPlus\u001b[39m(\u001b[33mConst\u001b[39m(\u001b[32m2\u001b[39m), \u001b[33mIdent\u001b[39m(\u001b[32m\"x\"\u001b[39m)),\n",
       "  \u001b[33mFunCall\u001b[39m(\u001b[33mIdent\u001b[39m(\u001b[32m\"foo\"\u001b[39m), \u001b[33mMinus\u001b[39m(\u001b[33mIdent\u001b[39m(\u001b[32m\"x\"\u001b[39m), \u001b[33mConst\u001b[39m(\u001b[32m2\u001b[39m)))\n",
       ")\n",
       "\u001b[36me3\u001b[39m: \u001b[32mFunCall\u001b[39m = \u001b[33mFunCall\u001b[39m(\u001b[33mIdent\u001b[39m(\u001b[32m\"bar\"\u001b[39m), \u001b[33mConst\u001b[39m(\u001b[32m10\u001b[39m))\n",
       "\u001b[36mlr2\u001b[39m: \u001b[32mLetRec2\u001b[39m = \u001b[33mLetRec2\u001b[39m(\n",
       "  \u001b[32m\"foo\"\u001b[39m,\n",
       "  \u001b[32m\"x\"\u001b[39m,\n",
       "  \u001b[33mITE\u001b[39m(\n",
       "    \u001b[33mGeq\u001b[39m(\u001b[33mIdent\u001b[39m(\u001b[32m\"x\"\u001b[39m), \u001b[33mConst\u001b[39m(\u001b[32m0\u001b[39m)),\n",
       "    \u001b[33mIdent\u001b[39m(\u001b[32m\"x\"\u001b[39m),\n",
       "    \u001b[33mFunCall\u001b[39m(\u001b[33mIdent\u001b[39m(\u001b[32m\"bar\"\u001b[39m), \u001b[33mPlus\u001b[39m(\u001b[33mIdent\u001b[39m(\u001b[32m\"x\"\u001b[39m), \u001b[33mConst\u001b[39m(\u001b[32m1\u001b[39m)))\n",
       "  ),\n",
       "  \u001b[32m\"bar\"\u001b[39m,\n",
       "  \u001b[32m\"x\"\u001b[39m,\n",
       "  \u001b[33mITE\u001b[39m(\n",
       "    \u001b[33mGeq\u001b[39m(\u001b[33mConst\u001b[39m(\u001b[32m1\u001b[39m), \u001b[33mIdent\u001b[39m(\u001b[32m\"x\"\u001b[39m)),\n",
       "    \u001b[33mPlus\u001b[39m(\u001b[33mConst\u001b[39m(\u001b[32m2\u001b[39m), \u001b[33mIdent\u001b[39m(\u001b[32m\"x\"\u001b[39m)),\n",
       "    \u001b[33mFunCall\u001b[39m(\u001b[33mIdent\u001b[39m(\u001b[32m\"foo\"\u001b[39m), \u001b[33mMinus\u001b[39m(\u001b[33mIdent\u001b[39m(\u001b[32m\"x\"\u001b[39m), \u001b[33mConst\u001b[39m(\u001b[32m2\u001b[39m)))\n",
       "  ),\n",
       "  \u001b[33mFunCall\u001b[39m(\u001b[33mIdent\u001b[39m(\u001b[32m\"bar\"\u001b[39m), \u001b[33mConst\u001b[39m(\u001b[32m10\u001b[39m))\n",
       ")\n",
       "\u001b[36mp1\u001b[39m: \u001b[32mMain\u001b[39m = \u001b[33mMain\u001b[39m(\n",
       "  \u001b[33mLetRec2\u001b[39m(\n",
       "    \u001b[32m\"foo\"\u001b[39m,\n",
       "    \u001b[32m\"x\"\u001b[39m,\n",
       "    \u001b[33mITE\u001b[39m(\n",
       "      \u001b[33mGeq\u001b[39m(\u001b[33mIdent\u001b[39m(\u001b[32m\"x\"\u001b[39m), \u001b[33mConst\u001b[39m(\u001b[32m0\u001b[39m)),\n",
       "      \u001b[33mIdent\u001b[39m(\u001b[32m\"x\"\u001b[39m),\n",
       "      \u001b[33mFunCall\u001b[39m(\u001b[33mIdent\u001b[39m(\u001b[32m\"bar\"\u001b[39m), \u001b[33mPlus\u001b[39m(\u001b[33mIdent\u001b[39m(\u001b[32m\"x\"\u001b[39m), \u001b[33mConst\u001b[39m(\u001b[32m1\u001b[39m)))\n",
       "    ),\n",
       "    \u001b[32m\"bar\"\u001b[39m,\n",
       "    \u001b[32m\"x\"\u001b[39m,\n",
       "    \u001b[33mITE\u001b[39m(\n",
       "      \u001b[33mGeq\u001b[39m(\u001b[33mConst\u001b[39m(\u001b[32m1\u001b[39m), \u001b[33mIdent\u001b[39m(\u001b[32m\"x\"\u001b[39m)),\n",
       "      \u001b[33mPlus\u001b[39m(\u001b[33mConst\u001b[39m(\u001b[32m2\u001b[39m), \u001b[33mIdent\u001b[39m(\u001b[32m\"x\"\u001b[39m)),\n",
       "      \u001b[33mFunCall\u001b[39m(\u001b[33mIdent\u001b[39m(\u001b[32m\"foo\"\u001b[39m), \u001b[33mMinus\u001b[39m(\u001b[33mIdent\u001b[39m(\u001b[32m\"x\"\u001b[39m), \u001b[33mConst\u001b[39m(\u001b[32m2\u001b[39m)))\n",
       "    ),\n",
       "    \u001b[33mFunCall\u001b[39m(\u001b[33mIdent\u001b[39m(\u001b[32m\"bar\"\u001b[39m), \u001b[33mConst\u001b[39m(\u001b[32m10\u001b[39m))\n",
       "  )\n",
       ")\n",
       "\u001b[36me4\u001b[39m: \u001b[32mFunCall\u001b[39m = \u001b[33mFunCall\u001b[39m(\u001b[33mIdent\u001b[39m(\u001b[32m\"foo\"\u001b[39m), \u001b[33mConst\u001b[39m(\u001b[32m12\u001b[39m))\n",
       "\u001b[36mp2\u001b[39m: \u001b[32mMain\u001b[39m = \u001b[33mMain\u001b[39m(\n",
       "  \u001b[33mLetRec2\u001b[39m(\n",
       "    \u001b[32m\"foo\"\u001b[39m,\n",
       "    \u001b[32m\"x\"\u001b[39m,\n",
       "    \u001b[33mITE\u001b[39m(\n",
       "      \u001b[33mGeq\u001b[39m(\u001b[33mIdent\u001b[39m(\u001b[32m\"x\"\u001b[39m), \u001b[33mConst\u001b[39m(\u001b[32m0\u001b[39m)),\n",
       "      \u001b[33mIdent\u001b[39m(\u001b[32m\"x\"\u001b[39m),\n",
       "      \u001b[33mFunCall\u001b[39m(\u001b[33mIdent\u001b[39m(\u001b[32m\"bar\"\u001b[39m), \u001b[33mPlus\u001b[39m(\u001b[33mIdent\u001b[39m(\u001b[32m\"x\"\u001b[39m), \u001b[33mConst\u001b[39m(\u001b[32m1\u001b[39m)))\n",
       "    ),\n",
       "    \u001b[32m\"bar\"\u001b[39m,\n",
       "    \u001b[32m\"x\"\u001b[39m,\n",
       "    \u001b[33mITE\u001b[39m(\n",
       "      \u001b[33mGeq\u001b[39m(\u001b[33mConst\u001b[39m(\u001b[32m1\u001b[39m), \u001b[33mIdent\u001b[39m(\u001b[32m\"x\"\u001b[39m)),\n",
       "      \u001b[33mPlus\u001b[39m(\u001b[33mConst\u001b[39m(\u001b[32m2\u001b[39m), \u001b[33mIdent\u001b[39m(\u001b[32m\"x\"\u001b[39m)),\n",
       "      \u001b[33mFunCall\u001b[39m(\u001b[33mIdent\u001b[39m(\u001b[32m\"foo\"\u001b[39m), \u001b[33mMinus\u001b[39m(\u001b[33mIdent\u001b[39m(\u001b[32m\"x\"\u001b[39m), \u001b[33mConst\u001b[39m(\u001b[32m2\u001b[39m)))\n",
       "    ),\n",
       "    \u001b[33mFunCall\u001b[39m(\u001b[33mIdent\u001b[39m(\u001b[32m\"foo\"\u001b[39m), \u001b[33mConst\u001b[39m(\u001b[32m12\u001b[39m))\n",
       "  )\n",
       ")\n",
       "\u001b[36me5\u001b[39m: \u001b[32mFunCall\u001b[39m = \u001b[33mFunCall\u001b[39m(\u001b[33mIdent\u001b[39m(\u001b[32m\"foo\"\u001b[39m), \u001b[33mConst\u001b[39m(\u001b[32m-12\u001b[39m))\n",
       "\u001b[36mp3\u001b[39m: \u001b[32mMain\u001b[39m = \u001b[33mMain\u001b[39m(\n",
       "  \u001b[33mLetRec2\u001b[39m(\n",
       "    \u001b[32m\"foo\"\u001b[39m,\n",
       "    \u001b[32m\"x\"\u001b[39m,\n",
       "    \u001b[33mITE\u001b[39m(\n",
       "      \u001b[33mGeq\u001b[39m(\u001b[33mIdent\u001b[39m(\u001b[32m\"x\"\u001b[39m), \u001b[33mConst\u001b[39m(\u001b[32m0\u001b[39m)),\n",
       "      \u001b[33mIdent\u001b[39m(\u001b[32m\"x\"\u001b[39m),\n",
       "      \u001b[33mFunCall\u001b[39m(\u001b[33mIdent\u001b[39m(\u001b[32m\"bar\"\u001b[39m), \u001b[33mPlus\u001b[39m(\u001b[33mIdent\u001b[39m(\u001b[32m\"x\"\u001b[39m), \u001b[33mConst\u001b[39m(\u001b[32m1\u001b[39m)))\n",
       "    ),\n",
       "    \u001b[32m\"bar\"\u001b[39m,\n",
       "    \u001b[32m\"x\"\u001b[39m,\n",
       "    \u001b[33mITE\u001b[39m(\n",
       "      \u001b[33mGeq\u001b[39m(\u001b[33mConst\u001b[39m(\u001b[32m1\u001b[39m), \u001b[33mIdent\u001b[39m(\u001b[32m\"x\"\u001b[39m)),\n",
       "      \u001b[33mPlus\u001b[39m(\u001b[33mConst\u001b[39m(\u001b[32m2\u001b[39m), \u001b[33mIdent\u001b[39m(\u001b[32m\"x\"\u001b[39m)),\n",
       "      \u001b[33mFunCall\u001b[39m(\u001b[33mIdent\u001b[39m(\u001b[32m\"foo\"\u001b[39m), \u001b[33mMinus\u001b[39m(\u001b[33mIdent\u001b[39m(\u001b[32m\"x\"\u001b[39m), \u001b[33mConst\u001b[39m(\u001b[32m2\u001b[39m)))\n",
       "    ),\n",
       "    \u001b[33mFunCall\u001b[39m(\u001b[33mIdent\u001b[39m(\u001b[32m\"foo\"\u001b[39m), \u001b[33mConst\u001b[39m(\u001b[32m-12\u001b[39m))\n",
       "  )\n",
       ")\n",
       "\u001b[36me6\u001b[39m: \u001b[32mFunCall\u001b[39m = \u001b[33mFunCall\u001b[39m(\u001b[33mIdent\u001b[39m(\u001b[32m\"bar\"\u001b[39m), \u001b[33mConst\u001b[39m(\u001b[32m-12\u001b[39m))\n",
       "\u001b[36mp4\u001b[39m: \u001b[32mMain\u001b[39m = \u001b[33mMain\u001b[39m(\n",
       "  \u001b[33mLetRec2\u001b[39m(\n",
       "    \u001b[32m\"foo\"\u001b[39m,\n",
       "    \u001b[32m\"x\"\u001b[39m,\n",
       "    \u001b[33mITE\u001b[39m(\n",
       "      \u001b[33mGeq\u001b[39m(\u001b[33mIdent\u001b[39m(\u001b[32m\"x\"\u001b[39m), \u001b[33mConst\u001b[39m(\u001b[32m0\u001b[39m)),\n",
       "      \u001b[33mIdent\u001b[39m(\u001b[32m\"x\"\u001b[39m),\n",
       "      \u001b[33mFunCall\u001b[39m(\u001b[33mIdent\u001b[39m(\u001b[32m\"bar\"\u001b[39m), \u001b[33mPlus\u001b[39m(\u001b[33mIdent\u001b[39m(\u001b[32m\"x\"\u001b[39m), \u001b[33mConst\u001b[39m(\u001b[32m1\u001b[39m)))\n",
       "    ),\n",
       "    \u001b[32m\"bar\"\u001b[39m,\n",
       "    \u001b[32m\"x\"\u001b[39m,\n",
       "    \u001b[33mITE\u001b[39m(\n",
       "      \u001b[33mGeq\u001b[39m(\u001b[33mConst\u001b[39m(\u001b[32m1\u001b[39m), \u001b[33mIdent\u001b[39m(\u001b[32m\"x\"\u001b[39m)),\n",
       "      \u001b[33mPlus\u001b[39m(\u001b[33mConst\u001b[39m(\u001b[32m2\u001b[39m), \u001b[33mIdent\u001b[39m(\u001b[32m\"x\"\u001b[39m)),\n",
       "      \u001b[33mFunCall\u001b[39m(\u001b[33mIdent\u001b[39m(\u001b[32m\"foo\"\u001b[39m), \u001b[33mMinus\u001b[39m(\u001b[33mIdent\u001b[39m(\u001b[32m\"x\"\u001b[39m), \u001b[33mConst\u001b[39m(\u001b[32m2\u001b[39m)))\n",
       "    ),\n",
       "    \u001b[33mFunCall\u001b[39m(\u001b[33mIdent\u001b[39m(\u001b[32m\"bar\"\u001b[39m), \u001b[33mConst\u001b[39m(\u001b[32m-12\u001b[39m))\n",
       "  )\n",
       ")\n",
       "\u001b[36me7\u001b[39m: \u001b[32mFunCall\u001b[39m = \u001b[33mFunCall\u001b[39m(\u001b[33mIdent\u001b[39m(\u001b[32m\"bar\"\u001b[39m), \u001b[33mConst\u001b[39m(\u001b[32m2\u001b[39m))\n",
       "\u001b[36mp5\u001b[39m: \u001b[32mMain\u001b[39m = \u001b[33mMain\u001b[39m(\n",
       "  \u001b[33mLetRec2\u001b[39m(\n",
       "    \u001b[32m\"foo\"\u001b[39m,\n",
       "    \u001b[32m\"x\"\u001b[39m,\n",
       "    \u001b[33mITE\u001b[39m(\n",
       "      \u001b[33mGeq\u001b[39m(\u001b[33mIdent\u001b[39m(\u001b[32m\"x\"\u001b[39m), \u001b[33mConst\u001b[39m(\u001b[32m0\u001b[39m)),\n",
       "      \u001b[33mIdent\u001b[39m(\u001b[32m\"x\"\u001b[39m),\n",
       "      \u001b[33mFunCall\u001b[39m(\u001b[33mIdent\u001b[39m(\u001b[32m\"bar\"\u001b[39m), \u001b[33mPlus\u001b[39m(\u001b[33mIdent\u001b[39m(\u001b[32m\"x\"\u001b[39m), \u001b[33mConst\u001b[39m(\u001b[32m1\u001b[39m)))\n",
       "    ),\n",
       "    \u001b[32m\"bar\"\u001b[39m,\n",
       "    \u001b[32m\"x\"\u001b[39m,\n",
       "    \u001b[33mITE\u001b[39m(\n",
       "      \u001b[33mGeq\u001b[39m(\u001b[33mConst\u001b[39m(\u001b[32m1\u001b[39m), \u001b[33mIdent\u001b[39m(\u001b[32m\"x\"\u001b[39m)),\n",
       "      \u001b[33mPlus\u001b[39m(\u001b[33mConst\u001b[39m(\u001b[32m2\u001b[39m), \u001b[33mIdent\u001b[39m(\u001b[32m\"x\"\u001b[39m)),\n",
       "      \u001b[33mFunCall\u001b[39m(\u001b[33mIdent\u001b[39m(\u001b[32m\"foo\"\u001b[39m), \u001b[33mMinus\u001b[39m(\u001b[33mIdent\u001b[39m(\u001b[32m\"x\"\u001b[39m), \u001b[33mConst\u001b[39m(\u001b[32m2\u001b[39m)))\n",
       "    ),\n",
       "    \u001b[33mFunCall\u001b[39m(\u001b[33mIdent\u001b[39m(\u001b[32m\"bar\"\u001b[39m), \u001b[33mConst\u001b[39m(\u001b[32m2\u001b[39m))\n",
       "  )\n",
       ")"
      ]
     },
     "execution_count": 10,
     "metadata": {},
     "output_type": "execute_result"
    }
   ],
   "source": [
    "val x = Ident(\"x\")\n",
    "val y = Ident(\"y\")\n",
    "val foo = Ident(\"foo\")\n",
    "val bar = Ident(\"bar\")\n",
    "\n",
    "val e1 = ITE( Geq(x, Const(0)), x, FunCall(bar, Plus(x, Const(1)))) // if x >= 0 then x else bar(1 + x)\n",
    "val e2 = ITE( Geq(Const(1), x), Plus(Const(2), x), FunCall(foo, Minus(x, Const(2)))) // if 1 >= x then 2 + x else foo(x-2)\n",
    "val e3 = FunCall(bar, Const(10))\n",
    "\n",
    "val lr2 = LetRec2(\"foo\", \"x\", e1, \"bar\", \"x\", e2, e3)\n",
    "val p1 = Main(lr2)\n",
    "assert(evalProgram(p1) == NumVal(8), \"Test 1 of Set 1 failed\")\n",
    "\n",
    "val e4 = FunCall(foo, Const(12))\n",
    "val p2 = Main(LetRec2(\"foo\", \"x\", e1, \"bar\", \"x\", e2, e4))\n",
    "assert(evalProgram(p2) == NumVal(12), \"Test 2 of Set 1 failed\")\n",
    "\n",
    "val e5 = FunCall(foo, Const(-12))\n",
    "val p3 = Main(LetRec2(\"foo\", \"x\", e1, \"bar\", \"x\", e2, e5))\n",
    "assert(evalProgram(p3) == NumVal(-9), \"Test 3 of Set 1 failed\")\n",
    "\n",
    "val e6 = FunCall(bar, Const(-12))\n",
    "val p4 = Main(LetRec2(\"foo\", \"x\", e1, \"bar\", \"x\", e2, e6))\n",
    "assert(evalProgram(p4) == NumVal(-10), \"Test 4 of Set 1 failed\")\n",
    "\n",
    "val e7 = FunCall(bar, Const(2))\n",
    "val p5 = Main(LetRec2(\"foo\", \"x\", e1, \"bar\", \"x\", e2, e7))\n",
    "assert(evalProgram(p5) == NumVal(0), \"Test 5 of Set 1 failed\")\n",
    "\n",
    "passed(5)"
   ]
  },
  {
   "cell_type": "code",
   "execution_count": 11,
   "metadata": {
    "deletable": false,
    "editable": false,
    "nbgrader": {
     "cell_type": "code",
     "checksum": "24bb952685610a4419a7463939448924",
     "grade": true,
     "grade_id": "cell-e769ab41f771a1c1",
     "locked": true,
     "points": 5,
     "schema_version": 3,
     "solution": false,
     "task": false
    }
   },
   "outputs": [
    {
     "name": "stdout",
     "output_type": "stream",
     "text": [
      "\n",
      "*** Tests Passed (5 points) ***\n"
     ]
    },
    {
     "data": {
      "text/plain": [
       "\u001b[36mx\u001b[39m: \u001b[32mIdent\u001b[39m = \u001b[33mIdent\u001b[39m(\u001b[32m\"x\"\u001b[39m)\n",
       "\u001b[36my\u001b[39m: \u001b[32mIdent\u001b[39m = \u001b[33mIdent\u001b[39m(\u001b[32m\"y\"\u001b[39m)\n",
       "\u001b[36mpos\u001b[39m: \u001b[32mIdent\u001b[39m = \u001b[33mIdent\u001b[39m(\u001b[32m\"pos\"\u001b[39m)\n",
       "\u001b[36mneg\u001b[39m: \u001b[32mIdent\u001b[39m = \u001b[33mIdent\u001b[39m(\u001b[32m\"neg\"\u001b[39m)\n",
       "\u001b[36me11\u001b[39m: \u001b[32mITE\u001b[39m = \u001b[33mITE\u001b[39m(\n",
       "  \u001b[33mGeq\u001b[39m(\u001b[33mConst\u001b[39m(\u001b[32m1\u001b[39m), \u001b[33mIdent\u001b[39m(\u001b[32m\"x\"\u001b[39m)),\n",
       "  \u001b[33mIdent\u001b[39m(\u001b[32m\"x\"\u001b[39m),\n",
       "  \u001b[33mPlus\u001b[39m(\u001b[33mConst\u001b[39m(\u001b[32m1\u001b[39m), \u001b[33mFunCall\u001b[39m(\u001b[33mIdent\u001b[39m(\u001b[32m\"pos\"\u001b[39m), \u001b[33mMinus\u001b[39m(\u001b[33mIdent\u001b[39m(\u001b[32m\"x\"\u001b[39m), \u001b[33mConst\u001b[39m(\u001b[32m2\u001b[39m))))\n",
       ")\n",
       "\u001b[36me1\u001b[39m: \u001b[32mITE\u001b[39m = \u001b[33mITE\u001b[39m(\n",
       "  \u001b[33mGeq\u001b[39m(\u001b[33mIdent\u001b[39m(\u001b[32m\"x\"\u001b[39m), \u001b[33mConst\u001b[39m(\u001b[32m0\u001b[39m)),\n",
       "  \u001b[33mITE\u001b[39m(\n",
       "    \u001b[33mGeq\u001b[39m(\u001b[33mConst\u001b[39m(\u001b[32m1\u001b[39m), \u001b[33mIdent\u001b[39m(\u001b[32m\"x\"\u001b[39m)),\n",
       "    \u001b[33mIdent\u001b[39m(\u001b[32m\"x\"\u001b[39m),\n",
       "    \u001b[33mPlus\u001b[39m(\u001b[33mConst\u001b[39m(\u001b[32m1\u001b[39m), \u001b[33mFunCall\u001b[39m(\u001b[33mIdent\u001b[39m(\u001b[32m\"pos\"\u001b[39m), \u001b[33mMinus\u001b[39m(\u001b[33mIdent\u001b[39m(\u001b[32m\"x\"\u001b[39m), \u001b[33mConst\u001b[39m(\u001b[32m2\u001b[39m))))\n",
       "  ),\n",
       "  \u001b[33mFunCall\u001b[39m(\u001b[33mIdent\u001b[39m(\u001b[32m\"neg\"\u001b[39m), \u001b[33mIdent\u001b[39m(\u001b[32m\"x\"\u001b[39m))\n",
       ")\n",
       "\u001b[36me2\u001b[39m: \u001b[32mITE\u001b[39m = \u001b[33mITE\u001b[39m(\n",
       "  \u001b[33mGeq\u001b[39m(\u001b[33mConst\u001b[39m(\u001b[32m0\u001b[39m), \u001b[33mIdent\u001b[39m(\u001b[32m\"y\"\u001b[39m)),\n",
       "  \u001b[33mFunCall\u001b[39m(\u001b[33mIdent\u001b[39m(\u001b[32m\"pos\"\u001b[39m), \u001b[33mPlus\u001b[39m(\u001b[33mConst\u001b[39m(\u001b[32m2\u001b[39m), \u001b[33mMult\u001b[39m(\u001b[33mIdent\u001b[39m(\u001b[32m\"y\"\u001b[39m), \u001b[33mIdent\u001b[39m(\u001b[32m\"y\"\u001b[39m)))),\n",
       "  \u001b[33mFunCall\u001b[39m(\u001b[33mIdent\u001b[39m(\u001b[32m\"pos\"\u001b[39m), \u001b[33mMinus\u001b[39m(\u001b[33mConst\u001b[39m(\u001b[32m2\u001b[39m), \u001b[33mIdent\u001b[39m(\u001b[32m\"y\"\u001b[39m)))\n",
       ")\n",
       "\u001b[36mt1\u001b[39m: \u001b[32mFunCall\u001b[39m = \u001b[33mFunCall\u001b[39m(\u001b[33mIdent\u001b[39m(\u001b[32m\"neg\"\u001b[39m), \u001b[33mConst\u001b[39m(\u001b[32m10\u001b[39m))\n",
       "\u001b[36mlr1\u001b[39m: \u001b[32mLetRec2\u001b[39m = \u001b[33mLetRec2\u001b[39m(\n",
       "  \u001b[32m\"pos\"\u001b[39m,\n",
       "  \u001b[32m\"x\"\u001b[39m,\n",
       "  \u001b[33mITE\u001b[39m(\n",
       "    \u001b[33mGeq\u001b[39m(\u001b[33mIdent\u001b[39m(\u001b[32m\"x\"\u001b[39m), \u001b[33mConst\u001b[39m(\u001b[32m0\u001b[39m)),\n",
       "    \u001b[33mITE\u001b[39m(\n",
       "      \u001b[33mGeq\u001b[39m(\u001b[33mConst\u001b[39m(\u001b[32m1\u001b[39m), \u001b[33mIdent\u001b[39m(\u001b[32m\"x\"\u001b[39m)),\n",
       "      \u001b[33mIdent\u001b[39m(\u001b[32m\"x\"\u001b[39m),\n",
       "      \u001b[33mPlus\u001b[39m(\u001b[33mConst\u001b[39m(\u001b[32m1\u001b[39m), \u001b[33mFunCall\u001b[39m(\u001b[33mIdent\u001b[39m(\u001b[32m\"pos\"\u001b[39m), \u001b[33mMinus\u001b[39m(\u001b[33mIdent\u001b[39m(\u001b[32m\"x\"\u001b[39m), \u001b[33mConst\u001b[39m(\u001b[32m2\u001b[39m))))\n",
       "    ),\n",
       "    \u001b[33mFunCall\u001b[39m(\u001b[33mIdent\u001b[39m(\u001b[32m\"neg\"\u001b[39m), \u001b[33mIdent\u001b[39m(\u001b[32m\"x\"\u001b[39m))\n",
       "  ),\n",
       "  \u001b[32m\"neg\"\u001b[39m,\n",
       "  \u001b[32m\"y\"\u001b[39m,\n",
       "  \u001b[33mITE\u001b[39m(\n",
       "    \u001b[33mGeq\u001b[39m(\u001b[33mConst\u001b[39m(\u001b[32m0\u001b[39m), \u001b[33mIdent\u001b[39m(\u001b[32m\"y\"\u001b[39m)),\n",
       "    \u001b[33mFunCall\u001b[39m(\u001b[33mIdent\u001b[39m(\u001b[32m\"pos\"\u001b[39m), \u001b[33mPlus\u001b[39m(\u001b[33mConst\u001b[39m(\u001b[32m2\u001b[39m), \u001b[33mMult\u001b[39m(\u001b[33mIdent\u001b[39m(\u001b[32m\"y\"\u001b[39m), \u001b[33mIdent\u001b[39m(\u001b[32m\"y\"\u001b[39m)))),\n",
       "    \u001b[33mFunCall\u001b[39m(\u001b[33mIdent\u001b[39m(\u001b[32m\"pos\"\u001b[39m), \u001b[33mMinus\u001b[39m(\u001b[33mConst\u001b[39m(\u001b[32m2\u001b[39m), \u001b[33mIdent\u001b[39m(\u001b[32m\"y\"\u001b[39m)))\n",
       "  ),\n",
       "  \u001b[33mFunCall\u001b[39m(\u001b[33mIdent\u001b[39m(\u001b[32m\"neg\"\u001b[39m), \u001b[33mConst\u001b[39m(\u001b[32m10\u001b[39m))\n",
       ")\n",
       "\u001b[36mp1\u001b[39m: \u001b[32mMain\u001b[39m = \u001b[33mMain\u001b[39m(\n",
       "  \u001b[33mLetRec2\u001b[39m(\n",
       "    \u001b[32m\"pos\"\u001b[39m,\n",
       "    \u001b[32m\"x\"\u001b[39m,\n",
       "    \u001b[33mITE\u001b[39m(\n",
       "      \u001b[33mGeq\u001b[39m(\u001b[33mIdent\u001b[39m(\u001b[32m\"x\"\u001b[39m), \u001b[33mConst\u001b[39m(\u001b[32m0\u001b[39m)),\n",
       "      \u001b[33mITE\u001b[39m(\n",
       "        \u001b[33mGeq\u001b[39m(\u001b[33mConst\u001b[39m(\u001b[32m1\u001b[39m), \u001b[33mIdent\u001b[39m(\u001b[32m\"x\"\u001b[39m)),\n",
       "        \u001b[33mIdent\u001b[39m(\u001b[32m\"x\"\u001b[39m),\n",
       "        \u001b[33mPlus\u001b[39m(\u001b[33mConst\u001b[39m(\u001b[32m1\u001b[39m), \u001b[33mFunCall\u001b[39m(\u001b[33mIdent\u001b[39m(\u001b[32m\"pos\"\u001b[39m), \u001b[33mMinus\u001b[39m(\u001b[33mIdent\u001b[39m(\u001b[32m\"x\"\u001b[39m), \u001b[33mConst\u001b[39m(\u001b[32m2\u001b[39m))))\n",
       "      ),\n",
       "      \u001b[33mFunCall\u001b[39m(\u001b[33mIdent\u001b[39m(\u001b[32m\"neg\"\u001b[39m), \u001b[33mIdent\u001b[39m(\u001b[32m\"x\"\u001b[39m))\n",
       "    ),\n",
       "    \u001b[32m\"neg\"\u001b[39m,\n",
       "    \u001b[32m\"y\"\u001b[39m,\n",
       "    \u001b[33mITE\u001b[39m(\n",
       "      \u001b[33mGeq\u001b[39m(\u001b[33mConst\u001b[39m(\u001b[32m0\u001b[39m), \u001b[33mIdent\u001b[39m(\u001b[32m\"y\"\u001b[39m)),\n",
       "      \u001b[33mFunCall\u001b[39m(\u001b[33mIdent\u001b[39m(\u001b[32m\"pos\"\u001b[39m), \u001b[33mPlus\u001b[39m(\u001b[33mConst\u001b[39m(\u001b[32m2\u001b[39m), \u001b[33mMult\u001b[39m(\u001b[33mIdent\u001b[39m(\u001b[32m\"y\"\u001b[39m), \u001b[33mIdent\u001b[39m(\u001b[32m\"y\"\u001b[39m)))),\n",
       "      \u001b[33mFunCall\u001b[39m(\u001b[33mIdent\u001b[39m(\u001b[32m\"pos\"\u001b[39m), \u001b[33mMinus\u001b[39m(\u001b[33mConst\u001b[39m(\u001b[32m2\u001b[39m), \u001b[33mIdent\u001b[39m(\u001b[32m\"y\"\u001b[39m)))\n",
       "    ),\n",
       "    \u001b[33mFunCall\u001b[39m(\u001b[33mIdent\u001b[39m(\u001b[32m\"neg\"\u001b[39m), \u001b[33mConst\u001b[39m(\u001b[32m10\u001b[39m))\n",
       "  )\n",
       ")\n",
       "\u001b[36mt2\u001b[39m: \u001b[32mFunCall\u001b[39m = \u001b[33mFunCall\u001b[39m(\u001b[33mIdent\u001b[39m(\u001b[32m\"pos\"\u001b[39m), \u001b[33mConst\u001b[39m(\u001b[32m-8\u001b[39m))\n",
       "\u001b[36mlr2\u001b[39m: \u001b[32mLetRec2\u001b[39m = \u001b[33mLetRec2\u001b[39m(\n",
       "  \u001b[32m\"pos\"\u001b[39m,\n",
       "  \u001b[32m\"x\"\u001b[39m,\n",
       "  \u001b[33mITE\u001b[39m(\n",
       "    \u001b[33mGeq\u001b[39m(\u001b[33mIdent\u001b[39m(\u001b[32m\"x\"\u001b[39m), \u001b[33mConst\u001b[39m(\u001b[32m0\u001b[39m)),\n",
       "    \u001b[33mITE\u001b[39m(\n",
       "      \u001b[33mGeq\u001b[39m(\u001b[33mConst\u001b[39m(\u001b[32m1\u001b[39m), \u001b[33mIdent\u001b[39m(\u001b[32m\"x\"\u001b[39m)),\n",
       "      \u001b[33mIdent\u001b[39m(\u001b[32m\"x\"\u001b[39m),\n",
       "      \u001b[33mPlus\u001b[39m(\u001b[33mConst\u001b[39m(\u001b[32m1\u001b[39m), \u001b[33mFunCall\u001b[39m(\u001b[33mIdent\u001b[39m(\u001b[32m\"pos\"\u001b[39m), \u001b[33mMinus\u001b[39m(\u001b[33mIdent\u001b[39m(\u001b[32m\"x\"\u001b[39m), \u001b[33mConst\u001b[39m(\u001b[32m2\u001b[39m))))\n",
       "    ),\n",
       "    \u001b[33mFunCall\u001b[39m(\u001b[33mIdent\u001b[39m(\u001b[32m\"neg\"\u001b[39m), \u001b[33mIdent\u001b[39m(\u001b[32m\"x\"\u001b[39m))\n",
       "  ),\n",
       "  \u001b[32m\"neg\"\u001b[39m,\n",
       "  \u001b[32m\"y\"\u001b[39m,\n",
       "  \u001b[33mITE\u001b[39m(\n",
       "    \u001b[33mGeq\u001b[39m(\u001b[33mConst\u001b[39m(\u001b[32m0\u001b[39m), \u001b[33mIdent\u001b[39m(\u001b[32m\"y\"\u001b[39m)),\n",
       "    \u001b[33mFunCall\u001b[39m(\u001b[33mIdent\u001b[39m(\u001b[32m\"pos\"\u001b[39m), \u001b[33mPlus\u001b[39m(\u001b[33mConst\u001b[39m(\u001b[32m2\u001b[39m), \u001b[33mMult\u001b[39m(\u001b[33mIdent\u001b[39m(\u001b[32m\"y\"\u001b[39m), \u001b[33mIdent\u001b[39m(\u001b[32m\"y\"\u001b[39m)))),\n",
       "    \u001b[33mFunCall\u001b[39m(\u001b[33mIdent\u001b[39m(\u001b[32m\"pos\"\u001b[39m), \u001b[33mMinus\u001b[39m(\u001b[33mConst\u001b[39m(\u001b[32m2\u001b[39m), \u001b[33mIdent\u001b[39m(\u001b[32m\"y\"\u001b[39m)))\n",
       "  ),\n",
       "  \u001b[33mFunCall\u001b[39m(\u001b[33mIdent\u001b[39m(\u001b[32m\"pos\"\u001b[39m), \u001b[33mConst\u001b[39m(\u001b[32m-8\u001b[39m))\n",
       ")\n",
       "\u001b[36mp2\u001b[39m: \u001b[32mMain\u001b[39m = \u001b[33mMain\u001b[39m(\n",
       "  \u001b[33mLetRec2\u001b[39m(\n",
       "    \u001b[32m\"pos\"\u001b[39m,\n",
       "    \u001b[32m\"x\"\u001b[39m,\n",
       "    \u001b[33mITE\u001b[39m(\n",
       "      \u001b[33mGeq\u001b[39m(\u001b[33mIdent\u001b[39m(\u001b[32m\"x\"\u001b[39m), \u001b[33mConst\u001b[39m(\u001b[32m0\u001b[39m)),\n",
       "      \u001b[33mITE\u001b[39m(\n",
       "        \u001b[33mGeq\u001b[39m(\u001b[33mConst\u001b[39m(\u001b[32m1\u001b[39m), \u001b[33mIdent\u001b[39m(\u001b[32m\"x\"\u001b[39m)),\n",
       "        \u001b[33mIdent\u001b[39m(\u001b[32m\"x\"\u001b[39m),\n",
       "        \u001b[33mPlus\u001b[39m(\u001b[33mConst\u001b[39m(\u001b[32m1\u001b[39m), \u001b[33mFunCall\u001b[39m(\u001b[33mIdent\u001b[39m(\u001b[32m\"pos\"\u001b[39m), \u001b[33mMinus\u001b[39m(\u001b[33mIdent\u001b[39m(\u001b[32m\"x\"\u001b[39m), \u001b[33mConst\u001b[39m(\u001b[32m2\u001b[39m))))\n",
       "      ),\n",
       "      \u001b[33mFunCall\u001b[39m(\u001b[33mIdent\u001b[39m(\u001b[32m\"neg\"\u001b[39m), \u001b[33mIdent\u001b[39m(\u001b[32m\"x\"\u001b[39m))\n",
       "    ),\n",
       "    \u001b[32m\"neg\"\u001b[39m,\n",
       "    \u001b[32m\"y\"\u001b[39m,\n",
       "    \u001b[33mITE\u001b[39m(\n",
       "      \u001b[33mGeq\u001b[39m(\u001b[33mConst\u001b[39m(\u001b[32m0\u001b[39m), \u001b[33mIdent\u001b[39m(\u001b[32m\"y\"\u001b[39m)),\n",
       "      \u001b[33mFunCall\u001b[39m(\u001b[33mIdent\u001b[39m(\u001b[32m\"pos\"\u001b[39m), \u001b[33mPlus\u001b[39m(\u001b[33mConst\u001b[39m(\u001b[32m2\u001b[39m), \u001b[33mMult\u001b[39m(\u001b[33mIdent\u001b[39m(\u001b[32m\"y\"\u001b[39m), \u001b[33mIdent\u001b[39m(\u001b[32m\"y\"\u001b[39m)))),\n",
       "      \u001b[33mFunCall\u001b[39m(\u001b[33mIdent\u001b[39m(\u001b[32m\"pos\"\u001b[39m), \u001b[33mMinus\u001b[39m(\u001b[33mConst\u001b[39m(\u001b[32m2\u001b[39m), \u001b[33mIdent\u001b[39m(\u001b[32m\"y\"\u001b[39m)))\n",
       "    ),\n",
       "    \u001b[33mFunCall\u001b[39m(\u001b[33mIdent\u001b[39m(\u001b[32m\"pos\"\u001b[39m), \u001b[33mConst\u001b[39m(\u001b[32m-8\u001b[39m))\n",
       "  )\n",
       ")\n",
       "\u001b[36mt3\u001b[39m: \u001b[32mFunCall\u001b[39m = \u001b[33mFunCall\u001b[39m(\u001b[33mIdent\u001b[39m(\u001b[32m\"pos\"\u001b[39m), \u001b[33mConst\u001b[39m(\u001b[32m-1\u001b[39m))\n",
       "\u001b[36mlr3\u001b[39m: \u001b[32mLetRec2\u001b[39m = \u001b[33mLetRec2\u001b[39m(\n",
       "  \u001b[32m\"pos\"\u001b[39m,\n",
       "  \u001b[32m\"x\"\u001b[39m,\n",
       "  \u001b[33mITE\u001b[39m(\n",
       "    \u001b[33mGeq\u001b[39m(\u001b[33mIdent\u001b[39m(\u001b[32m\"x\"\u001b[39m), \u001b[33mConst\u001b[39m(\u001b[32m0\u001b[39m)),\n",
       "    \u001b[33mITE\u001b[39m(\n",
       "      \u001b[33mGeq\u001b[39m(\u001b[33mConst\u001b[39m(\u001b[32m1\u001b[39m), \u001b[33mIdent\u001b[39m(\u001b[32m\"x\"\u001b[39m)),\n",
       "      \u001b[33mIdent\u001b[39m(\u001b[32m\"x\"\u001b[39m),\n",
       "      \u001b[33mPlus\u001b[39m(\u001b[33mConst\u001b[39m(\u001b[32m1\u001b[39m), \u001b[33mFunCall\u001b[39m(\u001b[33mIdent\u001b[39m(\u001b[32m\"pos\"\u001b[39m), \u001b[33mMinus\u001b[39m(\u001b[33mIdent\u001b[39m(\u001b[32m\"x\"\u001b[39m), \u001b[33mConst\u001b[39m(\u001b[32m2\u001b[39m))))\n",
       "    ),\n",
       "    \u001b[33mFunCall\u001b[39m(\u001b[33mIdent\u001b[39m(\u001b[32m\"neg\"\u001b[39m), \u001b[33mIdent\u001b[39m(\u001b[32m\"x\"\u001b[39m))\n",
       "  ),\n",
       "  \u001b[32m\"neg\"\u001b[39m,\n",
       "  \u001b[32m\"y\"\u001b[39m,\n",
       "  \u001b[33mITE\u001b[39m(\n",
       "    \u001b[33mGeq\u001b[39m(\u001b[33mConst\u001b[39m(\u001b[32m0\u001b[39m), \u001b[33mIdent\u001b[39m(\u001b[32m\"y\"\u001b[39m)),\n",
       "    \u001b[33mFunCall\u001b[39m(\u001b[33mIdent\u001b[39m(\u001b[32m\"pos\"\u001b[39m), \u001b[33mPlus\u001b[39m(\u001b[33mConst\u001b[39m(\u001b[32m2\u001b[39m), \u001b[33mMult\u001b[39m(\u001b[33mIdent\u001b[39m(\u001b[32m\"y\"\u001b[39m), \u001b[33mIdent\u001b[39m(\u001b[32m\"y\"\u001b[39m)))),\n",
       "    \u001b[33mFunCall\u001b[39m(\u001b[33mIdent\u001b[39m(\u001b[32m\"pos\"\u001b[39m), \u001b[33mMinus\u001b[39m(\u001b[33mConst\u001b[39m(\u001b[32m2\u001b[39m), \u001b[33mIdent\u001b[39m(\u001b[32m\"y\"\u001b[39m)))\n",
       "  ),\n",
       "  \u001b[33mFunCall\u001b[39m(\u001b[33mIdent\u001b[39m(\u001b[32m\"pos\"\u001b[39m), \u001b[33mConst\u001b[39m(\u001b[32m-1\u001b[39m))\n",
       ")\n",
       "\u001b[36mp3\u001b[39m: \u001b[32mMain\u001b[39m = \u001b[33mMain\u001b[39m(\n",
       "  \u001b[33mLetRec2\u001b[39m(\n",
       "    \u001b[32m\"pos\"\u001b[39m,\n",
       "    \u001b[32m\"x\"\u001b[39m,\n",
       "    \u001b[33mITE\u001b[39m(\n",
       "      \u001b[33mGeq\u001b[39m(\u001b[33mIdent\u001b[39m(\u001b[32m\"x\"\u001b[39m), \u001b[33mConst\u001b[39m(\u001b[32m0\u001b[39m)),\n",
       "      \u001b[33mITE\u001b[39m(\n",
       "        \u001b[33mGeq\u001b[39m(\u001b[33mConst\u001b[39m(\u001b[32m1\u001b[39m), \u001b[33mIdent\u001b[39m(\u001b[32m\"x\"\u001b[39m)),\n",
       "        \u001b[33mIdent\u001b[39m(\u001b[32m\"x\"\u001b[39m),\n",
       "        \u001b[33mPlus\u001b[39m(\u001b[33mConst\u001b[39m(\u001b[32m1\u001b[39m), \u001b[33mFunCall\u001b[39m(\u001b[33mIdent\u001b[39m(\u001b[32m\"pos\"\u001b[39m), \u001b[33mMinus\u001b[39m(\u001b[33mIdent\u001b[39m(\u001b[32m\"x\"\u001b[39m), \u001b[33mConst\u001b[39m(\u001b[32m2\u001b[39m))))\n",
       "      ),\n",
       "      \u001b[33mFunCall\u001b[39m(\u001b[33mIdent\u001b[39m(\u001b[32m\"neg\"\u001b[39m), \u001b[33mIdent\u001b[39m(\u001b[32m\"x\"\u001b[39m))\n",
       "    ),\n",
       "    \u001b[32m\"neg\"\u001b[39m,\n",
       "    \u001b[32m\"y\"\u001b[39m,\n",
       "    \u001b[33mITE\u001b[39m(\n",
       "      \u001b[33mGeq\u001b[39m(\u001b[33mConst\u001b[39m(\u001b[32m0\u001b[39m), \u001b[33mIdent\u001b[39m(\u001b[32m\"y\"\u001b[39m)),\n",
       "      \u001b[33mFunCall\u001b[39m(\u001b[33mIdent\u001b[39m(\u001b[32m\"pos\"\u001b[39m), \u001b[33mPlus\u001b[39m(\u001b[33mConst\u001b[39m(\u001b[32m2\u001b[39m), \u001b[33mMult\u001b[39m(\u001b[33mIdent\u001b[39m(\u001b[32m\"y\"\u001b[39m), \u001b[33mIdent\u001b[39m(\u001b[32m\"y\"\u001b[39m)))),\n",
       "      \u001b[33mFunCall\u001b[39m(\u001b[33mIdent\u001b[39m(\u001b[32m\"pos\"\u001b[39m), \u001b[33mMinus\u001b[39m(\u001b[33mConst\u001b[39m(\u001b[32m2\u001b[39m), \u001b[33mIdent\u001b[39m(\u001b[32m\"y\"\u001b[39m)))\n",
       "    ),\n",
       "    \u001b[33mFunCall\u001b[39m(\u001b[33mIdent\u001b[39m(\u001b[32m\"pos\"\u001b[39m), \u001b[33mConst\u001b[39m(\u001b[32m-1\u001b[39m))\n",
       "  )\n",
       ")"
      ]
     },
     "execution_count": 11,
     "metadata": {},
     "output_type": "execute_result"
    }
   ],
   "source": [
    "/*\n",
    "let rec \n",
    "        pos = function (x) \n",
    "                 if (x >= 0)\n",
    "                 then\n",
    "                    if (x <= 0.5)\n",
    "                     then x\n",
    "                     else 0.5 + pos(x-1)\n",
    "                 else neg(x)\n",
    "        neg = function (y)\n",
    "                 if (y <= 0)\n",
    "                 then pos (1 + y * y)\n",
    "                 else pos(1 - y)\n",
    "   in \n",
    "     ...\n",
    "*/\n",
    "\n",
    "val x = Ident(\"x\")\n",
    "val y = Ident(\"y\")\n",
    "val pos = Ident(\"pos\")\n",
    "val neg = Ident(\"neg\")\n",
    "\n",
    "val e11 = ITE(Geq(Const(1), x), x, Plus(Const(1), FunCall(pos, Minus(x, Const(2)))))\n",
    "val e1 = ITE(Geq(x, Const(0)), e11, FunCall(neg, x))\n",
    "val e2 = ITE(Geq(Const(0), y), FunCall(pos, Plus(Const(2), Mult(y,y))), FunCall(pos, Minus(Const(2), y)))\n",
    "\n",
    "val t1 = FunCall(neg, Const(10))\n",
    "val lr1 = LetRec2(\"pos\", \"x\", e1, \"neg\", \"y\", e2, t1)\n",
    "val p1 = Main(lr1)\n",
    "\n",
    "\n",
    "assert(evalProgram(p1) == NumVal(33), \"Test 1 of set 2 failed\")\n",
    "\n",
    "val t2 = FunCall(pos, Const(-8))\n",
    "val lr2 = LetRec2(\"pos\", \"x\", e1, \"neg\", \"y\", e2, t2)\n",
    "val p2 = Main(lr2)\n",
    "assert(evalProgram(p2) == NumVal(33), \"Test 2 of set 2 failed\")\n",
    "\n",
    "\n",
    "\n",
    "val t3 = FunCall(pos, Const(-1))\n",
    "val lr3 = LetRec2(\"pos\", \"x\", e1, \"neg\", \"y\", e2, t3)\n",
    "val p3 = Main(lr3)\n",
    "assert(evalProgram(p3) == NumVal(2), \"Test 3 of set 2 failed\")\n",
    "\n",
    "\n",
    "passed(5)"
   ]
  },
  {
   "cell_type": "markdown",
   "metadata": {
    "deletable": false,
    "editable": false,
    "nbgrader": {
     "cell_type": "markdown",
     "checksum": "eddd114acd37f8ca62aae24191815253",
     "grade": false,
     "grade_id": "cell-fc0c5af0d6947d45",
     "locked": true,
     "schema_version": 3,
     "solution": false,
     "task": false
    }
   },
   "source": [
    "## Problem 2 (65 Points) : Adding Mutable References to Lettuce\n",
    "\n",
    "\n",
    "We will now discuss an extension of lettuce with mutable references. What are mutable references? \n",
    "\n",
    "- Mutable references are addresses to locations in memory that hold a value.  \n",
    "  - For instance, consider memory cell 1 holds the value `NumVal(10)`.\n",
    "  - A mutable reference is of the form `Ref(1)`, that tells us that this is a reference to memory address `1` and looking up address 1, we find the value `NumVal(10)` stored there.\n",
    "\n",
    "- We will have an abstraction of memory wherein, the memory has cells numbered 0, 1, 2, ... and each cell can hold a value. This could be a number, a closure, a boolean or another reference (reference to reference!), etc..\n",
    "\n",
    "We will augment Lettuce with three statements:\n",
    "- $NewRef(\\text{value})$, create a new memory cell and place `value` inside it. This returns a reference to the memory cell created.\n",
    "- $DeRef(\\text{reference})$, fetch the value stored in the memory cell that is referenced by `reference`.\n",
    "- $AssignRef(\\text{reference}, \\text{value})$, change the memory cell pointed to by `reference` to have the value `value`. \n",
    "\n",
    "References are very much like pointers in C/C++. However, the main difference is that pointers are very low level. Here our references can store arbitrary values inside them. Therefore, unlike pointers, the size of the memory being pointed to can be variable.\n",
    "\n",
    "- `NewRef` takes in an Expr1ession and makes a fresh reference. It them stores the value into this reference.\n",
    "- `DeRef` takes in an Expr1 but as you will see, the Expr1 needs to be a reference or else we will throw an error and bail.\n",
    "- `AssignRef` assigns a reference produced by evaluating its first arugment to the value from the second argument. What should assignment return? This depends on our design:\n"
   ]
  },
  {
   "cell_type": "markdown",
   "metadata": {
    "deletable": false,
    "editable": false,
    "nbgrader": {
     "cell_type": "markdown",
     "checksum": "de1d1016446d27e4c72cc03c15a5da55",
     "grade": false,
     "grade_id": "cell-8b12eb703ea76e1f",
     "locked": true,
     "schema_version": 3,
     "solution": false,
     "task": false
    }
   },
   "source": [
    "### Problem 2a (5 points) : Extend the grammar of a simple version of Lettuce to support mutable references:\n",
    "\n",
    "\n",
    "$$\\begin{array}{rcll}\n",
    "\\mathbf{Expr2} \\rightarrow&  \\\\\n",
    " &&\\ldots \\\\\n",
    " & | & NewRef(\\mathbf{Expr2}) & \\text{create a new reference and place the value of Expr2 in it.}\\\\\n",
    " & | & DeRef(\\mathbf{Expr2}) & \\text{dereference a reference and return the value}\\\\\n",
    " & | & AssignRef(\\mathbf{Expr2}, \\mathbf{Expr2}) & \\text{assign a reference to a value. }\n",
    "\\end{array}$$"
   ]
  },
  {
   "cell_type": "code",
   "execution_count": 12,
   "metadata": {
    "deletable": false,
    "nbgrader": {
     "cell_type": "code",
     "checksum": "3f340dd432dcab32e33d6e9c3683224b",
     "grade": false,
     "grade_id": "cell-37b9406e38fd23e6",
     "locked": false,
     "schema_version": 3,
     "solution": true,
     "task": false
    }
   },
   "outputs": [
    {
     "data": {
      "text/plain": [
       "defined \u001b[32mtrait\u001b[39m \u001b[36mProgram2\u001b[39m\n",
       "defined \u001b[32mclass\u001b[39m \u001b[36mMain2\u001b[39m\n",
       "defined \u001b[32mtrait\u001b[39m \u001b[36mExpr2\u001b[39m\n",
       "defined \u001b[32mclass\u001b[39m \u001b[36mConst\u001b[39m\n",
       "defined \u001b[32mclass\u001b[39m \u001b[36mIdent\u001b[39m\n",
       "defined \u001b[32mclass\u001b[39m \u001b[36mPlus\u001b[39m\n",
       "defined \u001b[32mclass\u001b[39m \u001b[36mMinus\u001b[39m\n",
       "defined \u001b[32mclass\u001b[39m \u001b[36mMult\u001b[39m\n",
       "defined \u001b[32mclass\u001b[39m \u001b[36mGeq\u001b[39m\n",
       "defined \u001b[32mclass\u001b[39m \u001b[36mEq\u001b[39m\n",
       "defined \u001b[32mclass\u001b[39m \u001b[36mITE\u001b[39m\n",
       "defined \u001b[32mclass\u001b[39m \u001b[36mLet\u001b[39m\n",
       "defined \u001b[32mclass\u001b[39m \u001b[36mFunDef\u001b[39m\n",
       "defined \u001b[32mclass\u001b[39m \u001b[36mFunCall\u001b[39m\n",
       "defined \u001b[32mclass\u001b[39m \u001b[36mNewRef\u001b[39m\n",
       "defined \u001b[32mclass\u001b[39m \u001b[36mDeRef\u001b[39m\n",
       "defined \u001b[32mclass\u001b[39m \u001b[36mAssignRef\u001b[39m"
      ]
     },
     "execution_count": 12,
     "metadata": {},
     "output_type": "execute_result"
    }
   ],
   "source": [
    "sealed trait Program2\n",
    "case class Main2(e: Expr2) extends Program2\n",
    "\n",
    "sealed trait Expr2\n",
    "\n",
    "case class Const(v: Int) extends Expr2\n",
    "case class Ident(s: String) extends Expr2\n",
    "case class Plus(e1: Expr2, e2: Expr2) extends Expr2\n",
    "case class Minus(e1: Expr2, e2: Expr2) extends Expr2\n",
    "case class Mult(e1: Expr2, e2: Expr2) extends Expr2\n",
    "case class Geq(e1: Expr2, e2:Expr2) extends Expr2\n",
    "case class Eq(e1: Expr2, e2: Expr2) extends Expr2\n",
    "case class ITE(e: Expr2, eIf: Expr2, eElse: Expr2) extends Expr2\n",
    "case class Let(s: String, defExpr2: Expr2, bodyExpr2: Expr2) extends Expr2\n",
    "case class FunDef(param: String, bodyExpr2: Expr2) extends Expr2\n",
    "case class FunCall(funCalled: Expr2, argExpr2: Expr2) extends Expr2\n",
    "\n",
    "case class NewRef(e: Expr2) extends Expr2\n",
    "case class DeRef(e: Expr2) extends Expr2\n",
    "case class AssignRef(ref: Expr2, e: Expr2) extends Expr2"
   ]
  },
  {
   "cell_type": "code",
   "execution_count": 13,
   "metadata": {
    "deletable": false,
    "editable": false,
    "nbgrader": {
     "cell_type": "code",
     "checksum": "af0dd8196b29bc0b6e7016c4dfd9baf2",
     "grade": true,
     "grade_id": "cell-f6aef834307cb47f",
     "locked": true,
     "points": 5,
     "schema_version": 3,
     "solution": false,
     "task": false
    }
   },
   "outputs": [
    {
     "name": "stdout",
     "output_type": "stream",
     "text": [
      "\n",
      "*** Tests Passed (5 points) ***\n"
     ]
    },
    {
     "data": {
      "text/plain": [
       "\u001b[36me1\u001b[39m: \u001b[32mNewRef\u001b[39m = \u001b[33mNewRef\u001b[39m(\u001b[33mConst\u001b[39m(\u001b[32m10\u001b[39m))\n",
       "\u001b[36me2\u001b[39m: \u001b[32mDeRef\u001b[39m = \u001b[33mDeRef\u001b[39m(\u001b[33mNewRef\u001b[39m(\u001b[33mConst\u001b[39m(\u001b[32m10\u001b[39m)))\n",
       "\u001b[36me3\u001b[39m: \u001b[32mAssignRef\u001b[39m = \u001b[33mAssignRef\u001b[39m(\u001b[33mNewRef\u001b[39m(\u001b[33mConst\u001b[39m(\u001b[32m10\u001b[39m)), \u001b[33mConst\u001b[39m(\u001b[32m11\u001b[39m))"
      ]
     },
     "execution_count": 13,
     "metadata": {},
     "output_type": "execute_result"
    }
   ],
   "source": [
    "val e1 = NewRef(Const(10))\n",
    "val e2 = DeRef(NewRef(Const(10)))\n",
    "val e3 = AssignRef(NewRef(Const(10)), Const(11))\n",
    "passed(5)"
   ]
  },
  {
   "cell_type": "markdown",
   "metadata": {
    "deletable": false,
    "editable": false,
    "nbgrader": {
     "cell_type": "markdown",
     "checksum": "b897ae8f6f93a453b19061fd2315723b",
     "grade": false,
     "grade_id": "cell-ce83768d95220092",
     "locked": true,
     "schema_version": 3,
     "solution": false,
     "task": false
    }
   },
   "source": [
    "### Problem 2b (5 points) : Extend Values to support references\n",
    "\n",
    "References are a possible value in Lettuce. Add reference to our value type.\n",
    "\n",
    "A reference value will look like `Reference(j)`, which is a reference to cell number j in our store. \n",
    "\n",
    "$$\\begin{array}{rcll}\n",
    "\\mathbf{Value2} \\rightarrow&  \\\\\n",
    " &&\\ldots \\\\\n",
    " & | & Reference(Int)\n",
    "\\end{array}$$"
   ]
  },
  {
   "cell_type": "code",
   "execution_count": 14,
   "metadata": {
    "deletable": false,
    "nbgrader": {
     "cell_type": "code",
     "checksum": "7fd103f3a30bec266a69176afac4e311",
     "grade": false,
     "grade_id": "cell-8ffe5c35be5a338e",
     "locked": false,
     "schema_version": 3,
     "solution": true,
     "task": false
    }
   },
   "outputs": [
    {
     "data": {
      "text/plain": [
       "defined \u001b[32mtrait\u001b[39m \u001b[36mValue2\u001b[39m\n",
       "defined \u001b[32mclass\u001b[39m \u001b[36mNumVal\u001b[39m\n",
       "defined \u001b[32mclass\u001b[39m \u001b[36mBinVal\u001b[39m\n",
       "defined \u001b[32mclass\u001b[39m \u001b[36mClosure\u001b[39m\n",
       "defined \u001b[32mclass\u001b[39m \u001b[36mReference\u001b[39m\n",
       "defined \u001b[32mobject\u001b[39m \u001b[36mErrorValue\u001b[39m"
      ]
     },
     "execution_count": 14,
     "metadata": {},
     "output_type": "execute_result"
    }
   ],
   "source": [
    "sealed trait Value2\n",
    "\n",
    "case class NumVal(f: Int) extends Value2\n",
    "case class BinVal(b: Boolean) extends Value2\n",
    "case class Closure(x: String, e: Expr2, pi: Map[String, Value2]) extends Value2\n",
    "case class Reference(f: Int) extends Value2\n",
    "case object ErrorValue extends Value2"
   ]
  },
  {
   "cell_type": "code",
   "execution_count": 15,
   "metadata": {
    "deletable": false,
    "editable": false,
    "nbgrader": {
     "cell_type": "code",
     "checksum": "79e3249d91602f484cc7d5442a18fdd4",
     "grade": true,
     "grade_id": "cell-d9007fb4850f68c8",
     "locked": true,
     "points": 5,
     "schema_version": 3,
     "solution": false,
     "task": false
    }
   },
   "outputs": [
    {
     "name": "stdout",
     "output_type": "stream",
     "text": [
      "\n",
      "*** Tests Passed (5 points) ***\n"
     ]
    },
    {
     "data": {
      "text/plain": [
       "\u001b[36mnewval\u001b[39m: \u001b[32mValue2\u001b[39m = \u001b[33mReference\u001b[39m(\u001b[32m10\u001b[39m)"
      ]
     },
     "execution_count": 15,
     "metadata": {},
     "output_type": "execute_result"
    }
   ],
   "source": [
    "val newval : Value2 = Reference(10)\n",
    "passed(5)"
   ]
  },
  {
   "cell_type": "markdown",
   "metadata": {
    "deletable": false,
    "editable": false,
    "nbgrader": {
     "cell_type": "markdown",
     "checksum": "b84c843562ce0503410aaefd9f733115",
     "grade": false,
     "grade_id": "cell-cc9bd9b010d2c622",
     "locked": true,
     "schema_version": 3,
     "solution": false,
     "task": false
    }
   },
   "source": [
    "### Problem 2c (10 points) : Mutable Store\n",
    "\n",
    "We need a mutable store to implement references\n",
    "\n",
    "To strat implementing a strore, we will assume that memory is \"unlimited\". \n",
    "Memory address are going to be numbered 0, 1, 2, .... with natural numbers and each address is going to be associated with a value. \n",
    "\n",
    "The store needs to support the following operations.\n",
    "\n",
    "- Create a new memory cell in the store and assign it to a value. This is exactly what will implement the `NewRef` operation. Let us call it ``createNewCell``. It will return the new store and the new cell number.\n",
    "\n",
    "$$ \\texttt{createNewCell} : Store \\rightarrow Value \\rightarrow (Store, Int) $$\n",
    "\n",
    "- Lookup the value of a memory cell. Let us call it ``lookupCellValue``. If the value does not exist, we will return error (and bail).\n",
    "\n",
    "$$ \\texttt{lookupCellValue} : Store \\rightarrow Int \\rightarrow Value $$\n",
    "\n",
    "- Assign a cell to a new value. Let us call it ``assignToCell``. This function returns the new store obtained.\n",
    "\n",
    "$$ \\texttt{assignToCell} : Store \\rightarrow Int \\rightarrow Value \\rightarrow Store $$\n",
    "\n"
   ]
  },
  {
   "cell_type": "code",
   "execution_count": 16,
   "metadata": {
    "deletable": false,
    "nbgrader": {
     "cell_type": "code",
     "checksum": "7466b35cdd9902c37dd06d11bf0cad5e",
     "grade": false,
     "grade_id": "cell-1a0bc1cc9cdfe3f3",
     "locked": false,
     "schema_version": 3,
     "solution": true,
     "task": false
    }
   },
   "outputs": [
    {
     "data": {
      "text/plain": [
       "defined \u001b[32mclass\u001b[39m \u001b[36mImmutableStore\u001b[39m\n",
       "defined \u001b[32mfunction\u001b[39m \u001b[36mcreateNewCell\u001b[39m\n",
       "defined \u001b[32mfunction\u001b[39m \u001b[36mlookupCellValue\u001b[39m\n",
       "defined \u001b[32mfunction\u001b[39m \u001b[36massignToCell\u001b[39m"
      ]
     },
     "execution_count": 16,
     "metadata": {},
     "output_type": "execute_result"
    }
   ],
   "source": [
    "case class ImmutableStore(val nCells: Int, val storeMap: Map[Int, Value2])\n",
    "\n",
    "\n",
    "\n",
    "def createNewCell(s: ImmutableStore, v: Value2): (ImmutableStore, Int) = s match {\n",
    "    case ImmutableStore(nCells, storeMap) => \n",
    "        val newStoreMap: Map[Int, Value2] = storeMap + (nCells -> v)\n",
    "        (ImmutableStore(nCells + 1, newStoreMap), nCells)\n",
    "}\n",
    "    \n",
    "def lookupCellValue(s: ImmutableStore, j: Int): Value2 = s match {\n",
    "    case ImmutableStore(nCells, storeMap) => \n",
    "        if (j < nCells) {\n",
    "            storeMap(j)\n",
    "        } else {\n",
    "            ErrorValue\n",
    "        }\n",
    "}\n",
    "    \n",
    "def assignToCell(s: ImmutableStore, j: Int, v: Value2): ImmutableStore = s match {\n",
    "    case ImmutableStore(nCells, storeMap) => \n",
    "        val newStoreMap = storeMap + (j -> v)\n",
    "        ImmutableStore(nCells, newStoreMap)\n",
    "}"
   ]
  },
  {
   "cell_type": "code",
   "execution_count": 17,
   "metadata": {
    "deletable": false,
    "editable": false,
    "nbgrader": {
     "cell_type": "code",
     "checksum": "22cb5a2c37e8def29d21e807a850fe6a",
     "grade": true,
     "grade_id": "cell-2b0c7cde87a6fceb",
     "locked": true,
     "points": 10,
     "schema_version": 3,
     "solution": false,
     "task": false
    }
   },
   "outputs": [
    {
     "name": "stdout",
     "output_type": "stream",
     "text": [
      "\n",
      "*** Tests Passed (10 points) ***\n"
     ]
    },
    {
     "data": {
      "text/plain": [
       "\u001b[36mstore0\u001b[39m: \u001b[32mImmutableStore\u001b[39m = \u001b[33mImmutableStore\u001b[39m(\u001b[32m0\u001b[39m, \u001b[33mMap\u001b[39m())\n",
       "\u001b[36mstore1\u001b[39m: \u001b[32mImmutableStore\u001b[39m = \u001b[33mImmutableStore\u001b[39m(\u001b[32m1\u001b[39m, \u001b[33mMap\u001b[39m(\u001b[32m0\u001b[39m -> \u001b[33mNumVal\u001b[39m(\u001b[32m10\u001b[39m)))\n",
       "\u001b[36mj\u001b[39m: \u001b[32mInt\u001b[39m = \u001b[32m0\u001b[39m\n",
       "\u001b[36mstore2\u001b[39m: \u001b[32mImmutableStore\u001b[39m = \u001b[33mImmutableStore\u001b[39m(\u001b[32m1\u001b[39m, \u001b[33mMap\u001b[39m(\u001b[32m0\u001b[39m -> \u001b[33mNumVal\u001b[39m(\u001b[32m20\u001b[39m)))\n",
       "\u001b[36mlookupold\u001b[39m: \u001b[32mValue2\u001b[39m = \u001b[33mNumVal\u001b[39m(\u001b[32m10\u001b[39m)\n",
       "\u001b[36mlookupnew\u001b[39m: \u001b[32mValue2\u001b[39m = \u001b[33mNumVal\u001b[39m(\u001b[32m20\u001b[39m)"
      ]
     },
     "execution_count": 17,
     "metadata": {},
     "output_type": "execute_result"
    }
   ],
   "source": [
    "val store0 = new ImmutableStore(0, Map())\n",
    "val (store1,j) = createNewCell(store0, NumVal(10))\n",
    "val store2 = assignToCell(store1, j, NumVal(20) )\n",
    "val lookupold = lookupCellValue(store1, j)\n",
    "val lookupnew = lookupCellValue(store2, j)\n",
    "\n",
    "assert(lookupold == NumVal(10))\n",
    "assert(lookupnew == NumVal(20))\n",
    "passed(10)"
   ]
  },
  {
   "cell_type": "markdown",
   "metadata": {
    "deletable": false,
    "editable": false,
    "nbgrader": {
     "cell_type": "markdown",
     "checksum": "edc5549e76ac82b92a2e2b8ebf40c540",
     "grade": false,
     "grade_id": "cell-3b6621008cb226b5",
     "locked": true,
     "schema_version": 3,
     "solution": false,
     "task": false
    }
   },
   "source": [
    "### Problem 2d (20 points): Eval\n",
    "\n",
    "Write the ``evalExpr2`` function that supports mutable references.\n",
    "\n",
    "$$\\texttt{evalExpr} : Expr \\rightarrow Store \\rightarrow Value$$\n",
    "\n",
    "Important: Side effects happen in the order they appear in the program."
   ]
  },
  {
   "cell_type": "code",
   "execution_count": 18,
   "metadata": {
    "deletable": false,
    "nbgrader": {
     "cell_type": "code",
     "checksum": "1ec0464639a789dd4e2ce2e9af16cb0e",
     "grade": false,
     "grade_id": "cell-95502d24f6c19578",
     "locked": false,
     "schema_version": 3,
     "solution": true,
     "task": false
    }
   },
   "outputs": [
    {
     "data": {
      "text/plain": [
       "defined \u001b[32mfunction\u001b[39m \u001b[36mevalExpr2\u001b[39m\n",
       "defined \u001b[32mfunction\u001b[39m \u001b[36mevalProgram2\u001b[39m"
      ]
     },
     "execution_count": 18,
     "metadata": {},
     "output_type": "execute_result"
    }
   ],
   "source": [
    "def evalExpr2(e: Expr2, env: Map[String, Value2], store: ImmutableStore) : (Value2, ImmutableStore) = {\n",
    "    e match {\n",
    "        case Const(v: Int) => (NumVal(v), store)\n",
    "\n",
    "        case Ident(s: String) => \n",
    "            if (env.contains(s)) {\n",
    "                (env(s), store)\n",
    "            } else {\n",
    "                (ErrorValue, store)\n",
    "            }\n",
    "\n",
    "        case Plus(e1: Expr2, e2: Expr2) => \n",
    "            val (v1, store1) = evalExpr2(e1, env, store)\n",
    "            val (v2, store2) = evalExpr2(e2, env, store1)\n",
    "            (v1, v2) match {\n",
    "                case (NumVal(vv1), NumVal(vv2)) => (NumVal(vv1 + vv2), store2)\n",
    "                case _ => (ErrorValue, store2)\n",
    "            }\n",
    "\n",
    "        case Minus(e1: Expr2, e2: Expr2) => \n",
    "            val (v1, store1) = evalExpr2(e1, env, store)\n",
    "            val (v2, store2) = evalExpr2(e2, env, store1)\n",
    "            (v1, v2) match {\n",
    "                case (NumVal(vv1), NumVal(vv2)) => (NumVal(vv1 - vv2), store2)\n",
    "                case _ => (ErrorValue, store2)\n",
    "            }\n",
    "\n",
    "        case Mult(e1: Expr2, e2: Expr2) => \n",
    "            val (v1, store1) = evalExpr2(e1, env, store)\n",
    "            val (v2, store2) = evalExpr2(e2, env, store1)\n",
    "            (v1, v2) match {\n",
    "                case (NumVal(vv1), NumVal(vv2)) => (NumVal(vv1 * vv2), store2)\n",
    "                case _ => (ErrorValue, store2)\n",
    "            }\n",
    "\n",
    "        case Geq(e1: Expr2, e2:Expr2) => \n",
    "            val (v1, store1) = evalExpr2(e1, env, store)\n",
    "            val (v2, store2) = evalExpr2(e2, env, store1)\n",
    "            (v1, v2) match {\n",
    "                case (NumVal(vv1), NumVal(vv2)) => (BinVal(vv1 >= vv2), store2)\n",
    "                case _ => (ErrorValue, store2)\n",
    "            }\n",
    "\n",
    "        case Eq(e1: Expr2, e2: Expr2) => \n",
    "            val (v1, store1) = evalExpr2(e1, env, store)\n",
    "            val (v2, store2) = evalExpr2(e2, env, store1)\n",
    "            (v1, v2) match {\n",
    "                case (NumVal(vv1), NumVal(vv2)) => (BinVal(vv1 == vv2), store2)\n",
    "                case _ => (ErrorValue, store2)\n",
    "            }\n",
    "\n",
    "        case ITE(e: Expr2, eIf: Expr2, eElse: Expr2) => evalExpr2(e, env, store) match {\n",
    "            case (BinVal(true), store1) => evalExpr2(eIf, env, store1)\n",
    "            case (BinVal(false), store1) => evalExpr2(eElse, env, store1)\n",
    "            case _ => (ErrorValue, store)\n",
    "        }\n",
    "\n",
    "        case Let(s: String, defExpr2: Expr2, bodyExpr2: Expr2) => evalExpr2(defExpr2, env, store) match {\n",
    "            case (ErrorValue, new_store) => (ErrorValue, new_store)\n",
    "            case (v, new_store) => evalExpr2(bodyExpr2, env + (s -> v), new_store)\n",
    "        }\n",
    "\n",
    "        case FunDef(param: String, bodyExpr2: Expr2) => (Closure(param, bodyExpr2, env), store)\n",
    "\n",
    "        case FunCall(funCalled: Expr2, argExpr2: Expr2) => evalExpr2(funCalled, env, store) match {\n",
    "            case (Closure(x, closureExpr, pi), store1) => \n",
    "                evalExpr2(argExpr2, env, store1) match {\n",
    "                    case (ErrorValue, _) => (ErrorValue, store1)\n",
    "                    case (argValue, store2) => evalExpr2(closureExpr, pi + (x -> argValue), store2)\n",
    "                }\n",
    "            case _ => (ErrorValue, store1)\n",
    "        }\n",
    "\n",
    "        case NewRef(e) => evalExpr2(e, env, store) match {\n",
    "            case (ErrorValue, store1) => (ErrorValue, store1)\n",
    "            case (v, store1) => \n",
    "               val (store2, j) = createNewCell(store1, v)\n",
    "                (Reference(j), store2)\n",
    "        }\n",
    "        \n",
    "        case DeRef(e) => evalExpr2(e, env, store) match {\n",
    "            case (Reference(j), store1) => (lookupCellValue(store1, j), store1)\n",
    "            case _ => (ErrorValue, store1)\n",
    "        }\n",
    "        \n",
    "        case AssignRef(e1, e2) => evalExpr2(e1, env, store) match {\n",
    "            case (Reference(j), store1) => {\n",
    "                evalExpr2(e2, env, store1) match {\n",
    "                    case (ErrorValue, store2) => (ErrorValue, store2)\n",
    "                    case (v2, store2) => (v2, assignToCell(store2, j, v2))\n",
    "                }\n",
    "            }\n",
    "            case _ => (ErrorValue, store1)\n",
    "        }\n",
    "    }\n",
    "}\n",
    "\n",
    "def evalProgram2(p: Program2) = p match {\n",
    "        case Main2(e) => { \n",
    "            // Start with empty environment and empty store\n",
    "            val (v1, s1) = evalExpr2(e, Map(), new ImmutableStore(0, Map()))\n",
    "            v1\n",
    "        }\n",
    "}\n",
    "    \n"
   ]
  },
  {
   "cell_type": "code",
   "execution_count": 19,
   "metadata": {
    "deletable": false,
    "editable": false,
    "nbgrader": {
     "cell_type": "code",
     "checksum": "9627af214e52942909951b5edf490529",
     "grade": true,
     "grade_id": "cell-ee1b7057a8fa74d9",
     "locked": true,
     "points": 5,
     "schema_version": 3,
     "solution": false,
     "task": false
    }
   },
   "outputs": [
    {
     "name": "stdout",
     "output_type": "stream",
     "text": [
      "\n",
      "*** Tests Passed (5 points) ***\n"
     ]
    },
    {
     "data": {
      "text/plain": [
       "\u001b[36mz\u001b[39m: \u001b[32mIdent\u001b[39m = \u001b[33mIdent\u001b[39m(\u001b[32m\"z\"\u001b[39m)\n",
       "\u001b[36mx\u001b[39m: \u001b[32mIdent\u001b[39m = \u001b[33mIdent\u001b[39m(\u001b[32m\"x\"\u001b[39m)\n",
       "\u001b[36my\u001b[39m: \u001b[32mIdent\u001b[39m = \u001b[33mIdent\u001b[39m(\u001b[32m\"y\"\u001b[39m)\n",
       "\u001b[36me1\u001b[39m: \u001b[32mLet\u001b[39m = \u001b[33mLet\u001b[39m(\u001b[32m\"z\"\u001b[39m, \u001b[33mAssignRef\u001b[39m(\u001b[33mIdent\u001b[39m(\u001b[32m\"x\"\u001b[39m), \u001b[33mIdent\u001b[39m(\u001b[32m\"y\"\u001b[39m)), \u001b[33mIdent\u001b[39m(\u001b[32m\"z\"\u001b[39m))\n",
       "\u001b[36me2\u001b[39m: \u001b[32mLet\u001b[39m = \u001b[33mLet\u001b[39m(\n",
       "  \u001b[32m\"y\"\u001b[39m,\n",
       "  \u001b[33mPlus\u001b[39m(\u001b[33mConst\u001b[39m(\u001b[32m1\u001b[39m), \u001b[33mDeRef\u001b[39m(\u001b[33mIdent\u001b[39m(\u001b[32m\"x\"\u001b[39m))),\n",
       "  \u001b[33mLet\u001b[39m(\u001b[32m\"z\"\u001b[39m, \u001b[33mAssignRef\u001b[39m(\u001b[33mIdent\u001b[39m(\u001b[32m\"x\"\u001b[39m), \u001b[33mIdent\u001b[39m(\u001b[32m\"y\"\u001b[39m)), \u001b[33mIdent\u001b[39m(\u001b[32m\"z\"\u001b[39m))\n",
       ")\n",
       "\u001b[36me\u001b[39m: \u001b[32mLet\u001b[39m = \u001b[33mLet\u001b[39m(\n",
       "  \u001b[32m\"x\"\u001b[39m,\n",
       "  \u001b[33mNewRef\u001b[39m(\u001b[33mConst\u001b[39m(\u001b[32m10\u001b[39m)),\n",
       "  \u001b[33mLet\u001b[39m(\n",
       "    \u001b[32m\"y\"\u001b[39m,\n",
       "    \u001b[33mPlus\u001b[39m(\u001b[33mConst\u001b[39m(\u001b[32m1\u001b[39m), \u001b[33mDeRef\u001b[39m(\u001b[33mIdent\u001b[39m(\u001b[32m\"x\"\u001b[39m))),\n",
       "    \u001b[33mLet\u001b[39m(\u001b[32m\"z\"\u001b[39m, \u001b[33mAssignRef\u001b[39m(\u001b[33mIdent\u001b[39m(\u001b[32m\"x\"\u001b[39m), \u001b[33mIdent\u001b[39m(\u001b[32m\"y\"\u001b[39m)), \u001b[33mIdent\u001b[39m(\u001b[32m\"z\"\u001b[39m))\n",
       "  )\n",
       ")\n",
       "\u001b[36mprog\u001b[39m: \u001b[32mMain2\u001b[39m = \u001b[33mMain2\u001b[39m(\n",
       "  \u001b[33mLet\u001b[39m(\n",
       "    \u001b[32m\"x\"\u001b[39m,\n",
       "    \u001b[33mNewRef\u001b[39m(\u001b[33mConst\u001b[39m(\u001b[32m10\u001b[39m)),\n",
       "    \u001b[33mLet\u001b[39m(\n",
       "      \u001b[32m\"y\"\u001b[39m,\n",
       "      \u001b[33mPlus\u001b[39m(\u001b[33mConst\u001b[39m(\u001b[32m1\u001b[39m), \u001b[33mDeRef\u001b[39m(\u001b[33mIdent\u001b[39m(\u001b[32m\"x\"\u001b[39m))),\n",
       "      \u001b[33mLet\u001b[39m(\u001b[32m\"z\"\u001b[39m, \u001b[33mAssignRef\u001b[39m(\u001b[33mIdent\u001b[39m(\u001b[32m\"x\"\u001b[39m), \u001b[33mIdent\u001b[39m(\u001b[32m\"y\"\u001b[39m)), \u001b[33mIdent\u001b[39m(\u001b[32m\"z\"\u001b[39m))\n",
       "    )\n",
       "  )\n",
       ")"
      ]
     },
     "execution_count": 19,
     "metadata": {},
     "output_type": "execute_result"
    }
   ],
   "source": [
    "/*\n",
    "let x = NewRef(10) in \n",
    "let y = DeRef(x) + 1 in \n",
    "let z = AssignRef(x, y) in \n",
    "   z*/\n",
    "\n",
    "val z = Ident(\"z\")\n",
    "val x = Ident(\"x\")\n",
    "val y = Ident(\"y\")\n",
    "\n",
    "val e1 = Let(\"z\", AssignRef(x, y), z)\n",
    "val e2 = Let(\"y\", Plus(Const(1), DeRef(x)), e1)\n",
    "val e = Let(\"x\", NewRef(Const(10)), e2)\n",
    "val prog = Main2(e)\n",
    "\n",
    "assert(evalProgram2(prog) == NumVal(11))\n",
    "passed(5)"
   ]
  },
  {
   "cell_type": "code",
   "execution_count": 20,
   "metadata": {
    "deletable": false,
    "editable": false,
    "nbgrader": {
     "cell_type": "code",
     "checksum": "5bd07e88a0be1b3ffb2222cef21065f5",
     "grade": true,
     "grade_id": "cell-c71b686a1478162e",
     "locked": true,
     "points": 5,
     "schema_version": 3,
     "solution": false,
     "task": false
    }
   },
   "outputs": [
    {
     "name": "stdout",
     "output_type": "stream",
     "text": [
      "\n",
      "*** Tests Passed (5 points) ***\n"
     ]
    },
    {
     "data": {
      "text/plain": [
       "\u001b[36mincr\u001b[39m: \u001b[32mIdent\u001b[39m = \u001b[33mIdent\u001b[39m(\u001b[32m\"incr\"\u001b[39m)\n",
       "\u001b[36mdecr\u001b[39m: \u001b[32mIdent\u001b[39m = \u001b[33mIdent\u001b[39m(\u001b[32m\"decr\"\u001b[39m)\n",
       "\u001b[36mzero\u001b[39m: \u001b[32mIdent\u001b[39m = \u001b[33mIdent\u001b[39m(\u001b[32m\"zero\"\u001b[39m)\n",
       "\u001b[36mr\u001b[39m: \u001b[32mIdent\u001b[39m = \u001b[33mIdent\u001b[39m(\u001b[32m\"r\"\u001b[39m)\n",
       "\u001b[36mx\u001b[39m: \u001b[32mIdent\u001b[39m = \u001b[33mIdent\u001b[39m(\u001b[32m\"x\"\u001b[39m)\n",
       "\u001b[36me1\u001b[39m: \u001b[32mLet\u001b[39m = \u001b[33mLet\u001b[39m(\u001b[32m\"dummy3\"\u001b[39m, \u001b[33mFunCall\u001b[39m(\u001b[33mIdent\u001b[39m(\u001b[32m\"decr\"\u001b[39m), \u001b[33mIdent\u001b[39m(\u001b[32m\"r\"\u001b[39m)), \u001b[33mIdent\u001b[39m(\u001b[32m\"dummy3\"\u001b[39m))\n",
       "\u001b[36me2\u001b[39m: \u001b[32mLet\u001b[39m = \u001b[33mLet\u001b[39m(\n",
       "  \u001b[32m\"dummy2\"\u001b[39m,\n",
       "  \u001b[33mFunCall\u001b[39m(\u001b[33mIdent\u001b[39m(\u001b[32m\"incr\"\u001b[39m), \u001b[33mIdent\u001b[39m(\u001b[32m\"r\"\u001b[39m)),\n",
       "  \u001b[33mLet\u001b[39m(\u001b[32m\"dummy3\"\u001b[39m, \u001b[33mFunCall\u001b[39m(\u001b[33mIdent\u001b[39m(\u001b[32m\"decr\"\u001b[39m), \u001b[33mIdent\u001b[39m(\u001b[32m\"r\"\u001b[39m)), \u001b[33mIdent\u001b[39m(\u001b[32m\"dummy3\"\u001b[39m))\n",
       ")\n",
       "\u001b[36me3\u001b[39m: \u001b[32mLet\u001b[39m = \u001b[33mLet\u001b[39m(\n",
       "  \u001b[32m\"dummy1\"\u001b[39m,\n",
       "  \u001b[33mFunCall\u001b[39m(\u001b[33mIdent\u001b[39m(\u001b[32m\"incr\"\u001b[39m), \u001b[33mIdent\u001b[39m(\u001b[32m\"r\"\u001b[39m)),\n",
       "  \u001b[33mLet\u001b[39m(\n",
       "    \u001b[32m\"dummy2\"\u001b[39m,\n",
       "    \u001b[33mFunCall\u001b[39m(\u001b[33mIdent\u001b[39m(\u001b[32m\"incr\"\u001b[39m), \u001b[33mIdent\u001b[39m(\u001b[32m\"r\"\u001b[39m)),\n",
       "    \u001b[33mLet\u001b[39m(\u001b[32m\"dummy3\"\u001b[39m, \u001b[33mFunCall\u001b[39m(\u001b[33mIdent\u001b[39m(\u001b[32m\"decr\"\u001b[39m), \u001b[33mIdent\u001b[39m(\u001b[32m\"r\"\u001b[39m)), \u001b[33mIdent\u001b[39m(\u001b[32m\"dummy3\"\u001b[39m))\n",
       "  )\n",
       ")\n",
       "\u001b[36me4\u001b[39m: \u001b[32mLet\u001b[39m = \u001b[33mLet\u001b[39m(\n",
       "  \u001b[32m\"dummy0\"\u001b[39m,\n",
       "  \u001b[33mFunCall\u001b[39m(\u001b[33mIdent\u001b[39m(\u001b[32m\"zero\"\u001b[39m), \u001b[33mIdent\u001b[39m(\u001b[32m\"r\"\u001b[39m)),\n",
       "  \u001b[33mLet\u001b[39m(\n",
       "    \u001b[32m\"dummy1\"\u001b[39m,\n",
       "    \u001b[33mFunCall\u001b[39m(\u001b[33mIdent\u001b[39m(\u001b[32m\"incr\"\u001b[39m), \u001b[33mIdent\u001b[39m(\u001b[32m\"r\"\u001b[39m)),\n",
       "    \u001b[33mLet\u001b[39m(\n",
       "      \u001b[32m\"dummy2\"\u001b[39m,\n",
       "      \u001b[33mFunCall\u001b[39m(\u001b[33mIdent\u001b[39m(\u001b[32m\"incr\"\u001b[39m), \u001b[33mIdent\u001b[39m(\u001b[32m\"r\"\u001b[39m)),\n",
       "      \u001b[33mLet\u001b[39m(\u001b[32m\"dummy3\"\u001b[39m, \u001b[33mFunCall\u001b[39m(\u001b[33mIdent\u001b[39m(\u001b[32m\"decr\"\u001b[39m), \u001b[33mIdent\u001b[39m(\u001b[32m\"r\"\u001b[39m)), \u001b[33mIdent\u001b[39m(\u001b[32m\"dummy3\"\u001b[39m))\n",
       "    )\n",
       "  )\n",
       ")\n",
       "\u001b[36mrr\u001b[39m: \u001b[32mLet\u001b[39m = \u001b[33mLet\u001b[39m(\n",
       "  \u001b[32m\"r\"\u001b[39m,\n",
       "  \u001b[33mNewRef\u001b[39m(\u001b[33mConst\u001b[39m(\u001b[32m15\u001b[39m)),\n",
       "  \u001b[33mLet\u001b[39m(\n",
       "    \u001b[32m\"dummy0\"\u001b[39m,\n",
       "    \u001b[33mFunCall\u001b[39m(\u001b[33mIdent\u001b[39m(\u001b[32m\"zero\"\u001b[39m), \u001b[33mIdent\u001b[39m(\u001b[32m\"r\"\u001b[39m)),\n",
       "    \u001b[33mLet\u001b[39m(\n",
       "      \u001b[32m\"dummy1\"\u001b[39m,\n",
       "      \u001b[33mFunCall\u001b[39m(\u001b[33mIdent\u001b[39m(\u001b[32m\"incr\"\u001b[39m), \u001b[33mIdent\u001b[39m(\u001b[32m\"r\"\u001b[39m)),\n",
       "      \u001b[33mLet\u001b[39m(\n",
       "        \u001b[32m\"dummy2\"\u001b[39m,\n",
       "        \u001b[33mFunCall\u001b[39m(\u001b[33mIdent\u001b[39m(\u001b[32m\"incr\"\u001b[39m), \u001b[33mIdent\u001b[39m(\u001b[32m\"r\"\u001b[39m)),\n",
       "        \u001b[33mLet\u001b[39m(\u001b[32m\"dummy3\"\u001b[39m, \u001b[33mFunCall\u001b[39m(\u001b[33mIdent\u001b[39m(\u001b[32m\"decr\"\u001b[39m), \u001b[33mIdent\u001b[39m(\u001b[32m\"r\"\u001b[39m)), \u001b[33mIdent\u001b[39m(\u001b[32m\"dummy3\"\u001b[39m))\n",
       "      )\n",
       "    )\n",
       "  )\n",
       ")\n",
       "\u001b[36mz\u001b[39m: \u001b[32mLet\u001b[39m = \u001b[33mLet\u001b[39m(\n",
       "  \u001b[32m\"zero\"\u001b[39m,\n",
       "  \u001b[33mFunDef\u001b[39m(\u001b[32m\"x\"\u001b[39m, \u001b[33mAssignRef\u001b[39m(\u001b[33mIdent\u001b[39m(\u001b[32m\"x\"\u001b[39m), \u001b[33mConst\u001b[39m(\u001b[32m0\u001b[39m))),\n",
       "  \u001b[33mLet\u001b[39m(\n",
       "    \u001b[32m\"r\"\u001b[39m,\n",
       "    \u001b[33mNewRef\u001b[39m(\u001b[33mConst\u001b[39m(\u001b[32m15\u001b[39m)),\n",
       "    \u001b[33mLet\u001b[39m(\n",
       "      \u001b[32m\"dummy0\"\u001b[39m,\n",
       "      \u001b[33mFunCall\u001b[39m(\u001b[33mIdent\u001b[39m(\u001b[32m\"zero\"\u001b[39m), \u001b[33mIdent\u001b[39m(\u001b[32m\"r\"\u001b[39m)),\n",
       "      \u001b[33mLet\u001b[39m(\n",
       "        \u001b[32m\"dummy1\"\u001b[39m,\n",
       "        \u001b[33mFunCall\u001b[39m(\u001b[33mIdent\u001b[39m(\u001b[32m\"incr\"\u001b[39m), \u001b[33mIdent\u001b[39m(\u001b[32m\"r\"\u001b[39m)),\n",
       "        \u001b[33mLet\u001b[39m(\n",
       "          \u001b[32m\"dummy2\"\u001b[39m,\n",
       "          \u001b[33mFunCall\u001b[39m(\u001b[33mIdent\u001b[39m(\u001b[32m\"incr\"\u001b[39m), \u001b[33mIdent\u001b[39m(\u001b[32m\"r\"\u001b[39m)),\n",
       "          \u001b[33mLet\u001b[39m(\u001b[32m\"dummy3\"\u001b[39m, \u001b[33mFunCall\u001b[39m(\u001b[33mIdent\u001b[39m(\u001b[32m\"decr\"\u001b[39m), \u001b[33mIdent\u001b[39m(\u001b[32m\"r\"\u001b[39m)), \u001b[33mIdent\u001b[39m(\u001b[32m\"dummy3\"\u001b[39m))\n",
       "        )\n",
       "      )\n",
       "    )\n",
       "  )\n",
       ")\n",
       "\u001b[36md\u001b[39m: \u001b[32mLet\u001b[39m = \u001b[33mLet\u001b[39m(\n",
       "  \u001b[32m\"decr\"\u001b[39m,\n",
       "  \u001b[33mFunDef\u001b[39m(\u001b[32m\"x\"\u001b[39m, \u001b[33mAssignRef\u001b[39m(\u001b[33mIdent\u001b[39m(\u001b[32m\"x\"\u001b[39m), \u001b[33mMinus\u001b[39m(\u001b[33mDeRef\u001b[39m(\u001b[33mIdent\u001b[39m(\u001b[32m\"x\"\u001b[39m)), \u001b[33mConst\u001b[39m(\u001b[32m1\u001b[39m)))),\n",
       "  \u001b[33mLet\u001b[39m(\n",
       "    \u001b[32m\"zero\"\u001b[39m,\n",
       "    \u001b[33mFunDef\u001b[39m(\u001b[32m\"x\"\u001b[39m, \u001b[33mAssignRef\u001b[39m(\u001b[33mIdent\u001b[39m(\u001b[32m\"x\"\u001b[39m), \u001b[33mConst\u001b[39m(\u001b[32m0\u001b[39m))),\n",
       "    \u001b[33mLet\u001b[39m(\n",
       "      \u001b[32m\"r\"\u001b[39m,\n",
       "      \u001b[33mNewRef\u001b[39m(\u001b[33mConst\u001b[39m(\u001b[32m15\u001b[39m)),\n",
       "      \u001b[33mLet\u001b[39m(\n",
       "        \u001b[32m\"dummy0\"\u001b[39m,\n",
       "        \u001b[33mFunCall\u001b[39m(\u001b[33mIdent\u001b[39m(\u001b[32m\"zero\"\u001b[39m), \u001b[33mIdent\u001b[39m(\u001b[32m\"r\"\u001b[39m)),\n",
       "        \u001b[33mLet\u001b[39m(\n",
       "          \u001b[32m\"dummy1\"\u001b[39m,\n",
       "          \u001b[33mFunCall\u001b[39m(\u001b[33mIdent\u001b[39m(\u001b[32m\"incr\"\u001b[39m), \u001b[33mIdent\u001b[39m(\u001b[32m\"r\"\u001b[39m)),\n",
       "          \u001b[33mLet\u001b[39m(\n",
       "            \u001b[32m\"dummy2\"\u001b[39m,\n",
       "            \u001b[33mFunCall\u001b[39m(\u001b[33mIdent\u001b[39m(\u001b[32m\"incr\"\u001b[39m), \u001b[33mIdent\u001b[39m(\u001b[32m\"r\"\u001b[39m)),\n",
       "            \u001b[33mLet\u001b[39m(\u001b[32m\"dummy3\"\u001b[39m, \u001b[33mFunCall\u001b[39m(\u001b[33mIdent\u001b[39m(\u001b[32m\"decr\"\u001b[39m), \u001b[33mIdent\u001b[39m(\u001b[32m\"r\"\u001b[39m)), \u001b[33mIdent\u001b[39m(\u001b[32m\"dummy3\"\u001b[39m))\n",
       "          )\n",
       "        )\n",
       "      )\n",
       "    )\n",
       "  )\n",
       ")\n",
       "\u001b[36mi\u001b[39m: \u001b[32mLet\u001b[39m = \u001b[33mLet\u001b[39m(\n",
       "  \u001b[32m\"incr\"\u001b[39m,\n",
       "  \u001b[33mFunDef\u001b[39m(\u001b[32m\"x\"\u001b[39m, \u001b[33mAssignRef\u001b[39m(\u001b[33mIdent\u001b[39m(\u001b[32m\"x\"\u001b[39m), \u001b[33mPlus\u001b[39m(\u001b[33mDeRef\u001b[39m(\u001b[33mIdent\u001b[39m(\u001b[32m\"x\"\u001b[39m)), \u001b[33mConst\u001b[39m(\u001b[32m1\u001b[39m)))),\n",
       "  \u001b[33mLet\u001b[39m(\n",
       "    \u001b[32m\"decr\"\u001b[39m,\n",
       "    \u001b[33mFunDef\u001b[39m(\u001b[32m\"x\"\u001b[39m, \u001b[33mAssignRef\u001b[39m(\u001b[33mIdent\u001b[39m(\u001b[32m\"x\"\u001b[39m), \u001b[33mMinus\u001b[39m(\u001b[33mDeRef\u001b[39m(\u001b[33mIdent\u001b[39m(\u001b[32m\"x\"\u001b[39m)), \u001b[33mConst\u001b[39m(\u001b[32m1\u001b[39m)))),\n",
       "    \u001b[33mLet\u001b[39m(\n",
       "      \u001b[32m\"zero\"\u001b[39m,\n",
       "      \u001b[33mFunDef\u001b[39m(\u001b[32m\"x\"\u001b[39m, \u001b[33mAssignRef\u001b[39m(\u001b[33mIdent\u001b[39m(\u001b[32m\"x\"\u001b[39m), \u001b[33mConst\u001b[39m(\u001b[32m0\u001b[39m))),\n",
       "      \u001b[33mLet\u001b[39m(\n",
       "        \u001b[32m\"r\"\u001b[39m,\n",
       "        \u001b[33mNewRef\u001b[39m(\u001b[33mConst\u001b[39m(\u001b[32m15\u001b[39m)),\n",
       "        \u001b[33mLet\u001b[39m(\n",
       "          \u001b[32m\"dummy0\"\u001b[39m,\n",
       "          \u001b[33mFunCall\u001b[39m(\u001b[33mIdent\u001b[39m(\u001b[32m\"zero\"\u001b[39m), \u001b[33mIdent\u001b[39m(\u001b[32m\"r\"\u001b[39m)),\n",
       "          \u001b[33mLet\u001b[39m(\n",
       "            \u001b[32m\"dummy1\"\u001b[39m,\n",
       "            \u001b[33mFunCall\u001b[39m(\u001b[33mIdent\u001b[39m(\u001b[32m\"incr\"\u001b[39m), \u001b[33mIdent\u001b[39m(\u001b[32m\"r\"\u001b[39m)),\n",
       "            \u001b[33mLet\u001b[39m(\n",
       "              \u001b[32m\"dummy2\"\u001b[39m,\n",
       "              \u001b[33mFunCall\u001b[39m(\u001b[33mIdent\u001b[39m(\u001b[32m\"incr\"\u001b[39m), \u001b[33mIdent\u001b[39m(\u001b[32m\"r\"\u001b[39m)),\n",
       "              \u001b[33mLet\u001b[39m(\u001b[32m\"dummy3\"\u001b[39m, \u001b[33mFunCall\u001b[39m(\u001b[33mIdent\u001b[39m(\u001b[32m\"decr\"\u001b[39m), \u001b[33mIdent\u001b[39m(\u001b[32m\"r\"\u001b[39m)), \u001b[33mIdent\u001b[39m(\u001b[32m\"dummy3\"\u001b[39m))\n",
       "            )\n",
       "          )\n",
       "        )\n",
       "      )\n",
       "    )\n",
       "  )\n",
       ")\n",
       "\u001b[36mprog\u001b[39m: \u001b[32mMain2\u001b[39m = \u001b[33mMain2\u001b[39m(\n",
       "  \u001b[33mLet\u001b[39m(\n",
       "    \u001b[32m\"incr\"\u001b[39m,\n",
       "    \u001b[33mFunDef\u001b[39m(\u001b[32m\"x\"\u001b[39m, \u001b[33mAssignRef\u001b[39m(\u001b[33mIdent\u001b[39m(\u001b[32m\"x\"\u001b[39m), \u001b[33mPlus\u001b[39m(\u001b[33mDeRef\u001b[39m(\u001b[33mIdent\u001b[39m(\u001b[32m\"x\"\u001b[39m)), \u001b[33mConst\u001b[39m(\u001b[32m1\u001b[39m)))),\n",
       "    \u001b[33mLet\u001b[39m(\n",
       "      \u001b[32m\"decr\"\u001b[39m,\n",
       "      \u001b[33mFunDef\u001b[39m(\u001b[32m\"x\"\u001b[39m, \u001b[33mAssignRef\u001b[39m(\u001b[33mIdent\u001b[39m(\u001b[32m\"x\"\u001b[39m), \u001b[33mMinus\u001b[39m(\u001b[33mDeRef\u001b[39m(\u001b[33mIdent\u001b[39m(\u001b[32m\"x\"\u001b[39m)), \u001b[33mConst\u001b[39m(\u001b[32m1\u001b[39m)))),\n",
       "      \u001b[33mLet\u001b[39m(\n",
       "        \u001b[32m\"zero\"\u001b[39m,\n",
       "        \u001b[33mFunDef\u001b[39m(\u001b[32m\"x\"\u001b[39m, \u001b[33mAssignRef\u001b[39m(\u001b[33mIdent\u001b[39m(\u001b[32m\"x\"\u001b[39m), \u001b[33mConst\u001b[39m(\u001b[32m0\u001b[39m))),\n",
       "        \u001b[33mLet\u001b[39m(\n",
       "          \u001b[32m\"r\"\u001b[39m,\n",
       "          \u001b[33mNewRef\u001b[39m(\u001b[33mConst\u001b[39m(\u001b[32m15\u001b[39m)),\n",
       "          \u001b[33mLet\u001b[39m(\n",
       "            \u001b[32m\"dummy0\"\u001b[39m,\n",
       "            \u001b[33mFunCall\u001b[39m(\u001b[33mIdent\u001b[39m(\u001b[32m\"zero\"\u001b[39m), \u001b[33mIdent\u001b[39m(\u001b[32m\"r\"\u001b[39m)),\n",
       "            \u001b[33mLet\u001b[39m(\n",
       "              \u001b[32m\"dummy1\"\u001b[39m,\n",
       "              \u001b[33mFunCall\u001b[39m(\u001b[33mIdent\u001b[39m(\u001b[32m\"incr\"\u001b[39m), \u001b[33mIdent\u001b[39m(\u001b[32m\"r\"\u001b[39m)),\n",
       "              \u001b[33mLet\u001b[39m(\n",
       "                \u001b[32m\"dummy2\"\u001b[39m,\n",
       "                \u001b[33mFunCall\u001b[39m(\u001b[33mIdent\u001b[39m(\u001b[32m\"incr\"\u001b[39m), \u001b[33mIdent\u001b[39m(\u001b[32m\"r\"\u001b[39m)),\n",
       "                \u001b[33mLet\u001b[39m(\n",
       "                  \u001b[32m\"dummy3\"\u001b[39m,\n",
       "                  \u001b[33mFunCall\u001b[39m(\u001b[33mIdent\u001b[39m(\u001b[32m\"decr\"\u001b[39m), \u001b[33mIdent\u001b[39m(\u001b[32m\"r\"\u001b[39m)),\n",
       "                  \u001b[33mIdent\u001b[39m(\u001b[32m\"dummy3\"\u001b[39m)\n",
       "                )\n",
       "              )\n",
       "            )\n",
       "          )\n",
       "        )\n",
       "      )\n",
       "    )\n",
       "  )\n",
       ")"
      ]
     },
     "execution_count": 20,
     "metadata": {},
     "output_type": "execute_result"
    }
   ],
   "source": [
    "/*\n",
    "let incr = function (x) \n",
    "           AssignRef(x, DeRef(x) + 1)\n",
    "in \n",
    "let decr = function (x) \n",
    "           AssignRef(x, DeRef(x) - 1)\n",
    "in \n",
    "let zero = function (x) \n",
    "          AssignRef(x, 0)\n",
    "in \n",
    "let r = NewRef(15) in \n",
    "let dummy0 = zero(r) in \n",
    "let dummy1 = incr(r) in \n",
    "let dummy2 = incr(r) in\n",
    "let dummy3 = decr(r) in \n",
    "  dummy3 \n",
    "  */\n",
    "\n",
    "val incr = Ident(\"incr\")\n",
    "val decr = Ident(\"decr\")\n",
    "val zero = Ident(\"zero\")\n",
    "val r = Ident(\"r\")\n",
    "val x = Ident(\"x\")\n",
    "val e1 = Let(\"dummy3\", FunCall(decr, r), Ident(\"dummy3\"))\n",
    "val e2 = Let(\"dummy2\", FunCall(incr, r),  e1)\n",
    "val e3 = Let(\"dummy1\", FunCall(incr, r), e2)\n",
    "val e4 = Let(\"dummy0\", FunCall(zero, r), e3)\n",
    "val rr = Let(\"r\", NewRef(Const(15)), e4)\n",
    "val z = Let(\"zero\", FunDef(\"x\", AssignRef(x, Const(0))), rr)\n",
    "val d = Let(\"decr\", FunDef(\"x\", AssignRef(x, Minus(DeRef(x), Const(1)))), z)\n",
    "val i = Let(\"incr\",FunDef(\"x\", AssignRef(x, Plus(DeRef(x), Const(1)))), d )\n",
    "val prog = Main2(i)\n",
    "\n",
    "assert(evalProgram2(prog) == NumVal(1))\n",
    "passed(5)"
   ]
  },
  {
   "cell_type": "code",
   "execution_count": 21,
   "metadata": {
    "deletable": false,
    "editable": false,
    "nbgrader": {
     "cell_type": "code",
     "checksum": "9de797c1dc10febb9907c9cc8c2f08b0",
     "grade": true,
     "grade_id": "cell-9932e3fc7eac9bb5",
     "locked": true,
     "points": 5,
     "schema_version": 3,
     "solution": false,
     "task": false
    }
   },
   "outputs": [
    {
     "name": "stdout",
     "output_type": "stream",
     "text": [
      "\n",
      "*** Tests Passed (5 points) ***\n"
     ]
    },
    {
     "data": {
      "text/plain": [
       "\u001b[36mr\u001b[39m: \u001b[32mIdent\u001b[39m = \u001b[33mIdent\u001b[39m(\u001b[32m\"r\"\u001b[39m)\n",
       "\u001b[36mx\u001b[39m: \u001b[32mIdent\u001b[39m = \u001b[33mIdent\u001b[39m(\u001b[32m\"x\"\u001b[39m)\n",
       "\u001b[36mf\u001b[39m: \u001b[32mIdent\u001b[39m = \u001b[33mIdent\u001b[39m(\u001b[32m\"f\"\u001b[39m)\n",
       "\u001b[36me1\u001b[39m: \u001b[32mMinus\u001b[39m = \u001b[33mMinus\u001b[39m(\n",
       "  \u001b[33mFunCall\u001b[39m(\u001b[33mIdent\u001b[39m(\u001b[32m\"f\"\u001b[39m), \u001b[33mIdent\u001b[39m(\u001b[32m\"r\"\u001b[39m)),\n",
       "  \u001b[33mFunCall\u001b[39m(\u001b[33mIdent\u001b[39m(\u001b[32m\"f\"\u001b[39m), \u001b[33mIdent\u001b[39m(\u001b[32m\"r\"\u001b[39m))\n",
       ")\n",
       "\u001b[36me2\u001b[39m: \u001b[32mLet\u001b[39m = \u001b[33mLet\u001b[39m(\n",
       "  \u001b[32m\"r\"\u001b[39m,\n",
       "  \u001b[33mNewRef\u001b[39m(\u001b[33mConst\u001b[39m(\u001b[32m10\u001b[39m)),\n",
       "  \u001b[33mMinus\u001b[39m(\u001b[33mFunCall\u001b[39m(\u001b[33mIdent\u001b[39m(\u001b[32m\"f\"\u001b[39m), \u001b[33mIdent\u001b[39m(\u001b[32m\"r\"\u001b[39m)), \u001b[33mFunCall\u001b[39m(\u001b[33mIdent\u001b[39m(\u001b[32m\"f\"\u001b[39m), \u001b[33mIdent\u001b[39m(\u001b[32m\"r\"\u001b[39m)))\n",
       ")\n",
       "\u001b[36mfbody\u001b[39m: \u001b[32mLet\u001b[39m = \u001b[33mLet\u001b[39m(\n",
       "  \u001b[32m\"tmp\"\u001b[39m,\n",
       "  \u001b[33mDeRef\u001b[39m(\u001b[33mIdent\u001b[39m(\u001b[32m\"x\"\u001b[39m)),\n",
       "  \u001b[33mLet\u001b[39m(\u001b[32m\"dummy\"\u001b[39m, \u001b[33mAssignRef\u001b[39m(\u001b[33mIdent\u001b[39m(\u001b[32m\"x\"\u001b[39m), \u001b[33mConst\u001b[39m(\u001b[32m25\u001b[39m)), \u001b[33mIdent\u001b[39m(\u001b[32m\"tmp\"\u001b[39m))\n",
       ")\n",
       "\u001b[36mfdef\u001b[39m: \u001b[32mFunDef\u001b[39m = \u001b[33mFunDef\u001b[39m(\n",
       "  \u001b[32m\"x\"\u001b[39m,\n",
       "  \u001b[33mLet\u001b[39m(\n",
       "    \u001b[32m\"tmp\"\u001b[39m,\n",
       "    \u001b[33mDeRef\u001b[39m(\u001b[33mIdent\u001b[39m(\u001b[32m\"x\"\u001b[39m)),\n",
       "    \u001b[33mLet\u001b[39m(\u001b[32m\"dummy\"\u001b[39m, \u001b[33mAssignRef\u001b[39m(\u001b[33mIdent\u001b[39m(\u001b[32m\"x\"\u001b[39m), \u001b[33mConst\u001b[39m(\u001b[32m25\u001b[39m)), \u001b[33mIdent\u001b[39m(\u001b[32m\"tmp\"\u001b[39m))\n",
       "  )\n",
       ")\n",
       "\u001b[36me3\u001b[39m: \u001b[32mLet\u001b[39m = \u001b[33mLet\u001b[39m(\n",
       "  \u001b[32m\"f\"\u001b[39m,\n",
       "  \u001b[33mFunDef\u001b[39m(\n",
       "    \u001b[32m\"x\"\u001b[39m,\n",
       "    \u001b[33mLet\u001b[39m(\n",
       "      \u001b[32m\"tmp\"\u001b[39m,\n",
       "      \u001b[33mDeRef\u001b[39m(\u001b[33mIdent\u001b[39m(\u001b[32m\"x\"\u001b[39m)),\n",
       "      \u001b[33mLet\u001b[39m(\u001b[32m\"dummy\"\u001b[39m, \u001b[33mAssignRef\u001b[39m(\u001b[33mIdent\u001b[39m(\u001b[32m\"x\"\u001b[39m), \u001b[33mConst\u001b[39m(\u001b[32m25\u001b[39m)), \u001b[33mIdent\u001b[39m(\u001b[32m\"tmp\"\u001b[39m))\n",
       "    )\n",
       "  ),\n",
       "  \u001b[33mLet\u001b[39m(\n",
       "    \u001b[32m\"r\"\u001b[39m,\n",
       "    \u001b[33mNewRef\u001b[39m(\u001b[33mConst\u001b[39m(\u001b[32m10\u001b[39m)),\n",
       "    \u001b[33mMinus\u001b[39m(\u001b[33mFunCall\u001b[39m(\u001b[33mIdent\u001b[39m(\u001b[32m\"f\"\u001b[39m), \u001b[33mIdent\u001b[39m(\u001b[32m\"r\"\u001b[39m)), \u001b[33mFunCall\u001b[39m(\u001b[33mIdent\u001b[39m(\u001b[32m\"f\"\u001b[39m), \u001b[33mIdent\u001b[39m(\u001b[32m\"r\"\u001b[39m)))\n",
       "  )\n",
       ")\n",
       "\u001b[36mprog\u001b[39m: \u001b[32mMain2\u001b[39m = \u001b[33mMain2\u001b[39m(\n",
       "  \u001b[33mLet\u001b[39m(\n",
       "    \u001b[32m\"f\"\u001b[39m,\n",
       "    \u001b[33mFunDef\u001b[39m(\n",
       "      \u001b[32m\"x\"\u001b[39m,\n",
       "      \u001b[33mLet\u001b[39m(\n",
       "        \u001b[32m\"tmp\"\u001b[39m,\n",
       "        \u001b[33mDeRef\u001b[39m(\u001b[33mIdent\u001b[39m(\u001b[32m\"x\"\u001b[39m)),\n",
       "        \u001b[33mLet\u001b[39m(\u001b[32m\"dummy\"\u001b[39m, \u001b[33mAssignRef\u001b[39m(\u001b[33mIdent\u001b[39m(\u001b[32m\"x\"\u001b[39m), \u001b[33mConst\u001b[39m(\u001b[32m25\u001b[39m)), \u001b[33mIdent\u001b[39m(\u001b[32m\"tmp\"\u001b[39m))\n",
       "      )\n",
       "    ),\n",
       "    \u001b[33mLet\u001b[39m(\n",
       "      \u001b[32m\"r\"\u001b[39m,\n",
       "      \u001b[33mNewRef\u001b[39m(\u001b[33mConst\u001b[39m(\u001b[32m10\u001b[39m)),\n",
       "      \u001b[33mMinus\u001b[39m(\u001b[33mFunCall\u001b[39m(\u001b[33mIdent\u001b[39m(\u001b[32m\"f\"\u001b[39m), \u001b[33mIdent\u001b[39m(\u001b[32m\"r\"\u001b[39m)), \u001b[33mFunCall\u001b[39m(\u001b[33mIdent\u001b[39m(\u001b[32m\"f\"\u001b[39m), \u001b[33mIdent\u001b[39m(\u001b[32m\"r\"\u001b[39m)))\n",
       "    )\n",
       "  )\n",
       ")"
      ]
     },
     "execution_count": 21,
     "metadata": {},
     "output_type": "execute_result"
    }
   ],
   "source": [
    "/* \n",
    "let f = function (x)\n",
    "          let tmp = DeRef(x) in \n",
    "          let dummy = assignRef(x, 25) in (*- watch out, side effect -*)\n",
    "               tmp \n",
    "    in \n",
    "let r = NewRef(10) in \n",
    "   f(r) - f(r)\n",
    "   */\n",
    "\n",
    "val r = Ident(\"r\")\n",
    "val x = Ident(\"x\")\n",
    "val f = Ident(\"f\")\n",
    "\n",
    "val e1 = Minus(FunCall(f, r), FunCall(f, r))\n",
    "val e2 = Let(\"r\", NewRef(Const(10)), e1)\n",
    "val fbody = Let(\"tmp\", DeRef(x), Let(\"dummy\", AssignRef(x, Const(25)), Ident(\"tmp\")))\n",
    "val fdef = FunDef(\"x\", fbody)\n",
    "val e3 = Let(\"f\", fdef, e2)\n",
    "val prog = Main2(e3)\n",
    "\n",
    "assert(evalProgram2(prog) == NumVal(-15))\n",
    "passed(5)"
   ]
  },
  {
   "cell_type": "code",
   "execution_count": 22,
   "metadata": {
    "deletable": false,
    "editable": false,
    "nbgrader": {
     "cell_type": "code",
     "checksum": "cb08026e1720646e9057e1526b9e51a8",
     "grade": true,
     "grade_id": "cell-3df8c2ddaa40d77e",
     "locked": true,
     "points": 5,
     "schema_version": 3,
     "solution": false,
     "task": false
    }
   },
   "outputs": [
    {
     "name": "stdout",
     "output_type": "stream",
     "text": [
      "\n",
      "*** Tests Passed (5 points) ***\n"
     ]
    },
    {
     "data": {
      "text/plain": [
       "\u001b[36mdummy\u001b[39m: \u001b[32mIdent\u001b[39m = \u001b[33mIdent\u001b[39m(\u001b[32m\"dummy\"\u001b[39m)\n",
       "\u001b[36mx\u001b[39m: \u001b[32mIdent\u001b[39m = \u001b[33mIdent\u001b[39m(\u001b[32m\"x\"\u001b[39m)\n",
       "\u001b[36mg\u001b[39m: \u001b[32mIdent\u001b[39m = \u001b[33mIdent\u001b[39m(\u001b[32m\"g\"\u001b[39m)\n",
       "\u001b[36me1\u001b[39m: \u001b[32mFunCall\u001b[39m = \u001b[33mFunCall\u001b[39m(\u001b[33mIdent\u001b[39m(\u001b[32m\"g\"\u001b[39m), \u001b[33mIdent\u001b[39m(\u001b[32m\"dummy\"\u001b[39m))\n",
       "\u001b[36me2\u001b[39m: \u001b[32mLet\u001b[39m = \u001b[33mLet\u001b[39m(\n",
       "  \u001b[32m\"dummy\"\u001b[39m,\n",
       "  \u001b[33mAssignRef\u001b[39m(\u001b[33mIdent\u001b[39m(\u001b[32m\"x\"\u001b[39m), \u001b[33mConst\u001b[39m(\u001b[32m20\u001b[39m)),\n",
       "  \u001b[33mFunCall\u001b[39m(\u001b[33mIdent\u001b[39m(\u001b[32m\"g\"\u001b[39m), \u001b[33mIdent\u001b[39m(\u001b[32m\"dummy\"\u001b[39m))\n",
       ")\n",
       "\u001b[36mfdef\u001b[39m: \u001b[32mFunDef\u001b[39m = \u001b[33mFunDef\u001b[39m(\u001b[32m\"y\"\u001b[39m, \u001b[33mDeRef\u001b[39m(\u001b[33mIdent\u001b[39m(\u001b[32m\"x\"\u001b[39m)))\n",
       "\u001b[36me3\u001b[39m: \u001b[32mLet\u001b[39m = \u001b[33mLet\u001b[39m(\n",
       "  \u001b[32m\"g\"\u001b[39m,\n",
       "  \u001b[33mFunDef\u001b[39m(\u001b[32m\"y\"\u001b[39m, \u001b[33mDeRef\u001b[39m(\u001b[33mIdent\u001b[39m(\u001b[32m\"x\"\u001b[39m))),\n",
       "  \u001b[33mLet\u001b[39m(\n",
       "    \u001b[32m\"dummy\"\u001b[39m,\n",
       "    \u001b[33mAssignRef\u001b[39m(\u001b[33mIdent\u001b[39m(\u001b[32m\"x\"\u001b[39m), \u001b[33mConst\u001b[39m(\u001b[32m20\u001b[39m)),\n",
       "    \u001b[33mFunCall\u001b[39m(\u001b[33mIdent\u001b[39m(\u001b[32m\"g\"\u001b[39m), \u001b[33mIdent\u001b[39m(\u001b[32m\"dummy\"\u001b[39m))\n",
       "  )\n",
       ")\n",
       "\u001b[36me4\u001b[39m: \u001b[32mLet\u001b[39m = \u001b[33mLet\u001b[39m(\n",
       "  \u001b[32m\"x\"\u001b[39m,\n",
       "  \u001b[33mNewRef\u001b[39m(\u001b[33mConst\u001b[39m(\u001b[32m10\u001b[39m)),\n",
       "  \u001b[33mLet\u001b[39m(\n",
       "    \u001b[32m\"g\"\u001b[39m,\n",
       "    \u001b[33mFunDef\u001b[39m(\u001b[32m\"y\"\u001b[39m, \u001b[33mDeRef\u001b[39m(\u001b[33mIdent\u001b[39m(\u001b[32m\"x\"\u001b[39m))),\n",
       "    \u001b[33mLet\u001b[39m(\n",
       "      \u001b[32m\"dummy\"\u001b[39m,\n",
       "      \u001b[33mAssignRef\u001b[39m(\u001b[33mIdent\u001b[39m(\u001b[32m\"x\"\u001b[39m), \u001b[33mConst\u001b[39m(\u001b[32m20\u001b[39m)),\n",
       "      \u001b[33mFunCall\u001b[39m(\u001b[33mIdent\u001b[39m(\u001b[32m\"g\"\u001b[39m), \u001b[33mIdent\u001b[39m(\u001b[32m\"dummy\"\u001b[39m))\n",
       "    )\n",
       "  )\n",
       ")\n",
       "\u001b[36mprog\u001b[39m: \u001b[32mMain2\u001b[39m = \u001b[33mMain2\u001b[39m(\n",
       "  \u001b[33mLet\u001b[39m(\n",
       "    \u001b[32m\"x\"\u001b[39m,\n",
       "    \u001b[33mNewRef\u001b[39m(\u001b[33mConst\u001b[39m(\u001b[32m10\u001b[39m)),\n",
       "    \u001b[33mLet\u001b[39m(\n",
       "      \u001b[32m\"g\"\u001b[39m,\n",
       "      \u001b[33mFunDef\u001b[39m(\u001b[32m\"y\"\u001b[39m, \u001b[33mDeRef\u001b[39m(\u001b[33mIdent\u001b[39m(\u001b[32m\"x\"\u001b[39m))),\n",
       "      \u001b[33mLet\u001b[39m(\n",
       "        \u001b[32m\"dummy\"\u001b[39m,\n",
       "        \u001b[33mAssignRef\u001b[39m(\u001b[33mIdent\u001b[39m(\u001b[32m\"x\"\u001b[39m), \u001b[33mConst\u001b[39m(\u001b[32m20\u001b[39m)),\n",
       "        \u001b[33mFunCall\u001b[39m(\u001b[33mIdent\u001b[39m(\u001b[32m\"g\"\u001b[39m), \u001b[33mIdent\u001b[39m(\u001b[32m\"dummy\"\u001b[39m))\n",
       "      )\n",
       "    )\n",
       "  )\n",
       ")"
      ]
     },
     "execution_count": 22,
     "metadata": {},
     "output_type": "execute_result"
    }
   ],
   "source": [
    "/*\n",
    "let x = NewRef(10) in \n",
    "   let g = function (y) \n",
    "            DeRef(x)\n",
    "        in \n",
    "       let dummy = AssignRef(x, 20) in \n",
    "            g (dummy)\n",
    "*/\n",
    "val dummy = Ident(\"dummy\")\n",
    "val x = Ident(\"x\")\n",
    "val g = Ident(\"g\")\n",
    "val e1 = FunCall(g, dummy)\n",
    "val e2 = Let(\"dummy\", AssignRef(x, Const(20)), e1)\n",
    "val fdef = FunDef(\"y\", DeRef(x))\n",
    "val e3 = Let(\"g\", fdef, e2)\n",
    "val e4 = Let(\"x\", NewRef(Const(10)), e3)\n",
    "val prog = Main2(e4)\n",
    "\n",
    "assert(evalProgram2(prog) == NumVal(20))\n",
    "passed(5)"
   ]
  },
  {
   "cell_type": "markdown",
   "metadata": {
    "deletable": false,
    "editable": false,
    "nbgrader": {
     "cell_type": "markdown",
     "checksum": "a8c6b141e9fb5e359bad809f0a06e489",
     "grade": false,
     "grade_id": "cell-e66fcba3d670b0fe",
     "locked": true,
     "schema_version": 3,
     "solution": false,
     "task": false
    }
   },
   "source": [
    "### Problem 2e (5 points) : Ref Types\n",
    "\n",
    "Extend the types to allow for reference types.\n",
    "\n",
    "$$\\begin{array}{rcl}\n",
    "\\mathbf{Type} & \\rightarrow & NumType & \\leftarrow \\text{written as } \\ num \\\\\n",
    "& | & BoolType & \\leftarrow \\text{written as } \\ bool \\\\\n",
    "& | & FunType(\\mathbf{Type} , \\mathbf{Type} ) & \\leftarrow \\text{written as } \\ t_1 \\Rightarrow t_2 \\\\\n",
    "& | & RefType(\\mathbf{Type}) & \\leftarrow \\text{written as } \\ ref(t_1) \\\\\n",
    "\\end{array}$$"
   ]
  },
  {
   "cell_type": "code",
   "execution_count": 23,
   "metadata": {
    "deletable": false,
    "nbgrader": {
     "cell_type": "code",
     "checksum": "dd02d34df833f3b6b1b0d8978533e1d6",
     "grade": false,
     "grade_id": "cell-17dab3243ccb1807",
     "locked": false,
     "schema_version": 3,
     "solution": true,
     "task": false
    }
   },
   "outputs": [
    {
     "data": {
      "text/plain": [
       "defined \u001b[32mtrait\u001b[39m \u001b[36mType\u001b[39m\n",
       "defined \u001b[32mobject\u001b[39m \u001b[36mNumType\u001b[39m\n",
       "defined \u001b[32mobject\u001b[39m \u001b[36mBoolType\u001b[39m\n",
       "defined \u001b[32mclass\u001b[39m \u001b[36mFunType\u001b[39m\n",
       "defined \u001b[32mclass\u001b[39m \u001b[36mRefType\u001b[39m\n",
       "defined \u001b[32mobject\u001b[39m \u001b[36mTypeError\u001b[39m"
      ]
     },
     "execution_count": 23,
     "metadata": {},
     "output_type": "execute_result"
    }
   ],
   "source": [
    "sealed trait Type\n",
    "case object NumType extends Type\n",
    "case object BoolType extends Type\n",
    "case class FunType(t1: Type, t2: Type) extends Type\n",
    "case class RefType(t: Type) extends Type\n",
    "case object TypeError extends Type"
   ]
  },
  {
   "cell_type": "code",
   "execution_count": 24,
   "metadata": {
    "deletable": false,
    "editable": false,
    "nbgrader": {
     "cell_type": "code",
     "checksum": "4f0ef4dd622801ce1c2f26054e24f007",
     "grade": true,
     "grade_id": "cell-0338581087c824be",
     "locked": true,
     "points": 5,
     "schema_version": 3,
     "solution": false,
     "task": false
    }
   },
   "outputs": [
    {
     "name": "stdout",
     "output_type": "stream",
     "text": [
      "\n",
      "*** Tests Passed (5 points) ***\n"
     ]
    },
    {
     "data": {
      "text/plain": [
       "\u001b[36mtref1\u001b[39m: \u001b[32mRefType\u001b[39m = \u001b[33mRefType\u001b[39m(NumType)\n",
       "\u001b[36mtref2\u001b[39m: \u001b[32mRefType\u001b[39m = \u001b[33mRefType\u001b[39m(\u001b[33mRefType\u001b[39m(BoolType))"
      ]
     },
     "execution_count": 24,
     "metadata": {},
     "output_type": "execute_result"
    }
   ],
   "source": [
    "val tref1 = RefType(NumType)\n",
    "val tref2 = RefType(RefType(BoolType))\n",
    "passed(5)"
   ]
  },
  {
   "cell_type": "markdown",
   "metadata": {
    "deletable": false,
    "editable": false,
    "nbgrader": {
     "cell_type": "markdown",
     "checksum": "0e80fb4238175614328803aa23327c04",
     "grade": false,
     "grade_id": "cell-acade345c0e9bdad",
     "locked": true,
     "schema_version": 3,
     "solution": false,
     "task": false
    }
   },
   "source": [
    "### Problem 2f (20 points ) : Typechecking Refs\n",
    "\n",
    "As an example consider the well typed and annotated program:\n",
    "\n",
    "~~~\n",
    "let x: num = 25 in \n",
    "    let y : ref(num) = NewRef( - x ) in \n",
    "     let f : ref(ref(num) => bool) = NewRef( function (z: ref(num)) DeRef(z) - x >= 45 ) in \n",
    "          let z : ref(bool) = DeRef(f)(y)\n",
    "~~~\n",
    "\n",
    "Extend the typecheck program below to support typechecking for references."
   ]
  },
  {
   "cell_type": "code",
   "execution_count": 25,
   "metadata": {
    "deletable": false,
    "editable": false,
    "nbgrader": {
     "cell_type": "code",
     "checksum": "23f16b0cdb47b26e6db3ad0bc4528fdd",
     "grade": false,
     "grade_id": "cell-de2a43ab80af51da",
     "locked": true,
     "schema_version": 3,
     "solution": false,
     "task": false
    }
   },
   "outputs": [
    {
     "data": {
      "text/plain": [
       "defined \u001b[32mtrait\u001b[39m \u001b[36mProgram3\u001b[39m\n",
       "defined \u001b[32mtrait\u001b[39m \u001b[36mExpr3\u001b[39m\n",
       "defined \u001b[32mclass\u001b[39m \u001b[36mConst\u001b[39m\n",
       "defined \u001b[32mclass\u001b[39m \u001b[36mIdent\u001b[39m\n",
       "defined \u001b[32mclass\u001b[39m \u001b[36mPlus\u001b[39m\n",
       "defined \u001b[32mclass\u001b[39m \u001b[36mMinus\u001b[39m\n",
       "defined \u001b[32mclass\u001b[39m \u001b[36mGeq\u001b[39m\n",
       "defined \u001b[32mclass\u001b[39m \u001b[36mIfThenElse\u001b[39m\n",
       "defined \u001b[32mclass\u001b[39m \u001b[36mLet\u001b[39m\n",
       "defined \u001b[32mclass\u001b[39m \u001b[36mFunDef\u001b[39m\n",
       "defined \u001b[32mclass\u001b[39m \u001b[36mFunCall\u001b[39m\n",
       "defined \u001b[32mclass\u001b[39m \u001b[36mNewRef\u001b[39m\n",
       "defined \u001b[32mclass\u001b[39m \u001b[36mDeRef\u001b[39m\n",
       "defined \u001b[32mclass\u001b[39m \u001b[36mAssignRef\u001b[39m\n",
       "defined \u001b[32mclass\u001b[39m \u001b[36mMain\u001b[39m\n",
       "defined \u001b[32mfunction\u001b[39m \u001b[36mtypeEquals\u001b[39m\n",
       "defined \u001b[32mclass\u001b[39m \u001b[36mTypeErrorException\u001b[39m"
      ]
     },
     "execution_count": 25,
     "metadata": {},
     "output_type": "execute_result"
    }
   ],
   "source": [
    "\n",
    "\n",
    "sealed trait Program3\n",
    "sealed trait Expr3\n",
    "\n",
    "case class Const(f: Double) extends Expr3\n",
    "case class Ident(s: String) extends Expr3\n",
    "case class Plus(e1: Expr3, e2: Expr3) extends Expr3\n",
    "case class Minus(e1: Expr3, e2: Expr3) extends Expr3\n",
    "case class Geq(e1: Expr3, e2: Expr3) extends Expr3\n",
    "case class IfThenElse(e1: Expr3, e2: Expr3, e3: Expr3) extends Expr3\n",
    "case class Let(x: String, xType: Type, e1: Expr3, e2: Expr3) extends Expr3\n",
    "case class FunDef(id: String, idType: Type, e: Expr3) extends Expr3\n",
    "case class FunCall(calledFun: Expr3, argExpr3: Expr3) extends Expr3\n",
    "case class NewRef(e: Expr3) extends Expr3\n",
    "case class DeRef(e: Expr3) extends Expr3\n",
    "case class AssignRef(e1: Expr3, e2: Expr3) extends Expr3\n",
    "case class Main(e: Expr3) extends Program3\n",
    "\n",
    "def typeEquals(t1: Type, t2: Type): Boolean = t1 == t2\n",
    "case class TypeErrorException(s: String) extends Exception\n"
   ]
  },
  {
   "cell_type": "code",
   "execution_count": 26,
   "metadata": {
    "deletable": false,
    "nbgrader": {
     "cell_type": "code",
     "checksum": "4f29dde426334a044f518b93e10b0096",
     "grade": false,
     "grade_id": "cell-9da3de638dbe3839",
     "locked": false,
     "schema_version": 3,
     "solution": true,
     "task": false
    }
   },
   "outputs": [
    {
     "data": {
      "text/plain": [
       "defined \u001b[32mfunction\u001b[39m \u001b[36mtypeOf\u001b[39m\n",
       "defined \u001b[32mfunction\u001b[39m \u001b[36mtypeOfProgram\u001b[39m"
      ]
     },
     "execution_count": 26,
     "metadata": {},
     "output_type": "execute_result"
    }
   ],
   "source": [
    "def typeOf(e: Expr3, alpha: Map[String, Type]): Type = {\n",
    "    def checkType(opName: String, e1: Expr3, t1: Type, e2: Expr3, t2: Type, resType: Type): Type = {\n",
    "        val t1hat = typeOf(e1, alpha)\n",
    "        if (! typeEquals(t1hat, t1)){\n",
    "            throw new TypeErrorException(s\"Type mismatch in arithmetic/comparison/bool op $opName, Expected type $t1, obtained $t1hat\")\n",
    "        }\n",
    "        \n",
    "        val t2hat = typeOf(e2, alpha)\n",
    "        if (! typeEquals(t2hat, t2)){\n",
    "            throw new TypeErrorException(s\"Type mismatch in arithmetic/comparison/bool op $opName, Expected type $t2, obtained $t2hat\")\n",
    "        }\n",
    "        \n",
    "        resType\n",
    "    }\n",
    "    \n",
    "    e match {\n",
    "        case Const(f) => NumType\n",
    "        case Ident(s) => {if (alpha contains s)\n",
    "                             alpha(s)\n",
    "                          else \n",
    "                             throw TypeErrorException(s\"Unknown identifier $s\")}\n",
    "        case Plus(e1, e2) =>  checkType(\"Plus\", e1,  NumType, e2, NumType, NumType)\n",
    "        case Minus(e1, e2) => checkType(\"Minus\",e1,  NumType, e2, NumType, NumType)\n",
    "        case Geq(e1, e2) => checkType(\"Geq\", e1,  NumType, e2, NumType, BoolType)\n",
    "        case IfThenElse(e, e1, e2) => {\n",
    "            val t = typeOf(e, alpha)\n",
    "            if (t == BoolType){\n",
    "                val t1 = typeOf(e1, alpha)\n",
    "                val t2 = typeOf(e2, alpha)\n",
    "                if (typeEquals(t1, t2))\n",
    "                    t1\n",
    "                else \n",
    "                    throw TypeErrorException(s\"If then else returns unequal types $t1 and $t2\")\n",
    "            } else {\n",
    "                throw TypeErrorException(s\"If then else condition expression not boolean $t\")\n",
    "            }\n",
    "        }\n",
    "\n",
    "        case Let(x, t, e1, e2) => {\n",
    "            val t1 = typeOf(e1, alpha)\n",
    "            if (typeEquals(t1, t)){\n",
    "                val newAlpha = alpha + (x -> t)\n",
    "                typeOf(e2, newAlpha)\n",
    "            } else {\n",
    "                throw TypeErrorException(s\"Let binding has type $t whereas it is bound to expression of type $t1\")\n",
    "            }\n",
    "        }\n",
    "\n",
    "        case FunDef(x, t1, e) => {\n",
    "            val newAlpha = alpha + (x -> t1)\n",
    "            val t2 = typeOf(e, newAlpha)\n",
    "            FunType(t1, t2)\n",
    "        }\n",
    "\n",
    "        case FunCall(e1, e2) => {\n",
    "            val ftype = typeOf(e1, alpha)\n",
    "            ftype match {\n",
    "                case FunType(t1, t2) => {\n",
    "                    val argType = typeOf(e2, alpha)\n",
    "                    if (typeEquals(argType, t1)){\n",
    "                        t2\n",
    "                    } else {\n",
    "                        throw TypeErrorException(s\"Call to function with incompatible argument type. Expected $t1, obtained $argType\")\n",
    "                    }\n",
    "                }\n",
    "                case _ => { throw TypeErrorException(s\"Call to function but with a non function type $ftype\")}\n",
    "\n",
    "            }\n",
    "        }\n",
    "\n",
    "        case NewRef(e) => RefType(typeOf(e, alpha))\n",
    "\n",
    "        case AssignRef(e1, e2) => {\n",
    "            val rtype2 = typeOf(e2, alpha)\n",
    "            typeOf(e1, alpha) match {\n",
    "                case RefType(rtype) if typeEquals(rtype, rtype2) => rtype2\n",
    "                case _ => throw TypeErrorException(s\"Error\")\n",
    "            }\n",
    "        }\n",
    "        \n",
    "        case DeRef(e) => {\n",
    "            typeOf(e, alpha) match {\n",
    "                case RefType(t1) => t1\n",
    "                case _ => throw TypeErrorException(s\"Error\")\n",
    "            }\n",
    "        }\n",
    "        \n",
    "    }\n",
    "}\n",
    "\n",
    "def typeOfProgram(p: Program3) = p match {\n",
    "    case Main(e) => {\n",
    "            val t = typeOf(e, Map())\n",
    "            println(s\"Program type computed successfully as $t\")\n",
    "            t\n",
    "    }\n",
    "}"
   ]
  },
  {
   "cell_type": "code",
   "execution_count": 27,
   "metadata": {
    "deletable": false,
    "editable": false,
    "nbgrader": {
     "cell_type": "code",
     "checksum": "1eec1eb9a23e78eafdbe6bb4152416b5",
     "grade": true,
     "grade_id": "cell-6c08bf4fdd100d34",
     "locked": true,
     "points": 4,
     "schema_version": 3,
     "solution": false,
     "task": false
    }
   },
   "outputs": [
    {
     "name": "stdout",
     "output_type": "stream",
     "text": [
      "Program type computed successfully as NumType\n",
      "\n",
      "*** Tests Passed (4 points) ***\n"
     ]
    },
    {
     "data": {
      "text/plain": [
       "\u001b[36mp1\u001b[39m: \u001b[32mLet\u001b[39m = \u001b[33mLet\u001b[39m(\n",
       "  \u001b[32m\"x\"\u001b[39m,\n",
       "  \u001b[33mRefType\u001b[39m(NumType),\n",
       "  \u001b[33mNewRef\u001b[39m(\u001b[33mConst\u001b[39m(\u001b[32m10.0\u001b[39m)),\n",
       "  \u001b[33mLet\u001b[39m(\u001b[32m\"dummy\"\u001b[39m, NumType, \u001b[33mAssignRef\u001b[39m(\u001b[33mIdent\u001b[39m(\u001b[32m\"x\"\u001b[39m), \u001b[33mConst\u001b[39m(\u001b[32m30.0\u001b[39m)), \u001b[33mDeRef\u001b[39m(\u001b[33mIdent\u001b[39m(\u001b[32m\"x\"\u001b[39m)))\n",
       ")\n",
       "\u001b[36mt1\u001b[39m: \u001b[32mType\u001b[39m = NumType"
      ]
     },
     "execution_count": 27,
     "metadata": {},
     "output_type": "execute_result"
    }
   ],
   "source": [
    "//BEGIN TEST\n",
    "\n",
    "/* \n",
    "let x : ref(num) = NewRef(10 ) in \n",
    "   let dummy: num = AssignRef(x, 30) in \n",
    "       DeRef(x)\n",
    "       */\n",
    "\n",
    "val p1 = Let(\"x\", RefType(NumType), NewRef(Const(10)), Let(\"dummy\", NumType, AssignRef(Ident(\"x\"), Const(30) ), DeRef(Ident(\"x\"))) )\n",
    "val t1 = typeOfProgram(Main(p1))\n",
    "assert(t1 == NumType, \"Test 1 failed: answer should be NumType\")\n",
    "passed(4)\n",
    "//END TEST"
   ]
  },
  {
   "cell_type": "code",
   "execution_count": 28,
   "metadata": {
    "deletable": false,
    "editable": false,
    "nbgrader": {
     "cell_type": "code",
     "checksum": "5c0fbd2dda071297350d81bf0c9c433f",
     "grade": true,
     "grade_id": "cell-9d8f5250790a752f",
     "locked": true,
     "points": 4,
     "schema_version": 3,
     "solution": false,
     "task": false
    }
   },
   "outputs": [
    {
     "name": "stdout",
     "output_type": "stream",
     "text": [
      "\n",
      "*** Tests Passed (4 points) ***\n"
     ]
    },
    {
     "data": {
      "text/plain": [
       "\u001b[36mfdef\u001b[39m: \u001b[32mFunDef\u001b[39m = \u001b[33mFunDef\u001b[39m(\u001b[32m\"z\"\u001b[39m, NumType, \u001b[33mPlus\u001b[39m(\u001b[33mIdent\u001b[39m(\u001b[32m\"z\"\u001b[39m), \u001b[33mConst\u001b[39m(\u001b[32m10.0\u001b[39m)))\n",
       "\u001b[36mp2\u001b[39m: \u001b[32mLet\u001b[39m = \u001b[33mLet\u001b[39m(\n",
       "  \u001b[32m\"x\"\u001b[39m,\n",
       "  \u001b[33mRefType\u001b[39m(NumType),\n",
       "  \u001b[33mNewRef\u001b[39m(\u001b[33mFunDef\u001b[39m(\u001b[32m\"z\"\u001b[39m, NumType, \u001b[33mPlus\u001b[39m(\u001b[33mIdent\u001b[39m(\u001b[32m\"z\"\u001b[39m), \u001b[33mConst\u001b[39m(\u001b[32m10.0\u001b[39m)))),\n",
       "  \u001b[33mLet\u001b[39m(\u001b[32m\"dummy\"\u001b[39m, NumType, \u001b[33mAssignRef\u001b[39m(\u001b[33mIdent\u001b[39m(\u001b[32m\"x\"\u001b[39m), \u001b[33mConst\u001b[39m(\u001b[32m30.0\u001b[39m)), \u001b[33mDeRef\u001b[39m(\u001b[33mIdent\u001b[39m(\u001b[32m\"x\"\u001b[39m)))\n",
       ")\n",
       "\u001b[36mt2\u001b[39m: \u001b[32mAny\u001b[39m = \u001b[32m\"OK -- caught a type error exception: Let binding has type RefType(NumType) whereas it is bound to expression of type RefType(FunType(NumType,NumType))\"\u001b[39m"
      ]
     },
     "execution_count": 28,
     "metadata": {},
     "output_type": "execute_result"
    }
   ],
   "source": [
    "//BEGIN TEST\n",
    "/* \n",
    "let x : ref(num) = NewRef(function(z: num) z + 10) in \n",
    "   let dummy: num = AssignRef(x, 30) in \n",
    "       DeRef(x)\n",
    "       */\n",
    "val fdef = FunDef(\"z\", NumType, Plus(Ident(\"z\"), Const(10)))\n",
    "val p2 = Let(\"x\", RefType(NumType), NewRef(fdef), Let(\"dummy\", NumType, AssignRef(Ident(\"x\"), Const(30) ), DeRef(Ident(\"x\"))) )\n",
    "val t2 = try {\n",
    "   typeOfProgram(Main(p2))\n",
    "   assert(false, \"The program should not receive a type\")\n",
    "} catch {\n",
    "    case TypeErrorException(msg) => s\"OK -- caught a type error exception: $msg\"\n",
    "    case e => print(e); assert(false, \"Please throw TypeErrorException(message) when a type failure occurs\")\n",
    "}\n",
    "passed(4)\n",
    "//END TEST"
   ]
  },
  {
   "cell_type": "code",
   "execution_count": 29,
   "metadata": {
    "deletable": false,
    "editable": false,
    "nbgrader": {
     "cell_type": "code",
     "checksum": "bcd50c44866d4cdbd82fee551d88b567",
     "grade": true,
     "grade_id": "cell-930b6123f56a1075",
     "locked": true,
     "points": 4,
     "schema_version": 3,
     "solution": false,
     "task": false
    }
   },
   "outputs": [
    {
     "name": "stdout",
     "output_type": "stream",
     "text": [
      "\n",
      "*** Tests Passed (4 points) ***\n"
     ]
    },
    {
     "data": {
      "text/plain": [
       "\u001b[36mfdef\u001b[39m: \u001b[32mFunDef\u001b[39m = \u001b[33mFunDef\u001b[39m(\u001b[32m\"z\"\u001b[39m, NumType, \u001b[33mPlus\u001b[39m(\u001b[33mIdent\u001b[39m(\u001b[32m\"z\"\u001b[39m), \u001b[33mConst\u001b[39m(\u001b[32m10.0\u001b[39m)))\n",
       "\u001b[36mp3\u001b[39m: \u001b[32mLet\u001b[39m = \u001b[33mLet\u001b[39m(\n",
       "  \u001b[32m\"x\"\u001b[39m,\n",
       "  \u001b[33mRefType\u001b[39m(\u001b[33mFunType\u001b[39m(NumType, NumType)),\n",
       "  \u001b[33mNewRef\u001b[39m(\u001b[33mFunDef\u001b[39m(\u001b[32m\"z\"\u001b[39m, NumType, \u001b[33mPlus\u001b[39m(\u001b[33mIdent\u001b[39m(\u001b[32m\"z\"\u001b[39m), \u001b[33mConst\u001b[39m(\u001b[32m10.0\u001b[39m)))),\n",
       "  \u001b[33mLet\u001b[39m(\u001b[32m\"dummy\"\u001b[39m, NumType, \u001b[33mAssignRef\u001b[39m(\u001b[33mIdent\u001b[39m(\u001b[32m\"x\"\u001b[39m), \u001b[33mConst\u001b[39m(\u001b[32m30.0\u001b[39m)), \u001b[33mDeRef\u001b[39m(\u001b[33mIdent\u001b[39m(\u001b[32m\"x\"\u001b[39m)))\n",
       ")\n",
       "\u001b[36mt3\u001b[39m: \u001b[32mAny\u001b[39m = \u001b[32m\"OK -- caught a type error exception: Error\"\u001b[39m"
      ]
     },
     "execution_count": 29,
     "metadata": {},
     "output_type": "execute_result"
    }
   ],
   "source": [
    "//BEGIN TEST\n",
    "/* \n",
    "let x : ref(num => num) = NewRef(function(z: num) z + 10) in \n",
    "   let dummy: num = AssignRef(x, 30) in \n",
    "       DeRef(x)\n",
    "       */\n",
    "val fdef = FunDef(\"z\", NumType, Plus(Ident(\"z\"), Const(10)))\n",
    "val p3 = Let(\"x\", RefType(FunType(NumType, NumType)), NewRef(fdef), Let(\"dummy\", NumType, AssignRef(Ident(\"x\"), Const(30) ), DeRef(Ident(\"x\"))) )\n",
    "val t3 = try {\n",
    "   typeOfProgram(Main(p3))\n",
    "   assert(false, \"The program should not receive a type\")\n",
    "} catch {\n",
    "    case TypeErrorException(msg) => s\"OK -- caught a type error exception: $msg\"\n",
    "    case e => print(e); assert(false, \"Please throw TypeErrorException(message) when a type failure occurs\")\n",
    "}\n",
    "passed(4)\n",
    "//END TEST"
   ]
  },
  {
   "cell_type": "code",
   "execution_count": 30,
   "metadata": {
    "deletable": false,
    "editable": false,
    "nbgrader": {
     "cell_type": "code",
     "checksum": "8217855a3df38ddbddd3bacf7fd88428",
     "grade": true,
     "grade_id": "cell-fe151a6843ac8ec1",
     "locked": true,
     "points": 4,
     "schema_version": 3,
     "solution": false,
     "task": false
    }
   },
   "outputs": [
    {
     "name": "stdout",
     "output_type": "stream",
     "text": [
      "Program type computed successfully as FunType(NumType,NumType)\n",
      "\n",
      "*** Tests Passed (4 points) ***\n"
     ]
    },
    {
     "data": {
      "text/plain": [
       "\u001b[36mfdef\u001b[39m: \u001b[32mFunDef\u001b[39m = \u001b[33mFunDef\u001b[39m(\u001b[32m\"z\"\u001b[39m, NumType, \u001b[33mPlus\u001b[39m(\u001b[33mIdent\u001b[39m(\u001b[32m\"z\"\u001b[39m), \u001b[33mConst\u001b[39m(\u001b[32m10.0\u001b[39m)))\n",
       "\u001b[36mp4\u001b[39m: \u001b[32mLet\u001b[39m = \u001b[33mLet\u001b[39m(\n",
       "  \u001b[32m\"x\"\u001b[39m,\n",
       "  \u001b[33mRefType\u001b[39m(\u001b[33mFunType\u001b[39m(NumType, NumType)),\n",
       "  \u001b[33mNewRef\u001b[39m(\u001b[33mFunDef\u001b[39m(\u001b[32m\"z\"\u001b[39m, NumType, \u001b[33mPlus\u001b[39m(\u001b[33mIdent\u001b[39m(\u001b[32m\"z\"\u001b[39m), \u001b[33mConst\u001b[39m(\u001b[32m10.0\u001b[39m)))),\n",
       "  \u001b[33mLet\u001b[39m(\n",
       "    \u001b[32m\"dummy\"\u001b[39m,\n",
       "    NumType,\n",
       "    \u001b[33mAssignRef\u001b[39m(\u001b[33mNewRef\u001b[39m(\u001b[33mConst\u001b[39m(\u001b[32m35.0\u001b[39m)), \u001b[33mConst\u001b[39m(\u001b[32m30.0\u001b[39m)),\n",
       "    \u001b[33mDeRef\u001b[39m(\u001b[33mIdent\u001b[39m(\u001b[32m\"x\"\u001b[39m))\n",
       "  )\n",
       ")\n",
       "\u001b[36mt4\u001b[39m: \u001b[32mType\u001b[39m = \u001b[33mFunType\u001b[39m(NumType, NumType)"
      ]
     },
     "execution_count": 30,
     "metadata": {},
     "output_type": "execute_result"
    }
   ],
   "source": [
    "//BEGIN TEST\n",
    "/* \n",
    "let x : ref(num => num) = NewRef(function(z: num) z + 10) in \n",
    "   let dummy: num = AssignRef(NewRef(35), 30) in \n",
    "       DeRef(x)\n",
    "       */\n",
    "val fdef = FunDef(\"z\", NumType, Plus(Ident(\"z\"), Const(10)))\n",
    "val p4 = Let(\"x\", RefType(FunType(NumType, NumType)), NewRef(fdef), Let(\"dummy\", NumType, AssignRef(NewRef(Const(35)), Const(30) ), DeRef(Ident(\"x\"))) )\n",
    "val t4 =  typeOfProgram(Main(p4))\n",
    "assert(t4 == FunType(NumType, NumType), \"Test failed\")\n",
    "passed(4)\n",
    "//END TEST"
   ]
  },
  {
   "cell_type": "code",
   "execution_count": 31,
   "metadata": {
    "deletable": false,
    "editable": false,
    "nbgrader": {
     "cell_type": "code",
     "checksum": "c0f2cd2f4370ab9c3c305c3786e0426d",
     "grade": true,
     "grade_id": "cell-630efb544b5d2954",
     "locked": true,
     "points": 4,
     "schema_version": 3,
     "solution": false,
     "task": false
    }
   },
   "outputs": [
    {
     "name": "stdout",
     "output_type": "stream",
     "text": [
      "Program type computed successfully as NumType\n",
      "\n",
      "*** Tests Passed (4 points) ***\n"
     ]
    },
    {
     "data": {
      "text/plain": [
       "\u001b[36my\u001b[39m: \u001b[32mIdent\u001b[39m = \u001b[33mIdent\u001b[39m(\u001b[32m\"y\"\u001b[39m)\n",
       "\u001b[36mx\u001b[39m: \u001b[32mIdent\u001b[39m = \u001b[33mIdent\u001b[39m(\u001b[32m\"x\"\u001b[39m)\n",
       "\u001b[36mz\u001b[39m: \u001b[32mIdent\u001b[39m = \u001b[33mIdent\u001b[39m(\u001b[32m\"z\"\u001b[39m)\n",
       "\u001b[36mt1\u001b[39m: \u001b[32mRefType\u001b[39m = \u001b[33mRefType\u001b[39m(NumType)\n",
       "\u001b[36mt2\u001b[39m: \u001b[32mFunType\u001b[39m = \u001b[33mFunType\u001b[39m(\u001b[33mRefType\u001b[39m(NumType), NumType)\n",
       "\u001b[36mt3\u001b[39m: \u001b[32mRefType\u001b[39m = \u001b[33mRefType\u001b[39m(\u001b[33mFunType\u001b[39m(\u001b[33mRefType\u001b[39m(NumType), NumType))\n",
       "\u001b[36mv1\u001b[39m: \u001b[32mFunCall\u001b[39m = \u001b[33mFunCall\u001b[39m(\u001b[33mDeRef\u001b[39m(\u001b[33mIdent\u001b[39m(\u001b[32m\"y\"\u001b[39m)), \u001b[33mIdent\u001b[39m(\u001b[32m\"x\"\u001b[39m))\n",
       "\u001b[36mv2\u001b[39m: \u001b[32mLet\u001b[39m = \u001b[33mLet\u001b[39m(\n",
       "  \u001b[32m\"z\"\u001b[39m,\n",
       "  \u001b[33mRefType\u001b[39m(BoolType),\n",
       "  \u001b[33mNewRef\u001b[39m(\u001b[33mGeq\u001b[39m(\u001b[33mDeRef\u001b[39m(\u001b[33mIdent\u001b[39m(\u001b[32m\"x\"\u001b[39m)), \u001b[33mConst\u001b[39m(\u001b[32m25.0\u001b[39m))),\n",
       "  \u001b[33mFunCall\u001b[39m(\u001b[33mDeRef\u001b[39m(\u001b[33mIdent\u001b[39m(\u001b[32m\"y\"\u001b[39m)), \u001b[33mIdent\u001b[39m(\u001b[32m\"x\"\u001b[39m))\n",
       ")\n",
       "\u001b[36mfdef\u001b[39m: \u001b[32mFunDef\u001b[39m = \u001b[33mFunDef\u001b[39m(\n",
       "  \u001b[32m\"z\"\u001b[39m,\n",
       "  \u001b[33mRefType\u001b[39m(NumType),\n",
       "  \u001b[33mPlus\u001b[39m(\u001b[33mDeRef\u001b[39m(\u001b[33mIdent\u001b[39m(\u001b[32m\"z\"\u001b[39m)), \u001b[33mDeRef\u001b[39m(\u001b[33mIdent\u001b[39m(\u001b[32m\"x\"\u001b[39m)))\n",
       ")\n",
       "\u001b[36mv3\u001b[39m: \u001b[32mLet\u001b[39m = \u001b[33mLet\u001b[39m(\n",
       "  \u001b[32m\"y\"\u001b[39m,\n",
       "  \u001b[33mRefType\u001b[39m(\u001b[33mFunType\u001b[39m(\u001b[33mRefType\u001b[39m(NumType), NumType)),\n",
       "  \u001b[33mNewRef\u001b[39m(\n",
       "    \u001b[33mFunDef\u001b[39m(\u001b[32m\"z\"\u001b[39m, \u001b[33mRefType\u001b[39m(NumType), \u001b[33mPlus\u001b[39m(\u001b[33mDeRef\u001b[39m(\u001b[33mIdent\u001b[39m(\u001b[32m\"z\"\u001b[39m)), \u001b[33mDeRef\u001b[39m(\u001b[33mIdent\u001b[39m(\u001b[32m\"x\"\u001b[39m))))\n",
       "  ),\n",
       "  \u001b[33mLet\u001b[39m(\n",
       "    \u001b[32m\"z\"\u001b[39m,\n",
       "    \u001b[33mRefType\u001b[39m(BoolType),\n",
       "    \u001b[33mNewRef\u001b[39m(\u001b[33mGeq\u001b[39m(\u001b[33mDeRef\u001b[39m(\u001b[33mIdent\u001b[39m(\u001b[32m\"x\"\u001b[39m)), \u001b[33mConst\u001b[39m(\u001b[32m25.0\u001b[39m))),\n",
       "    \u001b[33mFunCall\u001b[39m(\u001b[33mDeRef\u001b[39m(\u001b[33mIdent\u001b[39m(\u001b[32m\"y\"\u001b[39m)), \u001b[33mIdent\u001b[39m(\u001b[32m\"x\"\u001b[39m))\n",
       "  )\n",
       ")\n",
       "\u001b[36mv4\u001b[39m: \u001b[32mLet\u001b[39m = \u001b[33mLet\u001b[39m(\n",
       "  \u001b[32m\"x\"\u001b[39m,\n",
       "  \u001b[33mRefType\u001b[39m(NumType),\n",
       "  \u001b[33mNewRef\u001b[39m(\u001b[33mConst\u001b[39m(\u001b[32m10.0\u001b[39m)),\n",
       "  \u001b[33mLet\u001b[39m(\n",
       "    \u001b[32m\"y\"\u001b[39m,\n",
       "    \u001b[33mRefType\u001b[39m(\u001b[33mFunType\u001b[39m(\u001b[33mRefType\u001b[39m(NumType), NumType)),\n",
       "    \u001b[33mNewRef\u001b[39m(\n",
       "      \u001b[33mFunDef\u001b[39m(\u001b[32m\"z\"\u001b[39m, \u001b[33mRefType\u001b[39m(NumType), \u001b[33mPlus\u001b[39m(\u001b[33mDeRef\u001b[39m(\u001b[33mIdent\u001b[39m(\u001b[32m\"z\"\u001b[39m)), \u001b[33mDeRef\u001b[39m(\u001b[33mIdent\u001b[39m(\u001b[32m\"x\"\u001b[39m))))\n",
       "    ),\n",
       "    \u001b[33mLet\u001b[39m(\n",
       "      \u001b[32m\"z\"\u001b[39m,\n",
       "      \u001b[33mRefType\u001b[39m(BoolType),\n",
       "      \u001b[33mNewRef\u001b[39m(\u001b[33mGeq\u001b[39m(\u001b[33mDeRef\u001b[39m(\u001b[33mIdent\u001b[39m(\u001b[32m\"x\"\u001b[39m)), \u001b[33mConst\u001b[39m(\u001b[32m25.0\u001b[39m))),\n",
       "      \u001b[33mFunCall\u001b[39m(\u001b[33mDeRef\u001b[39m(\u001b[33mIdent\u001b[39m(\u001b[32m\"y\"\u001b[39m)), \u001b[33mIdent\u001b[39m(\u001b[32m\"x\"\u001b[39m))\n",
       "    )\n",
       "  )\n",
       ")\n",
       "\u001b[36mp5\u001b[39m: \u001b[32mMain\u001b[39m = \u001b[33mMain\u001b[39m(\n",
       "  \u001b[33mLet\u001b[39m(\n",
       "    \u001b[32m\"x\"\u001b[39m,\n",
       "    \u001b[33mRefType\u001b[39m(NumType),\n",
       "    \u001b[33mNewRef\u001b[39m(\u001b[33mConst\u001b[39m(\u001b[32m10.0\u001b[39m)),\n",
       "    \u001b[33mLet\u001b[39m(\n",
       "      \u001b[32m\"y\"\u001b[39m,\n",
       "      \u001b[33mRefType\u001b[39m(\u001b[33mFunType\u001b[39m(\u001b[33mRefType\u001b[39m(NumType), NumType)),\n",
       "      \u001b[33mNewRef\u001b[39m(\n",
       "        \u001b[33mFunDef\u001b[39m(\n",
       "          \u001b[32m\"z\"\u001b[39m,\n",
       "          \u001b[33mRefType\u001b[39m(NumType),\n",
       "          \u001b[33mPlus\u001b[39m(\u001b[33mDeRef\u001b[39m(\u001b[33mIdent\u001b[39m(\u001b[32m\"z\"\u001b[39m)), \u001b[33mDeRef\u001b[39m(\u001b[33mIdent\u001b[39m(\u001b[32m\"x\"\u001b[39m)))\n",
       "        )\n",
       "      ),\n",
       "      \u001b[33mLet\u001b[39m(\n",
       "        \u001b[32m\"z\"\u001b[39m,\n",
       "        \u001b[33mRefType\u001b[39m(BoolType),\n",
       "        \u001b[33mNewRef\u001b[39m(\u001b[33mGeq\u001b[39m(\u001b[33mDeRef\u001b[39m(\u001b[33mIdent\u001b[39m(\u001b[32m\"x\"\u001b[39m)), \u001b[33mConst\u001b[39m(\u001b[32m25.0\u001b[39m))),\n",
       "        \u001b[33mFunCall\u001b[39m(\u001b[33mDeRef\u001b[39m(\u001b[33mIdent\u001b[39m(\u001b[32m\"y\"\u001b[39m)), \u001b[33mIdent\u001b[39m(\u001b[32m\"x\"\u001b[39m))\n",
       "      )\n",
       "    )\n",
       "  )\n",
       ")"
      ]
     },
     "execution_count": 31,
     "metadata": {},
     "output_type": "execute_result"
    }
   ],
   "source": [
    "//BEGIN TEST\n",
    "\n",
    "val y = Ident(\"y\")\n",
    "val x = Ident(\"x\")\n",
    "val z = Ident(\"z\")\n",
    "val t1 = RefType(NumType)\n",
    "val t2 = FunType(t1, NumType)\n",
    "val t3 = RefType(t2)\n",
    "\n",
    "val v1 = FunCall(DeRef(y), x)\n",
    "val v2 = Let(\"z\", RefType(BoolType), NewRef(Geq(DeRef(x), Const(25))), v1)\n",
    "val fdef = FunDef(\"z\", RefType(NumType), Plus(DeRef(z), DeRef(x)))\n",
    "val v3 = Let(\"y\", t3, NewRef(fdef), v2)\n",
    "val v4 = Let(\"x\", t1, NewRef(Const(10)), v3)\n",
    "\n",
    "val p5 = Main(v4)\n",
    "assert(typeOfProgram(p5) == NumType, \"Test failed\")\n",
    "passed(4)\n",
    "\n",
    "//END TEST"
   ]
  }
 ],
 "metadata": {
  "kernelspec": {
   "display_name": "Scala",
   "language": "scala",
   "name": "scala"
  },
  "language_info": {
   "codemirror_mode": "text/x-scala",
   "file_extension": ".scala",
   "mimetype": "text/x-scala",
   "name": "scala",
   "nbconvert_exporter": "script",
   "version": "2.12.10"
  }
 },
 "nbformat": 4,
 "nbformat_minor": 2
}
