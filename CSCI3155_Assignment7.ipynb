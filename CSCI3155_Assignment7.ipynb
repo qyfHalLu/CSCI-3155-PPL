{
 "cells": [
  {
   "cell_type": "code",
   "execution_count": null,
   "metadata": {},
   "outputs": [],
   "source": []
  },
  {
   "cell_type": "markdown",
   "metadata": {
    "deletable": false,
    "editable": false,
    "nbgrader": {
     "cell_type": "markdown",
     "checksum": "34f574402fa0a9a1e85a21b4a4d303f0",
     "grade": false,
     "grade_id": "cell-516e99334bee874e",
     "locked": true,
     "schema_version": 3,
     "solution": false,
     "task": false
    }
   },
   "source": [
    "# CSCI 3155 : Homework 7\n",
    "\n"
   ]
  },
  {
   "cell_type": "markdown",
   "metadata": {},
   "source": [
    "__Name__:\n",
    "\n",
    "Qiuyang Fu"
   ]
  },
  {
   "cell_type": "code",
   "execution_count": 1,
   "metadata": {
    "deletable": false,
    "editable": false,
    "nbgrader": {
     "cell_type": "code",
     "checksum": "db904c0c622df4d083f824fc334b7c42",
     "grade": false,
     "grade_id": "cell-db822f90bf731f5e",
     "locked": true,
     "schema_version": 3,
     "solution": false,
     "task": false
    }
   },
   "outputs": [
    {
     "data": {
      "text/plain": [
       "defined \u001b[32mfunction\u001b[39m \u001b[36mpassed\u001b[39m"
      ]
     },
     "execution_count": 1,
     "metadata": {},
     "output_type": "execute_result"
    }
   ],
   "source": [
    "// TEST HELPER: Do not EDIT this cell please.\n",
    "def passed(points: Int) {\n",
    "    require(points >=0)\n",
    "    if (points == 1) print(s\"\\n*** Tests Passed (1 point) ***\\n\")\n",
    "    else print(s\"\\n*** Tests Passed ($points points) ***\\n\")\n",
    "}"
   ]
  },
  {
   "cell_type": "markdown",
   "metadata": {
    "deletable": false,
    "editable": false,
    "nbgrader": {
     "cell_type": "markdown",
     "checksum": "f393e79e90e8c0594b982d9c6232628a",
     "grade": false,
     "grade_id": "cell-612c4e8998c946be",
     "locked": true,
     "schema_version": 3,
     "solution": false,
     "task": false
    }
   },
   "source": [
    "## Problem 1: Functions to Lettuce"
   ]
  },
  {
   "cell_type": "markdown",
   "metadata": {
    "deletable": false,
    "editable": false,
    "nbgrader": {
     "cell_type": "markdown",
     "checksum": "dbcc56e8a728e98e196260c54b2ed078",
     "grade": false,
     "grade_id": "cell-eb648ab9fb5266f8",
     "locked": true,
     "schema_version": 3,
     "solution": false,
     "task": false
    }
   },
   "source": [
    "### Problem 1a (4 points)\n",
    "\n",
    "Extend the abstract syntax of lettuce to include functions\n",
    "\n",
    "$$\\begin{array}{rcll}\n",
    "\\mathbf{Expr} & \\rightarrow & \\\\\n",
    "& ...\\\\\n",
    " & | & FunDef( \\mathbf{Identifier}, \\mathbf{Expr}) & \\texttt{function (arg) body_expr} \\\\ \n",
    " & | & FunCall(\\mathbf{Expr}, \\mathbf{Expr}) & \\texttt{fun_expr(arg_expr)} \\\\\n",
    "\\end{array}$$"
   ]
  },
  {
   "cell_type": "code",
   "execution_count": 2,
   "metadata": {
    "deletable": false,
    "nbgrader": {
     "cell_type": "code",
     "checksum": "e1b6cc2e2552d019f7aa45e48105d1a2",
     "grade": false,
     "grade_id": "cell-cf677f18337aa8bf",
     "locked": false,
     "schema_version": 3,
     "solution": true,
     "task": false
    }
   },
   "outputs": [
    {
     "data": {
      "text/plain": [
       "defined \u001b[32mtrait\u001b[39m \u001b[36mExpr\u001b[39m\n",
       "defined \u001b[32mclass\u001b[39m \u001b[36mConst\u001b[39m\n",
       "defined \u001b[32mclass\u001b[39m \u001b[36mIdent\u001b[39m\n",
       "defined \u001b[32mobject\u001b[39m \u001b[36mTrue\u001b[39m\n",
       "defined \u001b[32mobject\u001b[39m \u001b[36mFalse\u001b[39m\n",
       "defined \u001b[32mclass\u001b[39m \u001b[36mPlus\u001b[39m\n",
       "defined \u001b[32mclass\u001b[39m \u001b[36mMinus\u001b[39m\n",
       "defined \u001b[32mclass\u001b[39m \u001b[36mMult\u001b[39m\n",
       "defined \u001b[32mclass\u001b[39m \u001b[36mNeg\u001b[39m\n",
       "defined \u001b[32mclass\u001b[39m \u001b[36mAnd\u001b[39m\n",
       "defined \u001b[32mclass\u001b[39m \u001b[36mOr\u001b[39m\n",
       "defined \u001b[32mclass\u001b[39m \u001b[36mGeq\u001b[39m\n",
       "defined \u001b[32mclass\u001b[39m \u001b[36mEq\u001b[39m\n",
       "defined \u001b[32mclass\u001b[39m \u001b[36mITE\u001b[39m\n",
       "defined \u001b[32mclass\u001b[39m \u001b[36mLet\u001b[39m\n",
       "defined \u001b[32mclass\u001b[39m \u001b[36mFunDef\u001b[39m\n",
       "defined \u001b[32mclass\u001b[39m \u001b[36mFunCall\u001b[39m"
      ]
     },
     "execution_count": 2,
     "metadata": {},
     "output_type": "execute_result"
    }
   ],
   "source": [
    "sealed trait Expr\n",
    "case class  Const(n : Int) extends Expr\n",
    "case class  Ident(s : String) extends Expr\n",
    "case object True extends Expr\n",
    "case object False extends Expr\n",
    "case class  Plus( e1 : Expr, e2 : Expr) extends Expr\n",
    "case class  Minus( e1 : Expr, e2 : Expr) extends Expr\n",
    "case class  Mult( e1 : Expr, e2 : Expr) extends Expr\n",
    "case class  Neg( e1 : Expr) extends Expr\n",
    "case class  And( e1 : Expr, e2 : Expr) extends Expr\n",
    "case class  Or( e1 : Expr, e2 : Expr) extends Expr\n",
    "case class  Geq( e1 : Expr, e2 : Expr) extends Expr\n",
    "case class  Eq( e1 : Expr, e2 : Expr) extends Expr\n",
    "case class  ITE( ec : Expr, et : Expr, ef : Expr) extends Expr\n",
    "case class  Let( name : String, ed : Expr, ei : Expr) extends Expr\n",
    "case class  FunDef( id : String, e : Expr) extends Expr\n",
    "case class  FunCall( func : Expr, arg : Expr) extends Expr"
   ]
  },
  {
   "cell_type": "code",
   "execution_count": 3,
   "metadata": {
    "deletable": false,
    "editable": false,
    "nbgrader": {
     "cell_type": "code",
     "checksum": "11ded2efbe7a6bacbfdca30edd9e2e39",
     "grade": true,
     "grade_id": "cell-077f89581a0f7687",
     "locked": true,
     "points": 4,
     "schema_version": 3,
     "solution": false,
     "task": false
    }
   },
   "outputs": [
    {
     "name": "stdout",
     "output_type": "stream",
     "text": [
      "\n",
      "*** Tests Passed (4 points) ***\n"
     ]
    },
    {
     "data": {
      "text/plain": [
       "\u001b[36me1\u001b[39m: \u001b[32mFunDef\u001b[39m = \u001b[33mFunDef\u001b[39m(\u001b[32m\"x\"\u001b[39m, \u001b[33mPlus\u001b[39m(\u001b[33mIdent\u001b[39m(\u001b[32m\"x\"\u001b[39m), \u001b[33mConst\u001b[39m(\u001b[32m1\u001b[39m)))\n",
       "\u001b[36me2\u001b[39m: \u001b[32mFunCall\u001b[39m = \u001b[33mFunCall\u001b[39m(\u001b[33mIdent\u001b[39m(\u001b[32m\"f\"\u001b[39m), \u001b[33mConst\u001b[39m(\u001b[32m1\u001b[39m))\n",
       "\u001b[36me3\u001b[39m: \u001b[32mLet\u001b[39m = \u001b[33mLet\u001b[39m(\n",
       "  \u001b[32m\"f\"\u001b[39m,\n",
       "  \u001b[33mFunDef\u001b[39m(\u001b[32m\"x\"\u001b[39m, \u001b[33mPlus\u001b[39m(\u001b[33mIdent\u001b[39m(\u001b[32m\"x\"\u001b[39m), \u001b[33mConst\u001b[39m(\u001b[32m1\u001b[39m))),\n",
       "  \u001b[33mFunCall\u001b[39m(\u001b[33mIdent\u001b[39m(\u001b[32m\"f\"\u001b[39m), \u001b[33mConst\u001b[39m(\u001b[32m1\u001b[39m))\n",
       ")"
      ]
     },
     "execution_count": 3,
     "metadata": {},
     "output_type": "execute_result"
    }
   ],
   "source": [
    "val e1 = FunDef( \"x\", Plus(Ident(\"x\"), Const(1)))\n",
    "val e2 = FunCall( Ident(\"f\"), Const(1))\n",
    "val e3 = Let( \"f\", \n",
    "              FunDef( \"x\", Plus(Ident(\"x\"), Const(1))), \n",
    "              FunCall( Ident(\"f\"), Const(1)))\n",
    "passed(4)"
   ]
  },
  {
   "cell_type": "markdown",
   "metadata": {
    "deletable": false,
    "editable": false,
    "nbgrader": {
     "cell_type": "markdown",
     "checksum": "6457a87a9a10b06a00aa414d1387af8a",
     "grade": false,
     "grade_id": "cell-6c74158e1aadb977",
     "locked": true,
     "schema_version": 3,
     "solution": false,
     "task": false
    }
   },
   "source": [
    "### Problem 1b (4 points)\n",
    "Recall that our values can be of the form:\n",
    "- Real numbers: $\\mathbb{R}$,\n",
    "- Booleans: $\\mathbb{B}$,\n",
    "- Closures: $\\mathbb{C}$ of the form $\\text{Closure}(x, \\texttt{e}, \\sigma)$,\n",
    "- Error $\\mathbf{error}$.\n",
    "\n",
    "Extends the defintion of Values to include closures"
   ]
  },
  {
   "cell_type": "code",
   "execution_count": 4,
   "metadata": {
    "deletable": false,
    "nbgrader": {
     "cell_type": "code",
     "checksum": "79e838749fc6df351cd6028e0389d0eb",
     "grade": false,
     "grade_id": "cell-1119b09fde3fa6bb",
     "locked": false,
     "schema_version": 3,
     "solution": true,
     "task": false
    }
   },
   "outputs": [
    {
     "data": {
      "text/plain": [
       "defined \u001b[32mtype\u001b[39m \u001b[36mEnvironment\u001b[39m\n",
       "defined \u001b[32mtrait\u001b[39m \u001b[36mValue\u001b[39m\n",
       "defined \u001b[32mclass\u001b[39m \u001b[36mNumVal\u001b[39m\n",
       "defined \u001b[32mclass\u001b[39m \u001b[36mBinVal\u001b[39m\n",
       "defined \u001b[32mclass\u001b[39m \u001b[36mClosure\u001b[39m\n",
       "defined \u001b[32mobject\u001b[39m \u001b[36mError\u001b[39m"
      ]
     },
     "execution_count": 4,
     "metadata": {},
     "output_type": "execute_result"
    }
   ],
   "source": [
    "type Environment = \n",
    "    Map[String, Value]\n",
    "\n",
    "sealed trait Value\n",
    "case class NumVal(x : Int) extends Value\n",
    "case class BinVal(x : Boolean) extends Value\n",
    "case class Closure(id: String, e: Expr, env: Environment) extends Value\n",
    "case object Error extends Value"
   ]
  },
  {
   "cell_type": "code",
   "execution_count": 5,
   "metadata": {
    "deletable": false,
    "editable": false,
    "nbgrader": {
     "cell_type": "code",
     "checksum": "9876ea3dec7d1999e62bf36d1d7a1d4b",
     "grade": true,
     "grade_id": "cell-445dc7c6323c566c",
     "locked": true,
     "points": 4,
     "schema_version": 3,
     "solution": false,
     "task": false
    }
   },
   "outputs": [
    {
     "name": "stdout",
     "output_type": "stream",
     "text": [
      "\n",
      "*** Tests Passed (4 points) ***\n"
     ]
    },
    {
     "data": {
      "text/plain": [
       "\u001b[36mv1\u001b[39m: \u001b[32mValue\u001b[39m = \u001b[33mClosure\u001b[39m(\u001b[32m\"x\"\u001b[39m, \u001b[33mPlus\u001b[39m(\u001b[33mIdent\u001b[39m(\u001b[32m\"x\"\u001b[39m), \u001b[33mConst\u001b[39m(\u001b[32m1\u001b[39m)), \u001b[33mMap\u001b[39m())\n",
       "\u001b[36mv2\u001b[39m: \u001b[32mValue\u001b[39m = \u001b[33mClosure\u001b[39m(\u001b[32m\"y\"\u001b[39m, \u001b[33mPlus\u001b[39m(\u001b[33mIdent\u001b[39m(\u001b[32m\"x\"\u001b[39m), \u001b[33mIdent\u001b[39m(\u001b[32m\"y\"\u001b[39m)), \u001b[33mMap\u001b[39m(\u001b[32m\"x\"\u001b[39m -> \u001b[33mNumVal\u001b[39m(\u001b[32m1\u001b[39m)))"
      ]
     },
     "execution_count": 5,
     "metadata": {},
     "output_type": "execute_result"
    }
   ],
   "source": [
    "val v1 : Value = Closure( \"x\", Plus(Ident(\"x\"), Const(1)), Map())\n",
    "val v2 : Value = Closure( \"y\", Plus(Ident(\"x\"), Ident(\"y\")), Map( \"x\" -> NumVal(1)))\n",
    "passed(4)"
   ]
  },
  {
   "cell_type": "markdown",
   "metadata": {
    "deletable": false,
    "editable": false,
    "nbgrader": {
     "cell_type": "markdown",
     "checksum": "2856c2b78b1acfd6d74ff9f021c9cb93",
     "grade": false,
     "grade_id": "cell-5b6a80a49d5c08c8",
     "locked": true,
     "schema_version": 3,
     "solution": false,
     "task": false
    }
   },
   "source": [
    "### Problem 1c (20 points)\n",
    "\n",
    "Extend the eval function to be able to handle non recursive functions.\n",
    "\n",
    "Recall the inference rules to define the operational semantics of functions in Lettuce:\n",
    "\n",
    "$$ \\begin{array}{c}\n",
    " \\\\\n",
    "\\hline\n",
    "\\sigma \\vdash \\texttt{FunDef}\\ x\\ e_b \\Downarrow \\texttt{Closure}(x, e_b, \\sigma) \\\\\n",
    "\\end{array} \\text{(FunDef)} $$\n",
    "\n",
    "$$ \\begin{array}{c}\n",
    "\\sigma \\vdash e_f \\Downarrow \\texttt{Closure}(x, e_b, \\pi) \\qquad\n",
    "\\sigma \\vdash e_a \\Downarrow v_a \\qquad\n",
    "\\pi[x\\rightarrow v_a] \\vdash e_b \\Downarrow v_r\\\\\n",
    "\\hline\n",
    "\\sigma \\vdash \\texttt{FunCall}\\ e_f\\ e_a \\Downarrow v_r \\\\\n",
    "\\end{array} \\text{(FunCall)} $$"
   ]
  },
  {
   "cell_type": "code",
   "execution_count": 6,
   "metadata": {
    "deletable": false,
    "nbgrader": {
     "cell_type": "code",
     "checksum": "d4f73f7fc307265ac534d45aff0cc405",
     "grade": false,
     "grade_id": "cell-e656e0f47dfc3404",
     "locked": false,
     "schema_version": 3,
     "solution": true,
     "task": false
    }
   },
   "outputs": [
    {
     "data": {
      "text/plain": [
       "defined \u001b[32mfunction\u001b[39m \u001b[36meval\u001b[39m"
      ]
     },
     "execution_count": 6,
     "metadata": {},
     "output_type": "execute_result"
    }
   ],
   "source": [
    "def eval( e : Expr, env : Environment) : Value = \n",
    "    e match {\n",
    "        case Const(n)        => NumVal(n) \n",
    "        case True            => BinVal(true)\n",
    "        case False           => BinVal(false)\n",
    "        case Ident(s)        => if (env.contains(s)) env(s) else Error\n",
    "        case Plus(e1, e2)    => (eval(e1,env), eval(e2,env)) match {\n",
    "            case (NumVal(v1), NumVal(v2)) => NumVal( v1 + v2 )\n",
    "            case _ => Error\n",
    "        }\n",
    "        case Minus(e1, e2)   => (eval(e1,env), eval(e2,env)) match {\n",
    "            case (NumVal(v1), NumVal(v2)) => NumVal( v1 - v2 )\n",
    "            case _ => Error\n",
    "        }\n",
    "        case Mult(e1, e2)    => (eval(e1,env), eval(e2,env)) match {\n",
    "            case (NumVal(v1), NumVal(v2)) => NumVal( v1 * v2 )\n",
    "            case _ => Error\n",
    "        }\n",
    "        case Neg(e1)         => eval(e1, env) match {\n",
    "            case NumVal(v) => NumVal(-v)\n",
    "            case BinVal(v) => BinVal(!v)\n",
    "            case _ => Error\n",
    "        }\n",
    "        case And(e1, e2)     => (eval(e1,env), eval(e2,env)) match {\n",
    "            case (BinVal(v1), BinVal(v2)) => BinVal( v1 && v2 )\n",
    "            case _ => Error\n",
    "        }\n",
    "        case Or(e1, e2)      => (eval(e1,env), eval(e2,env)) match {\n",
    "            case (BinVal(v1), BinVal(v2)) => BinVal( v1 || v2 )\n",
    "            case _ => Error\n",
    "        }\n",
    "        case Geq(e1, e2)     => (eval(e1,env), eval(e2,env)) match {\n",
    "            case (NumVal(v1), NumVal(v2)) => BinVal( v1 >= v2 )\n",
    "            case _ => Error\n",
    "        }\n",
    "        case Eq(e1, e2)      => (eval(e1,env), eval(e2,env)) match {\n",
    "            case (NumVal(v1), NumVal(v2)) => BinVal( v1 == v2 )\n",
    "            case (BinVal(v1), BinVal(v2)) => BinVal( v1 == v2 )\n",
    "            case (BinVal(_), NumVal(_)) => BinVal(false)\n",
    "            case (NumVal(_), BinVal(_)) => BinVal(false)\n",
    "            case _ => Error\n",
    "        }\n",
    "        case ITE(ec, et, ef) => eval(ec,env) match {\n",
    "            case BinVal(true) => eval(et,env)\n",
    "            case BinVal(false) => eval(ef,env)\n",
    "            case _ => Error\n",
    "        }\n",
    "        case Let(name, ed, ei) => eval(ed, env) match {\n",
    "            case Error => Error\n",
    "            case vd => {\n",
    "                val newenv = env + ( name -> vd)\n",
    "                eval(ei, newenv)\n",
    "            }\n",
    "        }\n",
    "        case FunDef(name, e) => Closure(name, e, env)\n",
    "        case FunCall(func, arg) => eval(func, env) match {\n",
    "              case Closure(name, e, env) =>\n",
    "                val newenv = env + (name -> eval(arg, env))\n",
    "                eval(e, newenv)\n",
    "              case BinVal(e) => BinVal(e)\n",
    "              case NumVal(e) => NumVal(e)\n",
    "              case Error => Error\n",
    "        }\n",
    "    }"
   ]
  },
  {
   "cell_type": "code",
   "execution_count": 7,
   "metadata": {
    "deletable": false,
    "editable": false,
    "nbgrader": {
     "cell_type": "code",
     "checksum": "2c5a74257ce2b284a1512d6d53b3c001",
     "grade": true,
     "grade_id": "cell-67c5e0bbe90a30a9",
     "locked": true,
     "points": 3,
     "schema_version": 3,
     "solution": false,
     "task": false
    }
   },
   "outputs": [
    {
     "name": "stdout",
     "output_type": "stream",
     "text": [
      "\n",
      "*** Tests Passed (3 points) ***\n"
     ]
    },
    {
     "data": {
      "text/plain": [
       "\u001b[36me1\u001b[39m: \u001b[32mExpr\u001b[39m = \u001b[33mConst\u001b[39m(\u001b[32m10\u001b[39m)\n",
       "\u001b[36me2\u001b[39m: \u001b[32mExpr\u001b[39m = True\n",
       "\u001b[36me3\u001b[39m: \u001b[32mExpr\u001b[39m = \u001b[33mPlus\u001b[39m(\u001b[33mConst\u001b[39m(\u001b[32m1\u001b[39m), \u001b[33mConst\u001b[39m(\u001b[32m2\u001b[39m))\n",
       "\u001b[36me4\u001b[39m: \u001b[32mExpr\u001b[39m = \u001b[33mAnd\u001b[39m(\u001b[33mGeq\u001b[39m(\u001b[33mConst\u001b[39m(\u001b[32m10\u001b[39m), \u001b[33mPlus\u001b[39m(\u001b[33mConst\u001b[39m(\u001b[32m1\u001b[39m), \u001b[33mConst\u001b[39m(\u001b[32m2\u001b[39m))), True)\n",
       "\u001b[36me5\u001b[39m: \u001b[32mExpr\u001b[39m = \u001b[33mLet\u001b[39m(\u001b[32m\"x\"\u001b[39m, \u001b[33mConst\u001b[39m(\u001b[32m10\u001b[39m), \u001b[33mMult\u001b[39m(\u001b[33mIdent\u001b[39m(\u001b[32m\"x\"\u001b[39m), \u001b[33mIdent\u001b[39m(\u001b[32m\"x\"\u001b[39m)))\n",
       "\u001b[36memptyenv\u001b[39m: \u001b[32mEnvironment\u001b[39m = \u001b[33mMap\u001b[39m()"
      ]
     },
     "execution_count": 7,
     "metadata": {},
     "output_type": "execute_result"
    }
   ],
   "source": [
    "val e1 : Expr = Const(10)\n",
    "val e2 : Expr = True\n",
    "val e3 : Expr = Plus( Const(1), Const(2))\n",
    "val e4 : Expr = And( Geq(e1, e3), e2 )\n",
    "val e5 : Expr = Let( \"x\", Const(10), Mult(Ident(\"x\"), Ident(\"x\")))\n",
    "val emptyenv : Environment = Map()\n",
    "assert( eval( e1, emptyenv) == NumVal(10) , \"test 1\")\n",
    "assert( eval( e2, emptyenv) == BinVal(true), \"test 2\")\n",
    "assert( eval( e3, emptyenv) == NumVal(3), \"test 3\")\n",
    "assert( eval( e4, emptyenv) == BinVal(true), \"test 4\")\n",
    "assert( eval( e5, emptyenv) == NumVal(100), \"test 5\")\n",
    "passed(3)"
   ]
  },
  {
   "cell_type": "code",
   "execution_count": 8,
   "metadata": {
    "deletable": false,
    "editable": false,
    "nbgrader": {
     "cell_type": "code",
     "checksum": "35e85d88b81e6108d1cef7f1c2576709",
     "grade": true,
     "grade_id": "cell-95140ee4572efa3c",
     "locked": true,
     "points": 3,
     "schema_version": 3,
     "solution": false,
     "task": false
    }
   },
   "outputs": [
    {
     "name": "stdout",
     "output_type": "stream",
     "text": [
      "\n",
      "*** Tests Passed (3 points) ***\n"
     ]
    },
    {
     "data": {
      "text/plain": [
       "\u001b[36me1\u001b[39m: \u001b[32mExpr\u001b[39m = \u001b[33mFunDef\u001b[39m(\u001b[32m\"x\"\u001b[39m, \u001b[33mConst\u001b[39m(\u001b[32m10\u001b[39m))\n",
       "\u001b[36me2\u001b[39m: \u001b[32mExpr\u001b[39m = \u001b[33mFunDef\u001b[39m(\u001b[32m\"y\"\u001b[39m, \u001b[33mAnd\u001b[39m(\u001b[33mIdent\u001b[39m(\u001b[32m\"x\"\u001b[39m), \u001b[33mIdent\u001b[39m(\u001b[32m\"y\"\u001b[39m)))\n",
       "\u001b[36memptyenv\u001b[39m: \u001b[32mEnvironment\u001b[39m = \u001b[33mMap\u001b[39m()"
      ]
     },
     "execution_count": 8,
     "metadata": {},
     "output_type": "execute_result"
    }
   ],
   "source": [
    "val e1 : Expr = FunDef(\"x\", Const(10))\n",
    "val e2 : Expr = FunDef(\"y\", And(Ident(\"x\"), Ident(\"y\")))\n",
    "val emptyenv : Environment = Map()\n",
    "assert( eval( e1, emptyenv) == Closure(\"x\", Const(10), emptyenv), \"test 6\")\n",
    "assert( eval( e2, emptyenv) == Closure(\"y\", And(Ident(\"x\"), Ident(\"y\")), emptyenv), \"test 7\")\n",
    "passed(3)"
   ]
  },
  {
   "cell_type": "code",
   "execution_count": 9,
   "metadata": {
    "deletable": false,
    "editable": false,
    "nbgrader": {
     "cell_type": "code",
     "checksum": "462b3b9d067ad63c2ba8faf2f4f17a71",
     "grade": true,
     "grade_id": "cell-f766e7537d74199c",
     "locked": true,
     "points": 3,
     "schema_version": 3,
     "solution": false,
     "task": false
    }
   },
   "outputs": [
    {
     "name": "stdout",
     "output_type": "stream",
     "text": [
      "\n",
      "*** Tests Passed (3 points) ***\n"
     ]
    },
    {
     "data": {
      "text/plain": [
       "\u001b[36me1\u001b[39m: \u001b[32mExpr\u001b[39m = \u001b[33mFunCall\u001b[39m(\u001b[33mFunDef\u001b[39m(\u001b[32m\"x\"\u001b[39m, \u001b[33mConst\u001b[39m(\u001b[32m10\u001b[39m)), True)\n",
       "\u001b[36me2\u001b[39m: \u001b[32mExpr\u001b[39m = \u001b[33mFunCall\u001b[39m(\u001b[33mFunDef\u001b[39m(\u001b[32m\"y\"\u001b[39m, \u001b[33mAnd\u001b[39m(\u001b[33mIdent\u001b[39m(\u001b[32m\"x\"\u001b[39m), \u001b[33mIdent\u001b[39m(\u001b[32m\"y\"\u001b[39m))), False)\n",
       "\u001b[36memptyenv\u001b[39m: \u001b[32mEnvironment\u001b[39m = \u001b[33mMap\u001b[39m()"
      ]
     },
     "execution_count": 9,
     "metadata": {},
     "output_type": "execute_result"
    }
   ],
   "source": [
    "val e1 : Expr = FunCall( FunDef(\"x\", Const(10)), True)\n",
    "val e2 : Expr = FunCall( FunDef(\"y\", And(Ident(\"x\"), Ident(\"y\"))), False)\n",
    "val emptyenv : Environment = Map()\n",
    "assert( eval( e1, emptyenv) == NumVal(10), \"test 1\")\n",
    "assert( eval( e2, emptyenv) == Error, \"test 2\")\n",
    "passed(3)"
   ]
  },
  {
   "cell_type": "code",
   "execution_count": 10,
   "metadata": {
    "deletable": false,
    "editable": false,
    "nbgrader": {
     "cell_type": "code",
     "checksum": "c4d884610d7b3919eb88f3c556b17bcb",
     "grade": true,
     "grade_id": "cell-6bfc78c16101e558",
     "locked": true,
     "points": 3,
     "schema_version": 3,
     "solution": false,
     "task": false
    }
   },
   "outputs": [
    {
     "name": "stdout",
     "output_type": "stream",
     "text": [
      "\n",
      "*** Tests Passed (3 points) ***\n"
     ]
    },
    {
     "data": {
      "text/plain": [
       "\u001b[36me1\u001b[39m: \u001b[32mExpr\u001b[39m = \u001b[33mFunCall\u001b[39m(\u001b[33mFunDef\u001b[39m(\u001b[32m\"y\"\u001b[39m, \u001b[33mMult\u001b[39m(\u001b[33mIdent\u001b[39m(\u001b[32m\"y\"\u001b[39m), \u001b[33mConst\u001b[39m(\u001b[32m2\u001b[39m))), \u001b[33mConst\u001b[39m(\u001b[32m10\u001b[39m))\n",
       "\u001b[36me2\u001b[39m: \u001b[32mExpr\u001b[39m = \u001b[33mFunCall\u001b[39m(\u001b[33mFunDef\u001b[39m(\u001b[32m\"z\"\u001b[39m, \u001b[33mNeg\u001b[39m(\u001b[33mIdent\u001b[39m(\u001b[32m\"z\"\u001b[39m))), True)\n",
       "\u001b[36me3\u001b[39m: \u001b[32mExpr\u001b[39m = \u001b[33mFunCall\u001b[39m(\u001b[33mFunDef\u001b[39m(\u001b[32m\"z\"\u001b[39m, \u001b[33mNeg\u001b[39m(\u001b[33mIdent\u001b[39m(\u001b[32m\"z\"\u001b[39m))), \u001b[33mConst\u001b[39m(\u001b[32m30\u001b[39m))\n",
       "\u001b[36memptyenv\u001b[39m: \u001b[32mEnvironment\u001b[39m = \u001b[33mMap\u001b[39m()"
      ]
     },
     "execution_count": 10,
     "metadata": {},
     "output_type": "execute_result"
    }
   ],
   "source": [
    "val e1 : Expr = FunCall( FunDef(\"y\", Mult( Ident(\"y\"), Const(2))), Const(10))\n",
    "val e2 : Expr = FunCall( FunDef(\"z\", Neg(Ident(\"z\"))), True)\n",
    "val e3 : Expr = FunCall( FunDef(\"z\", Neg(Ident(\"z\"))), Const(30))\n",
    "val emptyenv : Environment = Map()\n",
    "assert( eval( e1, emptyenv) == NumVal(20), \"test 3\")\n",
    "assert( eval( e2, emptyenv) == BinVal(false), \"test 2\")\n",
    "assert( eval( e3, emptyenv) == NumVal(-30), \"test 3\")\n",
    "passed(3)"
   ]
  },
  {
   "cell_type": "code",
   "execution_count": 11,
   "metadata": {
    "deletable": false,
    "editable": false,
    "nbgrader": {
     "cell_type": "code",
     "checksum": "c0fcc10bb0bd8073fed9fdfc6eeea05a",
     "grade": true,
     "grade_id": "cell-44ec51e8c2baa94c",
     "locked": true,
     "points": 4,
     "schema_version": 3,
     "solution": false,
     "task": false
    }
   },
   "outputs": [
    {
     "name": "stdout",
     "output_type": "stream",
     "text": [
      "\n",
      "*** Tests Passed (4 points) ***\n"
     ]
    },
    {
     "data": {
      "text/plain": [
       "\u001b[36me1\u001b[39m: \u001b[32mExpr\u001b[39m = \u001b[33mLet\u001b[39m(\n",
       "  \u001b[32m\"f\"\u001b[39m,\n",
       "  \u001b[33mFunDef\u001b[39m(\u001b[32m\"x\"\u001b[39m, \u001b[33mPlus\u001b[39m(\u001b[33mConst\u001b[39m(\u001b[32m1\u001b[39m), \u001b[33mIdent\u001b[39m(\u001b[32m\"x\"\u001b[39m))),\n",
       "  \u001b[33mFunCall\u001b[39m(\u001b[33mIdent\u001b[39m(\u001b[32m\"f\"\u001b[39m), \u001b[33mConst\u001b[39m(\u001b[32m2\u001b[39m))\n",
       ")\n",
       "\u001b[36me2\u001b[39m: \u001b[32mExpr\u001b[39m = \u001b[33mLet\u001b[39m(\n",
       "  \u001b[32m\"f\"\u001b[39m,\n",
       "  \u001b[33mFunDef\u001b[39m(\u001b[32m\"x\"\u001b[39m, \u001b[33mFunDef\u001b[39m(\u001b[32m\"y\"\u001b[39m, \u001b[33mPlus\u001b[39m(\u001b[33mIdent\u001b[39m(\u001b[32m\"x\"\u001b[39m), \u001b[33mIdent\u001b[39m(\u001b[32m\"y\"\u001b[39m)))),\n",
       "  \u001b[33mFunCall\u001b[39m(\u001b[33mFunCall\u001b[39m(\u001b[33mIdent\u001b[39m(\u001b[32m\"f\"\u001b[39m), \u001b[33mConst\u001b[39m(\u001b[32m2\u001b[39m)), \u001b[33mConst\u001b[39m(\u001b[32m3\u001b[39m))\n",
       ")\n",
       "\u001b[36me3\u001b[39m: \u001b[32mExpr\u001b[39m = \u001b[33mLet\u001b[39m(\n",
       "  \u001b[32m\"fact\"\u001b[39m,\n",
       "  \u001b[33mFunDef\u001b[39m(\n",
       "    \u001b[32m\"x\"\u001b[39m,\n",
       "    \u001b[33mITE\u001b[39m(\n",
       "      \u001b[33mGeq\u001b[39m(\u001b[33mConst\u001b[39m(\u001b[32m1\u001b[39m), \u001b[33mIdent\u001b[39m(\u001b[32m\"x\"\u001b[39m)),\n",
       "      \u001b[33mConst\u001b[39m(\u001b[32m1\u001b[39m),\n",
       "      \u001b[33mMult\u001b[39m(\u001b[33mIdent\u001b[39m(\u001b[32m\"x\"\u001b[39m), \u001b[33mFunCall\u001b[39m(\u001b[33mIdent\u001b[39m(\u001b[32m\"fact\"\u001b[39m), \u001b[33mMinus\u001b[39m(\u001b[33mIdent\u001b[39m(\u001b[32m\"x\"\u001b[39m), \u001b[33mConst\u001b[39m(\u001b[32m1\u001b[39m))))\n",
       "    )\n",
       "  ),\n",
       "  \u001b[33mFunCall\u001b[39m(\u001b[33mIdent\u001b[39m(\u001b[32m\"fact\"\u001b[39m), \u001b[33mConst\u001b[39m(\u001b[32m5\u001b[39m))\n",
       ")\n",
       "\u001b[36memptyenv\u001b[39m: \u001b[32mEnvironment\u001b[39m = \u001b[33mMap\u001b[39m()"
      ]
     },
     "execution_count": 11,
     "metadata": {},
     "output_type": "execute_result"
    }
   ],
   "source": [
    "val e1 : Expr = Let( \"f\", \n",
    "                     FunDef(\"x\", Plus(Const(1), Ident(\"x\"))),\n",
    "                     FunCall( Ident(\"f\"), Const(2)))\n",
    "val e2 : Expr = Let(\"f\",\n",
    "                   FunDef(\"x\",\n",
    "                     FunDef(\"y\",\n",
    "                       Plus(Ident(\"x\"),Ident(\"y\")))),\n",
    "                   FunCall(FunCall(Ident(\"f\"), Const(2)), Const(3))\n",
    "                   )\n",
    "val e3 : Expr = Let(\"fact\", \n",
    "                 FunDef(\"x\",\n",
    "                   ITE( Geq(Const(1), Ident(\"x\")), \n",
    "                        Const(1),\n",
    "                        Mult( Ident(\"x\"),\n",
    "                              FunCall( Ident(\"fact\"),\n",
    "                                       Minus(Ident(\"x\"), Const(1)))))),\n",
    "                 FunCall( Ident(\"fact\"),\n",
    "                          Const(5))\n",
    "                   )\n",
    "val emptyenv : Environment = Map()\n",
    "assert( eval( e1, emptyenv) == NumVal(3), \"test 3\")\n",
    "assert( eval( e2, emptyenv) == NumVal(5), \"test 3\")\n",
    "assert( eval( e3, emptyenv) == Error, \"test 3\")\n",
    "passed(4)"
   ]
  },
  {
   "cell_type": "code",
   "execution_count": 12,
   "metadata": {
    "deletable": false,
    "editable": false,
    "nbgrader": {
     "cell_type": "code",
     "checksum": "54a2188f6dbcb6ee5afdb7dd0fe33d85",
     "grade": true,
     "grade_id": "cell-728c17e636c94680",
     "locked": true,
     "points": 4,
     "schema_version": 3,
     "solution": false,
     "task": false
    }
   },
   "outputs": [
    {
     "name": "stdout",
     "output_type": "stream",
     "text": [
      "\n",
      "*** Tests Passed (4 points) ***\n"
     ]
    },
    {
     "data": {
      "text/plain": [
       "\u001b[36me1\u001b[39m: \u001b[32mLet\u001b[39m = \u001b[33mLet\u001b[39m(\n",
       "  \u001b[32m\"y\"\u001b[39m,\n",
       "  \u001b[33mConst\u001b[39m(\u001b[32m10\u001b[39m),\n",
       "  \u001b[33mLet\u001b[39m(\n",
       "    \u001b[32m\"f\"\u001b[39m,\n",
       "    \u001b[33mFunDef\u001b[39m(\u001b[32m\"x\"\u001b[39m, \u001b[33mPlus\u001b[39m(\u001b[33mIdent\u001b[39m(\u001b[32m\"x\"\u001b[39m), \u001b[33mIdent\u001b[39m(\u001b[32m\"y\"\u001b[39m))),\n",
       "    \u001b[33mFunCall\u001b[39m(\u001b[33mIdent\u001b[39m(\u001b[32m\"f\"\u001b[39m), \u001b[33mConst\u001b[39m(\u001b[32m5\u001b[39m))\n",
       "  )\n",
       ")\n",
       "\u001b[36me2\u001b[39m: \u001b[32mLet\u001b[39m = \u001b[33mLet\u001b[39m(\n",
       "  \u001b[32m\"f\"\u001b[39m,\n",
       "  \u001b[33mLet\u001b[39m(\u001b[32m\"y\"\u001b[39m, \u001b[33mConst\u001b[39m(\u001b[32m10\u001b[39m), \u001b[33mFunDef\u001b[39m(\u001b[32m\"x\"\u001b[39m, \u001b[33mPlus\u001b[39m(\u001b[33mIdent\u001b[39m(\u001b[32m\"x\"\u001b[39m), \u001b[33mIdent\u001b[39m(\u001b[32m\"y\"\u001b[39m)))),\n",
       "  \u001b[33mFunCall\u001b[39m(\u001b[33mIdent\u001b[39m(\u001b[32m\"f\"\u001b[39m), \u001b[33mConst\u001b[39m(\u001b[32m5\u001b[39m))\n",
       ")\n",
       "\u001b[36me3\u001b[39m: \u001b[32mLet\u001b[39m = \u001b[33mLet\u001b[39m(\n",
       "  \u001b[32m\"f\"\u001b[39m,\n",
       "  \u001b[33mLet\u001b[39m(\u001b[32m\"y\"\u001b[39m, \u001b[33mConst\u001b[39m(\u001b[32m10\u001b[39m), \u001b[33mFunDef\u001b[39m(\u001b[32m\"x\"\u001b[39m, \u001b[33mPlus\u001b[39m(\u001b[33mIdent\u001b[39m(\u001b[32m\"x\"\u001b[39m), \u001b[33mIdent\u001b[39m(\u001b[32m\"y\"\u001b[39m)))),\n",
       "  \u001b[33mLet\u001b[39m(\u001b[32m\"y\"\u001b[39m, \u001b[33mConst\u001b[39m(\u001b[32m20\u001b[39m), \u001b[33mFunCall\u001b[39m(\u001b[33mIdent\u001b[39m(\u001b[32m\"f\"\u001b[39m), \u001b[33mConst\u001b[39m(\u001b[32m5\u001b[39m)))\n",
       ")\n",
       "\u001b[36me4\u001b[39m: \u001b[32mLet\u001b[39m = \u001b[33mLet\u001b[39m(\n",
       "  \u001b[32m\"f\"\u001b[39m,\n",
       "  \u001b[33mFunDef\u001b[39m(\u001b[32m\"x\"\u001b[39m, \u001b[33mPlus\u001b[39m(\u001b[33mIdent\u001b[39m(\u001b[32m\"x\"\u001b[39m), \u001b[33mIdent\u001b[39m(\u001b[32m\"y\"\u001b[39m))),\n",
       "  \u001b[33mLet\u001b[39m(\u001b[32m\"y\"\u001b[39m, \u001b[33mConst\u001b[39m(\u001b[32m20\u001b[39m), \u001b[33mFunCall\u001b[39m(\u001b[33mIdent\u001b[39m(\u001b[32m\"f\"\u001b[39m), \u001b[33mConst\u001b[39m(\u001b[32m5\u001b[39m)))\n",
       ")\n",
       "\u001b[36memptyenv\u001b[39m: \u001b[32mEnvironment\u001b[39m = \u001b[33mMap\u001b[39m()"
      ]
     },
     "execution_count": 12,
     "metadata": {},
     "output_type": "execute_result"
    }
   ],
   "source": [
    "val e1 = Let( \"y\", Const(10),\n",
    "           Let( \"f\", FunDef(\"x\", Plus(Ident(\"x\"),Ident(\"y\"))),\n",
    "             FunCall(Ident(\"f\"), Const(5))))\n",
    "val e2 = Let( \"f\", \n",
    "           Let( \"y\", Const(10),\n",
    "             FunDef(\"x\", Plus(Ident(\"x\"),Ident(\"y\")))),\n",
    "           FunCall(Ident(\"f\"), Const(5)))\n",
    "val e3 = Let( \"f\", \n",
    "           Let( \"y\", Const(10),\n",
    "             FunDef(\"x\", Plus(Ident(\"x\"),Ident(\"y\")))),\n",
    "           Let(\"y\", Const(20), \n",
    "               FunCall(Ident(\"f\"), Const(5))))\n",
    "val e4 = Let( \"f\", \n",
    "             FunDef(\"x\", Plus(Ident(\"x\"),Ident(\"y\"))),\n",
    "           Let(\"y\", Const(20), \n",
    "               FunCall(Ident(\"f\"), Const(5))))\n",
    "val emptyenv : Environment = Map()\n",
    "assert( eval( e1, emptyenv) == NumVal(15), \"test 1\")\n",
    "assert( eval( e2, emptyenv) == NumVal(15), \"test 2\")\n",
    "assert( eval( e3, emptyenv) == NumVal(15), \"test 2\")\n",
    "assert( eval( e4, emptyenv) == Error, \"test 2\")\n",
    "passed(4)"
   ]
  },
  {
   "cell_type": "markdown",
   "metadata": {
    "deletable": false,
    "editable": false,
    "nbgrader": {
     "cell_type": "markdown",
     "checksum": "a90c11e23bef7c6b3cc623d176a00c78",
     "grade": false,
     "grade_id": "cell-10c99a3d59c9ea9e",
     "locked": true,
     "schema_version": 3,
     "solution": false,
     "task": false
    }
   },
   "source": [
    "## Problem 2 (32 points) : Well Formed Expressions"
   ]
  },
  {
   "cell_type": "markdown",
   "metadata": {
    "deletable": false,
    "editable": false,
    "nbgrader": {
     "cell_type": "markdown",
     "checksum": "651cc5f12ad4355b914635546fd8e7bb",
     "grade": false,
     "grade_id": "cell-40d5e3528eb2f3cb",
     "locked": true,
     "schema_version": 3,
     "solution": false,
     "task": false
    }
   },
   "source": [
    "### Well formed epressions\n",
    "\n",
    "We have seen many expressions in Lettuce that can Error. Ideally, would like to catch catch errors in Lettuce programs at compile time. One class of errors we have seen are errors related to variable liveness.\n",
    "\n",
    "\n",
    "In the following programs, there is a variable that is used before it is defined. This causes in error when we try to look up that identifier in the environment.\n",
    "\n",
    "\n",
    "``x + 1``\n",
    "\n",
    "``let y = 1 in x + y``\n",
    "\n",
    "``\n",
    "let f =\n",
    "  function(x) x + y\n",
    "in let y = \n",
    "  10\n",
    "in \n",
    "  f(20)``\n",
    "\n",
    "Variables that are *live* are have been defined before they are used and are in scope when they are used. A *Well Formed* expression is one where all the variables are live. All of the above programs are not well formed.\n",
    "\n",
    "###  Inference rules to define Well Formed Expressions\n",
    "\n",
    "Let us define inference rules that will help us check if an expression is checked before use. To do so, we will define a set of currently declared variables that are in scope called $S$. \n",
    "\n",
    "We will define inference rules for _judgements_ of the form: $WellFormed(\\texttt{e}, S)$ that says that expression `e` is _WellFormed_ under the set of declared in scope variables $S$.\n",
    "\n",
    "Constants are well formed under any set $S$. \n",
    "\n",
    "$$ \\begin{array}{c}\n",
    "\\\\\n",
    "\\hline\n",
    "WellFormed(\\texttt{Const(f)}, S) \\\\\n",
    "\\end{array} \\text{(const-rule)} $$\n",
    "\n",
    "The rules for `True` and `False` are similar.\n",
    "\n",
    "$$ \\begin{array}{c}\n",
    "\\\\\n",
    "\\hline\n",
    "WellFormed(\\texttt{True}, S) \\\\\n",
    "\\end{array} \\text{(true-rule)} $$\n",
    "\n",
    "$$ \\begin{array}{c}\n",
    "\\\\\n",
    "\\hline\n",
    "WellFormed(\\texttt{False}, S) \\\\\n",
    "\\end{array} \\text{(false-rule)} $$\n",
    "\n",
    "Identifiers are well formed only if they belong to $S$:\n",
    "\n",
    "$$\\begin{array}{c}\n",
    "x \\in S \\\\\n",
    "\\hline\n",
    "WellFormed(\\texttt{Ident(x)}, S) \\\\\n",
    "\\end{array} \\text{(ident-rule)} $$\n",
    "\n",
    "The rules for binary operator `Plus, Minus, Mult, Geq, Eq, And, Or` are all very similar.\n",
    "\n",
    "$$ \\begin{array}{c}\n",
    "WellFormed(\\texttt{e1}, S) \\;\\;\\; WellFormed(\\texttt{e2}, S)\\;\\;\\; T \\in \\{ \\texttt{Plus}, \\texttt{Minus}, \\texttt{Mult}, \\texttt{Geq}, \\texttt{Eq}, \\texttt{And}, \\texttt{Or} \\} \\\\\n",
    "\\hline\n",
    "WellFormed(\\texttt{T(e1, e2)}, S) \\\\\n",
    "\\end{array} \\text{(binary-op)} $$\n",
    "\n",
    "Likewise, for unary operators \n",
    "\n",
    "$$ \\begin{array}{c}\n",
    "WellFormed(\\texttt{e1}, S)\\\\\n",
    "\\hline\n",
    "WellFormed(\\texttt{Neg(e1)}, S) \\\\\n",
    "\\end{array} \\text{(unary-op)} $$\n",
    "\n",
    "And the ternary if-then-else operator\n",
    "\n",
    "$$ \\begin{array}{c}\n",
    "WellFormed(\\texttt{e1}, S) \\;\\;\\; WellFormed(\\texttt{e2}, S)\\;\\;\\; WellFormed(\\texttt{e2}, S)\\\\\n",
    "\\hline\n",
    "WellFormed(\\texttt{ITE(e1, e2, e3)}, S) \\\\\n",
    "\\end{array} \\text{(ternary-op)} $$\n",
    "\n",
    "The main rule is for let bindings\n",
    "\n",
    "$$\\begin{array}{c}\n",
    "WellFormed(\\texttt{e1}, S) \\;\\;\\; WellFormed(\\texttt{e2}, S \\cup \\{ x\\} ) \\\\\n",
    "\\hline\n",
    "WellFormed(\\texttt{Let(x, e1, e2)}, S) \\\\\n",
    "\\end{array} \\text{(let-rule)} $$\n",
    "\n",
    "Suppose `e1` is well formed under $S$ and `e2` is well formed under $S$ with the identifier `x` added,\n",
    "then `let x = e1 in e2` is well formed under $S$, as well. \n",
    "- This is confusing when you first see it, but repeat the sentence above and match it with the rule, \n",
    "- Notice that the defining expression must be well formed under the original S but the body expression is allowed to be well formed under $S \\cup \\{ x\\} $.\n",
    "\n",
    "We can also add the rules for function definition:\n",
    "\n",
    "$$\\begin{array}{c}\n",
    "WellFormed(\\texttt{e}, S \\cup \\{x\\}) \\\\\n",
    "\\hline\n",
    "WellFormed(\\texttt{FunDef(x, e)}, S ) \\\\\n",
    "\\end{array} \\; \\text{(fundef-rule)} $$\n",
    "\n",
    "Finally, function calls are very simple:\n",
    "\n",
    "$$ \\begin{array}{c}\n",
    "\\texttt{f} \\in S,\\;\\;\\;\\; WellFormed(\\texttt{e}, S) \\\\\n",
    "\\hline\n",
    "WellFormed(\\texttt{f(e)}, S ) \\\\\n",
    "\\end{array} \\text{(well-formed-funcall)} $$\n",
    "\n",
    "The name of the function `f` better be defined in the scope $S$ and the argument better be OK. Then\n",
    "we can say that the function call is."
   ]
  },
  {
   "cell_type": "markdown",
   "metadata": {
    "deletable": false,
    "editable": false,
    "nbgrader": {
     "cell_type": "markdown",
     "checksum": "f9d342ff2c2f4dcde4ab22ed237a46cf",
     "grade": false,
     "grade_id": "cell-400f5013bd8a8866",
     "locked": true,
     "schema_version": 3,
     "solution": false,
     "task": false
    }
   },
   "source": [
    "### Problem 2a\n",
    "\n",
    "Write a function that determines whether a lettuce expression is well formed based on the inference rules above.\n",
    "\n",
    "This problem does not have any tests, it will be tested by problem 1b."
   ]
  },
  {
   "cell_type": "code",
   "execution_count": 13,
   "metadata": {
    "deletable": false,
    "nbgrader": {
     "cell_type": "code",
     "checksum": "f7dcf1a8cbd044da9e4ac9e1a37a4c15",
     "grade": false,
     "grade_id": "cell-0bfb1ef049e169a5",
     "locked": false,
     "schema_version": 3,
     "solution": true,
     "task": false
    }
   },
   "outputs": [
    {
     "data": {
      "text/plain": [
       "defined \u001b[32mfunction\u001b[39m \u001b[36mwellFormed\u001b[39m"
      ]
     },
     "execution_count": 13,
     "metadata": {},
     "output_type": "execute_result"
    }
   ],
   "source": [
    "def wellFormed(e: Expr, S: Set[String]): Boolean = e match {\n",
    "  case Const(_)  => true\n",
    "  case True => true\n",
    "  case False => true\n",
    "  case Ident(x) => S.contains(x)\n",
    "  case Plus(e1, e2) => wellFormed(e1, S) && wellFormed(e2, S)\n",
    "  case Minus(e1, e2) => wellFormed(e1, S) && wellFormed(e2, S)\n",
    "  case Mult(e1, e2) => wellFormed(e1, S) && wellFormed(e2, S)\n",
    "  case Geq(e1, e2) => wellFormed(e1, S) && wellFormed(e2, S)\n",
    "  case Eq(e1, e2) => wellFormed(e1, S) && wellFormed(e2, S)\n",
    "  case And(e1, e2) => wellFormed(e1, S) && wellFormed(e2, S)\n",
    "  case Or(e1, e2) => wellFormed(e1, S) && wellFormed(e2, S)\n",
    "  case Neg(e) => wellFormed(e, S)\n",
    "  case ITE(e1, e2, e3) => wellFormed(e1, S) && wellFormed(e2, S) && wellFormed(e3, S)\n",
    "  case Let(x, e1, e2) => wellFormed(e1, S) && wellFormed(e2, S + x)\n",
    "  case FunDef(x, e) => wellFormed(e, S + x)\n",
    "  case FunCall(f, e) => wellFormed(f, S) && wellFormed(e, S)\n",
    "}"
   ]
  },
  {
   "cell_type": "markdown",
   "metadata": {
    "deletable": false,
    "editable": false,
    "nbgrader": {
     "cell_type": "markdown",
     "checksum": "5efc71e62be8f0cfdce1caf15c3103c9",
     "grade": false,
     "grade_id": "cell-e7fb2593df8c729b",
     "locked": true,
     "schema_version": 3,
     "solution": false,
     "task": false
    }
   },
   "source": [
    "### Well Formed Lettuce Programs\n",
    "\n",
    "Recall that a Lettuce program is a lettuce expression that starts executing in an empty environment with no variables declared\n",
    "\n",
    "$$\\mathbf{Program} \\rightarrow Main(\\mathbf{Expr}) $$\n",
    "\n",
    "We say that a lettuce program is well formed if its expressions is well formed when no variables are in scope initially. We can make a judgement that says a program `p` is well formed: $WellFormedProgram(\\texttt{p})$. And we can define this judgement using inference rules:\n",
    "\n",
    "\n",
    "$$\\begin{array}{c}\n",
    "WellFormed(\\texttt{e}, \\emptyset) \\\\\n",
    "\\hline\n",
    "WellFormedProgram(\\texttt{Main(e)}) \\\\\n",
    "\\end{array} \\text{(wf-program)} $$\n",
    "\n"
   ]
  },
  {
   "cell_type": "code",
   "execution_count": 14,
   "metadata": {
    "deletable": false,
    "editable": false,
    "nbgrader": {
     "cell_type": "code",
     "checksum": "44ffd3e131dc2ed1d78394d20f1618f3",
     "grade": false,
     "grade_id": "cell-387b6402da4c8061",
     "locked": true,
     "schema_version": 3,
     "solution": false,
     "task": false
    }
   },
   "outputs": [
    {
     "data": {
      "text/plain": [
       "defined \u001b[32mtrait\u001b[39m \u001b[36mProgram\u001b[39m\n",
       "defined \u001b[32mclass\u001b[39m \u001b[36mMain\u001b[39m"
      ]
     },
     "execution_count": 14,
     "metadata": {},
     "output_type": "execute_result"
    }
   ],
   "source": [
    "sealed trait Program\n",
    "case class Main(p : Expr) extends Program"
   ]
  },
  {
   "cell_type": "markdown",
   "metadata": {
    "deletable": false,
    "editable": false,
    "nbgrader": {
     "cell_type": "markdown",
     "checksum": "368489b7ef309f5ec98a28938a6d142f",
     "grade": false,
     "grade_id": "cell-f6c45cdf963bb170",
     "locked": true,
     "schema_version": 3,
     "solution": false,
     "task": false
    }
   },
   "source": [
    "### Problem 2b (32 points)\n",
    "\n",
    "Write a function ``WF`` that determines whether a Lettuce program is well formed based on the inference rules above.\n",
    "\n",
    "$$ WF : Program \\rightarrow Boolean$$"
   ]
  },
  {
   "cell_type": "code",
   "execution_count": 15,
   "metadata": {
    "deletable": false,
    "nbgrader": {
     "cell_type": "code",
     "checksum": "027ed5570ea26620e120db728f83ec78",
     "grade": false,
     "grade_id": "cell-fdf0d5cd0f1a802e",
     "locked": false,
     "schema_version": 3,
     "solution": true,
     "task": false
    }
   },
   "outputs": [
    {
     "data": {
      "text/plain": [
       "defined \u001b[32mfunction\u001b[39m \u001b[36mWF\u001b[39m"
      ]
     },
     "execution_count": 15,
     "metadata": {},
     "output_type": "execute_result"
    }
   ],
   "source": [
    "def WF(main: Main) = main match {\n",
    "  case Main(e: Expr) => wellFormed(e, Set())\n",
    "  case _ => false\n",
    "}"
   ]
  },
  {
   "cell_type": "code",
   "execution_count": 16,
   "metadata": {
    "deletable": false,
    "editable": false,
    "nbgrader": {
     "cell_type": "code",
     "checksum": "938ecaf09abc86fd37b1652329863d04",
     "grade": true,
     "grade_id": "cell-a38096a4e3475cb4",
     "locked": true,
     "points": 2,
     "schema_version": 3,
     "solution": false,
     "task": false
    }
   },
   "outputs": [
    {
     "name": "stdout",
     "output_type": "stream",
     "text": [
      "\n",
      "*** Tests Passed (2 points) ***\n"
     ]
    },
    {
     "data": {
      "text/plain": [
       "\u001b[36mp1\u001b[39m: \u001b[32mMain\u001b[39m = \u001b[33mMain\u001b[39m(\u001b[33mConst\u001b[39m(\u001b[32m0\u001b[39m))\n",
       "\u001b[36mp2\u001b[39m: \u001b[32mMain\u001b[39m = \u001b[33mMain\u001b[39m(\u001b[33mConst\u001b[39m(\u001b[32m10\u001b[39m))\n",
       "\u001b[36mp3\u001b[39m: \u001b[32mMain\u001b[39m = \u001b[33mMain\u001b[39m(True)\n",
       "\u001b[36mp4\u001b[39m: \u001b[32mMain\u001b[39m = \u001b[33mMain\u001b[39m(False)"
      ]
     },
     "execution_count": 16,
     "metadata": {},
     "output_type": "execute_result"
    }
   ],
   "source": [
    "val p1 = Main( Const(0) )\n",
    "val p2 = Main( Const(10) )\n",
    "val p3 = Main( True )\n",
    "val p4 = Main( False )\n",
    "assert( WF(p1), \"test 1\")\n",
    "assert( WF(p2), \"test 2\")\n",
    "assert( WF(p3), \"test 3\")\n",
    "assert( WF(p4), \"test 4\")\n",
    "passed(2)"
   ]
  },
  {
   "cell_type": "code",
   "execution_count": 17,
   "metadata": {
    "deletable": false,
    "editable": false,
    "nbgrader": {
     "cell_type": "code",
     "checksum": "b587985549607d43ffcec85de8a64a28",
     "grade": true,
     "grade_id": "cell-5c48f4cc60a7db27",
     "locked": true,
     "points": 2,
     "schema_version": 3,
     "solution": false,
     "task": false
    }
   },
   "outputs": [
    {
     "name": "stdout",
     "output_type": "stream",
     "text": [
      "\n",
      "*** Tests Passed (2 points) ***\n"
     ]
    },
    {
     "data": {
      "text/plain": [
       "\u001b[36mp1\u001b[39m: \u001b[32mMain\u001b[39m = \u001b[33mMain\u001b[39m(\u001b[33mIdent\u001b[39m(\u001b[32m\"x\"\u001b[39m))\n",
       "\u001b[36mp2\u001b[39m: \u001b[32mMain\u001b[39m = \u001b[33mMain\u001b[39m(\u001b[33mIdent\u001b[39m(\u001b[32m\"y\"\u001b[39m))"
      ]
     },
     "execution_count": 17,
     "metadata": {},
     "output_type": "execute_result"
    }
   ],
   "source": [
    "val p1 = Main( Ident(\"x\") )\n",
    "val p2 = Main( Ident(\"y\") )\n",
    "assert( !WF(p1), \"test 1\")\n",
    "assert( !WF(p2), \"test 2\")\n",
    "passed(2)"
   ]
  },
  {
   "cell_type": "code",
   "execution_count": 18,
   "metadata": {
    "deletable": false,
    "editable": false,
    "nbgrader": {
     "cell_type": "code",
     "checksum": "0d5897bedae82dbc6bf0dd8b95af50ad",
     "grade": true,
     "grade_id": "cell-fa41127b6d2556f6",
     "locked": true,
     "points": 1,
     "schema_version": 3,
     "solution": false,
     "task": false
    }
   },
   "outputs": [
    {
     "name": "stdout",
     "output_type": "stream",
     "text": [
      "\n",
      "*** Tests Passed (1 point) ***\n"
     ]
    },
    {
     "data": {
      "text/plain": [
       "\u001b[36mp1\u001b[39m: \u001b[32mMain\u001b[39m = \u001b[33mMain\u001b[39m(\u001b[33mPlus\u001b[39m(\u001b[33mConst\u001b[39m(\u001b[32m10\u001b[39m), \u001b[33mConst\u001b[39m(\u001b[32m20\u001b[39m)))\n",
       "\u001b[36mp2\u001b[39m: \u001b[32mMain\u001b[39m = \u001b[33mMain\u001b[39m(\u001b[33mMinus\u001b[39m(\u001b[33mIdent\u001b[39m(\u001b[32m\"x\"\u001b[39m), \u001b[33mIdent\u001b[39m(\u001b[32m\"x\"\u001b[39m)))\n",
       "\u001b[36mp3\u001b[39m: \u001b[32mMain\u001b[39m = \u001b[33mMain\u001b[39m(\u001b[33mMult\u001b[39m(\u001b[33mPlus\u001b[39m(\u001b[33mConst\u001b[39m(\u001b[32m10\u001b[39m), True), \u001b[33mMult\u001b[39m(\u001b[33mConst\u001b[39m(\u001b[32m30\u001b[39m), \u001b[33mConst\u001b[39m(\u001b[32m40\u001b[39m))))\n",
       "\u001b[36mp4\u001b[39m: \u001b[32mMain\u001b[39m = \u001b[33mMain\u001b[39m(\u001b[33mMult\u001b[39m(\u001b[33mPlus\u001b[39m(\u001b[33mConst\u001b[39m(\u001b[32m10\u001b[39m), \u001b[33mConst\u001b[39m(\u001b[32m20\u001b[39m)), \u001b[33mMult\u001b[39m(\u001b[33mConst\u001b[39m(\u001b[32m30\u001b[39m), \u001b[33mIdent\u001b[39m(\u001b[32m\"y\"\u001b[39m))))"
      ]
     },
     "execution_count": 18,
     "metadata": {},
     "output_type": "execute_result"
    }
   ],
   "source": [
    "val p1 = Main( Plus( Const(10), Const(20)) )\n",
    "val p2 = Main( Minus( Ident(\"x\"), Ident(\"x\")) )\n",
    "val p3 = Main( Mult(Plus( Const(10), True), Mult( Const(30), Const(40))) )\n",
    "val p4 = Main( Mult(Plus( Const(10), Const(20)), Mult( Const(30), Ident(\"y\"))) )\n",
    "assert(  WF(p1), \"test 1\")\n",
    "assert( !WF(p2), \"test 2\")\n",
    "assert(  WF(p3), \"test 3\")\n",
    "assert( !WF(p4), \"test 4\")\n",
    "passed(1)"
   ]
  },
  {
   "cell_type": "code",
   "execution_count": 19,
   "metadata": {
    "deletable": false,
    "editable": false,
    "nbgrader": {
     "cell_type": "code",
     "checksum": "11bc7397192433da9ec82fde9ae7d1b4",
     "grade": true,
     "grade_id": "cell-d7ccdae5e5d12006",
     "locked": true,
     "points": 1,
     "schema_version": 3,
     "solution": false,
     "task": false
    }
   },
   "outputs": [
    {
     "name": "stdout",
     "output_type": "stream",
     "text": [
      "\n",
      "*** Tests Passed (1 point) ***\n"
     ]
    },
    {
     "data": {
      "text/plain": [
       "\u001b[36mp1\u001b[39m: \u001b[32mMain\u001b[39m = \u001b[33mMain\u001b[39m(\u001b[33mAnd\u001b[39m(\u001b[33mAnd\u001b[39m(True, True), \u001b[33mAnd\u001b[39m(False, False)))\n",
       "\u001b[36mp2\u001b[39m: \u001b[32mMain\u001b[39m = \u001b[33mMain\u001b[39m(\u001b[33mOr\u001b[39m(\u001b[33mOr\u001b[39m(True, \u001b[33mIdent\u001b[39m(\u001b[32m\"b1\"\u001b[39m)), \u001b[33mOr\u001b[39m(\u001b[33mIdent\u001b[39m(\u001b[32m\"b2\"\u001b[39m), True)))\n",
       "\u001b[36mp3\u001b[39m: \u001b[32mMain\u001b[39m = \u001b[33mMain\u001b[39m(\u001b[33mAnd\u001b[39m(\u001b[33mAnd\u001b[39m(\u001b[33mConst\u001b[39m(\u001b[32m10\u001b[39m), True), \u001b[33mOr\u001b[39m(False, \u001b[33mConst\u001b[39m(\u001b[32m0\u001b[39m))))"
      ]
     },
     "execution_count": 19,
     "metadata": {},
     "output_type": "execute_result"
    }
   ],
   "source": [
    "val p1 = Main( And(And(True, True), And(False,False)) )\n",
    "val p2 = Main( Or( Or(True, Ident(\"b1\")), Or(Ident(\"b2\"), True)) )\n",
    "val p3 = Main( And( And( Const(10), True), Or(False, Const(0))) )\n",
    "assert(  WF(p1), \"test 1\")\n",
    "assert( !WF(p2), \"test 2\")\n",
    "assert(  WF(p3), \"test 3\")\n",
    "passed(1)"
   ]
  },
  {
   "cell_type": "code",
   "execution_count": 20,
   "metadata": {
    "deletable": false,
    "editable": false,
    "nbgrader": {
     "cell_type": "code",
     "checksum": "35ec80af9bb6e9177d751e97f4a37b56",
     "grade": true,
     "grade_id": "cell-24a7e75d3fd54c53",
     "locked": true,
     "points": 1,
     "schema_version": 3,
     "solution": false,
     "task": false
    }
   },
   "outputs": [
    {
     "name": "stdout",
     "output_type": "stream",
     "text": [
      "\n",
      "*** Tests Passed (1 point) ***\n"
     ]
    },
    {
     "data": {
      "text/plain": [
       "\u001b[36mp1\u001b[39m: \u001b[32mMain\u001b[39m = \u001b[33mMain\u001b[39m(\u001b[33mGeq\u001b[39m(\u001b[33mConst\u001b[39m(\u001b[32m2\u001b[39m), \u001b[33mConst\u001b[39m(\u001b[32m1\u001b[39m)))\n",
       "\u001b[36mp2\u001b[39m: \u001b[32mMain\u001b[39m = \u001b[33mMain\u001b[39m(\u001b[33mGeq\u001b[39m(\u001b[33mPlus\u001b[39m(\u001b[33mConst\u001b[39m(\u001b[32m1\u001b[39m), True), False))\n",
       "\u001b[36mp3\u001b[39m: \u001b[32mMain\u001b[39m = \u001b[33mMain\u001b[39m(\u001b[33mEq\u001b[39m(\u001b[33mGeq\u001b[39m(\u001b[33mConst\u001b[39m(\u001b[32m2\u001b[39m), \u001b[33mConst\u001b[39m(\u001b[32m1\u001b[39m)), \u001b[33mPlus\u001b[39m(\u001b[33mConst\u001b[39m(\u001b[32m3\u001b[39m), \u001b[33mConst\u001b[39m(\u001b[32m3\u001b[39m))))\n",
       "\u001b[36mp4\u001b[39m: \u001b[32mMain\u001b[39m = \u001b[33mMain\u001b[39m(\u001b[33mEq\u001b[39m(\u001b[33mGeq\u001b[39m(\u001b[33mConst\u001b[39m(\u001b[32m2\u001b[39m), \u001b[33mConst\u001b[39m(\u001b[32m1\u001b[39m)), \u001b[33mPlus\u001b[39m(\u001b[33mIdent\u001b[39m(\u001b[32m\"var\"\u001b[39m), \u001b[33mConst\u001b[39m(\u001b[32m3\u001b[39m))))"
      ]
     },
     "execution_count": 20,
     "metadata": {},
     "output_type": "execute_result"
    }
   ],
   "source": [
    "val p1 = Main( Geq(Const(2), Const(1)))\n",
    "val p2 = Main( Geq( Plus(Const(1), True), False))\n",
    "val p3 = Main( Eq( Geq(Const(2), Const(1)), Plus(Const(3), Const(3))))\n",
    "val p4 = Main( Eq( Geq(Const(2), Const(1)), Plus(Ident(\"var\"), Const(3))))\n",
    "assert(  WF(p1), \"test 1\")\n",
    "assert(  WF(p2), \"test 2\")\n",
    "assert(  WF(p3), \"test 3\")\n",
    "assert( !WF(p4), \"test 4\")\n",
    "passed(1)"
   ]
  },
  {
   "cell_type": "code",
   "execution_count": 21,
   "metadata": {
    "deletable": false,
    "editable": false,
    "nbgrader": {
     "cell_type": "code",
     "checksum": "cbd5544a366b68fe46803e9897cacaeb",
     "grade": true,
     "grade_id": "cell-584caa6466cc7b8e",
     "locked": true,
     "points": 2,
     "schema_version": 3,
     "solution": false,
     "task": false
    }
   },
   "outputs": [
    {
     "name": "stdout",
     "output_type": "stream",
     "text": [
      "\n",
      "*** Tests Passed (2 points) ***\n"
     ]
    },
    {
     "data": {
      "text/plain": [
       "\u001b[36mp1\u001b[39m: \u001b[32mMain\u001b[39m = \u001b[33mMain\u001b[39m(\u001b[33mNeg\u001b[39m(True))\n",
       "\u001b[36mp2\u001b[39m: \u001b[32mMain\u001b[39m = \u001b[33mMain\u001b[39m(\u001b[33mNeg\u001b[39m(\u001b[33mNeg\u001b[39m(\u001b[33mNeg\u001b[39m(\u001b[33mNeg\u001b[39m(\u001b[33mNeg\u001b[39m(\u001b[33mNeg\u001b[39m(\u001b[33mConst\u001b[39m(\u001b[32m1\u001b[39m))))))))\n",
       "\u001b[36mp3\u001b[39m: \u001b[32mMain\u001b[39m = \u001b[33mMain\u001b[39m(\u001b[33mNeg\u001b[39m(\u001b[33mNeg\u001b[39m(\u001b[33mIdent\u001b[39m(\u001b[32m\"Neg\"\u001b[39m))))"
      ]
     },
     "execution_count": 21,
     "metadata": {},
     "output_type": "execute_result"
    }
   ],
   "source": [
    "val p1 = Main( Neg(True) )\n",
    "val p2 = Main( Neg(Neg(Neg(Neg(Neg(Neg(Const(1))))))) )\n",
    "val p3 = Main( Neg(Neg(Ident(\"Neg\"))) )\n",
    "assert(  WF(p1), \"test 1\")\n",
    "assert(  WF(p2), \"test 2\")\n",
    "assert( !WF(p3), \"test 3\")\n",
    "passed(2)"
   ]
  },
  {
   "cell_type": "code",
   "execution_count": 22,
   "metadata": {
    "deletable": false,
    "editable": false,
    "nbgrader": {
     "cell_type": "code",
     "checksum": "5618f6c752c717afb77e1d0a737ab019",
     "grade": true,
     "grade_id": "cell-6412ecd794d59679",
     "locked": true,
     "points": 3,
     "schema_version": 3,
     "solution": false,
     "task": false
    }
   },
   "outputs": [
    {
     "name": "stdout",
     "output_type": "stream",
     "text": [
      "\n",
      "*** Tests Passed (3 points) ***\n"
     ]
    },
    {
     "data": {
      "text/plain": [
       "\u001b[36mp1\u001b[39m: \u001b[32mMain\u001b[39m = \u001b[33mMain\u001b[39m(\u001b[33mITE\u001b[39m(\u001b[33mConst\u001b[39m(\u001b[32m1\u001b[39m), \u001b[33mConst\u001b[39m(\u001b[32m2\u001b[39m), \u001b[33mConst\u001b[39m(\u001b[32m3\u001b[39m)))\n",
       "\u001b[36mp2\u001b[39m: \u001b[32mMain\u001b[39m = \u001b[33mMain\u001b[39m(\u001b[33mITE\u001b[39m(True, \u001b[33mConst\u001b[39m(\u001b[32m1\u001b[39m), \u001b[33mIdent\u001b[39m(\u001b[32m\"f\"\u001b[39m)))\n",
       "\u001b[36mp3\u001b[39m: \u001b[32mMain\u001b[39m = \u001b[33mMain\u001b[39m(\u001b[33mITE\u001b[39m(False, \u001b[33mIdent\u001b[39m(\u001b[32m\"t\"\u001b[39m), \u001b[33mConst\u001b[39m(\u001b[32m1\u001b[39m)))"
      ]
     },
     "execution_count": 22,
     "metadata": {},
     "output_type": "execute_result"
    }
   ],
   "source": [
    "val p1 = Main( ITE(Const(1), Const(2), Const(3)) )\n",
    "val p2 = Main( ITE(True, Const(1), Ident(\"f\")) )\n",
    "val p3 = Main( ITE(False, Ident(\"t\"), Const(1)) )\n",
    "assert(  WF(p1), \"test 1\")\n",
    "assert( !WF(p2), \"test 2\")\n",
    "assert( !WF(p3), \"test 3\")\n",
    "passed(3)"
   ]
  },
  {
   "cell_type": "code",
   "execution_count": 23,
   "metadata": {
    "deletable": false,
    "editable": false,
    "nbgrader": {
     "cell_type": "code",
     "checksum": "5a029abeebac2d5f453aea191ecec8f3",
     "grade": true,
     "grade_id": "cell-9ba9e789e16b8e24",
     "locked": true,
     "points": 2,
     "schema_version": 3,
     "solution": false,
     "task": false
    }
   },
   "outputs": [
    {
     "name": "stdout",
     "output_type": "stream",
     "text": [
      "\n",
      "*** Tests Passed (2 points) ***\n"
     ]
    },
    {
     "data": {
      "text/plain": [
       "\u001b[36mp1\u001b[39m: \u001b[32mMain\u001b[39m = \u001b[33mMain\u001b[39m(\u001b[33mLet\u001b[39m(\u001b[32m\"x\"\u001b[39m, \u001b[33mConst\u001b[39m(\u001b[32m1\u001b[39m), \u001b[33mConst\u001b[39m(\u001b[32m1\u001b[39m)))\n",
       "\u001b[36mp2\u001b[39m: \u001b[32mMain\u001b[39m = \u001b[33mMain\u001b[39m(\u001b[33mLet\u001b[39m(\u001b[32m\"x\"\u001b[39m, \u001b[33mConst\u001b[39m(\u001b[32m1\u001b[39m), \u001b[33mIdent\u001b[39m(\u001b[32m\"x\"\u001b[39m)))\n",
       "\u001b[36mp3\u001b[39m: \u001b[32mMain\u001b[39m = \u001b[33mMain\u001b[39m(\u001b[33mLet\u001b[39m(\u001b[32m\"x\"\u001b[39m, \u001b[33mPlus\u001b[39m(\u001b[33mConst\u001b[39m(\u001b[32m1\u001b[39m), \u001b[33mConst\u001b[39m(\u001b[32m1\u001b[39m)), \u001b[33mPlus\u001b[39m(\u001b[33mIdent\u001b[39m(\u001b[32m\"x\"\u001b[39m), \u001b[33mConst\u001b[39m(\u001b[32m1\u001b[39m))))\n",
       "\u001b[36mp4\u001b[39m: \u001b[32mMain\u001b[39m = \u001b[33mMain\u001b[39m(\u001b[33mLet\u001b[39m(\u001b[32m\"x\"\u001b[39m, \u001b[33mIdent\u001b[39m(\u001b[32m\"x\"\u001b[39m), \u001b[33mConst\u001b[39m(\u001b[32m1\u001b[39m)))\n",
       "\u001b[36mp5\u001b[39m: \u001b[32mMain\u001b[39m = \u001b[33mMain\u001b[39m(\u001b[33mLet\u001b[39m(\u001b[32m\"x\"\u001b[39m, \u001b[33mConst\u001b[39m(\u001b[32m1\u001b[39m), \u001b[33mPlus\u001b[39m(\u001b[33mIdent\u001b[39m(\u001b[32m\"x\"\u001b[39m), \u001b[33mIdent\u001b[39m(\u001b[32m\"y\"\u001b[39m))))"
      ]
     },
     "execution_count": 23,
     "metadata": {},
     "output_type": "execute_result"
    }
   ],
   "source": [
    "val p1 = Main(Let( \"x\", Const(1), Const(1)) )\n",
    "val p2 = Main(Let( \"x\", Const(1), Ident(\"x\")) )\n",
    "val p3 = Main(Let( \"x\", Plus(Const(1), Const(1)), Plus(Ident(\"x\"), Const(1))) )\n",
    "val p4 = Main(Let( \"x\", Ident(\"x\"), Const(1)) )\n",
    "val p5 = Main(Let( \"x\", Const(1), Plus( Ident(\"x\"),Ident(\"y\"))) )\n",
    "assert(  WF(p1), \"test 1\")\n",
    "assert(  WF(p2), \"test 2\")\n",
    "assert(  WF(p3), \"test 3\")\n",
    "assert( !WF(p4), \"test 4\")\n",
    "assert( !WF(p5), \"test 5\")\n",
    "passed(2)"
   ]
  },
  {
   "cell_type": "code",
   "execution_count": 24,
   "metadata": {
    "deletable": false,
    "editable": false,
    "nbgrader": {
     "cell_type": "code",
     "checksum": "7b7bd6b1a8b13145e75a9c29721fd02c",
     "grade": true,
     "grade_id": "cell-7af0a5d3df310b6f",
     "locked": true,
     "points": 2,
     "schema_version": 3,
     "solution": false,
     "task": false
    }
   },
   "outputs": [
    {
     "name": "stdout",
     "output_type": "stream",
     "text": [
      "\n",
      "*** Tests Passed (2 points) ***\n"
     ]
    },
    {
     "data": {
      "text/plain": [
       "\u001b[36mp1\u001b[39m: \u001b[32mMain\u001b[39m = \u001b[33mMain\u001b[39m(\n",
       "  \u001b[33mLet\u001b[39m(\n",
       "    \u001b[32m\"x\"\u001b[39m,\n",
       "    \u001b[33mConst\u001b[39m(\u001b[32m1\u001b[39m),\n",
       "    \u001b[33mLet\u001b[39m(\n",
       "      \u001b[32m\"y\"\u001b[39m,\n",
       "      \u001b[33mConst\u001b[39m(\u001b[32m2\u001b[39m),\n",
       "      \u001b[33mLet\u001b[39m(\n",
       "        \u001b[32m\"z\"\u001b[39m,\n",
       "        \u001b[33mConst\u001b[39m(\u001b[32m3\u001b[39m),\n",
       "        \u001b[33mPlus\u001b[39m(\u001b[33mPlus\u001b[39m(\u001b[33mIdent\u001b[39m(\u001b[32m\"x\"\u001b[39m), \u001b[33mIdent\u001b[39m(\u001b[32m\"y\"\u001b[39m)), \u001b[33mPlus\u001b[39m(\u001b[33mIdent\u001b[39m(\u001b[32m\"z\"\u001b[39m), \u001b[33mConst\u001b[39m(\u001b[32m4\u001b[39m)))\n",
       "      )\n",
       "    )\n",
       "  )\n",
       ")\n",
       "\u001b[36mp2\u001b[39m: \u001b[32mMain\u001b[39m = \u001b[33mMain\u001b[39m(\n",
       "  \u001b[33mLet\u001b[39m(\u001b[32m\"x\"\u001b[39m, \u001b[33mLet\u001b[39m(\u001b[32m\"y\"\u001b[39m, \u001b[33mConst\u001b[39m(\u001b[32m1\u001b[39m), \u001b[33mIdent\u001b[39m(\u001b[32m\"y\"\u001b[39m)), \u001b[33mPlus\u001b[39m(\u001b[33mConst\u001b[39m(\u001b[32m1\u001b[39m), \u001b[33mIdent\u001b[39m(\u001b[32m\"x\"\u001b[39m)))\n",
       ")\n",
       "\u001b[36mp3\u001b[39m: \u001b[32mMain\u001b[39m = \u001b[33mMain\u001b[39m(\n",
       "  \u001b[33mLet\u001b[39m(\u001b[32m\"x\"\u001b[39m, \u001b[33mLet\u001b[39m(\u001b[32m\"y\"\u001b[39m, \u001b[33mConst\u001b[39m(\u001b[32m1\u001b[39m), \u001b[33mIdent\u001b[39m(\u001b[32m\"y\"\u001b[39m)), \u001b[33mPlus\u001b[39m(\u001b[33mIdent\u001b[39m(\u001b[32m\"y\"\u001b[39m), \u001b[33mIdent\u001b[39m(\u001b[32m\"x\"\u001b[39m)))\n",
       ")"
      ]
     },
     "execution_count": 24,
     "metadata": {},
     "output_type": "execute_result"
    }
   ],
   "source": [
    "val p1 = Main( Let(\"x\", Const(1), \n",
    "                 Let(\"y\", Const(2), \n",
    "                   Let(\"z\", Const(3), \n",
    "                     Plus( Plus(Ident(\"x\"), Ident(\"y\")), Plus(Ident(\"z\"), Const(4)))))) )\n",
    "val p2 = Main( Let(\"x\", \n",
    "                   Let(\"y\", Const(1), Ident(\"y\")), \n",
    "                   Plus(Const(1), Ident(\"x\"))) )\n",
    "val p3 = Main( Let(\"x\", \n",
    "                   Let(\"y\", Const(1), Ident(\"y\")), \n",
    "                   Plus(Ident(\"y\"), Ident(\"x\"))) )\n",
    "assert(  WF(p1), \"test 1\")\n",
    "assert(  WF(p2), \"test 2\")\n",
    "assert( !WF(p3), \"test 3\")\n",
    "passed(2)"
   ]
  },
  {
   "cell_type": "code",
   "execution_count": 25,
   "metadata": {
    "deletable": false,
    "editable": false,
    "nbgrader": {
     "cell_type": "code",
     "checksum": "d193a0a1d44ab287db6d365a7421647d",
     "grade": true,
     "grade_id": "cell-f63b788be12ecd2e",
     "locked": true,
     "points": 4,
     "schema_version": 3,
     "solution": false,
     "task": false
    }
   },
   "outputs": [
    {
     "name": "stdout",
     "output_type": "stream",
     "text": [
      "\n",
      "*** Tests Passed (4 points) ***\n"
     ]
    },
    {
     "data": {
      "text/plain": [
       "\u001b[36mp1\u001b[39m: \u001b[32mMain\u001b[39m = \u001b[33mMain\u001b[39m(\u001b[33mFunDef\u001b[39m(\u001b[32m\"a\"\u001b[39m, \u001b[33mConst\u001b[39m(\u001b[32m1\u001b[39m)))\n",
       "\u001b[36mp2\u001b[39m: \u001b[32mMain\u001b[39m = \u001b[33mMain\u001b[39m(\u001b[33mFunDef\u001b[39m(\u001b[32m\"b\"\u001b[39m, \u001b[33mIdent\u001b[39m(\u001b[32m\"b\"\u001b[39m)))\n",
       "\u001b[36mp3\u001b[39m: \u001b[32mMain\u001b[39m = \u001b[33mMain\u001b[39m(\u001b[33mFunDef\u001b[39m(\u001b[32m\"c\"\u001b[39m, \u001b[33mIdent\u001b[39m(\u001b[32m\"d\"\u001b[39m)))\n",
       "\u001b[36mp4\u001b[39m: \u001b[32mMain\u001b[39m = \u001b[33mMain\u001b[39m(\u001b[33mFunDef\u001b[39m(\u001b[32m\"e\"\u001b[39m, \u001b[33mMult\u001b[39m(\u001b[33mIdent\u001b[39m(\u001b[32m\"e\"\u001b[39m), \u001b[33mIdent\u001b[39m(\u001b[32m\"e\"\u001b[39m))))\n",
       "\u001b[36mp5\u001b[39m: \u001b[32mMain\u001b[39m = \u001b[33mMain\u001b[39m(\u001b[33mFunDef\u001b[39m(\u001b[32m\"f\"\u001b[39m, \u001b[33mEq\u001b[39m(\u001b[33mIdent\u001b[39m(\u001b[32m\"f\"\u001b[39m), \u001b[33mIdent\u001b[39m(\u001b[32m\"g\"\u001b[39m))))\n",
       "\u001b[36mp6\u001b[39m: \u001b[32mMain\u001b[39m = \u001b[33mMain\u001b[39m(\u001b[33mFunDef\u001b[39m(\u001b[32m\"g\"\u001b[39m, \u001b[33mLet\u001b[39m(\u001b[32m\"h\"\u001b[39m, \u001b[33mConst\u001b[39m(\u001b[32m1\u001b[39m), \u001b[33mMult\u001b[39m(\u001b[33mIdent\u001b[39m(\u001b[32m\"g\"\u001b[39m), \u001b[33mIdent\u001b[39m(\u001b[32m\"h\"\u001b[39m)))))"
      ]
     },
     "execution_count": 25,
     "metadata": {},
     "output_type": "execute_result"
    }
   ],
   "source": [
    "val p1 = Main( FunDef(\"a\", Const(1)) )\n",
    "val p2 = Main( FunDef(\"b\", Ident(\"b\")) )\n",
    "val p3 = Main( FunDef(\"c\", Ident(\"d\")) )\n",
    "val p4 = Main( FunDef(\"e\", Mult( Ident(\"e\"), Ident(\"e\"))) )\n",
    "val p5 = Main( FunDef(\"f\", Eq( Ident(\"f\"), Ident(\"g\"))) )\n",
    "val p6 = Main( FunDef(\"g\", Let(\"h\", Const(1), Mult(Ident(\"g\"), Ident(\"h\")))) )\n",
    "assert(  WF(p1), \"test 1\")\n",
    "assert(  WF(p2), \"test 2\")\n",
    "assert( !WF(p3), \"test 3\")\n",
    "assert(  WF(p4), \"test 4\")\n",
    "assert( !WF(p5), \"test 5\")\n",
    "assert(  WF(p6), \"test 6\")\n",
    "passed(4)"
   ]
  },
  {
   "cell_type": "code",
   "execution_count": 26,
   "metadata": {
    "deletable": false,
    "editable": false,
    "nbgrader": {
     "cell_type": "code",
     "checksum": "1b281e218053db7e0ac647022408cc75",
     "grade": true,
     "grade_id": "cell-1d993291ec2b99c3",
     "locked": true,
     "points": 4,
     "schema_version": 3,
     "solution": false,
     "task": false
    }
   },
   "outputs": [
    {
     "name": "stdout",
     "output_type": "stream",
     "text": [
      "\n",
      "*** Tests Passed (4 points) ***\n"
     ]
    },
    {
     "data": {
      "text/plain": [
       "\u001b[36mp1\u001b[39m: \u001b[32mMain\u001b[39m = \u001b[33mMain\u001b[39m(\u001b[33mFunCall\u001b[39m(\u001b[33mFunDef\u001b[39m(\u001b[32m\"a\"\u001b[39m, \u001b[33mConst\u001b[39m(\u001b[32m1\u001b[39m)), \u001b[33mConst\u001b[39m(\u001b[32m1\u001b[39m)))\n",
       "\u001b[36mp2\u001b[39m: \u001b[32mMain\u001b[39m = \u001b[33mMain\u001b[39m(\u001b[33mFunCall\u001b[39m(\u001b[33mFunDef\u001b[39m(\u001b[32m\"b\"\u001b[39m, \u001b[33mConst\u001b[39m(\u001b[32m1\u001b[39m)), \u001b[33mIdent\u001b[39m(\u001b[32m\"b\"\u001b[39m)))\n",
       "\u001b[36mp3\u001b[39m: \u001b[32mMain\u001b[39m = \u001b[33mMain\u001b[39m(\u001b[33mFunCall\u001b[39m(\u001b[33mFunDef\u001b[39m(\u001b[32m\"c\"\u001b[39m, \u001b[33mIdent\u001b[39m(\u001b[32m\"d\"\u001b[39m)), \u001b[33mConst\u001b[39m(\u001b[32m1\u001b[39m)))"
      ]
     },
     "execution_count": 26,
     "metadata": {},
     "output_type": "execute_result"
    }
   ],
   "source": [
    "val p1 = Main( FunCall(FunDef(\"a\", Const(1)), Const(1)) )\n",
    "val p2 = Main( FunCall(FunDef(\"b\", Const(1)), Ident(\"b\")) )\n",
    "val p3 = Main( FunCall(FunDef(\"c\", Ident(\"d\")), Const(1)) )\n",
    "assert(  WF(p1), \"test 1\")\n",
    "assert( !WF(p2), \"test 2\")\n",
    "assert( !WF(p3), \"test 3\")\n",
    "passed(4)"
   ]
  },
  {
   "cell_type": "code",
   "execution_count": 27,
   "metadata": {
    "deletable": false,
    "editable": false,
    "nbgrader": {
     "cell_type": "code",
     "checksum": "9b07c12cec68cd6cf2f571c244cb6196",
     "grade": true,
     "grade_id": "cell-df1101203b3779b9",
     "locked": true,
     "points": 4,
     "schema_version": 3,
     "solution": false,
     "task": false
    }
   },
   "outputs": [
    {
     "name": "stdout",
     "output_type": "stream",
     "text": [
      "\n",
      "*** Tests Passed (4 points) ***\n"
     ]
    },
    {
     "data": {
      "text/plain": [
       "\u001b[36mp1\u001b[39m: \u001b[32mMain\u001b[39m = \u001b[33mMain\u001b[39m(\n",
       "  \u001b[33mLet\u001b[39m(\n",
       "    \u001b[32m\"fact\"\u001b[39m,\n",
       "    \u001b[33mFunDef\u001b[39m(\n",
       "      \u001b[32m\"x\"\u001b[39m,\n",
       "      \u001b[33mITE\u001b[39m(\n",
       "        \u001b[33mGeq\u001b[39m(\u001b[33mConst\u001b[39m(\u001b[32m1\u001b[39m), \u001b[33mIdent\u001b[39m(\u001b[32m\"x\"\u001b[39m)),\n",
       "        \u001b[33mConst\u001b[39m(\u001b[32m1\u001b[39m),\n",
       "        \u001b[33mMult\u001b[39m(\u001b[33mIdent\u001b[39m(\u001b[32m\"x\"\u001b[39m), \u001b[33mFunCall\u001b[39m(\u001b[33mIdent\u001b[39m(\u001b[32m\"fact\"\u001b[39m), \u001b[33mMinus\u001b[39m(\u001b[33mIdent\u001b[39m(\u001b[32m\"x\"\u001b[39m), \u001b[33mConst\u001b[39m(\u001b[32m1\u001b[39m))))\n",
       "      )\n",
       "    ),\n",
       "    \u001b[33mFunCall\u001b[39m(\u001b[33mIdent\u001b[39m(\u001b[32m\"fact\"\u001b[39m), \u001b[33mConst\u001b[39m(\u001b[32m5\u001b[39m))\n",
       "  )\n",
       ")"
      ]
     },
     "execution_count": 27,
     "metadata": {},
     "output_type": "execute_result"
    }
   ],
   "source": [
    "val p1 = Main( Let(\"fact\", \n",
    "                 FunDef(\"x\",\n",
    "                   ITE( Geq(Const(1), Ident(\"x\")), \n",
    "                        Const(1),\n",
    "                        Mult( Ident(\"x\"),\n",
    "                              FunCall( Ident(\"fact\"),\n",
    "                                       Minus(Ident(\"x\"), Const(1)))))),\n",
    "                 FunCall( Ident(\"fact\"),\n",
    "                          Const(5))\n",
    "                   )\n",
    "             )\n",
    "assert( !WF(p1) )\n",
    "passed(4)"
   ]
  },
  {
   "cell_type": "code",
   "execution_count": 28,
   "metadata": {
    "deletable": false,
    "editable": false,
    "nbgrader": {
     "cell_type": "code",
     "checksum": "d67e6bec73ce7b250ed1b51f9faf3c4f",
     "grade": true,
     "grade_id": "cell-58b4311f88f684e2",
     "locked": true,
     "points": 4,
     "schema_version": 3,
     "solution": false,
     "task": false
    }
   },
   "outputs": [
    {
     "name": "stdout",
     "output_type": "stream",
     "text": [
      "\n",
      "*** Tests Passed (4 points) ***\n"
     ]
    },
    {
     "data": {
      "text/plain": [
       "\u001b[36mp1\u001b[39m: \u001b[32mMain\u001b[39m = \u001b[33mMain\u001b[39m(\n",
       "  \u001b[33mLet\u001b[39m(\n",
       "    \u001b[32m\"f\"\u001b[39m,\n",
       "    \u001b[33mFunDef\u001b[39m(\u001b[32m\"x\"\u001b[39m, \u001b[33mFunDef\u001b[39m(\u001b[32m\"y\"\u001b[39m, \u001b[33mPlus\u001b[39m(\u001b[33mIdent\u001b[39m(\u001b[32m\"x\"\u001b[39m), \u001b[33mIdent\u001b[39m(\u001b[32m\"y\"\u001b[39m)))),\n",
       "    \u001b[33mFunCall\u001b[39m(\u001b[33mFunCall\u001b[39m(\u001b[33mIdent\u001b[39m(\u001b[32m\"f\"\u001b[39m), \u001b[33mConst\u001b[39m(\u001b[32m2\u001b[39m)), \u001b[33mConst\u001b[39m(\u001b[32m3\u001b[39m))\n",
       "  )\n",
       ")"
      ]
     },
     "execution_count": 28,
     "metadata": {},
     "output_type": "execute_result"
    }
   ],
   "source": [
    "val p1 = Main( Let(\"f\",\n",
    "                   FunDef(\"x\",\n",
    "                     FunDef(\"y\",\n",
    "                       Plus(Ident(\"x\"),Ident(\"y\")))),\n",
    "                   FunCall(FunCall(Ident(\"f\"), Const(2)), Const(3))\n",
    "                   )\n",
    "              )\n",
    "assert(  WF(p1) )\n",
    "passed(4)"
   ]
  }
 ],
 "metadata": {
  "kernelspec": {
   "display_name": "Scala",
   "language": "scala",
   "name": "scala"
  },
  "language_info": {
   "codemirror_mode": "text/x-scala",
   "file_extension": ".scala",
   "mimetype": "text/x-scala",
   "name": "scala",
   "nbconvert_exporter": "script",
   "version": "2.12.10"
  }
 },
 "nbformat": 4,
 "nbformat_minor": 2
}
