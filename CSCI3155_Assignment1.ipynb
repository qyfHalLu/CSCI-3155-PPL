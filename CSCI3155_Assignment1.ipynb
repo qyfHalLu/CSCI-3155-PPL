{
 "cells": [
  {
   "cell_type": "code",
   "execution_count": null,
   "metadata": {},
   "outputs": [],
   "source": []
  },
  {
   "cell_type": "markdown",
   "metadata": {
    "deletable": false,
    "editable": false,
    "nbgrader": {
     "cell_type": "markdown",
     "checksum": "bbc46a77608841ef4c82e702ee3a382d",
     "grade": false,
     "grade_id": "cell-d3baa8f5291375a4",
     "locked": true,
     "schema_version": 3,
     "solution": false,
     "task": false
    }
   },
   "source": [
    "# CSCI 3155 : Assignment 1"
   ]
  },
  {
   "cell_type": "markdown",
   "metadata": {},
   "source": [
    "__Name__:\n",
    "\n",
    "Qiuyang Fu"
   ]
  },
  {
   "cell_type": "code",
   "execution_count": 19,
   "metadata": {
    "deletable": false,
    "editable": false,
    "nbgrader": {
     "cell_type": "code",
     "checksum": "b728c5ce3f1d9fb61fa4a0f382d80789",
     "grade": false,
     "grade_id": "cell-c5b23e9368742df1",
     "locked": true,
     "schema_version": 3,
     "solution": false,
     "task": false
    }
   },
   "outputs": [
    {
     "data": {
      "text/plain": [
       "defined \u001b[32mfunction\u001b[39m \u001b[36mpassed\u001b[39m"
      ]
     },
     "execution_count": 19,
     "metadata": {},
     "output_type": "execute_result"
    }
   ],
   "source": [
    "// TEST HELPER: Do not EDIT this cell please.\n",
    "def passed(points: Int) {\n",
    "    require(points >=0)\n",
    "    if (points == 1) print(s\"\\n*** Tests Passed (1 point) ***\\n\")\n",
    "    else print(s\"\\n*** Tests Passed ($points points) ***\\n\")\n",
    "}"
   ]
  },
  {
   "cell_type": "markdown",
   "metadata": {
    "deletable": false,
    "editable": false,
    "nbgrader": {
     "cell_type": "markdown",
     "checksum": "b872d395849512e29ebd1f13423f9b10",
     "grade": false,
     "grade_id": "cell-360aa9dabadf6baf",
     "locked": true,
     "schema_version": 3,
     "solution": false,
     "task": false
    }
   },
   "source": [
    "## Homework Instructions\n",
    "\n",
    "Homework assignments for CSCI 3155 are jupyter notebooks. Each problem in the assignment notebook will have a short description that describes what the problem is asking for, and possibly some code that sets up the problem. There are editable cells labeled ``??? \\\\YOUR CODE HERE`` where you write your solution. To make sure your solution is correct there are test cells contain tests that your solution is run against.\n",
    "\n",
    "To complete a problem you first need to run any setup code cells, this executes the code with the scala kernel and adds any created values to the environment so that other cells can refer to them. Then write your solution and execute that cell adding the values created by your solution to the environment. Finally run the test cells. If all tests pass then your code is probably correct, note there may be hidden test that you will be graded against so make sure your code does everything that the problem asks and doesn't just pass the tests. If the test cells don't pass, go back to your solution code and try again, rerunning both the solution cells and test cells to check.\n",
    "\n",
    "The autograder runs your solutions in order and with a new environment. To make sure that your solution to the assignment works like expected, I suggest restarting the kernel, clearing output, and rerunning all the cells in order. This mimics what the autograder does and helps make sure the code that is tested is what you've written.\n",
    "\n",
    "Jupyter can sometimes be inconsistent about saving your open notebook to the .ipynb file. To make sure the current version of your assignment is saved, you can use Save and Checkpoint.\n",
    "\n",
    "Note the autograder expects your homework to be formatted like the assignment handout. Do not duplicate cells, add any cells that your solution uses, delete existing cells, or mess with the format of the assignment. This may cause your assignment to be unable to be graded.\n",
    "\n",
    "To submit your assignment, upload the .ipynb file with your solutions to the assignment on moodle."
   ]
  },
  {
   "cell_type": "markdown",
   "metadata": {
    "deletable": false,
    "editable": false,
    "nbgrader": {
     "cell_type": "markdown",
     "checksum": "5e113d9ba537e6fcd4db2c5106ec9235",
     "grade": false,
     "grade_id": "cell-d03bb7054f856bd5",
     "locked": true,
     "schema_version": 3,
     "solution": false,
     "task": false
    }
   },
   "source": [
    "## Problem 1 (25 points) : Installing scala\n",
    "\n",
    "Install jupyter notebook and almond scala, the scala kernel for jupyter notebook. There are instructions on moodle at: https://moodle.cs.colorado.edu/mod/page/view.php?id=48225."
   ]
  },
  {
   "cell_type": "code",
   "execution_count": 20,
   "metadata": {
    "deletable": false,
    "editable": false,
    "nbgrader": {
     "cell_type": "code",
     "checksum": "4c3addec5139e97248a031d2284cb81e",
     "grade": true,
     "grade_id": "cell-34b28a7556b0393c",
     "locked": true,
     "points": 25,
     "schema_version": 3,
     "solution": false,
     "task": false
    }
   },
   "outputs": [
    {
     "name": "stdout",
     "output_type": "stream",
     "text": [
      "Hello World!\n",
      "\n",
      "*** Tests Passed (25 points) ***\n"
     ]
    }
   ],
   "source": [
    "// This is a test cell!\n",
    "\n",
    "println(\"Hello World!\")\n",
    "passed(25)"
   ]
  },
  {
   "cell_type": "markdown",
   "metadata": {
    "deletable": false,
    "editable": false,
    "nbgrader": {
     "cell_type": "markdown",
     "checksum": "e57aad0187b98820b13db0d32cd841f1",
     "grade": false,
     "grade_id": "cell-7e37c8d4a2676d89",
     "locked": true,
     "schema_version": 3,
     "solution": false,
     "task": false
    }
   },
   "source": [
    "## Problem 2 (25 points) : Scala"
   ]
  },
  {
   "cell_type": "markdown",
   "metadata": {},
   "source": [
    "### Problem 2A (10 points) : Values and variables\n",
    "\n",
    "Define a thing called ``a`` that is set to ``1`` when it is defined but what it equals can be updated.\n",
    "\n",
    "Define a thing called ``b`` that is set to ``1``  when it is defined it cannot be changed."
   ]
  },
  {
   "cell_type": "code",
   "execution_count": 21,
   "metadata": {
    "deletable": false,
    "nbgrader": {
     "cell_type": "code",
     "checksum": "d2c6613698924f1060df0c421a5457c3",
     "grade": false,
     "grade_id": "cell-f8cc1d8a3e39bfe5",
     "locked": false,
     "schema_version": 3,
     "solution": true,
     "task": false
    }
   },
   "outputs": [
    {
     "data": {
      "text/plain": [
       "\u001b[36ma\u001b[39m: \u001b[32mInt\u001b[39m = \u001b[32m1\u001b[39m\n",
       "\u001b[36mb\u001b[39m: \u001b[32mInt\u001b[39m = \u001b[32m1\u001b[39m"
      ]
     },
     "execution_count": 21,
     "metadata": {},
     "output_type": "execute_result"
    }
   ],
   "source": [
    "var a: Int = 1;\n",
    "val b: Int = 1;"
   ]
  },
  {
   "cell_type": "code",
   "execution_count": 22,
   "metadata": {
    "deletable": false,
    "editable": false,
    "nbgrader": {
     "cell_type": "code",
     "checksum": "ea7df972f2cac7bc6a035ad7ad2c1dfc",
     "grade": true,
     "grade_id": "cell-2692da738f666d00",
     "locked": true,
     "points": 10,
     "schema_version": 3,
     "solution": false,
     "task": false
    }
   },
   "outputs": [
    {
     "name": "stdout",
     "output_type": "stream",
     "text": [
      "\n",
      "*** Tests Passed (10 points) ***\n"
     ]
    }
   ],
   "source": [
    "//BEGIN TEST\n",
    "a = 2\n",
    "assert( a == 2)\n",
    "// This won't compile:\n",
    "// b = 2\n",
    "assert( b == 1)\n",
    "passed(10)\n",
    "//END TEST"
   ]
  },
  {
   "cell_type": "markdown",
   "metadata": {
    "deletable": false,
    "editable": false,
    "nbgrader": {
     "cell_type": "markdown",
     "checksum": "88fa882d85338103dfab955dc2142cd5",
     "grade": false,
     "grade_id": "cell-b0b387611fbf42f3",
     "locked": true,
     "schema_version": 3,
     "solution": false,
     "task": false
    }
   },
   "source": [
    "### Problem 2B (15 points)\n",
    "\n",
    "Write a function ``sum`` that computes the sum of the elements of a list.\n",
    "Write a function ``sumEquals`` that checks whether the sum of a list is is equal to a given number."
   ]
  },
  {
   "cell_type": "code",
   "execution_count": 23,
   "metadata": {
    "deletable": false,
    "nbgrader": {
     "cell_type": "code",
     "checksum": "ab4ba5cd1301867d4d6e777bc6c2ef04",
     "grade": false,
     "grade_id": "cell-998b02508d770320",
     "locked": false,
     "schema_version": 3,
     "solution": true,
     "task": false
    }
   },
   "outputs": [
    {
     "data": {
      "text/plain": [
       "defined \u001b[32mfunction\u001b[39m \u001b[36msum\u001b[39m\n",
       "defined \u001b[32mfunction\u001b[39m \u001b[36msumEquals\u001b[39m"
      ]
     },
     "execution_count": 23,
     "metadata": {},
     "output_type": "execute_result"
    }
   ],
   "source": [
    "\n",
    "def sum(x:List[Int]) : Int = {\n",
    "var s:Int = 0;\n",
    "for ( a <- x) \n",
    "s = s + a;\n",
    "return s;\n",
    "}\n",
    "\n",
    "  \n",
    "def sumEquals(x:List[Int], s:Int) : Boolean = {\n",
    "var actual_sum : Int = sum(x); \n",
    "if (actual_sum == s) \n",
    "    {\n",
    "return true;\n",
    "}\n",
    "return false;\n",
    "}\n"
   ]
  },
  {
   "cell_type": "code",
   "execution_count": 24,
   "metadata": {
    "deletable": false,
    "editable": false,
    "nbgrader": {
     "cell_type": "code",
     "checksum": "8955f1430bca801e32d32634cc4b5cb0",
     "grade": true,
     "grade_id": "cell-f00abb3508bcf67e",
     "locked": true,
     "points": 15,
     "schema_version": 3,
     "solution": false,
     "task": false
    }
   },
   "outputs": [
    {
     "name": "stdout",
     "output_type": "stream",
     "text": [
      "\n",
      "*** Tests Passed (15 points) ***\n"
     ]
    },
    {
     "data": {
      "text/plain": [
       "\u001b[36ml1\u001b[39m: \u001b[32mList\u001b[39m[\u001b[32mInt\u001b[39m] = \u001b[33mList\u001b[39m(\u001b[32m1\u001b[39m, \u001b[32m2\u001b[39m, \u001b[32m3\u001b[39m)\n",
       "\u001b[36ml2\u001b[39m: \u001b[32mList\u001b[39m[\u001b[32mNothing\u001b[39m] = \u001b[33mList\u001b[39m()\n",
       "\u001b[36ml3\u001b[39m: \u001b[32mList\u001b[39m[\u001b[32mInt\u001b[39m] = \u001b[33mList\u001b[39m(\u001b[32m1\u001b[39m, \u001b[32m-2\u001b[39m, \u001b[32m3\u001b[39m, \u001b[32m-4\u001b[39m, \u001b[32m5\u001b[39m)"
      ]
     },
     "execution_count": 24,
     "metadata": {},
     "output_type": "execute_result"
    }
   ],
   "source": [
    "//BEGIN TEST\n",
    "val l1 = List(1,2,3)\n",
    "val l2 = List()\n",
    "val l3 = List(1, -2, 3, -4, 5)\n",
    "assert( sum(l1) == 6)\n",
    "assert( sum(l2) == 0)\n",
    "assert( sumEquals(l3, 3))\n",
    "assert( !sumEquals(l3,2))\n",
    "passed(15)\n",
    "//END TEST"
   ]
  },
  {
   "cell_type": "code",
   "execution_count": null,
   "metadata": {},
   "outputs": [],
   "source": []
  },
  {
   "cell_type": "code",
   "execution_count": null,
   "metadata": {},
   "outputs": [],
   "source": []
  },
  {
   "cell_type": "code",
   "execution_count": null,
   "metadata": {},
   "outputs": [],
   "source": []
  },
  {
   "cell_type": "code",
   "execution_count": null,
   "metadata": {},
   "outputs": [],
   "source": []
  }
 ],
 "metadata": {
  "kernelspec": {
   "display_name": "Scala",
   "language": "scala",
   "name": "scala"
  },
  "language_info": {
   "codemirror_mode": "text/x-scala",
   "file_extension": ".scala",
   "mimetype": "text/x-scala",
   "name": "scala",
   "nbconvert_exporter": "script",
   "version": "2.12.10"
  }
 },
 "nbformat": 4,
 "nbformat_minor": 2
}
