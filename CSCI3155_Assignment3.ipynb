{
 "cells": [
  {
   "cell_type": "code",
   "execution_count": null,
   "metadata": {},
   "outputs": [],
   "source": []
  },
  {
   "cell_type": "markdown",
   "metadata": {
    "deletable": false,
    "editable": false,
    "nbgrader": {
     "cell_type": "markdown",
     "checksum": "c2d32ec1825169d786df395ff547683b",
     "grade": false,
     "grade_id": "cell-a6f5e20aebff818d",
     "locked": true,
     "schema_version": 3,
     "solution": false,
     "task": false
    }
   },
   "source": [
    "# CSCI 3155 Homework 3\n",
    "\n",
    "More practice with algebraic data types"
   ]
  },
  {
   "cell_type": "markdown",
   "metadata": {},
   "source": [
    "__Name__:\n",
    "\n",
    "Qiuyang Fu"
   ]
  },
  {
   "cell_type": "code",
   "execution_count": 1,
   "metadata": {
    "deletable": false,
    "editable": false,
    "nbgrader": {
     "cell_type": "code",
     "checksum": "794f0fe51e0a49d2e467167fb86b56c6",
     "grade": false,
     "grade_id": "cell-15cf10787d1b2fef",
     "locked": true,
     "schema_version": 3,
     "solution": false,
     "task": false
    }
   },
   "outputs": [
    {
     "data": {
      "text/plain": [
       "defined \u001b[32mfunction\u001b[39m \u001b[36mpassed\u001b[39m"
      ]
     },
     "execution_count": 1,
     "metadata": {},
     "output_type": "execute_result"
    }
   ],
   "source": [
    "// TEST HELPER: Do not EDIT this cell please.\n",
    "def passed(points: Int) {\n",
    "    require(points >=0)\n",
    "    if (points == 1) print(s\"\\n*** Tests Passed (1 point) ***\\n\")\n",
    "    else print(s\"\\n*** Tests Passed ($points points) ***\\n\")\n",
    "}"
   ]
  },
  {
   "cell_type": "markdown",
   "metadata": {
    "deletable": false,
    "editable": false,
    "nbgrader": {
     "cell_type": "markdown",
     "checksum": "0509fc281173a1fa864cfd2bd484fc68",
     "grade": false,
     "grade_id": "cell-7ba126c839bd0044",
     "locked": true,
     "schema_version": 3,
     "solution": false,
     "task": false
    }
   },
   "source": [
    "## Problem 1 (40 Points) : Useful functions on natural numbers\n",
    "\n",
    "The type Nat we have defined allows us to create objects that are isomorphic to the natural numbers. However we're still missing many functions that allow us to use them like we do regular numbers."
   ]
  },
  {
   "cell_type": "code",
   "execution_count": 2,
   "metadata": {
    "deletable": false,
    "editable": false,
    "nbgrader": {
     "cell_type": "code",
     "checksum": "13864b8e7fea59fb7bc84b254207db3a",
     "grade": false,
     "grade_id": "cell-cabddd403420325d",
     "locked": true,
     "schema_version": 3,
     "solution": false,
     "task": false
    }
   },
   "outputs": [
    {
     "data": {
      "text/plain": [
       "defined \u001b[32mtrait\u001b[39m \u001b[36mNat\u001b[39m\n",
       "defined \u001b[32mobject\u001b[39m \u001b[36mZero\u001b[39m\n",
       "defined \u001b[32mclass\u001b[39m \u001b[36mSucc\u001b[39m\n",
       "\u001b[36mone\u001b[39m: \u001b[32mSucc\u001b[39m = \u001b[33mSucc\u001b[39m(Zero)\n",
       "\u001b[36mtwo\u001b[39m: \u001b[32mSucc\u001b[39m = \u001b[33mSucc\u001b[39m(\u001b[33mSucc\u001b[39m(Zero))\n",
       "\u001b[36mthree\u001b[39m: \u001b[32mSucc\u001b[39m = \u001b[33mSucc\u001b[39m(\u001b[33mSucc\u001b[39m(\u001b[33mSucc\u001b[39m(Zero)))\n",
       "\u001b[36mfour\u001b[39m: \u001b[32mSucc\u001b[39m = \u001b[33mSucc\u001b[39m(\u001b[33mSucc\u001b[39m(\u001b[33mSucc\u001b[39m(\u001b[33mSucc\u001b[39m(Zero))))\n",
       "\u001b[36mfive\u001b[39m: \u001b[32mSucc\u001b[39m = \u001b[33mSucc\u001b[39m(\u001b[33mSucc\u001b[39m(\u001b[33mSucc\u001b[39m(\u001b[33mSucc\u001b[39m(\u001b[33mSucc\u001b[39m(Zero)))))\n",
       "\u001b[36msix\u001b[39m: \u001b[32mSucc\u001b[39m = \u001b[33mSucc\u001b[39m(\u001b[33mSucc\u001b[39m(\u001b[33mSucc\u001b[39m(\u001b[33mSucc\u001b[39m(\u001b[33mSucc\u001b[39m(\u001b[33mSucc\u001b[39m(Zero))))))\n",
       "\u001b[36mseven\u001b[39m: \u001b[32mSucc\u001b[39m = \u001b[33mSucc\u001b[39m(\u001b[33mSucc\u001b[39m(\u001b[33mSucc\u001b[39m(\u001b[33mSucc\u001b[39m(\u001b[33mSucc\u001b[39m(\u001b[33mSucc\u001b[39m(\u001b[33mSucc\u001b[39m(Zero)))))))\n",
       "\u001b[36meight\u001b[39m: \u001b[32mSucc\u001b[39m = \u001b[33mSucc\u001b[39m(\u001b[33mSucc\u001b[39m(\u001b[33mSucc\u001b[39m(\u001b[33mSucc\u001b[39m(\u001b[33mSucc\u001b[39m(\u001b[33mSucc\u001b[39m(\u001b[33mSucc\u001b[39m(\u001b[33mSucc\u001b[39m(Zero))))))))\n",
       "\u001b[36mnine\u001b[39m: \u001b[32mSucc\u001b[39m = \u001b[33mSucc\u001b[39m(\u001b[33mSucc\u001b[39m(\u001b[33mSucc\u001b[39m(\u001b[33mSucc\u001b[39m(\u001b[33mSucc\u001b[39m(\u001b[33mSucc\u001b[39m(\u001b[33mSucc\u001b[39m(\u001b[33mSucc\u001b[39m(\u001b[33mSucc\u001b[39m(Zero)))))))))\n",
       "\u001b[36mten\u001b[39m: \u001b[32mSucc\u001b[39m = \u001b[33mSucc\u001b[39m(\u001b[33mSucc\u001b[39m(\u001b[33mSucc\u001b[39m(\u001b[33mSucc\u001b[39m(\u001b[33mSucc\u001b[39m(\u001b[33mSucc\u001b[39m(\u001b[33mSucc\u001b[39m(\u001b[33mSucc\u001b[39m(\u001b[33mSucc\u001b[39m(\u001b[33mSucc\u001b[39m(Zero))))))))))"
      ]
     },
     "execution_count": 2,
     "metadata": {},
     "output_type": "execute_result"
    }
   ],
   "source": [
    "sealed trait Nat\n",
    "case object Zero extends Nat\n",
    "case class Succ(pred : Nat) extends Nat\n",
    "\n",
    "val one   = Succ(Zero)\n",
    "val two   = Succ(one)\n",
    "val three = Succ(two)\n",
    "val four  = Succ(three)\n",
    "val five  = Succ(four)\n",
    "val six   = Succ(five)\n",
    "val seven = Succ(six)\n",
    "val eight = Succ(seven)\n",
    "val nine  = Succ(eight)\n",
    "val ten   = Succ(nine)"
   ]
  },
  {
   "cell_type": "markdown",
   "metadata": {
    "deletable": false,
    "editable": false,
    "nbgrader": {
     "cell_type": "markdown",
     "checksum": "2f6ca0e113b94677e4a3142fd27c3265",
     "grade": false,
     "grade_id": "cell-20df8238f2f64e62",
     "locked": true,
     "schema_version": 3,
     "solution": false,
     "task": false
    }
   },
   "source": [
    "### 1a - conversion\n",
    "Write three conversion functions, ``nat2int``, ``int2nat``, and ``nat2str``.\n",
    "\n",
    "``nat2int`` : Nat $\\rightarrow$ Int.  This function takes a Nat and returns the integer it is equal to.\n",
    "\n",
    "``int2nat`` : Int $\\rightarrow$ Nat.  This function takes a integer and returns the nat it is equal to. What should you do for integers that don't have a corresponding Nat?\n",
    "\n",
    "``nat2str`` : Nat $\\rightarrow$ String. Hint integers have a handy .toString method"
   ]
  },
  {
   "cell_type": "code",
   "execution_count": 3,
   "metadata": {
    "deletable": false,
    "nbgrader": {
     "cell_type": "code",
     "checksum": "19d20f87bf4b447c7fada03ec8cd7701",
     "grade": false,
     "grade_id": "cell-59a9eb7a40472fe3",
     "locked": false,
     "schema_version": 3,
     "solution": true,
     "task": false
    }
   },
   "outputs": [
    {
     "data": {
      "text/plain": [
       "defined \u001b[32mfunction\u001b[39m \u001b[36mnat2int\u001b[39m\n",
       "defined \u001b[32mfunction\u001b[39m \u001b[36mnat2str\u001b[39m\n",
       "defined \u001b[32mfunction\u001b[39m \u001b[36mint2nat\u001b[39m"
      ]
     },
     "execution_count": 3,
     "metadata": {},
     "output_type": "execute_result"
    }
   ],
   "source": [
    "def nat2int(x : Nat) : Int = \n",
    "    x match {\n",
    "        case Zero => 0\n",
    "        case Succ(p) => nat2int(p) + 1\n",
    "    }\n",
    "\n",
    "def nat2str(x : Nat) : String = nat2int(x).toString\n",
    "\n",
    "def int2nat(x : Int) : Nat = \n",
    "    x match {\n",
    "        case 0 => Zero\n",
    "        case _ => Succ(int2nat(x - 1))\n",
    "    }"
   ]
  },
  {
   "cell_type": "code",
   "execution_count": 4,
   "metadata": {
    "deletable": false,
    "editable": false,
    "nbgrader": {
     "cell_type": "code",
     "checksum": "83289fb830da57839b73fe466bc75106",
     "grade": true,
     "grade_id": "cell-53901f335b3392b0",
     "locked": true,
     "points": 10,
     "schema_version": 3,
     "solution": false,
     "task": false
    }
   },
   "outputs": [
    {
     "name": "stdout",
     "output_type": "stream",
     "text": [
      "\n",
      "*** Tests Passed (10 points) ***\n"
     ]
    }
   ],
   "source": [
    "assert(nat2int(two) == 2)\n",
    "assert(int2nat(nat2int(Zero)) ==  Zero)\n",
    "assert(int2nat(nat2int(five)) == five)\n",
    "assert(nat2str(Zero) == \"0\")\n",
    "assert(nat2str(five) == \"5\")\n",
    "passed(10)"
   ]
  },
  {
   "cell_type": "markdown",
   "metadata": {
    "deletable": false,
    "editable": false,
    "nbgrader": {
     "cell_type": "markdown",
     "checksum": "4766b1789e00bb96728832b12b9966e8",
     "grade": false,
     "grade_id": "cell-6bf954922b096538",
     "locked": true,
     "schema_version": 3,
     "solution": false,
     "task": false
    }
   },
   "source": [
    "### 1b - checking equality\n",
    "Write ``eq_nat`` : (Nat, Nat) => Boolean, which determines whether two nats are equal. Remember you can match on a pair of arguments if your cases are also pairs."
   ]
  },
  {
   "cell_type": "code",
   "execution_count": 5,
   "metadata": {
    "deletable": false,
    "nbgrader": {
     "cell_type": "code",
     "checksum": "1b0bc3f55645d6b0eb2b3e17c07d6f25",
     "grade": false,
     "grade_id": "cell-bc37e646de510c68",
     "locked": false,
     "schema_version": 3,
     "solution": true,
     "task": false
    }
   },
   "outputs": [
    {
     "data": {
      "text/plain": [
       "defined \u001b[32mfunction\u001b[39m \u001b[36meq_nat\u001b[39m"
      ]
     },
     "execution_count": 5,
     "metadata": {},
     "output_type": "execute_result"
    }
   ],
   "source": [
    "def eq_nat(x : Nat, y : Nat) : Boolean = x == y"
   ]
  },
  {
   "cell_type": "code",
   "execution_count": 6,
   "metadata": {
    "deletable": false,
    "editable": false,
    "nbgrader": {
     "cell_type": "code",
     "checksum": "276e559aac4df7cab9ce143f7fbe0bd1",
     "grade": true,
     "grade_id": "cell-e8860a2cfca1a9f7",
     "locked": true,
     "points": 10,
     "schema_version": 3,
     "solution": false,
     "task": false
    }
   },
   "outputs": [
    {
     "name": "stdout",
     "output_type": "stream",
     "text": [
      "\n",
      "*** Tests Passed (10 points) ***\n"
     ]
    }
   ],
   "source": [
    "assert( eq_nat(Zero,Zero))\n",
    "assert( eq_nat(five,five))\n",
    "assert(!eq_nat(Zero,five))\n",
    "assert(!eq_nat(one,Zero))\n",
    "assert(!eq_nat(four,five))\n",
    "passed(10)"
   ]
  },
  {
   "cell_type": "markdown",
   "metadata": {
    "deletable": false,
    "editable": false,
    "nbgrader": {
     "cell_type": "markdown",
     "checksum": "884565aa481c223c2706e0439b894bef",
     "grade": false,
     "grade_id": "cell-3a563ed0a1f78bfe",
     "locked": true,
     "schema_version": 3,
     "solution": false,
     "task": false
    }
   },
   "source": [
    "### 1c - $\\neq$\n",
    "Write ``neq_nat``, which returns false if both argurments are equal and true if they are not equal."
   ]
  },
  {
   "cell_type": "code",
   "execution_count": 7,
   "metadata": {
    "deletable": false,
    "nbgrader": {
     "cell_type": "code",
     "checksum": "d24dffed454615868d4eb8fec08c2069",
     "grade": false,
     "grade_id": "cell-34671b5db948a24d",
     "locked": false,
     "schema_version": 3,
     "solution": true,
     "task": false
    }
   },
   "outputs": [
    {
     "data": {
      "text/plain": [
       "defined \u001b[32mfunction\u001b[39m \u001b[36mneq_nat\u001b[39m"
      ]
     },
     "execution_count": 7,
     "metadata": {},
     "output_type": "execute_result"
    }
   ],
   "source": [
    "def neq_nat(x : Nat, y : Nat) : Boolean = x != y"
   ]
  },
  {
   "cell_type": "code",
   "execution_count": 8,
   "metadata": {
    "deletable": false,
    "editable": false,
    "nbgrader": {
     "cell_type": "code",
     "checksum": "59a3debb067ae8e028eefac8653cad31",
     "grade": true,
     "grade_id": "cell-7f9d5faa51b1ca57",
     "locked": true,
     "points": 5,
     "schema_version": 3,
     "solution": false,
     "task": false
    }
   },
   "outputs": [
    {
     "name": "stdout",
     "output_type": "stream",
     "text": [
      "\n",
      "*** Tests Passed (5 points) ***\n"
     ]
    }
   ],
   "source": [
    "assert(!neq_nat(Zero,Zero))\n",
    "assert(!neq_nat(five,five))\n",
    "assert( neq_nat(Zero,five))\n",
    "assert( neq_nat(one,Zero))\n",
    "assert( neq_nat(four,five))\n",
    "passed(5)"
   ]
  },
  {
   "cell_type": "markdown",
   "metadata": {
    "deletable": false,
    "editable": false,
    "nbgrader": {
     "cell_type": "markdown",
     "checksum": "a547596a407cacb3ea89f2aa931caa0c",
     "grade": false,
     "grade_id": "cell-183b2f1cf76d4db9",
     "locked": true,
     "schema_version": 3,
     "solution": false,
     "task": false
    }
   },
   "source": [
    "### 1d - $\\le$\n",
    "Write a less than or equal to function for nats.\n",
    "\n",
    "$x \\le y$  : : ``lte_nat(x,y)``"
   ]
  },
  {
   "cell_type": "code",
   "execution_count": 9,
   "metadata": {
    "deletable": false,
    "nbgrader": {
     "cell_type": "code",
     "checksum": "1efd9211f2328e9a563e95689f4157ca",
     "grade": false,
     "grade_id": "cell-3bbd75c47b274054",
     "locked": false,
     "schema_version": 3,
     "solution": true,
     "task": false
    }
   },
   "outputs": [
    {
     "data": {
      "text/plain": [
       "defined \u001b[32mfunction\u001b[39m \u001b[36mlte_nat\u001b[39m"
      ]
     },
     "execution_count": 9,
     "metadata": {},
     "output_type": "execute_result"
    }
   ],
   "source": [
    "def lte_nat(x : Nat, y : Nat) : Boolean = nat2int(x) <= nat2int(y)"
   ]
  },
  {
   "cell_type": "code",
   "execution_count": 10,
   "metadata": {
    "deletable": false,
    "editable": false,
    "nbgrader": {
     "cell_type": "code",
     "checksum": "c65d7bb69eba9e8aa946eab7fe3399af",
     "grade": true,
     "grade_id": "cell-780a49d05042a4b9",
     "locked": true,
     "points": 10,
     "schema_version": 3,
     "solution": false,
     "task": false
    }
   },
   "outputs": [
    {
     "name": "stdout",
     "output_type": "stream",
     "text": [
      "\n",
      "*** Tests Passed (10 points) ***\n"
     ]
    }
   ],
   "source": [
    "assert(lte_nat(Zero,Zero))\n",
    "assert(lte_nat(Zero,one))\n",
    "assert(!lte_nat(one,Zero))\n",
    "assert(lte_nat(four,four))\n",
    "assert(lte_nat(four,five))\n",
    "assert(!lte_nat(five,four))\n",
    "passed(10)"
   ]
  },
  {
   "cell_type": "markdown",
   "metadata": {
    "deletable": false,
    "editable": false,
    "nbgrader": {
     "cell_type": "markdown",
     "checksum": "ddc0ac700cb6016bbb7cfe699a54aa27",
     "grade": false,
     "grade_id": "cell-6656e61fa8a42e62",
     "locked": true,
     "schema_version": 3,
     "solution": false,
     "task": false
    }
   },
   "source": [
    "### 1e - comparisons finished\n",
    "\n",
    "Write $>$ ``gt_nat``, $<$ ``lt_nat``, and $\\ge$ ``gte_nat``"
   ]
  },
  {
   "cell_type": "code",
   "execution_count": 11,
   "metadata": {
    "deletable": false,
    "nbgrader": {
     "cell_type": "code",
     "checksum": "39c555428d0f33c3060dfdf5df7deacb",
     "grade": false,
     "grade_id": "cell-f972d0fed798123f",
     "locked": false,
     "schema_version": 3,
     "solution": true,
     "task": false
    }
   },
   "outputs": [
    {
     "data": {
      "text/plain": [
       "defined \u001b[32mfunction\u001b[39m \u001b[36mgt_nat\u001b[39m\n",
       "defined \u001b[32mfunction\u001b[39m \u001b[36mlt_nat\u001b[39m\n",
       "defined \u001b[32mfunction\u001b[39m \u001b[36mgte_nat\u001b[39m"
      ]
     },
     "execution_count": 11,
     "metadata": {},
     "output_type": "execute_result"
    }
   ],
   "source": [
    "def gt_nat(x : Nat, y : Nat) : Boolean = nat2int(x) > nat2int(y)\n",
    "\n",
    "def lt_nat(x : Nat, y : Nat) : Boolean = nat2int(x) < nat2int(y)\n",
    "\n",
    "def gte_nat(x : Nat, y : Nat) : Boolean = nat2int(x) >= nat2int(y)\n"
   ]
  },
  {
   "cell_type": "code",
   "execution_count": 12,
   "metadata": {
    "deletable": false,
    "editable": false,
    "nbgrader": {
     "cell_type": "code",
     "checksum": "30307b994f7b595c92dc55af5f8b839b",
     "grade": true,
     "grade_id": "cell-79c0e147c9def1bc",
     "locked": true,
     "points": 5,
     "schema_version": 3,
     "solution": false,
     "task": false
    }
   },
   "outputs": [
    {
     "name": "stdout",
     "output_type": "stream",
     "text": [
      "\n",
      "*** Tests Passed (5 points) ***\n"
     ]
    }
   ],
   "source": [
    "assert( gt_nat(two,Zero))\n",
    "assert(!gt_nat(two,three))\n",
    "assert(!gt_nat(three,three))\n",
    "assert(!lt_nat(two,Zero))\n",
    "assert( lt_nat(two,three))\n",
    "assert(!lt_nat(three,three))\n",
    "assert(!lte_nat(two,Zero))\n",
    "assert( lte_nat(two,three))\n",
    "assert( lte_nat(three,three))\n",
    "passed(5)"
   ]
  },
  {
   "cell_type": "markdown",
   "metadata": {
    "deletable": false,
    "editable": false,
    "nbgrader": {
     "cell_type": "markdown",
     "checksum": "95f967ce1e257760e208dd253dfd133a",
     "grade": false,
     "grade_id": "cell-38d4f2ed23dc0895",
     "locked": true,
     "schema_version": 3,
     "solution": false,
     "task": false
    }
   },
   "source": [
    "## Problem 2 (15 points) : Math on Nats"
   ]
  },
  {
   "cell_type": "code",
   "execution_count": 13,
   "metadata": {
    "deletable": false,
    "editable": false,
    "nbgrader": {
     "cell_type": "code",
     "checksum": "9b18db77f054efcf7ad41ac51f736683",
     "grade": false,
     "grade_id": "cell-1cafbcb684228836",
     "locked": true,
     "schema_version": 3,
     "solution": false,
     "task": false
    }
   },
   "outputs": [
    {
     "data": {
      "text/plain": [
       "defined \u001b[32mfunction\u001b[39m \u001b[36mplus\u001b[39m\n",
       "\u001b[36mres12_1\u001b[39m: \u001b[32mBoolean\u001b[39m = true\n",
       "defined \u001b[32mfunction\u001b[39m \u001b[36mmult\u001b[39m\n",
       "\u001b[36mres12_3\u001b[39m: \u001b[32mBoolean\u001b[39m = true"
      ]
     },
     "execution_count": 13,
     "metadata": {},
     "output_type": "execute_result"
    }
   ],
   "source": [
    "def plus(x : Nat, y : Nat) : Nat =\n",
    "    x match {\n",
    "        case Zero    => y\n",
    "        case Succ(p) => Succ(plus(p, y))\n",
    "    }\n",
    "\n",
    "plus(two,three) == five\n",
    "\n",
    "def mult(x : Nat, y : Nat) : Nat = \n",
    "    x match {\n",
    "        case Zero    => Zero\n",
    "        case Succ(p) => plus(mult(p,y), y)\n",
    "    }\n",
    "\n",
    "mult(two, four) == plus(four,four)"
   ]
  },
  {
   "cell_type": "markdown",
   "metadata": {
    "deletable": false,
    "editable": false,
    "nbgrader": {
     "cell_type": "markdown",
     "checksum": "bcb249450f694acb1175067883faaa03",
     "grade": false,
     "grade_id": "cell-5861237694e28c22",
     "locked": true,
     "schema_version": 3,
     "solution": false,
     "task": false
    }
   },
   "source": [
    "### 2a - power\n",
    "\n",
    "Define a ``pow`` function that raise a nat to a power.\n",
    "\n",
    "$x ^ y $ = ``pow(x,y)``\n",
    "\n",
    "Hint: you can use function you've already written\n",
    "\n",
    "$$pow : (\\mathbb{N},\\mathbb{N}) \\rightarrow \\mathbb{N}$$"
   ]
  },
  {
   "cell_type": "code",
   "execution_count": 14,
   "metadata": {
    "deletable": false,
    "nbgrader": {
     "cell_type": "code",
     "checksum": "cf6b5bea1160a926472a3241a5147192",
     "grade": false,
     "grade_id": "cell-2355e38d2b3ce4e2",
     "locked": false,
     "schema_version": 3,
     "solution": true,
     "task": false
    }
   },
   "outputs": [
    {
     "data": {
      "text/plain": [
       "defined \u001b[32mfunction\u001b[39m \u001b[36mpow\u001b[39m"
      ]
     },
     "execution_count": 14,
     "metadata": {},
     "output_type": "execute_result"
    }
   ],
   "source": [
    "def pow(x : Nat, y : Nat) : Nat = \n",
    "    y match {\n",
    "         case Zero => one\n",
    "         case _ => mult(x, pow(x, int2nat(nat2int(y)-1)))\n",
    "    }"
   ]
  },
  {
   "cell_type": "code",
   "execution_count": 15,
   "metadata": {
    "deletable": false,
    "editable": false,
    "nbgrader": {
     "cell_type": "code",
     "checksum": "6d03d4cdcfb73f76b3758fb3ef0e8ebf",
     "grade": true,
     "grade_id": "cell-1ec0112c26ef161b",
     "locked": true,
     "points": 5,
     "schema_version": 3,
     "solution": false,
     "task": false
    }
   },
   "outputs": [
    {
     "name": "stdout",
     "output_type": "stream",
     "text": [
      "\n",
      "*** Tests Passed (5 points) ***\n"
     ]
    }
   ],
   "source": [
    "assert(pow(three, two) == nine)\n",
    "assert(pow(four, Zero) == one)\n",
    "assert(pow(two, two) == four)\n",
    "passed(5)"
   ]
  },
  {
   "cell_type": "markdown",
   "metadata": {
    "deletable": false,
    "editable": false,
    "nbgrader": {
     "cell_type": "markdown",
     "checksum": "8ad2ef6c72dbb780da3386987b68658f",
     "grade": false,
     "grade_id": "cell-88551212afde43fe",
     "locked": true,
     "schema_version": 3,
     "solution": false,
     "task": false
    }
   },
   "source": [
    "### 2b - minus on Nats\n",
    "\n",
    "Write the minus function, which subtracts a natural number from another natural number. Note that we cannot have negative numbers as a Nat. If the result would be less than zero then leave the answer as zero.\n",
    "\n",
    "\n",
    "$$minus : (\\mathbb{N},\\mathbb{N}) \\rightarrow \\mathbb{N}$$"
   ]
  },
  {
   "cell_type": "code",
   "execution_count": 16,
   "metadata": {
    "deletable": false,
    "nbgrader": {
     "cell_type": "code",
     "checksum": "aca77e7d62620049a8ca8195e4e6e93a",
     "grade": false,
     "grade_id": "cell-c07e902c2030a5c0",
     "locked": false,
     "schema_version": 3,
     "solution": true,
     "task": false
    }
   },
   "outputs": [
    {
     "data": {
      "text/plain": [
       "defined \u001b[32mfunction\u001b[39m \u001b[36mminus\u001b[39m"
      ]
     },
     "execution_count": 16,
     "metadata": {},
     "output_type": "execute_result"
    }
   ],
   "source": [
    "def minus(x : Nat, y : Nat) : Nat = {\n",
    "    var cntx = nat2int(x)\n",
    "    var cnty = nat2int(y)\n",
    "    if(cntx < cnty) {\n",
    "        return Zero\n",
    "    }\n",
    "    return int2nat(cntx - cnty)\n",
    "}"
   ]
  },
  {
   "cell_type": "code",
   "execution_count": 17,
   "metadata": {
    "deletable": false,
    "editable": false,
    "nbgrader": {
     "cell_type": "code",
     "checksum": "4d04b7baa5f8e381a04f8599a443b8fe",
     "grade": true,
     "grade_id": "cell-f9ef1004d9f8a50e",
     "locked": true,
     "points": 10,
     "schema_version": 3,
     "solution": false,
     "task": false
    }
   },
   "outputs": [
    {
     "name": "stdout",
     "output_type": "stream",
     "text": [
      "\n",
      "*** Tests Passed (10 points) ***\n"
     ]
    }
   ],
   "source": [
    "assert(minus(four, two) == two)\n",
    "assert(minus(two, four) == Zero)\n",
    "assert(minus(four, four) == Zero)\n",
    "assert(minus(four, Zero) == four)\n",
    "assert(minus(Zero, four) == Zero)\n",
    "assert(minus(Zero,Zero) == Zero)\n",
    "passed(10)"
   ]
  },
  {
   "cell_type": "markdown",
   "metadata": {
    "deletable": false,
    "editable": false,
    "nbgrader": {
     "cell_type": "markdown",
     "checksum": "561d3bc359fb2bf8660e5b0030c0270c",
     "grade": false,
     "grade_id": "cell-fcf6babaf2df454d",
     "locked": true,
     "schema_version": 3,
     "solution": false,
     "task": false
    }
   },
   "source": [
    "## Problem 3 (25 points) : Lists"
   ]
  },
  {
   "cell_type": "code",
   "execution_count": 18,
   "metadata": {
    "deletable": false,
    "editable": false,
    "nbgrader": {
     "cell_type": "code",
     "checksum": "0a5552dd4c33a8fa9bb779439721794f",
     "grade": false,
     "grade_id": "cell-9d850129591db808",
     "locked": true,
     "schema_version": 3,
     "solution": false,
     "task": false
    }
   },
   "outputs": [
    {
     "data": {
      "text/plain": [
       "defined \u001b[32mtrait\u001b[39m \u001b[36mNatList\u001b[39m\n",
       "defined \u001b[32mobject\u001b[39m \u001b[36mEmpty\u001b[39m\n",
       "defined \u001b[32mclass\u001b[39m \u001b[36mCons\u001b[39m\n",
       "\u001b[36mlist1\u001b[39m: \u001b[32mEmpty\u001b[39m.type = Empty\n",
       "\u001b[36mlist2\u001b[39m: \u001b[32mCons\u001b[39m = \u001b[33mCons\u001b[39m(\u001b[33mSucc\u001b[39m(\u001b[33mSucc\u001b[39m(\u001b[33mSucc\u001b[39m(\u001b[33mSucc\u001b[39m(\u001b[33mSucc\u001b[39m(Zero))))), Empty)\n",
       "\u001b[36mlist3\u001b[39m: \u001b[32mCons\u001b[39m = \u001b[33mCons\u001b[39m(\n",
       "  \u001b[33mSucc\u001b[39m(\u001b[33mSucc\u001b[39m(\u001b[33mSucc\u001b[39m(Zero))),\n",
       "  \u001b[33mCons\u001b[39m(\n",
       "    \u001b[33mSucc\u001b[39m(Zero),\n",
       "    \u001b[33mCons\u001b[39m(\n",
       "      \u001b[33mSucc\u001b[39m(\u001b[33mSucc\u001b[39m(\u001b[33mSucc\u001b[39m(\u001b[33mSucc\u001b[39m(Zero)))),\n",
       "      \u001b[33mCons\u001b[39m(\u001b[33mSucc\u001b[39m(Zero), \u001b[33mCons\u001b[39m(\u001b[33mSucc\u001b[39m(\u001b[33mSucc\u001b[39m(\u001b[33mSucc\u001b[39m(\u001b[33mSucc\u001b[39m(\u001b[33mSucc\u001b[39m(Zero))))), Empty))\n",
       "    )\n",
       "  )\n",
       ")"
      ]
     },
     "execution_count": 18,
     "metadata": {},
     "output_type": "execute_result"
    }
   ],
   "source": [
    "sealed trait NatList\n",
    "case object Empty extends NatList\n",
    "case class Cons(h : Nat, t : NatList) extends NatList\n",
    "\n",
    "val list1 = Empty\n",
    "val list2 = Cons(five, Empty)\n",
    "val list3 = Cons(three, Cons(one, Cons(four, Cons(one, Cons(five, Empty)))))"
   ]
  },
  {
   "cell_type": "markdown",
   "metadata": {
    "deletable": false,
    "editable": false,
    "nbgrader": {
     "cell_type": "markdown",
     "checksum": "0ab56f8e68d176c6cf0a0abb7a83089a",
     "grade": false,
     "grade_id": "cell-ef5744ff25658c28",
     "locked": true,
     "schema_version": 3,
     "solution": false,
     "task": false
    }
   },
   "source": [
    "### 3b - prod\n",
    "\n",
    "write a ``prod`` function which takes the product of all the elemts of a list as a Nat. Hint: an empty list should have prod = 1.\n",
    "\n",
    "\n",
    "$$prod : \\text{List } \\mathbb{N} \\rightarrow \\mathbb{N}$$"
   ]
  },
  {
   "cell_type": "code",
   "execution_count": 19,
   "metadata": {
    "deletable": false,
    "nbgrader": {
     "cell_type": "code",
     "checksum": "851a60417e3b4f679ba95a85580512a0",
     "grade": false,
     "grade_id": "cell-e98c3f5a8ade1efb",
     "locked": false,
     "schema_version": 3,
     "solution": true,
     "task": false
    }
   },
   "outputs": [
    {
     "data": {
      "text/plain": [
       "\u001b[32mimport \u001b[39m\u001b[36mscala.language.postfixOps\n",
       "\u001b[39m\n",
       "defined \u001b[32mfunction\u001b[39m \u001b[36mprod\u001b[39m"
      ]
     },
     "execution_count": 19,
     "metadata": {},
     "output_type": "execute_result"
    }
   ],
   "source": [
    "import scala.language.postfixOps\n",
    "def prod(l : NatList) : Nat = \n",
    "    l match {\n",
    "        case Empty => one\n",
    "        case Cons(h, t) => mult(h, prod(t))\n",
    "    }"
   ]
  },
  {
   "cell_type": "code",
   "execution_count": 20,
   "metadata": {
    "deletable": false,
    "editable": false,
    "nbgrader": {
     "cell_type": "code",
     "checksum": "5fa234dcd40e0f17bf18a240ff8680af",
     "grade": true,
     "grade_id": "cell-58b209724daf6f0d",
     "locked": true,
     "points": 5,
     "schema_version": 3,
     "solution": false,
     "task": false
    }
   },
   "outputs": [
    {
     "name": "stdout",
     "output_type": "stream",
     "text": [
      "\n",
      "*** Tests Passed (5 points) ***\n"
     ]
    }
   ],
   "source": [
    "assert(prod(list1) == one)\n",
    "assert(prod(list2) == five)\n",
    "assert(prod(list3) == mult(ten,six))\n",
    "passed(5)"
   ]
  },
  {
   "cell_type": "markdown",
   "metadata": {
    "deletable": false,
    "editable": false,
    "nbgrader": {
     "cell_type": "markdown",
     "checksum": "dcbd9c20380a044bf0b3883a11071195",
     "grade": false,
     "grade_id": "cell-8c867361fc7891e8",
     "locked": true,
     "schema_version": 3,
     "solution": false,
     "task": false
    }
   },
   "source": [
    "### 3b - pretty\n",
    "\n",
    "Write a function ``pretty`` that pretty prints a list. The function should return a string with the elements written with digits and separated by a single comma without spaces, and the string \"[]\" for the empty list\n",
    "\n",
    "The ``list1`` above should print ``[]``\n",
    "\n",
    "The ``list2`` above should print ``5``\n",
    "\n",
    "The ``list3`` above should print ``3,1,4,1,5``\n",
    "\n",
    "$$pretty : \\text{List } \\mathbb{N} \\rightarrow String$$"
   ]
  },
  {
   "cell_type": "code",
   "execution_count": 21,
   "metadata": {
    "deletable": false,
    "nbgrader": {
     "cell_type": "code",
     "checksum": "a9cb9a2d7d8bb665ff3bbaf1c8adffc8",
     "grade": false,
     "grade_id": "cell-2146893bbd87b1c8",
     "locked": false,
     "schema_version": 3,
     "solution": true,
     "task": false
    }
   },
   "outputs": [
    {
     "data": {
      "text/plain": [
       "defined \u001b[32mfunction\u001b[39m \u001b[36mpretty\u001b[39m"
      ]
     },
     "execution_count": 21,
     "metadata": {},
     "output_type": "execute_result"
    }
   ],
   "source": [
    "def pretty(l : NatList) : String = \n",
    "    l match {\n",
    "        case Empty => \"[]\"\n",
    "        case Cons(h, Empty) => nat2str(h)\n",
    "        case Cons(h, t:NatList) => nat2str(h) + ',' + pretty(t)\n",
    "    }"
   ]
  },
  {
   "cell_type": "code",
   "execution_count": 22,
   "metadata": {
    "deletable": false,
    "editable": false,
    "nbgrader": {
     "cell_type": "code",
     "checksum": "c991768a6f63563e3f90d10b598db99e",
     "grade": true,
     "grade_id": "cell-2e4efbfb3b333cb2",
     "locked": true,
     "points": 10,
     "schema_version": 3,
     "solution": false,
     "task": false
    }
   },
   "outputs": [
    {
     "name": "stdout",
     "output_type": "stream",
     "text": [
      "\n",
      "*** Tests Passed (10 points) ***\n"
     ]
    }
   ],
   "source": [
    "assert(pretty(list1) == \"[]\")\n",
    "assert(pretty(list2) == \"5\")\n",
    "assert(pretty(list3) == \"3,1,4,1,5\")\n",
    "passed(10)"
   ]
  },
  {
   "cell_type": "markdown",
   "metadata": {
    "deletable": false,
    "editable": false,
    "nbgrader": {
     "cell_type": "markdown",
     "checksum": "69aff599ece9c2b3b63642c193371a87",
     "grade": false,
     "grade_id": "cell-919c1e9013cc7b9c",
     "locked": true,
     "schema_version": 3,
     "solution": false,
     "task": false
    }
   },
   "source": [
    "### 3c - contains\n",
    "\n",
    "Write a function ``contains`` that returns true if a list contains an Nat, and false otherwise.\n",
    "\n",
    "$$contains : \\text{List } \\mathbb{N} \\rightarrow \\mathbb{B}$$"
   ]
  },
  {
   "cell_type": "code",
   "execution_count": 23,
   "metadata": {
    "deletable": false,
    "nbgrader": {
     "cell_type": "code",
     "checksum": "009c61553fdad0c471bf0a65c432c654",
     "grade": false,
     "grade_id": "cell-f4e2053b7cc00cb9",
     "locked": false,
     "schema_version": 3,
     "solution": true,
     "task": false
    }
   },
   "outputs": [
    {
     "data": {
      "text/plain": [
       "defined \u001b[32mfunction\u001b[39m \u001b[36mcontains\u001b[39m"
      ]
     },
     "execution_count": 23,
     "metadata": {},
     "output_type": "execute_result"
    }
   ],
   "source": [
    "def contains(l : NatList, p : Nat) : Boolean = \n",
    "    l match {\n",
    "        case Empty => false\n",
    "        case Cons(h, t) if (h == p)  => true\n",
    "        case Cons(h, t) if (h != p)  => contains(t, p)\n",
    "    }"
   ]
  },
  {
   "cell_type": "code",
   "execution_count": 24,
   "metadata": {
    "deletable": false,
    "editable": false,
    "nbgrader": {
     "cell_type": "code",
     "checksum": "15ce4e8e0aafc8db4e7e048cebf34b4d",
     "grade": true,
     "grade_id": "cell-97a594833affe029",
     "locked": true,
     "points": 10,
     "schema_version": 3,
     "solution": false,
     "task": false
    }
   },
   "outputs": [
    {
     "name": "stdout",
     "output_type": "stream",
     "text": [
      "\n",
      "*** Tests Passed (10 points) ***\n"
     ]
    }
   ],
   "source": [
    "assert(!contains(list1, Zero))\n",
    "assert(!contains(list2, Zero))\n",
    "assert( contains(list2, five))\n",
    "assert(!contains(list3, two))\n",
    "assert( contains(list3, five))\n",
    "passed(10)"
   ]
  },
  {
   "cell_type": "code",
   "execution_count": null,
   "metadata": {},
   "outputs": [],
   "source": []
  },
  {
   "cell_type": "code",
   "execution_count": null,
   "metadata": {},
   "outputs": [],
   "source": []
  }
 ],
 "metadata": {
  "kernelspec": {
   "display_name": "Scala",
   "language": "scala",
   "name": "scala"
  },
  "language_info": {
   "codemirror_mode": "text/x-scala",
   "file_extension": ".scala",
   "mimetype": "text/x-scala",
   "name": "scala",
   "nbconvert_exporter": "script",
   "version": "2.12.10"
  }
 },
 "nbformat": 4,
 "nbformat_minor": 2
}
